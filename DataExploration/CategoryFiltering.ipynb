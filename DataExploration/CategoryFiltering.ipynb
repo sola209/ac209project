{
 "cells": [
  {
   "cell_type": "code",
   "execution_count": 1,
   "metadata": {
    "collapsed": true
   },
   "outputs": [],
   "source": [
    "import numpy as np\n",
    "import matplotlib\n",
    "import matplotlib.pyplot as plt\n",
    "from mpl_toolkits.mplot3d import Axes3D\n",
    "import matplotlib.cm as cmx\n",
    "import matplotlib.colors as colors\n",
    "import pandas as pd\n",
    "from sklearn.linear_model import LogisticRegression as LogReg\n",
    "from sklearn.feature_extraction.text import CountVectorizer\n",
    "from sklearn.neighbors import KNeighborsClassifier as KNN\n",
    "from sklearn.decomposition import PCA\n",
    "%matplotlib inline\n",
    "import random\n",
    "from sklearn import preprocessing\n",
    "import scipy.sparse as sparse\n",
    "from sklearn.cross_validation import train_test_split\n",
    "from sklearn.metrics import mean_squared_error\n",
    "from math import sqrt\n",
    "import graphlab as gl"
   ]
  },
  {
   "cell_type": "markdown",
   "metadata": {},
   "source": [
    "## Overview\n",
    "\n",
    "This notebook allows for one to see the % of the total Metadata Products come from a particular category, and the % of Reviews come from a particular Category."
   ]
  },
  {
   "cell_type": "code",
   "execution_count": 2,
   "metadata": {
    "collapsed": true
   },
   "outputs": [],
   "source": [
    "filename = \"datasets/reviews.csv\"\n",
    "df = pd.read_csv(filename)"
   ]
  },
  {
   "cell_type": "code",
   "execution_count": 3,
   "metadata": {
    "collapsed": false
   },
   "outputs": [
    {
     "data": {
      "text/html": [
       "<div>\n",
       "<table border=\"1\" class=\"dataframe\">\n",
       "  <thead>\n",
       "    <tr style=\"text-align: right;\">\n",
       "      <th></th>\n",
       "      <th>Unnamed: 0</th>\n",
       "      <th>asin</th>\n",
       "      <th>helpful</th>\n",
       "      <th>overall</th>\n",
       "      <th>reviewText</th>\n",
       "      <th>reviewTime</th>\n",
       "      <th>reviewerID</th>\n",
       "      <th>reviewerName</th>\n",
       "      <th>summary</th>\n",
       "      <th>unixReviewTime</th>\n",
       "    </tr>\n",
       "  </thead>\n",
       "  <tbody>\n",
       "    <tr>\n",
       "      <th>0</th>\n",
       "      <td>0</td>\n",
       "      <td>B000F83SZQ</td>\n",
       "      <td>[0, 0]</td>\n",
       "      <td>5</td>\n",
       "      <td>I enjoy vintage books and movies so I enjoyed ...</td>\n",
       "      <td>05 5, 2014</td>\n",
       "      <td>A1F6404F1VG29J</td>\n",
       "      <td>Avidreader</td>\n",
       "      <td>Nice vintage story</td>\n",
       "      <td>1399248000</td>\n",
       "    </tr>\n",
       "    <tr>\n",
       "      <th>1</th>\n",
       "      <td>1</td>\n",
       "      <td>B000F83SZQ</td>\n",
       "      <td>[2, 2]</td>\n",
       "      <td>4</td>\n",
       "      <td>This book is a reissue of an old one; the auth...</td>\n",
       "      <td>01 6, 2014</td>\n",
       "      <td>AN0N05A9LIJEQ</td>\n",
       "      <td>critters</td>\n",
       "      <td>Different...</td>\n",
       "      <td>1388966400</td>\n",
       "    </tr>\n",
       "    <tr>\n",
       "      <th>2</th>\n",
       "      <td>2</td>\n",
       "      <td>B000F83SZQ</td>\n",
       "      <td>[2, 2]</td>\n",
       "      <td>4</td>\n",
       "      <td>This was a fairly interesting read.  It had ol...</td>\n",
       "      <td>04 4, 2014</td>\n",
       "      <td>A795DMNCJILA6</td>\n",
       "      <td>dot</td>\n",
       "      <td>Oldie</td>\n",
       "      <td>1396569600</td>\n",
       "    </tr>\n",
       "    <tr>\n",
       "      <th>3</th>\n",
       "      <td>3</td>\n",
       "      <td>B000F83SZQ</td>\n",
       "      <td>[1, 1]</td>\n",
       "      <td>5</td>\n",
       "      <td>I'd never read any of the Amy Brewster mysteri...</td>\n",
       "      <td>02 19, 2014</td>\n",
       "      <td>A1FV0SX13TWVXQ</td>\n",
       "      <td>Elaine H. Turley \"Montana Songbird\"</td>\n",
       "      <td>I really liked it.</td>\n",
       "      <td>1392768000</td>\n",
       "    </tr>\n",
       "    <tr>\n",
       "      <th>4</th>\n",
       "      <td>4</td>\n",
       "      <td>B000F83SZQ</td>\n",
       "      <td>[0, 1]</td>\n",
       "      <td>4</td>\n",
       "      <td>If you like period pieces - clothing, lingo, y...</td>\n",
       "      <td>03 19, 2014</td>\n",
       "      <td>A3SPTOKDG7WBLN</td>\n",
       "      <td>Father Dowling Fan</td>\n",
       "      <td>Period Mystery</td>\n",
       "      <td>1395187200</td>\n",
       "    </tr>\n",
       "  </tbody>\n",
       "</table>\n",
       "</div>"
      ],
      "text/plain": [
       "   Unnamed: 0        asin helpful  overall  \\\n",
       "0           0  B000F83SZQ  [0, 0]        5   \n",
       "1           1  B000F83SZQ  [2, 2]        4   \n",
       "2           2  B000F83SZQ  [2, 2]        4   \n",
       "3           3  B000F83SZQ  [1, 1]        5   \n",
       "4           4  B000F83SZQ  [0, 1]        4   \n",
       "\n",
       "                                          reviewText   reviewTime  \\\n",
       "0  I enjoy vintage books and movies so I enjoyed ...   05 5, 2014   \n",
       "1  This book is a reissue of an old one; the auth...   01 6, 2014   \n",
       "2  This was a fairly interesting read.  It had ol...   04 4, 2014   \n",
       "3  I'd never read any of the Amy Brewster mysteri...  02 19, 2014   \n",
       "4  If you like period pieces - clothing, lingo, y...  03 19, 2014   \n",
       "\n",
       "       reviewerID                         reviewerName             summary  \\\n",
       "0  A1F6404F1VG29J                           Avidreader  Nice vintage story   \n",
       "1   AN0N05A9LIJEQ                             critters        Different...   \n",
       "2   A795DMNCJILA6                                  dot               Oldie   \n",
       "3  A1FV0SX13TWVXQ  Elaine H. Turley \"Montana Songbird\"  I really liked it.   \n",
       "4  A3SPTOKDG7WBLN                   Father Dowling Fan      Period Mystery   \n",
       "\n",
       "   unixReviewTime  \n",
       "0      1399248000  \n",
       "1      1388966400  \n",
       "2      1396569600  \n",
       "3      1392768000  \n",
       "4      1395187200  "
      ]
     },
     "execution_count": 3,
     "metadata": {},
     "output_type": "execute_result"
    }
   ],
   "source": [
    "df.head()"
   ]
  },
  {
   "cell_type": "code",
   "execution_count": 4,
   "metadata": {
    "collapsed": false
   },
   "outputs": [
    {
     "name": "stderr",
     "output_type": "stream",
     "text": [
      "//anaconda/envs/gl-env/lib/python2.7/site-packages/IPython/core/interactiveshell.py:2723: DtypeWarning: Columns (6,8) have mixed types. Specify dtype option on import or set low_memory=False.\n",
      "  interactivity=interactivity, compiler=compiler, result=result)\n"
     ]
    }
   ],
   "source": [
    "filename2 = \"datasets/meta_Kindle_Store.csv\"\n",
    "df2 = pd.read_csv(filename2)"
   ]
  },
  {
   "cell_type": "code",
   "execution_count": 43,
   "metadata": {
    "collapsed": false
   },
   "outputs": [
    {
     "data": {
      "text/html": [
       "<div>\n",
       "<table border=\"1\" class=\"dataframe\">\n",
       "  <thead>\n",
       "    <tr style=\"text-align: right;\">\n",
       "      <th></th>\n",
       "      <th>asin</th>\n",
       "      <th>description</th>\n",
       "      <th>price</th>\n",
       "      <th>imUrl</th>\n",
       "      <th>related</th>\n",
       "      <th>categories</th>\n",
       "      <th>title</th>\n",
       "      <th>salesRank</th>\n",
       "      <th>brand</th>\n",
       "    </tr>\n",
       "  </thead>\n",
       "  <tbody>\n",
       "    <tr>\n",
       "      <th>0</th>\n",
       "      <td>1603420304</td>\n",
       "      <td>In less time and for less money than it takes ...</td>\n",
       "      <td>7.69</td>\n",
       "      <td>http://ecx.images-amazon.com/images/I/51IEqPrF...</td>\n",
       "      <td>{'also_viewed': ['B001OLRKLQ', 'B004J35JIC', '...</td>\n",
       "      <td>[['Books', 'Cookbooks, Food &amp; Wine', 'Quick &amp; ...</td>\n",
       "      <td>NaN</td>\n",
       "      <td>NaN</td>\n",
       "      <td>NaN</td>\n",
       "    </tr>\n",
       "    <tr>\n",
       "      <th>1</th>\n",
       "      <td>B0002IQ15S</td>\n",
       "      <td>This universal DC adapter powers/charges porta...</td>\n",
       "      <td>19.99</td>\n",
       "      <td>http://ecx.images-amazon.com/images/I/21QFJM28...</td>\n",
       "      <td>{'also_viewed': ['B00511PS3C', 'B000PI17MM', '...</td>\n",
       "      <td>[['Kindle Store', 'Kindle Accessories', 'Power...</td>\n",
       "      <td>Mobility IGO AUTOPOWER 3000 SERIES ( PS0221-10 )</td>\n",
       "      <td>{}</td>\n",
       "      <td>NaN</td>\n",
       "    </tr>\n",
       "    <tr>\n",
       "      <th>2</th>\n",
       "      <td>B000F83SZQ</td>\n",
       "      <td>NaN</td>\n",
       "      <td>0.00</td>\n",
       "      <td>http://ecx.images-amazon.com/images/I/51yLqHe%...</td>\n",
       "      <td>{'also_bought': ['B0080H1C0W', 'B00LK4ZKOG', '...</td>\n",
       "      <td>[['Books', 'Literature &amp; Fiction'], ['Books', ...</td>\n",
       "      <td>NaN</td>\n",
       "      <td>NaN</td>\n",
       "      <td>NaN</td>\n",
       "    </tr>\n",
       "    <tr>\n",
       "      <th>3</th>\n",
       "      <td>B000F83TEQ</td>\n",
       "      <td>NaN</td>\n",
       "      <td>NaN</td>\n",
       "      <td>http://ecx.images-amazon.com/images/I/2136NBNV...</td>\n",
       "      <td>{'also_bought': ['B00IS81LFO', 'B000FA5T6A', '...</td>\n",
       "      <td>[['Books', 'Literature &amp; Fiction'], ['Books', ...</td>\n",
       "      <td>NaN</td>\n",
       "      <td>NaN</td>\n",
       "      <td>NaN</td>\n",
       "    </tr>\n",
       "    <tr>\n",
       "      <th>4</th>\n",
       "      <td>B000F83STC</td>\n",
       "      <td>NaN</td>\n",
       "      <td>NaN</td>\n",
       "      <td>http://g-ecx.images-amazon.com/images/G/01/x-s...</td>\n",
       "      <td>NaN</td>\n",
       "      <td>[['Books', 'Literature &amp; Fiction', 'Erotica'],...</td>\n",
       "      <td>NaN</td>\n",
       "      <td>NaN</td>\n",
       "      <td>NaN</td>\n",
       "    </tr>\n",
       "    <tr>\n",
       "      <th>5</th>\n",
       "      <td>B000FA5RE4</td>\n",
       "      <td>Updated 2003 version with corrections</td>\n",
       "      <td>1.99</td>\n",
       "      <td>http://ecx.images-amazon.com/images/I/21XTM6V0...</td>\n",
       "      <td>{'also_viewed': ['B001GX3ZWA', 'B009GI3S1A', '...</td>\n",
       "      <td>[['Books', 'Reference', 'Dictionaries &amp; Thesau...</td>\n",
       "      <td>NaN</td>\n",
       "      <td>NaN</td>\n",
       "      <td>NaN</td>\n",
       "    </tr>\n",
       "    <tr>\n",
       "      <th>6</th>\n",
       "      <td>B000FA5NSO</td>\n",
       "      <td>NaN</td>\n",
       "      <td>NaN</td>\n",
       "      <td>http://ecx.images-amazon.com/images/I/51N45B6j...</td>\n",
       "      <td>{'also_viewed': ['B000FBF81K', 'B000FA5KKA']}</td>\n",
       "      <td>[['Books', 'Literature &amp; Fiction'], ['Books', ...</td>\n",
       "      <td>NaN</td>\n",
       "      <td>NaN</td>\n",
       "      <td>NaN</td>\n",
       "    </tr>\n",
       "    <tr>\n",
       "      <th>7</th>\n",
       "      <td>B000FA5UXC</td>\n",
       "      <td>Madoc Tamlin is a man with an unusual problem....</td>\n",
       "      <td>NaN</td>\n",
       "      <td>http://ecx.images-amazon.com/images/I/51q4iur5...</td>\n",
       "      <td>{'also_bought': ['B004SPL1I8', 'B00942QL3K', '...</td>\n",
       "      <td>[['Books', 'Literature &amp; Fiction'], ['Books', ...</td>\n",
       "      <td>NaN</td>\n",
       "      <td>NaN</td>\n",
       "      <td>NaN</td>\n",
       "    </tr>\n",
       "    <tr>\n",
       "      <th>8</th>\n",
       "      <td>B000FA5T4W</td>\n",
       "      <td>NaN</td>\n",
       "      <td>12.46</td>\n",
       "      <td>http://ecx.images-amazon.com/images/I/51eWyBr8...</td>\n",
       "      <td>{'also_bought': ['B004RKXHGS', 'B004ULMJH2', '...</td>\n",
       "      <td>[['Books', 'Business &amp; Money', 'Accounting'], ...</td>\n",
       "      <td>NaN</td>\n",
       "      <td>NaN</td>\n",
       "      <td>NaN</td>\n",
       "    </tr>\n",
       "    <tr>\n",
       "      <th>9</th>\n",
       "      <td>B000FA5SHK</td>\n",
       "      <td>NaN</td>\n",
       "      <td>NaN</td>\n",
       "      <td>http://ecx.images-amazon.com/images/I/51c7mqOR...</td>\n",
       "      <td>NaN</td>\n",
       "      <td>[['Books', 'Science &amp; Math', 'Behavioral Scien...</td>\n",
       "      <td>NaN</td>\n",
       "      <td>NaN</td>\n",
       "      <td>NaN</td>\n",
       "    </tr>\n",
       "  </tbody>\n",
       "</table>\n",
       "</div>"
      ],
      "text/plain": [
       "         asin                                        description  price  \\\n",
       "0  1603420304  In less time and for less money than it takes ...   7.69   \n",
       "1  B0002IQ15S  This universal DC adapter powers/charges porta...  19.99   \n",
       "2  B000F83SZQ                                                NaN   0.00   \n",
       "3  B000F83TEQ                                                NaN    NaN   \n",
       "4  B000F83STC                                                NaN    NaN   \n",
       "5  B000FA5RE4              Updated 2003 version with corrections   1.99   \n",
       "6  B000FA5NSO                                                NaN    NaN   \n",
       "7  B000FA5UXC  Madoc Tamlin is a man with an unusual problem....    NaN   \n",
       "8  B000FA5T4W                                                NaN  12.46   \n",
       "9  B000FA5SHK                                                NaN    NaN   \n",
       "\n",
       "                                               imUrl  \\\n",
       "0  http://ecx.images-amazon.com/images/I/51IEqPrF...   \n",
       "1  http://ecx.images-amazon.com/images/I/21QFJM28...   \n",
       "2  http://ecx.images-amazon.com/images/I/51yLqHe%...   \n",
       "3  http://ecx.images-amazon.com/images/I/2136NBNV...   \n",
       "4  http://g-ecx.images-amazon.com/images/G/01/x-s...   \n",
       "5  http://ecx.images-amazon.com/images/I/21XTM6V0...   \n",
       "6  http://ecx.images-amazon.com/images/I/51N45B6j...   \n",
       "7  http://ecx.images-amazon.com/images/I/51q4iur5...   \n",
       "8  http://ecx.images-amazon.com/images/I/51eWyBr8...   \n",
       "9  http://ecx.images-amazon.com/images/I/51c7mqOR...   \n",
       "\n",
       "                                             related  \\\n",
       "0  {'also_viewed': ['B001OLRKLQ', 'B004J35JIC', '...   \n",
       "1  {'also_viewed': ['B00511PS3C', 'B000PI17MM', '...   \n",
       "2  {'also_bought': ['B0080H1C0W', 'B00LK4ZKOG', '...   \n",
       "3  {'also_bought': ['B00IS81LFO', 'B000FA5T6A', '...   \n",
       "4                                                NaN   \n",
       "5  {'also_viewed': ['B001GX3ZWA', 'B009GI3S1A', '...   \n",
       "6      {'also_viewed': ['B000FBF81K', 'B000FA5KKA']}   \n",
       "7  {'also_bought': ['B004SPL1I8', 'B00942QL3K', '...   \n",
       "8  {'also_bought': ['B004RKXHGS', 'B004ULMJH2', '...   \n",
       "9                                                NaN   \n",
       "\n",
       "                                          categories  \\\n",
       "0  [['Books', 'Cookbooks, Food & Wine', 'Quick & ...   \n",
       "1  [['Kindle Store', 'Kindle Accessories', 'Power...   \n",
       "2  [['Books', 'Literature & Fiction'], ['Books', ...   \n",
       "3  [['Books', 'Literature & Fiction'], ['Books', ...   \n",
       "4  [['Books', 'Literature & Fiction', 'Erotica'],...   \n",
       "5  [['Books', 'Reference', 'Dictionaries & Thesau...   \n",
       "6  [['Books', 'Literature & Fiction'], ['Books', ...   \n",
       "7  [['Books', 'Literature & Fiction'], ['Books', ...   \n",
       "8  [['Books', 'Business & Money', 'Accounting'], ...   \n",
       "9  [['Books', 'Science & Math', 'Behavioral Scien...   \n",
       "\n",
       "                                              title salesRank brand  \n",
       "0                                               NaN       NaN   NaN  \n",
       "1  Mobility IGO AUTOPOWER 3000 SERIES ( PS0221-10 )        {}   NaN  \n",
       "2                                               NaN       NaN   NaN  \n",
       "3                                               NaN       NaN   NaN  \n",
       "4                                               NaN       NaN   NaN  \n",
       "5                                               NaN       NaN   NaN  \n",
       "6                                               NaN       NaN   NaN  \n",
       "7                                               NaN       NaN   NaN  \n",
       "8                                               NaN       NaN   NaN  \n",
       "9                                               NaN       NaN   NaN  "
      ]
     },
     "execution_count": 43,
     "metadata": {},
     "output_type": "execute_result"
    }
   ],
   "source": [
    "df2.head(10)"
   ]
  },
  {
   "cell_type": "code",
   "execution_count": 200,
   "metadata": {
    "collapsed": true
   },
   "outputs": [],
   "source": [
    "topicStr= \"Science Fiction\""
   ]
  },
  {
   "cell_type": "code",
   "execution_count": 201,
   "metadata": {
    "collapsed": false
   },
   "outputs": [],
   "source": [
    "df3 = pd.DataFrame({\"asin\":df2.asin,\"topic\":df2.categories.str.contains(topicStr)})"
   ]
  },
  {
   "cell_type": "code",
   "execution_count": 202,
   "metadata": {
    "collapsed": false
   },
   "outputs": [
    {
     "data": {
      "text/html": [
       "<div>\n",
       "<table border=\"1\" class=\"dataframe\">\n",
       "  <thead>\n",
       "    <tr style=\"text-align: right;\">\n",
       "      <th></th>\n",
       "      <th>asin</th>\n",
       "      <th>topic</th>\n",
       "    </tr>\n",
       "  </thead>\n",
       "  <tbody>\n",
       "    <tr>\n",
       "      <th>0</th>\n",
       "      <td>1603420304</td>\n",
       "      <td>False</td>\n",
       "    </tr>\n",
       "    <tr>\n",
       "      <th>1</th>\n",
       "      <td>B0002IQ15S</td>\n",
       "      <td>False</td>\n",
       "    </tr>\n",
       "    <tr>\n",
       "      <th>2</th>\n",
       "      <td>B000F83SZQ</td>\n",
       "      <td>False</td>\n",
       "    </tr>\n",
       "    <tr>\n",
       "      <th>3</th>\n",
       "      <td>B000F83TEQ</td>\n",
       "      <td>False</td>\n",
       "    </tr>\n",
       "    <tr>\n",
       "      <th>4</th>\n",
       "      <td>B000F83STC</td>\n",
       "      <td>False</td>\n",
       "    </tr>\n",
       "  </tbody>\n",
       "</table>\n",
       "</div>"
      ],
      "text/plain": [
       "         asin  topic\n",
       "0  1603420304  False\n",
       "1  B0002IQ15S  False\n",
       "2  B000F83SZQ  False\n",
       "3  B000F83TEQ  False\n",
       "4  B000F83STC  False"
      ]
     },
     "execution_count": 202,
     "metadata": {},
     "output_type": "execute_result"
    }
   ],
   "source": [
    "df3.head()"
   ]
  },
  {
   "cell_type": "code",
   "execution_count": 203,
   "metadata": {
    "collapsed": false
   },
   "outputs": [
    {
     "data": {
      "text/plain": [
       "0.12415861900796407"
      ]
     },
     "execution_count": 203,
     "metadata": {},
     "output_type": "execute_result"
    }
   ],
   "source": [
    "float(sum(df3.topic))/df3.shape[0]"
   ]
  },
  {
   "cell_type": "code",
   "execution_count": 204,
   "metadata": {
    "collapsed": true
   },
   "outputs": [],
   "source": [
    "df4 = pd.DataFrame({\"asin\":df.asin})"
   ]
  },
  {
   "cell_type": "code",
   "execution_count": 205,
   "metadata": {
    "collapsed": false
   },
   "outputs": [
    {
     "data": {
      "text/html": [
       "<div>\n",
       "<table border=\"1\" class=\"dataframe\">\n",
       "  <thead>\n",
       "    <tr style=\"text-align: right;\">\n",
       "      <th></th>\n",
       "      <th>asin</th>\n",
       "    </tr>\n",
       "  </thead>\n",
       "  <tbody>\n",
       "    <tr>\n",
       "      <th>0</th>\n",
       "      <td>B000F83SZQ</td>\n",
       "    </tr>\n",
       "    <tr>\n",
       "      <th>1</th>\n",
       "      <td>B000F83SZQ</td>\n",
       "    </tr>\n",
       "    <tr>\n",
       "      <th>2</th>\n",
       "      <td>B000F83SZQ</td>\n",
       "    </tr>\n",
       "    <tr>\n",
       "      <th>3</th>\n",
       "      <td>B000F83SZQ</td>\n",
       "    </tr>\n",
       "    <tr>\n",
       "      <th>4</th>\n",
       "      <td>B000F83SZQ</td>\n",
       "    </tr>\n",
       "  </tbody>\n",
       "</table>\n",
       "</div>"
      ],
      "text/plain": [
       "         asin\n",
       "0  B000F83SZQ\n",
       "1  B000F83SZQ\n",
       "2  B000F83SZQ\n",
       "3  B000F83SZQ\n",
       "4  B000F83SZQ"
      ]
     },
     "execution_count": 205,
     "metadata": {},
     "output_type": "execute_result"
    }
   ],
   "source": [
    "df4.head()"
   ]
  },
  {
   "cell_type": "code",
   "execution_count": 206,
   "metadata": {
    "collapsed": false
   },
   "outputs": [],
   "source": [
    "df4 =df4.merge(df3, on='asin', how='left')"
   ]
  },
  {
   "cell_type": "code",
   "execution_count": 207,
   "metadata": {
    "collapsed": false
   },
   "outputs": [
    {
     "data": {
      "text/plain": [
       "0.1512865108449969"
      ]
     },
     "execution_count": 207,
     "metadata": {},
     "output_type": "execute_result"
    }
   ],
   "source": [
    "float(sum(df4.topic))/df4.shape[0]"
   ]
  },
  {
   "cell_type": "code",
   "execution_count": 52,
   "metadata": {
    "collapsed": false
   },
   "outputs": [
    {
     "name": "stdout",
     "output_type": "stream",
     "text": [
      "(982619, 10)\n",
      "(434702, 9)\n",
      "(434702, 2)\n",
      "(982619, 2)\n"
     ]
    }
   ],
   "source": [
    "print df.shape\n",
    "print df2.shape\n",
    "print df3.shape\n",
    "print df4.shape\n"
   ]
  }
 ],
 "metadata": {
  "anaconda-cloud": {},
  "kernelspec": {
   "display_name": "Python [gl-env]",
   "language": "python",
   "name": "Python [gl-env]"
  },
  "language_info": {
   "codemirror_mode": {
    "name": "ipython",
    "version": 2
   },
   "file_extension": ".py",
   "mimetype": "text/x-python",
   "name": "python",
   "nbconvert_exporter": "python",
   "pygments_lexer": "ipython2",
   "version": "2.7.11"
  }
 },
 "nbformat": 4,
 "nbformat_minor": 0
}
