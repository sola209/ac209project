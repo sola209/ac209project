{
 "cells": [
  {
   "cell_type": "markdown",
   "metadata": {},
   "source": [
    "# Milestone 3: Data Exploration\n",
    "\n",
    "### 11/6/16\n",
    "____________"
   ]
  },
  {
   "cell_type": "markdown",
   "metadata": {},
   "source": [
    "## Summary Dashboards\n",
    "### Use interactive elements to explore the dashboards!"
   ]
  },
  {
   "cell_type": "code",
   "execution_count": 7,
   "metadata": {
    "collapsed": true
   },
   "outputs": [],
   "source": [
    "from IPython.display import HTML"
   ]
  },
  {
   "cell_type": "code",
   "execution_count": null,
   "metadata": {
    "collapsed": false,
    "scrolled": false
   },
   "outputs": [],
   "source": [
    "HTML(\"<div class='tableauPlaceholder' id='viz1478236028725' style='position: relative'><noscript><a href='#'><img alt='Reviews are mostly 5-star, and from 2013-2014 ' src='https:&#47;&#47;public.tableau.com&#47;static&#47;images&#47;Ra&#47;RatingsandReviews-Summary&#47;Viz1&#47;1_rss.png' style='border: none' /></a></noscript><object class='tableauViz'  style='display:none;'><param name='host_url' value='https%3A%2F%2Fpublic.tableau.com%2F' /> <param name='site_root' value='' /><param name='name' value='RatingsandReviews-Summary&#47;Viz1' /><param name='tabs' value='no' /><param name='toolbar' value='yes' /><param name='static_image' value='https:&#47;&#47;public.tableau.com&#47;static&#47;images&#47;Ra&#47;RatingsandReviews-Summary&#47;Viz1&#47;1.png' /> <param name='animate_transition' value='yes' /><param name='display_static_image' value='yes' /><param name='display_spinner' value='yes' /><param name='display_overlay' value='yes' /><param name='display_count' value='yes' /></object></div>                <script type='text/javascript'>                    var divElement = document.getElementById('viz1478236028725');                    var vizElement = divElement.getElementsByTagName('object')[0];                    vizElement.style.width='1004px';vizElement.style.height='669px';                    var scriptElement = document.createElement('script');                    scriptElement.src = 'https://public.tableau.com/javascripts/api/viz_v1.js';                    vizElement.parentNode.insertBefore(scriptElement, vizElement);                </script>\")"
   ]
  },
  {
   "cell_type": "code",
   "execution_count": 9,
   "metadata": {
    "collapsed": false,
    "scrolled": false
   },
   "outputs": [
    {
     "data": {
      "text/html": [
       "<div class='tableauPlaceholder' id='viz1478235787641' style='position: relative'><noscript><a href='#'><img alt='This dataset has ~ 1 million reviews, ~60,000 products, and ~70,000 reviewers ' src='https:&#47;&#47;public.tableau.com&#47;static&#47;images&#47;Ra&#47;RatingsandReviews-Summary&#47;Viz3&#47;1_rss.png' style='border: none' /></a></noscript><object class='tableauViz'  style='display:none;'><param name='host_url' value='https%3A%2F%2Fpublic.tableau.com%2F' /> <param name='site_root' value='' /><param name='name' value='RatingsandReviews-Summary&#47;Viz3' /><param name='tabs' value='no' /><param name='toolbar' value='yes' /><param name='static_image' value='https:&#47;&#47;public.tableau.com&#47;static&#47;images&#47;Ra&#47;RatingsandReviews-Summary&#47;Viz3&#47;1.png' /> <param name='animate_transition' value='yes' /><param name='display_static_image' value='yes' /><param name='display_spinner' value='yes' /><param name='display_overlay' value='yes' /><param name='display_count' value='yes' /></object></div>                <script type='text/javascript'>                    var divElement = document.getElementById('viz1478235787641');                    var vizElement = divElement.getElementsByTagName('object')[0];                    vizElement.style.width='1004px';vizElement.style.height='669px';                    var scriptElement = document.createElement('script');                    scriptElement.src = 'https://public.tableau.com/javascripts/api/viz_v1.js';                    vizElement.parentNode.insertBefore(scriptElement, vizElement);                </script>"
      ],
      "text/plain": [
       "<IPython.core.display.HTML object>"
      ]
     },
     "execution_count": 9,
     "metadata": {},
     "output_type": "execute_result"
    }
   ],
   "source": [
    "HTML(\"<div class='tableauPlaceholder' id='viz1478235787641' style='position: relative'><noscript><a href='#'><img alt='This dataset has ~ 1 million reviews, ~60,000 products, and ~70,000 reviewers ' src='https:&#47;&#47;public.tableau.com&#47;static&#47;images&#47;Ra&#47;RatingsandReviews-Summary&#47;Viz3&#47;1_rss.png' style='border: none' /></a></noscript><object class='tableauViz'  style='display:none;'><param name='host_url' value='https%3A%2F%2Fpublic.tableau.com%2F' /> <param name='site_root' value='' /><param name='name' value='RatingsandReviews-Summary&#47;Viz3' /><param name='tabs' value='no' /><param name='toolbar' value='yes' /><param name='static_image' value='https:&#47;&#47;public.tableau.com&#47;static&#47;images&#47;Ra&#47;RatingsandReviews-Summary&#47;Viz3&#47;1.png' /> <param name='animate_transition' value='yes' /><param name='display_static_image' value='yes' /><param name='display_spinner' value='yes' /><param name='display_overlay' value='yes' /><param name='display_count' value='yes' /></object></div>                <script type='text/javascript'>                    var divElement = document.getElementById('viz1478235787641');                    var vizElement = divElement.getElementsByTagName('object')[0];                    vizElement.style.width='1004px';vizElement.style.height='669px';                    var scriptElement = document.createElement('script');                    scriptElement.src = 'https://public.tableau.com/javascripts/api/viz_v1.js';                    vizElement.parentNode.insertBefore(scriptElement, vizElement);                </script>\")"
   ]
  },
  {
   "cell_type": "code",
   "execution_count": 10,
   "metadata": {
    "collapsed": false,
    "scrolled": false
   },
   "outputs": [
    {
     "data": {
      "text/html": [
       "<div class='tableauPlaceholder' id='viz1478235249655' style='position: relative'><noscript><a href='#'><img alt='Reviews that have a higher rating are rated as more helpful ' src='https:&#47;&#47;public.tableau.com&#47;static&#47;images&#47;Ra&#47;RatingsandReviews-Summary&#47;Viz4&#47;1_rss.png' style='border: none' /></a></noscript><object class='tableauViz'  style='display:none;'><param name='host_url' value='https%3A%2F%2Fpublic.tableau.com%2F' /> <param name='site_root' value='' /><param name='name' value='RatingsandReviews-Summary&#47;Viz4' /><param name='tabs' value='no' /><param name='toolbar' value='yes' /><param name='static_image' value='https:&#47;&#47;public.tableau.com&#47;static&#47;images&#47;Ra&#47;RatingsandReviews-Summary&#47;Viz4&#47;1.png' /> <param name='animate_transition' value='yes' /><param name='display_static_image' value='yes' /><param name='display_spinner' value='yes' /><param name='display_overlay' value='yes' /><param name='display_count' value='yes' /></object></div>                <script type='text/javascript'>                    var divElement = document.getElementById('viz1478235249655');                    var vizElement = divElement.getElementsByTagName('object')[0];                    vizElement.style.width='1004px';vizElement.style.height='669px';                    var scriptElement = document.createElement('script');                    scriptElement.src = 'https://public.tableau.com/javascripts/api/viz_v1.js';                    vizElement.parentNode.insertBefore(scriptElement, vizElement);                </script>"
      ],
      "text/plain": [
       "<IPython.core.display.HTML object>"
      ]
     },
     "execution_count": 10,
     "metadata": {},
     "output_type": "execute_result"
    }
   ],
   "source": [
    "HTML(\"<div class='tableauPlaceholder' id='viz1478235249655' style='position: relative'><noscript><a href='#'><img alt='Reviews that have a higher rating are rated as more helpful ' src='https:&#47;&#47;public.tableau.com&#47;static&#47;images&#47;Ra&#47;RatingsandReviews-Summary&#47;Viz4&#47;1_rss.png' style='border: none' /></a></noscript><object class='tableauViz'  style='display:none;'><param name='host_url' value='https%3A%2F%2Fpublic.tableau.com%2F' /> <param name='site_root' value='' /><param name='name' value='RatingsandReviews-Summary&#47;Viz4' /><param name='tabs' value='no' /><param name='toolbar' value='yes' /><param name='static_image' value='https:&#47;&#47;public.tableau.com&#47;static&#47;images&#47;Ra&#47;RatingsandReviews-Summary&#47;Viz4&#47;1.png' /> <param name='animate_transition' value='yes' /><param name='display_static_image' value='yes' /><param name='display_spinner' value='yes' /><param name='display_overlay' value='yes' /><param name='display_count' value='yes' /></object></div>                <script type='text/javascript'>                    var divElement = document.getElementById('viz1478235249655');                    var vizElement = divElement.getElementsByTagName('object')[0];                    vizElement.style.width='1004px';vizElement.style.height='669px';                    var scriptElement = document.createElement('script');                    scriptElement.src = 'https://public.tableau.com/javascripts/api/viz_v1.js';                    vizElement.parentNode.insertBefore(scriptElement, vizElement);                </script>\")"
   ]
  },
  {
   "cell_type": "code",
   "execution_count": 11,
   "metadata": {
    "collapsed": false,
    "scrolled": false
   },
   "outputs": [
    {
     "data": {
      "text/html": [
       "<div class='tableauPlaceholder' id='viz1478235929024' style='position: relative'><noscript><a href='#'><img alt='Most reviewers have written 5-10 reviews ' src='https:&#47;&#47;public.tableau.com&#47;static&#47;images&#47;Ra&#47;RatingsandReviews-Summary&#47;Viz2&#47;1_rss.png' style='border: none' /></a></noscript><object class='tableauViz'  style='display:none;'><param name='host_url' value='https%3A%2F%2Fpublic.tableau.com%2F' /> <param name='site_root' value='' /><param name='name' value='RatingsandReviews-Summary&#47;Viz2' /><param name='tabs' value='no' /><param name='toolbar' value='yes' /><param name='static_image' value='https:&#47;&#47;public.tableau.com&#47;static&#47;images&#47;Ra&#47;RatingsandReviews-Summary&#47;Viz2&#47;1.png' /> <param name='animate_transition' value='yes' /><param name='display_static_image' value='yes' /><param name='display_spinner' value='yes' /><param name='display_overlay' value='yes' /><param name='display_count' value='yes' /></object></div>                <script type='text/javascript'>                    var divElement = document.getElementById('viz1478235929024');                    var vizElement = divElement.getElementsByTagName('object')[0];                    vizElement.style.width='1004px';vizElement.style.height='669px';                    var scriptElement = document.createElement('script');                    scriptElement.src = 'https://public.tableau.com/javascripts/api/viz_v1.js';                    vizElement.parentNode.insertBefore(scriptElement, vizElement);                </script>"
      ],
      "text/plain": [
       "<IPython.core.display.HTML object>"
      ]
     },
     "execution_count": 11,
     "metadata": {},
     "output_type": "execute_result"
    }
   ],
   "source": [
    "HTML(\"<div class='tableauPlaceholder' id='viz1478235929024' style='position: relative'><noscript><a href='#'><img alt='Most reviewers have written 5-10 reviews ' src='https:&#47;&#47;public.tableau.com&#47;static&#47;images&#47;Ra&#47;RatingsandReviews-Summary&#47;Viz2&#47;1_rss.png' style='border: none' /></a></noscript><object class='tableauViz'  style='display:none;'><param name='host_url' value='https%3A%2F%2Fpublic.tableau.com%2F' /> <param name='site_root' value='' /><param name='name' value='RatingsandReviews-Summary&#47;Viz2' /><param name='tabs' value='no' /><param name='toolbar' value='yes' /><param name='static_image' value='https:&#47;&#47;public.tableau.com&#47;static&#47;images&#47;Ra&#47;RatingsandReviews-Summary&#47;Viz2&#47;1.png' /> <param name='animate_transition' value='yes' /><param name='display_static_image' value='yes' /><param name='display_spinner' value='yes' /><param name='display_overlay' value='yes' /><param name='display_count' value='yes' /></object></div>                <script type='text/javascript'>                    var divElement = document.getElementById('viz1478235929024');                    var vizElement = divElement.getElementsByTagName('object')[0];                    vizElement.style.width='1004px';vizElement.style.height='669px';                    var scriptElement = document.createElement('script');                    scriptElement.src = 'https://public.tableau.com/javascripts/api/viz_v1.js';                    vizElement.parentNode.insertBefore(scriptElement, vizElement);                </script>\")"
   ]
  },
  {
   "cell_type": "markdown",
   "metadata": {},
   "source": [
    "____________"
   ]
  },
  {
   "cell_type": "code",
   "execution_count": 1,
   "metadata": {
    "collapsed": true,
    "scrolled": false
   },
   "outputs": [],
   "source": [
    "import numpy as np\n",
    "from mpl_toolkits.mplot3d import Axes3D\n",
    "import matplotlib\n",
    "import matplotlib.pyplot as plt\n",
    "import matplotlib.cm as cmx\n",
    "import matplotlib.colors as colors\n",
    "import statsmodels.formula.api as sm\n",
    "import pandas as pd\n",
    "from sklearn import linear_model\n",
    "from sklearn.feature_extraction.text import CountVectorizer\n",
    "from sklearn.neighbors import KNeighborsClassifier as KNN\n",
    "from sklearn.linear_model import LogisticRegression as LogReg\n",
    "from sklearn.decomposition import PCA\n",
    "import json\n",
    "%matplotlib inline"
   ]
  },
  {
   "cell_type": "code",
   "execution_count": 2,
   "metadata": {
    "collapsed": false,
    "scrolled": false
   },
   "outputs": [],
   "source": [
    "with open('reviews.json', 'rb') as f:\n",
    "    data = f.readlines()\n",
    "    \n",
    "data = map(lambda x: x.rstrip(), data)\n",
    "\n",
    "data_json_str = \"[\" + ','.join(data) + \"]\"\n",
    "\n",
    "data_df = pd.read_json(data_json_str)"
   ]
  },
  {
   "cell_type": "code",
   "execution_count": 3,
   "metadata": {
    "collapsed": false,
    "scrolled": false
   },
   "outputs": [
    {
     "name": "stdout",
     "output_type": "stream",
     "text": [
      "         asin helpful  overall  \\\n",
      "0  B000F83SZQ  [0, 0]        5   \n",
      "1  B000F83SZQ  [2, 2]        4   \n",
      "2  B000F83SZQ  [2, 2]        4   \n",
      "3  B000F83SZQ  [1, 1]        5   \n",
      "4  B000F83SZQ  [0, 1]        4   \n",
      "5  B000F83SZQ  [0, 0]        4   \n",
      "6  B000F83SZQ  [0, 0]        4   \n",
      "7  B000F83SZQ  [1, 1]        4   \n",
      "8  B000FA64PA  [0, 0]        5   \n",
      "9  B000FA64PA  [0, 0]        4   \n",
      "\n",
      "                                          reviewText   reviewTime  \\\n",
      "0  I enjoy vintage books and movies so I enjoyed ...   05 5, 2014   \n",
      "1  This book is a reissue of an old one; the auth...   01 6, 2014   \n",
      "2  This was a fairly interesting read.  It had ol...   04 4, 2014   \n",
      "3  I'd never read any of the Amy Brewster mysteri...  02 19, 2014   \n",
      "4  If you like period pieces - clothing, lingo, y...  03 19, 2014   \n",
      "5  A beautiful in-depth character description mak...  05 26, 2014   \n",
      "6  I enjoyed this one tho I'm not sure why it's c...  06 10, 2014   \n",
      "7  Never heard of Amy Brewster. But I don't need ...  03 22, 2014   \n",
      "8  Darth Maul working under cloak of darkness com...  10 11, 2013   \n",
      "9  This is a short story focused on Darth Maul's ...  02 13, 2011   \n",
      "\n",
      "       reviewerID                         reviewerName  \\\n",
      "0  A1F6404F1VG29J                           Avidreader   \n",
      "1   AN0N05A9LIJEQ                             critters   \n",
      "2   A795DMNCJILA6                                  dot   \n",
      "3  A1FV0SX13TWVXQ  Elaine H. Turley \"Montana Songbird\"   \n",
      "4  A3SPTOKDG7WBLN                   Father Dowling Fan   \n",
      "5  A1RK2OCZDSGC6R                     ubavka seirovska   \n",
      "6  A2HSAKHC3IBRE6                             Wolfmist   \n",
      "7  A3DE6XGZ2EPADS                                  WPY   \n",
      "8  A1UG4Q4D3OAH3A                                  dsa   \n",
      "9   AQZH7YTWQPOBE                             Enjolras   \n",
      "\n",
      "                                         summary  unixReviewTime  \n",
      "0                             Nice vintage story      1399248000  \n",
      "1                                   Different...      1388966400  \n",
      "2                                          Oldie      1396569600  \n",
      "3                             I really liked it.      1392768000  \n",
      "4                                 Period Mystery      1395187200  \n",
      "5                                         Review      1401062400  \n",
      "6                       Nice old fashioned story      1402358400  \n",
      "7  Enjoyable reading and reminding the old times      1395446400  \n",
      "8                                     Darth Maul      1381449600  \n",
      "9                       Not bad, not exceptional      1297555200  \n"
     ]
    }
   ],
   "source": [
    "print data_df[0:10]"
   ]
  },
  {
   "cell_type": "code",
   "execution_count": 4,
   "metadata": {
    "collapsed": false,
    "scrolled": false
   },
   "outputs": [
    {
     "name": "stdout",
     "output_type": "stream",
     "text": [
      "day         5\n",
      "month      05\n",
      "year     2014\n",
      "Name: 0, dtype: object\n"
     ]
    }
   ],
   "source": [
    "years = []\n",
    "months = []\n",
    "days = []\n",
    "for date in data_df['reviewTime']:\n",
    "    splitted = date.split(' ')\n",
    "    years.append(splitted[2])\n",
    "    months.append(splitted[0])\n",
    "    day = splitted[1]\n",
    "    days.append(day[:-1])\n",
    "    \n",
    "date_df = pd.DataFrame({'year': years,\n",
    "                       'month': months,\n",
    "                       'day': days})\n",
    "\n",
    "print date_df.iloc[0]\n",
    "final_dates = pd.to_datetime(date_df)"
   ]
  },
  {
   "cell_type": "code",
   "execution_count": 5,
   "metadata": {
    "collapsed": false,
    "scrolled": false
   },
   "outputs": [],
   "source": [
    "data_df['datetimes'] = final_dates"
   ]
  },
  {
   "cell_type": "code",
   "execution_count": 6,
   "metadata": {
    "collapsed": false,
    "scrolled": true
   },
   "outputs": [
    {
     "name": "stdout",
     "output_type": "stream",
     "text": [
      "         asin helpful  overall  \\\n",
      "0  B000F83SZQ  [0, 0]        5   \n",
      "1  B000F83SZQ  [2, 2]        4   \n",
      "2  B000F83SZQ  [2, 2]        4   \n",
      "3  B000F83SZQ  [1, 1]        5   \n",
      "4  B000F83SZQ  [0, 1]        4   \n",
      "\n",
      "                                          reviewText   reviewTime  \\\n",
      "0  I enjoy vintage books and movies so I enjoyed ...   05 5, 2014   \n",
      "1  This book is a reissue of an old one; the auth...   01 6, 2014   \n",
      "2  This was a fairly interesting read.  It had ol...   04 4, 2014   \n",
      "3  I'd never read any of the Amy Brewster mysteri...  02 19, 2014   \n",
      "4  If you like period pieces - clothing, lingo, y...  03 19, 2014   \n",
      "\n",
      "       reviewerID                         reviewerName             summary  \\\n",
      "0  A1F6404F1VG29J                           Avidreader  Nice vintage story   \n",
      "1   AN0N05A9LIJEQ                             critters        Different...   \n",
      "2   A795DMNCJILA6                                  dot               Oldie   \n",
      "3  A1FV0SX13TWVXQ  Elaine H. Turley \"Montana Songbird\"  I really liked it.   \n",
      "4  A3SPTOKDG7WBLN                   Father Dowling Fan      Period Mystery   \n",
      "\n",
      "   unixReviewTime  datetimes  \n",
      "0      1399248000 2014-05-05  \n",
      "1      1388966400 2014-01-06  \n",
      "2      1396569600 2014-04-04  \n",
      "3      1392768000 2014-02-19  \n",
      "4      1395187200 2014-03-19  \n"
     ]
    }
   ],
   "source": [
    "print data_df.head()"
   ]
  },
  {
   "cell_type": "code",
   "execution_count": 7,
   "metadata": {
    "collapsed": true,
    "scrolled": false
   },
   "outputs": [],
   "source": [
    "reviewText = data_df[\"reviewText\"].values\n",
    "length_reviews = np.zeros(len(reviewText))\n",
    "for i,text in enumerate(reviewText):\n",
    "    reviewText = text.split(\" \")\n",
    "    length_reviews[i] = len(reviewText)"
   ]
  },
  {
   "cell_type": "code",
   "execution_count": 8,
   "metadata": {
    "collapsed": false
   },
   "outputs": [],
   "source": [
    "data_df['genre'] = np.full((data_df.shape[0], 1), \"other\", dtype=str)\n",
    "data_df['reviewLength'] = np.zeros(data_df.shape[0])\n",
    "for index, row in data_df.iterrows():\n",
    "    reviewtext = [word.lower() for word in row['reviewText'].split(\" \")]\n",
    "    data_df.set_value(index, 'reviewLength', len(reviewtext))\n",
    "    if \"mystery\" in reviewtext:\n",
    "        data_df.set_value(index, 'genre', 'mystery')\n",
    "    elif \"fiction\" in reviewtext:\n",
    "        data_df.set_value(index, 'genre', 'fiction')\n",
    "    elif \"nonfiction\" in reviewtext:\n",
    "        data_df.set_value(index, 'genre', 'nonfiction')\n",
    "    elif \"romance\" in reviewtext:\n",
    "        data_df.set_value(index, 'genre', 'romance')\n",
    "    elif \"history\" in reviewtext:\n",
    "        data_df.set_value(index, 'genre', 'history')\n",
    "    else:\n",
    "        data_df.set_value(index, 'genre', 'other')"
   ]
  },
  {
   "cell_type": "code",
   "execution_count": 9,
   "metadata": {
    "collapsed": false
   },
   "outputs": [
    {
     "data": {
      "image/png": "[encoded data removed]",
      "text/plain": [
       "<matplotlib.figure.Figure at 0x19f1b4d68>"
      ]
     },
     "metadata": {},
     "output_type": "display_data"
    }
   ],
   "source": [
    "plt.figure(figsize=(7,5))\n",
    "plt.hist(length_reviews, bins=range(int(min(length_reviews)), 1000, 25))\n",
    "plt.title(\"Length of reviews\")\n",
    "plt.xlabel(\"word count\")\n",
    "plt.ylabel(\"frequency\")\n",
    "plt.show()"
   ]
  },
  {
   "cell_type": "markdown",
   "metadata": {},
   "source": [
    "The distribution of review lengths is predictably right-skewed, given that there is a lower limit of zero on the possible length of a review and no upper bound. Several outliers on the far-right of the distribution (upwards of 2000 words in length) were removed in order to make the main trend clearer. The mode of the distribution of review lengths appears to lie in the range of 25-50 words. For reference, this block of text contains 78 words."
   ]
  },
  {
   "cell_type": "code",
   "execution_count": 10,
   "metadata": {
    "collapsed": false
   },
   "outputs": [
    {
     "data": {
      "image/png": "[encoded data removed]",
      "text/plain": [
       "<matplotlib.figure.Figure at 0x19f1b40b8>"
      ]
     },
     "metadata": {},
     "output_type": "display_data"
    }
   ],
   "source": [
    "data_df[data_df['genre'] != 'other'].genre.value_counts().plot(kind='bar', title='Review Genres')\n",
    "plt.ylabel(\"frequency\")\n",
    "plt.show()"
   ]
  },
  {
   "cell_type": "markdown",
   "metadata": {},
   "source": [
    "This visualization depicts the frequency of several 'genre' keywords, based on whether that word was encountered in the review text. Although it is difficult to interpret the genre of a book based solely on review text, catch words such as 'romance' or 'mystery' provide a fair first guess. It is important to note that the five categories used in this visualization are not all-encompassing, and that the vast majority of reviews did not contain any of these keywords. Many reviews may not provide any clues as to the genre of the book, so we would be hard-pressed to provide confident recommendations based solely on this interpretation of the text. Furthermore, these categories are not mutually exclusive (ie, a book may belong to multiple genres), and the analysis above categorized each review based on which of the words was encountered first. Of the reviews that did contain one of these keywords, romance was the most frequently encountered by a clear margin. "
   ]
  },
  {
   "cell_type": "code",
   "execution_count": 11,
   "metadata": {
    "collapsed": false
   },
   "outputs": [
    {
     "data": {
      "image/png": "[encoded data removed]",
      "text/plain": [
       "<matplotlib.figure.Figure at 0x3489c390>"
      ]
     },
     "metadata": {},
     "output_type": "display_data"
    }
   ],
   "source": [
    "colors = {'romance':'red', 'mystery':'blue', 'history':'green', 'fiction':'yellow', 'nonfiction':'purple'}\n",
    "df_reviews = data_df[data_df['genre'] != 'other']\n",
    "plt.figure(figsize=(15,7))\n",
    "plt.scatter(df_reviews['reviewLength'], df_reviews['overall'], c=df_reviews['genre'].apply(lambda x: colors[x]))\n",
    "plt.title(\"Length of Review and Rating\")\n",
    "plt.xlabel(\"Length of review in words\")\n",
    "plt.ylabel(\"Discrete rating\")\n",
    "plt.show()"
   ]
  },
  {
   "cell_type": "markdown",
   "metadata": {},
   "source": [
    "This visualization demonstrates that there may be a slightly higher frequency of long reviews among higher-rated books, regardless of genre. However, we can make no claim that longer reviews are, on average, significantly more positive that shorter reviews. In this graph, nodes are colored according to genre, and since romance occupies the highest proportion of reviews, they dominate the graph regardless of the length of the review. "
   ]
  },
  {
   "cell_type": "code",
   "execution_count": 12,
   "metadata": {
    "collapsed": false
   },
   "outputs": [
    {
     "name": "stderr",
     "output_type": "stream",
     "text": [
      "C:\\Users\\Sarah\\Anaconda2\\lib\\site-packages\\ipykernel\\__main__.py:4: UserWarning: Boolean Series key will be reindexed to match DataFrame index.\n"
     ]
    },
    {
     "data": {
      "image/png": "[encoded data removed]",
      "text/plain": [
       "<matplotlib.figure.Figure at 0x3488ce48>"
      ]
     },
     "metadata": {},
     "output_type": "display_data"
    }
   ],
   "source": [
    "genres=['romance', 'mystery', 'history', 'fiction', 'nonfiction']\n",
    "avg_length_by_genre = dict()\n",
    "for genre in genres:\n",
    "    df_genre = df_reviews[data_df['genre'] == genre]\n",
    "    avg_length_by_genre[genre] = np.mean(df_genre['reviewLength'])\n",
    "\n",
    "index = np.arange(len(genres))\n",
    "plt.figure()\n",
    "plt.bar(index + 0.1, avg_length_by_genre.values(), 0.1)\n",
    "plt.xticks(index + 0.1, genres)\n",
    "plt.title(\"Average Review Length\")\n",
    "plt.ylabel(\"Average Word Count\")\n",
    "plt.show()"
   ]
  },
  {
   "cell_type": "markdown",
   "metadata": {},
   "source": [
    "This visualization depicts the average length of a reviews by genre; there doesn't appear to be a significant distinction among the groups, but it does appear that these averages are also heavily skewed by the small subset of reviews that are thousands of words in length. From the histogram above, it appears that the majority of reviews contain under 100 words. However, since all of the categories are roughly equally effected, this would suggest that very long reviews are not unique to any single genre. "
   ]
  },
  {
   "cell_type": "code",
   "execution_count": null,
   "metadata": {
    "collapsed": true
   },
   "outputs": [],
   "source": []
  }
 ],
 "metadata": {
  "anaconda-cloud": {},
  "kernelspec": {
   "display_name": "Python [Root]",
   "language": "python",
   "name": "Python [Root]"
  },
  "language_info": {
   "codemirror_mode": {
    "name": "ipython",
    "version": 2
   },
   "file_extension": ".py",
   "mimetype": "text/x-python",
   "name": "python",
   "nbconvert_exporter": "python",
   "pygments_lexer": "ipython2",
   "version": "2.7.12"
  }
 },
 "nbformat": 4,
 "nbformat_minor": 0
}
