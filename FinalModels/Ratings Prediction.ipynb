{
 "cells": [
  {
   "cell_type": "markdown",
   "metadata": {},
   "source": [
    "# Predicting Ratings\n",
    "\n",
    "## Text Analysis, User-based Collaborative Filtering, and Simple Averaging\n",
    "\n",
    "\n",
    "\n",
    "-----------"
   ]
  },
  {
   "cell_type": "code",
   "execution_count": 63,
   "metadata": {
    "collapsed": false
   },
   "outputs": [],
   "source": [
    "import numpy as np\n",
    "from mpl_toolkits.mplot3d import Axes3D\n",
    "import matplotlib\n",
    "import matplotlib.pyplot as plt\n",
    "import matplotlib.cm as cmx\n",
    "import matplotlib.colors as colors\n",
    "import statsmodels.formula.api as sm\n",
    "import pandas as pd\n",
    "from sklearn import linear_model\n",
    "from sklearn.feature_extraction.text import CountVectorizer\n",
    "from sklearn.neighbors import KNeighborsClassifier as KNN\n",
    "from sklearn.linear_model import LogisticRegression as LogReg\n",
    "from sklearn.decomposition import PCA\n",
    "import json\n",
    "import gzip\n",
    "from pandas import Series\n",
    "from six.moves.html_parser import HTMLParser\n",
    "from scipy import spatial\n",
    "import heapq\n",
    "from sklearn.cross_validation import train_test_split\n",
    "\n",
    "\n",
    "%matplotlib inline"
   ]
  },
  {
   "cell_type": "markdown",
   "metadata": {},
   "source": [
    "## Import data"
   ]
  },
  {
   "cell_type": "markdown",
   "metadata": {},
   "source": [
    "## Text analysis - Class to get Similarity from Text Reviews"
   ]
  },
  {
   "cell_type": "code",
   "execution_count": 67,
   "metadata": {
    "collapsed": false
   },
   "outputs": [],
   "source": [
    "class TextSimilarity:\n",
    "    def __init__(self, data_df): #user_rand_sample_1000.csv\n",
    "        \"Assigns data to data_df property\"\n",
    "        #data_df = pd.read_csv(path)\n",
    "        print \"Shape of our dataset: \", data_df.shape\n",
    "        print \"Number of unique users in the dataset: \",len(np.unique(data_df['reviewerID'].values))\n",
    "        self.data_df = data_df\n",
    "        \n",
    "    def groupByUser(self):\n",
    "        \"Creates a new property data_combined that groups the dataframe by user\"\n",
    "        print \"Grouping data by user....\"\n",
    "        data_sample = self.data_df[['reviewText','reviewerID','overall']]\n",
    "        co2 = self._percentage_coroutine(len(data_sample.groupby('reviewerID')))\n",
    "        co2.next()\n",
    "        data_combined = data_sample.groupby('reviewerID').apply(self._trace_progress(self._groupByUser,progress=co2))\n",
    "        h = HTMLParser()\n",
    "        remove_html = lambda x: h.unescape(x)\n",
    "        data_combined['reviewText'] = data_combined['reviewText'].map(remove_html)\n",
    "        self.data_combined = data_combined\n",
    "        \n",
    "    def countWords(self):\n",
    "        \"Applies a count vectorizer and stores result to vectorized\"\n",
    "        vectorizer = CountVectorizer(stop_words = 'english',min_df=4, decode_error=\"replace\")\n",
    "        reviews = self.data_combined['reviewText'].values\n",
    "        x = vectorizer.fit_transform(reviews)\n",
    "        self.vectorized = x.toarray()\n",
    "        self.all_feature_names = vectorizer.get_feature_names() \n",
    "        print len(self.all_feature_names), \" unique words found in reviews\"\n",
    "        \n",
    "    def calculateScores(self):\n",
    "        \"Calculates the TF-IDF based on the vectorized data\"\n",
    "        # Get IDF \n",
    "        document_frequency = np.sum(self.vectorized,axis=0)\n",
    "        print \"Calculated Document frequency\"\n",
    "        idf_raw = np.divide(float(self.vectorized.shape[0]),document_frequency)\n",
    "        idf = np.log10(idf_raw)\n",
    "        print \"Calculated IDF\"\n",
    "        tf = 1 + np.log10(self.vectorized)\n",
    "        tf[tf<0]=0\n",
    "        self.tf_idf = np.multiply(tf,idf)\n",
    "\n",
    "\n",
    "    def _groupByUser(self,x):\n",
    "        return pd.Series(dict(reviewText = \"%s\" % ''.join(str(x['reviewText'].values))))\n",
    "    \n",
    "    def _trace_progress(self, func, progress = None):\n",
    "        def callf(*args, **kwargs):\n",
    "            if (progress is not None):\n",
    "                progress.send(None)\n",
    "\n",
    "            return func(*args, **kwargs)\n",
    "\n",
    "        return callf\n",
    "    \n",
    "    def _percentage_coroutine(self, to_process, print_on_percent = 0.25):\n",
    "        print \"Starting progress percentage monitor\"\n",
    "        processed = 0\n",
    "        count = 0\n",
    "        print_count = to_process*print_on_percent\n",
    "        while True:\n",
    "            yield\n",
    "            processed += 1\n",
    "            count += 1\n",
    "            if (count >= print_count):\n",
    "                count = 0\n",
    "                pct = (float(processed)/float(to_process))*100\n",
    "                print \"{}% finished\".format(pct)\n",
    "                \n",
    "    def _getCosineMatrix(self):\n",
    "        tf_idf = self.tf_idf\n",
    "        cosine_sim_results = np.zeros((tf_idf.shape[0],tf_idf.shape[0]))\n",
    "        for user1 in range(tf_idf.shape[0]):\n",
    "            for user2 in range(tf_idf.shape[0]):\n",
    "                cosine_sim_results[user1,user2] = spatial.distance.cosine(tf_idf[user1],tf_idf[user2])\n",
    "            if user1%20==0: \n",
    "                print \"Completed \",user1, \" users\"\n",
    "                #print float(user1)/tf_idf.shape[0], cosine_sim_results[user1,user2]\n",
    "        \n",
    "        self.cosine_sim_results = cosine_sim_results\n",
    "        \n",
    "    def getCosineMatrix(self):\n",
    "        \"Returns a matrix of cosine similarity that is N-users by N-users\"\n",
    "        tf_idf = self.tf_idf\n",
    "        magnitude =  np.linalg.norm(tf_idf, axis=1)\n",
    "        tf_idf_norm = tf_idf/magnitude[:,None]\n",
    "        self.cosine_sim_results = tf_idf_norm.dot(tf_idf_norm.T)\n",
    "        return self.cosine_sim_results                            \n",
    "                \n",
    "    def getSimilarityMatrix(self):\n",
    "        \"Returns sorted array of most similar users for each user\"\n",
    "        neighbors = np.zeros((self.cosine_sim_results.shape[0],10))\n",
    "        count=0\n",
    "        for row in self.cosine_sim_results[:1000]:\n",
    "            # get the indices that would sort the row\n",
    "            # replace values with the index\n",
    "            # sort the rows\n",
    "            closest10 = heapq.nlargest(10, range(len(row)), row.take)\n",
    "            neighbors[count] = closest10\n",
    "            count+=1\n",
    "            if count%100==0: print count\n",
    "        self.neighbors = neighbors\n",
    "        print \"Calculated Similarity Matrix\"\n",
    "        return self.neighbors\n",
    "    \n",
    "    def fit(self):\n",
    "        \"Perform all calculations\"\n",
    "        self.groupByUser()\n",
    "        self.countWords()\n",
    "        self.calculateScores()\n",
    "        text_cosine_matrix = self.getCosineMatrix()\n",
    "        self.getSimilarityMatrix()\n",
    "        \n",
    "    def searchReviews(self,search_term): \n",
    "        index = self.all_feature_names.index(search_term)\n",
    "        first_user_with_term = np.argmax(self.vectorized[:,index]>0)\n",
    "        self.printNeighbors(first_user_with_term)\n",
    "        #print(\"We haven't calculated that one yet\")\n",
    "            \n",
    "    def printNeighbors(self,user):\n",
    "        for each in self.neighbors[user,0:6]:\n",
    "            print \"\\nUser: \", each, \"Cosine: \", self.cosine_sim_results[user,each]\n",
    "            print self.data_combined['reviewText'][int(each)]\n",
    "            print \"--------\""
   ]
  },
  {
   "cell_type": "markdown",
   "metadata": {},
   "source": [
    "## Load data and split into train and test"
   ]
  },
  {
   "cell_type": "code",
   "execution_count": 68,
   "metadata": {
    "collapsed": false
   },
   "outputs": [
    {
     "name": "stderr",
     "output_type": "stream",
     "text": [
      "/anaconda/envs/py27/lib/python2.7/site-packages/ipykernel/__main__.py:5: SettingWithCopyWarning: \n",
      "A value is trying to be set on a copy of a slice from a DataFrame\n",
      "\n",
      "See the caveats in the documentation: http://pandas.pydata.org/pandas-docs/stable/indexing.html#indexing-view-versus-copy\n",
      "/anaconda/envs/py27/lib/python2.7/site-packages/ipykernel/__main__.py:7: SettingWithCopyWarning: \n",
      "A value is trying to be set on a copy of a slice from a DataFrame\n",
      "\n",
      "See the caveats in the documentation: http://pandas.pydata.org/pandas-docs/stable/indexing.html#indexing-view-versus-copy\n"
     ]
    }
   ],
   "source": [
    "data_df = pd.read_csv(\"frequent_reviews.txt\")\n",
    "data_sample = data_df[['reviewerID','overall','asin','reviewText']]\n",
    "msk = np.random.rand(len(data_sample)) < 0.3\n",
    "train = data_sample.copy()\n",
    "train['overall'][msk] = np.nan\n",
    "test = data_sample.copy()\n",
    "test['overall'][~msk] = np.nan"
   ]
  },
  {
   "cell_type": "markdown",
   "metadata": {},
   "source": [
    "# Get the utility matrix (users vs ratings)"
   ]
  },
  {
   "cell_type": "code",
   "execution_count": 69,
   "metadata": {
    "collapsed": true
   },
   "outputs": [],
   "source": [
    "utility_matrix_train = train['overall'].groupby([train['reviewerID'], train['asin']]).mean().unstack()\n",
    "utility_matrix_test = test['overall'].groupby([test['reviewerID'], test['asin']]).mean().unstack()"
   ]
  },
  {
   "cell_type": "code",
   "execution_count": 70,
   "metadata": {
    "collapsed": false
   },
   "outputs": [
    {
     "data": {
      "text/plain": [
       "(823, 996)"
      ]
     },
     "execution_count": 70,
     "metadata": {},
     "output_type": "execute_result"
    }
   ],
   "source": [
    "utility_matrix_train.shape"
   ]
  },
  {
   "cell_type": "code",
   "execution_count": 71,
   "metadata": {
    "collapsed": false
   },
   "outputs": [],
   "source": [
    "utility_matrix_train_nan = utility_matrix_train\n",
    "utility_matrix_train = utility_matrix_train.fillna(value=0)\n",
    "utility_matrix_test_nan = utility_matrix_test\n",
    "utility_matrix_test = utility_matrix_test.fillna(value=0)"
   ]
  },
  {
   "cell_type": "markdown",
   "metadata": {},
   "source": [
    "## Get cosine similarity matrix using review text"
   ]
  },
  {
   "cell_type": "code",
   "execution_count": 72,
   "metadata": {
    "collapsed": false
   },
   "outputs": [
    {
     "name": "stdout",
     "output_type": "stream",
     "text": [
      "(14433, 4)\n",
      "Shape of our dataset:  (14433, 4)\n",
      "Number of unique users in the dataset:  823\n",
      "Grouping data by user....\n",
      "Starting progress percentage monitor\n",
      "25.0303766707% finished\n",
      "50.0607533414% finished\n",
      "75.0911300122% finished\n",
      "100.121506683% finished\n",
      "12071  unique words found in reviews\n",
      "Calculated Document frequency\n",
      "Calculated IDF\n"
     ]
    }
   ],
   "source": [
    "print(train.shape)\n",
    "textSimilarity = TextSimilarity(train)\n",
    "textSimilarity.groupByUser()\n",
    "textSimilarity.countWords()\n",
    "textSimilarity.calculateScores()\n",
    "cosine_matrix_text = textSimilarity.getCosineMatrix()"
   ]
  },
  {
   "cell_type": "code",
   "execution_count": 75,
   "metadata": {
    "collapsed": false
   },
   "outputs": [
    {
     "name": "stdout",
     "output_type": "stream",
     "text": [
      "100\n",
      "200\n",
      "300\n",
      "400\n",
      "500\n",
      "600\n",
      "700\n",
      "800\n",
      "Calculated Similarity Matrix\n",
      "\n",
      "User:  20.0 Cosine:  1.0\n",
      "[ 'I liked very much. This was very well indeed. It was written well. Had a very well story line. Well!!!'\n",
      " \"This most definitely is a save to my faves. It's a reconnecting love story you have got to read again and again.\"\n",
      " 'This read was enjoyable, entertaining, romance. If you love romance get this story. It is one for the faves, ok.'\n",
      " 'I love to read about true love and this fits the bill. Most definitely worth two thumbs up and a save to faves.'\n",
      " \"That was very,very,very delightful. Two thumbs up and enjoyable experience. A good save to faves. I don't know what else to say.\"\n",
      " 'Even though it was short I liked this very much. I usually like it much more Spicer and a little more story. But it was very good.'\n",
      " 'Starting over and new beginnings. Thumbs up for Delilah and of course you know me by now. Another add to my faves.'\n",
      " \"Now that's a story. I enjoyed that so much that I will add it to my faves. Can't wait to read the full series.\"\n",
      " \"A very good surprise. I hope that there is more to the story. Because that only intrigued me to want to read more about Nisha and Drake's story.\"\n",
      " 'Kind of boring but ok! Why did you drag this on into another book. It could have been finished this book.'\n",
      " 'Aaahhhh love. Now that was a very good love story. And it was short but I enjoyed it very much.'\n",
      " \"I love a good love story. Especially when it's love at first glance. Well sort of any way thumbs up.\"]\n",
      "--------\n",
      "\n",
      "User:  371.0 Cosine:  0.460825877782\n",
      "[ 'This book was a wonderful read. I read until I finished it. Will most certainly read the next one. Get this book you will most certainly enjoy it.'\n",
      " 'This was a great read once I started to read it I found it hard to put down. I would say try it if you like these kinds of books you will enjoy it.'\n",
      " 'This was a really good book. I would recommend it . I would love to see what happens to the characters . It is also a young adult book but I enjoyed reading it. So get it and enjoy.'\n",
      " 'This is a wonderful good book. I have enjoyed reading it and hope to read more books by the same author. I want to find out what happens to the characters. So get it sit down and enjoy.'\n",
      " 'This was a good book. I enjoyed reading it it went a little slow in places but over all it was a good book. So if you like this kind of book go for it and enjoy.'\n",
      " 'This is a super good book I intend to read more of the series. I would recommend this book to anyone who wants to read this kind of book. It is a very good .'\n",
      " 'Get this book . I enjoyed reading this book. It kept going at a good pace did not slow down Will read the rest of them. So get the book and enjoy.'\n",
      " 'I give this 5 stars . It was a very good book I would be interested in the series. So get it and enjoy the book.'\n",
      " 'This is a good book but to short. I enjoyed reading it and would like to find out what happens to the characters. So get it and enjoy reading it.'\n",
      " 'This was a very good book. I enjoyed reading this book and will be getting the next one of the series. I would recommend this book. Get this book and enjoy it.'\n",
      " 'This was a really good book and I enjoyed it very much. I would recommend it to any of you who like to read this kind of book. So get it and enjoy reading it.'\n",
      " 'I very much enjoyed this book. The characters in this book were interesting and I will be getting the others.'\n",
      " 'This was a good book.I will be getting the others in the series. The characters in the book were really good.'\n",
      " 'This was a good book. I enjoyed reading the book. I would recommend this book to anyone who wants to read this kind of book.'\n",
      " 'This was a good book. I will be getting the others in this series. If you enjoy this type of book then I say get it and enjoy.'\n",
      " 'This is a super good book. But it needs to be longer. I look forward to reading the other books by this author. So I recommend this book to anyone who wants to read this kind of book. So get it and enjoy.'\n",
      " 'This was a good book and I enjoyed reading it very much. I would love to read more about the characters and find out what happens to them . So get it and read it. I hope you enjoy reading this book.'\n",
      " 'This was a really good book . I would recommend it to any one who wants to read this type of book. I would love to know what happens later on. So get it and enjoy.'\n",
      " 'This was a surprising good book. I enjoyed reading it very much. It kept me very interested the whole time nor was it slow at all. So if you like this kind of book then get it and enjoy reading.'\n",
      " \"Good book I would recommend it. There isn't a lot of action some romance but in all its a good short book. So get it and enjoy.\"\n",
      " 'This is a very good book. I would recommend it to any body who enjoys this kind of book. Go for it and enjoy reading.'\n",
      " 'This was a good book not what I have been reading lately. But I would recommend it to any body who enjoys this kind of book then get it. Get the book and enjoy.'\n",
      " 'This was a beautiful story. I enjoyed reading it very much. I would love to read more about the characters and what happens to them. So I recommend this book get it and enjoy it.']\n",
      "--------\n",
      "\n",
      "User:  269.0 Cosine:  0.440026554729\n",
      "[ \"He's in love with his best friend. His best friend is in love with can you do? You make plans to get together. A good book, for a weekend read.\"\n",
      " 'What a wonderful story. I fell in love with Trent, and Gage, also the children. The plot was great, and the characters was also good. A MUST READ. I enjoyed this book very much.'\n",
      " 'I enjoyed this book,it was well written, and the characters Braden, Wes, and Jesse was wonderful. I loved Jesse. The storyline was great. A wonderful romance. This is a good sequal in the BLACKCREEK series with COLLIDE being the first book.']\n",
      "--------\n",
      "\n",
      "User:  758.0 Cosine:  0.417938728108\n",
      "[ \"I love it it was great I'm glad I found your name a tried this book can't wait to read more from you\"\n",
      " \"I loved it can't wait to read more of this series keep up the good work and I will look forward to reading it.\"\n",
      " \"I like it a lot it was done just right try it you will like it.Can't wait for the next one in this series.\"]\n",
      "--------\n",
      "\n",
      "User:  390.0 Cosine:  0.409044104648\n",
      "[ 'This book was a GREAT book to read. I can read this book over again. I will look for more books from Cynthia.'\n",
      " 'This book is a very good reading book and I will look for more books like this book and read them too.'\n",
      " 'This book is a very good reading book and I will look for more books from the author and read books like this one.'\n",
      " 'This book is a very good reading book. The story line is good, I will look for more books from this author.'\n",
      " 'This book has a good story line in it. I really like the old time history in it, how they use to do it long ago. I will look for more books from this author and read them too.'\n",
      " 'This book is a very good reading book and I can read this book over again and over.I will look for more books from this series and read them too.'\n",
      " 'This book is a very good reading book and I can read this book over again and over.I will look for more books from this author and read them too.'\n",
      " \"I have read All three books now. I can't wait to read other books from Stacey. I am going to look for more books from Stacey.\"\n",
      " 'These books are good reading books. I will read them over and over. I will look for more books like them too.'\n",
      " 'This book is a good reading book.I will look for more books from this author. I like books like this one.'\n",
      " 'This book is a very good reading book and I will look for more books like this book. I can read this book over again and find more books from this author.'\n",
      " 'This book is a good reading book, it has a good story line in it. It has happy and sad in it.'\n",
      " 'This book is a very good reading book and I will read this book over again and over again, I will look for more books from this author and read them below.'\n",
      " 'This book is a very good reading book,I wish it was a longer book. The author is a very good writer and I have other books from this author too.'\n",
      " 'This book is a very good reading book. I like this kind of books, I like the past in books.'\n",
      " 'This six pack of books are good reading books. I can read these books again. I will look for more books from these authors.'\n",
      " 'This book is a very good reading reading book and I will look for more books from this author and read them too.']\n",
      "--------\n",
      "\n",
      "User:  661.0 Cosine:  0.407510371056\n",
      "[ 'I love this series of books.  I only gave it 4 starts because of the love-making scenes.  I think the stories could be just as awesome without them!!  But that has not stopped me from reading the series--I can just skip those scenes.'\n",
      " \"I'm trying to figure out what I want to write about this book.  It was really a good story about a young woman who becomes a mail order bride & mother who also finds out what being a true Christian means.  I like how she and George didn't just meet & instantly fell in love.  This is a clean romance that I would recommend to anyone who loves good, clean romance.\"\n",
      " 'What a wonderful storyline.  This was a great, clean book.  I definitely plan to read more by this wonderful author.'\n",
      " \"I loved the story very much.  I loved how everything worked out for everyone involved.  The story would have been just as good without the intimate details but that's just my feelings.\"]\n",
      "--------\n"
     ]
    },
    {
     "name": "stderr",
     "output_type": "stream",
     "text": [
      "/anaconda/envs/py27/lib/python2.7/site-packages/ipykernel/__main__.py:121: VisibleDeprecationWarning: using a non-integer number instead of an integer will result in an error in the future\n"
     ]
    }
   ],
   "source": [
    "textSimilarity.getSimilarityMatrix()\n",
    "textSimilarity.printNeighbors(20)"
   ]
  },
  {
   "cell_type": "markdown",
   "metadata": {},
   "source": [
    "## Get cosine similarity matrix using reviews"
   ]
  },
  {
   "cell_type": "code",
   "execution_count": 76,
   "metadata": {
    "collapsed": false
   },
   "outputs": [],
   "source": [
    "# Get the cosine matrix for ratings\n",
    "# Normalize the utility matrix by dividing by the magnitude of each user vector\n",
    "magnitude =  np.linalg.norm(utility_matrix_train.values, axis=1)\n",
    "utility_matrix_norm = np.divide(utility_matrix_train.values,magnitude[:,None])\n",
    "utility_matrix_norm = np.nan_to_num(utility_matrix_norm) \n",
    "cosine_matrix_ratings = utility_matrix_norm.dot(utility_matrix_norm.T)"
   ]
  },
  {
   "cell_type": "code",
   "execution_count": 77,
   "metadata": {
    "collapsed": false
   },
   "outputs": [
    {
     "data": {
      "text/plain": [
       "0"
      ]
     },
     "execution_count": 77,
     "metadata": {},
     "output_type": "execute_result"
    }
   ],
   "source": [
    "np.isnan(cosine_matrix_ratings).sum()"
   ]
  },
  {
   "cell_type": "code",
   "execution_count": 78,
   "metadata": {
    "collapsed": false
   },
   "outputs": [],
   "source": [
    "# Create a version of the utility matrix that has subtracted each user's average rating\n",
    "values = utility_matrix_train.values\n",
    "means = np.true_divide(values.sum(1),(values!=0).sum(1))\n",
    "utility_matrix_rel_zero = (values-means[:,None])*(values!=0)\n",
    "utility_matrix_rel_zero = np.nan_to_num(utility_matrix_rel_zero)"
   ]
  },
  {
   "cell_type": "code",
   "execution_count": 80,
   "metadata": {
    "collapsed": false
   },
   "outputs": [],
   "source": [
    "# Get similarity matrix\n",
    "neighbors = np.zeros((cosine_matrix_ratings.shape[0],100))\n",
    "count = 0\n",
    "for row in cosine_matrix_ratings:\n",
    "# get the indices that would sort the row\n",
    "# replace values with the index and sort the rows\n",
    "    closest100 = heapq.nlargest(100, range(len(row)), row.take)\n",
    "    neighbors[count] = closest100\n",
    "    count+=1"
   ]
  },
  {
   "cell_type": "code",
   "execution_count": 81,
   "metadata": {
    "collapsed": false
   },
   "outputs": [
    {
     "data": {
      "text/plain": [
       "array([  41.,  667.,  445.,  754.,  210.,  160.,  357.,  757.,   67.,\n",
       "          0.,    1.,    2.,    3.,    4.,    5.,    6.,    7.,    8.,\n",
       "          9.,   10.,   11.,   12.,   13.,   14.,   15.,   16.,   17.,\n",
       "         18.,   19.,   20.,   21.,   22.,   23.,   24.,   25.,   26.,\n",
       "         27.,   28.,   29.,   30.,   31.,   32.,   33.,   34.,   35.,\n",
       "         36.,   37.,   38.,   39.,   40.,   42.,   43.,   44.,   45.,\n",
       "         46.,   47.,   48.,   49.,   50.,   51.,   52.,   53.,   54.,\n",
       "         55.,   56.,   57.,   58.,   59.,   60.,   61.,   62.,   63.,\n",
       "         64.,   65.,   66.,   68.,   69.,   70.,   71.,   72.,   73.,\n",
       "         74.,   75.,   76.,   77.,   78.,   79.,   80.,   81.,   82.,\n",
       "         83.,   84.,   85.,   86.,   87.,   88.,   89.,   90.,   91.,   92.])"
      ]
     },
     "execution_count": 81,
     "metadata": {},
     "output_type": "execute_result"
    }
   ],
   "source": [
    "neighbors[41]"
   ]
  },
  {
   "cell_type": "markdown",
   "metadata": {},
   "source": [
    "## Make predictions using text similarity and ratings similarity"
   ]
  },
  {
   "cell_type": "code",
   "execution_count": 82,
   "metadata": {
    "collapsed": false
   },
   "outputs": [],
   "source": [
    "import time\n",
    "def predict(cosine_matrices):\n",
    "    predictions_all = []\n",
    "    start = time.clock()\n",
    "    n_users = utility_matrix_train.shape[0]\n",
    "    print \"start\"\n",
    "    publicRatings = utility_matrix_train_nan.mean().values\n",
    "    values = utility_matrix_train.values\n",
    "    means = np.true_divide(values.sum(1),(values!=0).sum(1))\n",
    "    utility_matrix_boolean = (utility_matrix_train.values>0).astype(int) # Get boolean version of train utility matrix\n",
    "    for cosine_matrix in cosine_matrices:\n",
    "        nohistory = 0\n",
    "        predictions = np.zeros(utility_matrix_train.shape)\n",
    "        for user in range(n_users):\n",
    "        #for user in range(10):\n",
    "            #print time.clock()-start\n",
    "            indices = utility_matrix_test.values[user]>0 # Books that were rated by the user in the test set\n",
    "            avgPublicRatings = utility_matrix_train_nan.ix[:,indices].mean().values # avg rating of the public for predict indices\n",
    "            avgPublicRatings[np.isnan(avgPublicRatings)] = avgPublicRatings[avgPublicRatings>0].mean() # impute missing values\n",
    "            avgPublicRatings[np.isnan(avgPublicRatings)] = utility_matrix_train_nan.mean().mean()\n",
    "            avgRating = means[user] # Avg rating for user across all books\n",
    "            if np.isnan(avgRating): # no user ratings available\n",
    "                predictions[user,indices] = avgPublicRatings\n",
    "                nohistory+=1\n",
    "                #print(user, \"no history\")\n",
    "                continue\n",
    "            myRatings = utility_matrix_rel_zero[user] # Actual Rating for user across all books\n",
    "            #print time.clock()-start\n",
    "\n",
    "            cosineTimesBooleanRatings = utility_matrix_boolean * cosine_matrix[user][:,None] # replace utility matrix ratings with cosine scores\n",
    "            cosineTimesBooleanRatings[user] = np.zeros((predictions.shape[1])) # remove user's row from neighbors calculation\n",
    "            cosineTimesBooleanRatings_norm =  cosineTimesBooleanRatings/cosineTimesBooleanRatings.sum(axis=0, keepdims=True) # normalize the matrix by dividing by the sum\n",
    "            cosineTimesBooleanRatings_norm = np.nan_to_num(cosineTimesBooleanRatings_norm) # get rid of nan values\n",
    "            cosineTimesRatings = utility_matrix_rel_zero * cosineTimesBooleanRatings_norm # element-wise multiplication\n",
    "            deltaFromNeighbors = np.sum(cosineTimesRatings[:,indices],axis=0)\n",
    "            noNeighborData = deltaFromNeighbors==0\n",
    "            # Make prediction\n",
    "            predictionsToMake = avgRating + 0.8*deltaFromNeighbors\n",
    "            predictionsToMake[noNeighborData] = 0.6*avgRating + 0.4*avgPublicRatings[noNeighborData]\n",
    "            predictionsToMake[predictionsToMake>5.0] = 5.0\n",
    "            predictions[user,indices] = predictionsToMake\n",
    "            #if np.isnan(predictions[user,:]).sum()>0: print user, \"NANS FOUND\"; break\n",
    "            if user%100==0: print user, \" users completed\"  \n",
    "            #print time.clock()-start\n",
    "        predictions_all.append(predictions)\n",
    "        print \"No user history: \", nohistory\n",
    "    final_predictions = sum(predictions_all)/float(len(predictions_all))\n",
    "    return predictions_all, final_predictions"
   ]
  },
  {
   "cell_type": "code",
   "execution_count": 83,
   "metadata": {
    "collapsed": false
   },
   "outputs": [
    {
     "name": "stdout",
     "output_type": "stream",
     "text": [
      "start\n",
      "0  users completed\n"
     ]
    },
    {
     "name": "stderr",
     "output_type": "stream",
     "text": [
      "//anaconda/envs/py27/lib/python2.7/site-packages/numpy/core/_methods.py:59: RuntimeWarning: Mean of empty slice.\n",
      "  warnings.warn(\"Mean of empty slice.\", RuntimeWarning)\n"
     ]
    },
    {
     "name": "stdout",
     "output_type": "stream",
     "text": [
      "100  users completed\n",
      "300  users completed\n",
      "400  users completed\n",
      "500  users completed\n",
      "600  users completed\n",
      "700  users completed\n",
      "800  users completed\n",
      "No user history:  29\n",
      "0  users completed\n",
      "100  users completed\n",
      "300  users completed\n",
      "400  users completed\n",
      "500  users completed\n",
      "600  users completed\n",
      "700  users completed\n",
      "800  users completed\n",
      "No user history:  29\n"
     ]
    }
   ],
   "source": [
    "predictions_all, predictions = predict([cosine_matrix_text,cosine_matrix_ratings])"
   ]
  },
  {
   "cell_type": "markdown",
   "metadata": {},
   "source": [
    "## Make predictions using simple averaging approach"
   ]
  },
  {
   "cell_type": "code",
   "execution_count": 84,
   "metadata": {
    "collapsed": false
   },
   "outputs": [],
   "source": [
    "def predictSimpleAvg():\n",
    "    predictions_simpleavg = np.zeros(utility_matrix_train.shape)\n",
    "    publicRatings = utility_matrix_train_nan.mean().values\n",
    "    values = utility_matrix_train.values\n",
    "    means = np.true_divide(values.sum(1),(values!=0).sum(1))\n",
    "    for user in range(predictions_simpleavg.shape[0]):\n",
    "        indices = utility_matrix_test.values[user]>0 # Books that were rated by the user in the test set\n",
    "        avgPublicRatings = utility_matrix_train_nan.ix[:,indices].mean().values # avg rating of the public for predict indices\n",
    "        avgPublicRatings[np.isnan(avgPublicRatings)] = avgPublicRatings[avgPublicRatings>0].mean() # impute missing values\n",
    "        avgPublicRatings[np.isnan(avgPublicRatings)] = utility_matrix_train_nan.mean().mean()\n",
    "        avgRating = means[user] # Avg rating for user across all books\n",
    "        if np.isnan(avgRating): # no user ratings available\n",
    "            predictions_simpleavg[user,indices] = avgPublicRatings\n",
    "            #print(user, \"no history\")\n",
    "            continue\n",
    "        predictionsToMake = 0.6*avgRating + 0.4*avgPublicRatings\n",
    "        #predictionsToMake[predictionsToMake>5.0] = 5.0\n",
    "        predictions_simpleavg[user,indices] = predictionsToMake\n",
    "        if np.isnan(predictions_simpleavg[user,:]).sum()>0: print user, \"NANS FOUND\", avgPublicRatings[avgPublicRatings>0].mean(); break\n",
    "        if user%100==0: print user, \" users completed\"    \n",
    "\n",
    "    return predictions_simpleavg"
   ]
  },
  {
   "cell_type": "code",
   "execution_count": 85,
   "metadata": {
    "collapsed": false
   },
   "outputs": [
    {
     "name": "stdout",
     "output_type": "stream",
     "text": [
      "0  users completed\n",
      "100  users completed\n",
      "300  users completed\n",
      "400  users completed\n",
      "500  users completed\n",
      "600  users completed\n",
      "700  users completed\n",
      "800  users completed\n"
     ]
    }
   ],
   "source": [
    "predictions_simpleAvg = predictSimpleAvg()"
   ]
  },
  {
   "cell_type": "markdown",
   "metadata": {},
   "source": [
    "#### Check that no predictions are null"
   ]
  },
  {
   "cell_type": "code",
   "execution_count": 88,
   "metadata": {
    "collapsed": false
   },
   "outputs": [
    {
     "data": {
      "text/plain": [
       "0"
      ]
     },
     "execution_count": 88,
     "metadata": {},
     "output_type": "execute_result"
    }
   ],
   "source": [
    "np.isnan(predictions_simpleAvg[1]).sum()"
   ]
  },
  {
   "cell_type": "code",
   "execution_count": 89,
   "metadata": {
    "collapsed": false
   },
   "outputs": [
    {
     "name": "stdout",
     "output_type": "stream",
     "text": [
      "4290\n",
      "4290\n"
     ]
    }
   ],
   "source": [
    "print(predictions>0).sum()\n",
    "print(utility_matrix_test.values>0).sum()\n",
    "predictions_combined_all = 0.25*(predictions_all[0]+predictions_all[1]+predictions+predictions_simpleAvg)"
   ]
  },
  {
   "cell_type": "markdown",
   "metadata": {},
   "source": [
    "## Get RMSE for all methods"
   ]
  },
  {
   "cell_type": "code",
   "execution_count": 90,
   "metadata": {
    "collapsed": false
   },
   "outputs": [],
   "source": [
    "indices_where_history = utility_matrix_train.values.sum(1)>0"
   ]
  },
  {
   "cell_type": "code",
   "execution_count": 91,
   "metadata": {
    "collapsed": false
   },
   "outputs": [
    {
     "name": "stdout",
     "output_type": "stream",
     "text": [
      "Text Review Similarity\n",
      "0.733816859168\n",
      "Ratings Similarity\n",
      "0.74412184859\n",
      "Combined Text and Ratings Similarity\n",
      "0.731598498086\n",
      "Simple Average\n",
      "0.736580015436\n",
      "Combined Text, Ratings, and Similarity\n",
      "0.724892176394\n"
     ]
    }
   ],
   "source": [
    "all_models = [predictions_all[0], predictions_all[1], predictions, predictions_simpleAvg,predictions_combined_all]\n",
    "model_names = [\"Text Review Similarity\", \"Ratings Similarity\", \"Combined Text and Ratings Similarity\",\"Simple Average\", \"Combined Text, Ratings, and Similarity\"]\n",
    "test_matrix_history_only = utility_matrix_test.values[indices_where_history,:]\n",
    "for model in range(5):\n",
    "    print model_names[model]\n",
    "    squared_error = (all_models[model][indices_where_history,:]-test_matrix_history_only)**2 # just the squared error\n",
    "    #sq_error_only_rated_books = squared_error*(utility_matrix_test.values>0) # make error 0 for non-rated items\n",
    "    mse = np.sum(squared_error)/(test_matrix_history_only>0).sum().sum() # average over non-zero ratings\n",
    "    rmse = mse**0.5 # take square root\n",
    "    print rmse"
   ]
  },
  {
   "cell_type": "markdown",
   "metadata": {},
   "source": [
    "### Plot a histogram of residuals for combined text and ratings similarity methods"
   ]
  },
  {
   "cell_type": "code",
   "execution_count": 92,
   "metadata": {
    "collapsed": false
   },
   "outputs": [],
   "source": [
    "error = abs(predictions-utility_matrix_test.values)"
   ]
  },
  {
   "cell_type": "code",
   "execution_count": 93,
   "metadata": {
    "collapsed": false
   },
   "outputs": [],
   "source": [
    "predictions_simple = predictions[predictions>0][0:1000]\n",
    "actual_simple = utility_matrix_test.values[utility_matrix_test.values>0][0:1000]"
   ]
  },
  {
   "cell_type": "code",
   "execution_count": 94,
   "metadata": {
    "collapsed": false
   },
   "outputs": [
    {
     "data": {
      "image/png": "[encoded data removed]",
      "text/plain": [
       "<matplotlib.figure.Figure at 0x117fafb10>"
      ]
     },
     "metadata": {},
     "output_type": "display_data"
    }
   ],
   "source": [
    "x = abs(predictions_simple - actual_simple)\n",
    "# the histogram of the data\n",
    "n, bins, patches = plt.hist(x, 20, normed=1, facecolor='green', alpha=0.75)\n",
    "\n",
    "plt.xlabel('Error')\n",
    "plt.ylabel('Counts')\n",
    "plt.grid(True)\n",
    "\n",
    "plt.show()"
   ]
  }
 ],
 "metadata": {
  "anaconda-cloud": {},
  "kernelspec": {
   "display_name": "Python [py27]",
   "language": "python",
   "name": "Python [py27]"
  },
  "language_info": {
   "codemirror_mode": {
    "name": "ipython",
    "version": 2
   },
   "file_extension": ".py",
   "mimetype": "text/x-python",
   "name": "python",
   "nbconvert_exporter": "python",
   "pygments_lexer": "ipython2",
   "version": "2.7.12"
  }
 },
 "nbformat": 4,
 "nbformat_minor": 0
}
