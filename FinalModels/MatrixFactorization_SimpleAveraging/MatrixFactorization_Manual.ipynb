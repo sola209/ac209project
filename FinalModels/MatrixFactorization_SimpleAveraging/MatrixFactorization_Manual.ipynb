{
 "cells": [
  {
   "cell_type": "code",
   "execution_count": 3,
   "metadata": {
    "collapsed": true
   },
   "outputs": [],
   "source": [
    "import numpy as np\n",
    "import matplotlib\n",
    "import matplotlib.pyplot as plt\n",
    "from mpl_toolkits.mplot3d import Axes3D\n",
    "import matplotlib.cm as cmx\n",
    "import matplotlib.colors as colors\n",
    "import pandas as pd\n",
    "from sklearn.linear_model import LogisticRegression as LogReg\n",
    "from sklearn.feature_extraction.text import CountVectorizer\n",
    "from sklearn.neighbors import KNeighborsClassifier as KNN\n",
    "from sklearn.decomposition import PCA\n",
    "%matplotlib inline\n",
    "import random\n",
    "from sklearn import preprocessing\n",
    "import scipy.sparse as sparse\n",
    "from sklearn.cross_validation import train_test_split\n",
    "from sklearn.metrics import mean_squared_error\n",
    "from math import sqrt\n",
    "from sklearn import cross_validation as cv"
   ]
  },
  {
   "cell_type": "markdown",
   "metadata": {},
   "source": [
    "## Overview\n",
    "\n",
    "This Notebook implements Matrix Factorization without a specific library for such\n",
    "\n",
    "- Matrix Factorization alone produced a Test RMSE of .80\n",
    "- Simple Averaging produced a Test RMSE of .75\n",
    "- Combining Matrix Factorization and Simple Averaging Reduced test RMSE  of .74\n"
   ]
  },
  {
   "cell_type": "code",
   "execution_count": 4,
   "metadata": {
    "collapsed": false
   },
   "outputs": [
    {
     "data": {
      "text/html": [
       "<div>\n",
       "<table border=\"1\" class=\"dataframe\">\n",
       "  <thead>\n",
       "    <tr style=\"text-align: right;\">\n",
       "      <th></th>\n",
       "      <th>reviewerID</th>\n",
       "      <th>asin</th>\n",
       "      <th>reviewerName</th>\n",
       "      <th>helpful</th>\n",
       "      <th>unixReviewTime</th>\n",
       "      <th>reviewText</th>\n",
       "      <th>overall</th>\n",
       "      <th>reviewTime</th>\n",
       "      <th>summary</th>\n",
       "    </tr>\n",
       "  </thead>\n",
       "  <tbody>\n",
       "    <tr>\n",
       "      <th>0</th>\n",
       "      <td>A9GPEIJ6JS3UE</td>\n",
       "      <td>B000JMLBHU</td>\n",
       "      <td>Amazon Customer</td>\n",
       "      <td>[0, 0]</td>\n",
       "      <td>1350432000</td>\n",
       "      <td>This classic is a must read, especial for anyo...</td>\n",
       "      <td>4.0</td>\n",
       "      <td>10 17, 2012</td>\n",
       "      <td>Jules Verne is arguably one of the great writters</td>\n",
       "    </tr>\n",
       "    <tr>\n",
       "      <th>1</th>\n",
       "      <td>ABDR6IJ93HFIO</td>\n",
       "      <td>B000JMLBHU</td>\n",
       "      <td>Daisy \"Daisy S\"</td>\n",
       "      <td>[0, 0]</td>\n",
       "      <td>1394409600</td>\n",
       "      <td>Read this book years ago and enjoyed it then, ...</td>\n",
       "      <td>5.0</td>\n",
       "      <td>03 10, 2014</td>\n",
       "      <td>A story of determination, a group finding answ...</td>\n",
       "    </tr>\n",
       "    <tr>\n",
       "      <th>2</th>\n",
       "      <td>AU58Q4M7NCYC9</td>\n",
       "      <td>B000JMLBHU</td>\n",
       "      <td>David G \"science fiction and fantasy  fanatic\"</td>\n",
       "      <td>[0, 0]</td>\n",
       "      <td>1404000000</td>\n",
       "      <td>Every child should read 20,000 leagues under t...</td>\n",
       "      <td>4.0</td>\n",
       "      <td>06 29, 2014</td>\n",
       "      <td>a classic every child should read - sequel to ...</td>\n",
       "    </tr>\n",
       "    <tr>\n",
       "      <th>3</th>\n",
       "      <td>A32A056Q9OYP7D</td>\n",
       "      <td>B000JMLBHU</td>\n",
       "      <td>Ricky KImsey</td>\n",
       "      <td>[0, 0]</td>\n",
       "      <td>1388016000</td>\n",
       "      <td>A group of men escape by balloon a Confederate...</td>\n",
       "      <td>5.0</td>\n",
       "      <td>12 26, 2013</td>\n",
       "      <td>Island Mystery</td>\n",
       "    </tr>\n",
       "    <tr>\n",
       "      <th>4</th>\n",
       "      <td>A71W7G4TCTH3T</td>\n",
       "      <td>B002AJ7X2C</td>\n",
       "      <td>BBMoreB \"Heather Coulter\"</td>\n",
       "      <td>[1, 2]</td>\n",
       "      <td>1245110400</td>\n",
       "      <td>This short story about 2 serial killers is bot...</td>\n",
       "      <td>4.0</td>\n",
       "      <td>06 16, 2009</td>\n",
       "      <td>3 Distrubing Chapters - Wish it was longer!</td>\n",
       "    </tr>\n",
       "  </tbody>\n",
       "</table>\n",
       "</div>"
      ],
      "text/plain": [
       "       reviewerID        asin                                    reviewerName  \\\n",
       "0   A9GPEIJ6JS3UE  B000JMLBHU                                 Amazon Customer   \n",
       "1   ABDR6IJ93HFIO  B000JMLBHU                                 Daisy \"Daisy S\"   \n",
       "2   AU58Q4M7NCYC9  B000JMLBHU  David G \"science fiction and fantasy  fanatic\"   \n",
       "3  A32A056Q9OYP7D  B000JMLBHU                                    Ricky KImsey   \n",
       "4   A71W7G4TCTH3T  B002AJ7X2C                       BBMoreB \"Heather Coulter\"   \n",
       "\n",
       "  helpful  unixReviewTime                                         reviewText  \\\n",
       "0  [0, 0]      1350432000  This classic is a must read, especial for anyo...   \n",
       "1  [0, 0]      1394409600  Read this book years ago and enjoyed it then, ...   \n",
       "2  [0, 0]      1404000000  Every child should read 20,000 leagues under t...   \n",
       "3  [0, 0]      1388016000  A group of men escape by balloon a Confederate...   \n",
       "4  [1, 2]      1245110400  This short story about 2 serial killers is bot...   \n",
       "\n",
       "   overall   reviewTime                                            summary  \n",
       "0      4.0  10 17, 2012  Jules Verne is arguably one of the great writters  \n",
       "1      5.0  03 10, 2014  A story of determination, a group finding answ...  \n",
       "2      4.0  06 29, 2014  a classic every child should read - sequel to ...  \n",
       "3      5.0  12 26, 2013                                     Island Mystery  \n",
       "4      4.0  06 16, 2009        3 Distrubing Chapters - Wish it was longer!  "
      ]
     },
     "execution_count": 4,
     "metadata": {},
     "output_type": "execute_result"
    }
   ],
   "source": [
    "df = pd.read_csv('datasets/frequent_reviews.txt')\n",
    "df.head()"
   ]
  },
  {
   "cell_type": "markdown",
   "metadata": {},
   "source": [
    "## Clean Data"
   ]
  },
  {
   "cell_type": "code",
   "execution_count": 5,
   "metadata": {
    "collapsed": false
   },
   "outputs": [
    {
     "data": {
      "text/html": [
       "<div>\n",
       "<table border=\"1\" class=\"dataframe\">\n",
       "  <thead>\n",
       "    <tr style=\"text-align: right;\">\n",
       "      <th></th>\n",
       "      <th>reviewerID</th>\n",
       "      <th>asin</th>\n",
       "      <th>overall</th>\n",
       "    </tr>\n",
       "  </thead>\n",
       "  <tbody>\n",
       "    <tr>\n",
       "      <th>0</th>\n",
       "      <td>A9GPEIJ6JS3UE</td>\n",
       "      <td>B000JMLBHU</td>\n",
       "      <td>4.0</td>\n",
       "    </tr>\n",
       "    <tr>\n",
       "      <th>1</th>\n",
       "      <td>ABDR6IJ93HFIO</td>\n",
       "      <td>B000JMLBHU</td>\n",
       "      <td>5.0</td>\n",
       "    </tr>\n",
       "    <tr>\n",
       "      <th>2</th>\n",
       "      <td>AU58Q4M7NCYC9</td>\n",
       "      <td>B000JMLBHU</td>\n",
       "      <td>4.0</td>\n",
       "    </tr>\n",
       "    <tr>\n",
       "      <th>3</th>\n",
       "      <td>A32A056Q9OYP7D</td>\n",
       "      <td>B000JMLBHU</td>\n",
       "      <td>5.0</td>\n",
       "    </tr>\n",
       "    <tr>\n",
       "      <th>4</th>\n",
       "      <td>A71W7G4TCTH3T</td>\n",
       "      <td>B002AJ7X2C</td>\n",
       "      <td>4.0</td>\n",
       "    </tr>\n",
       "  </tbody>\n",
       "</table>\n",
       "</div>"
      ],
      "text/plain": [
       "       reviewerID        asin  overall\n",
       "0   A9GPEIJ6JS3UE  B000JMLBHU      4.0\n",
       "1   ABDR6IJ93HFIO  B000JMLBHU      5.0\n",
       "2   AU58Q4M7NCYC9  B000JMLBHU      4.0\n",
       "3  A32A056Q9OYP7D  B000JMLBHU      5.0\n",
       "4   A71W7G4TCTH3T  B002AJ7X2C      4.0"
      ]
     },
     "execution_count": 5,
     "metadata": {},
     "output_type": "execute_result"
    }
   ],
   "source": [
    "df = df.drop(['helpful','reviewText','reviewTime','reviewerName','summary','unixReviewTime'],1)\n",
    "df.head()"
   ]
  },
  {
   "cell_type": "code",
   "execution_count": 6,
   "metadata": {
    "collapsed": true
   },
   "outputs": [],
   "source": [
    "#Encode categorical variables\n",
    "def encode_categorical(array):\n",
    "    if array.dtype != np.dtype('float'):\n",
    "        return preprocessing.LabelEncoder().fit_transform(array) \n",
    "    else:\n",
    "        return array"
   ]
  },
  {
   "cell_type": "code",
   "execution_count": 7,
   "metadata": {
    "collapsed": false
   },
   "outputs": [],
   "source": [
    "# Categorical columns for use in one-hot encoder\n",
    "categorical = (df.dtypes.values != np.dtype('float'))"
   ]
  },
  {
   "cell_type": "code",
   "execution_count": 8,
   "metadata": {
    "collapsed": false
   },
   "outputs": [
    {
     "data": {
      "text/plain": [
       "array([ True,  True, False], dtype=bool)"
      ]
     },
     "execution_count": 8,
     "metadata": {},
     "output_type": "execute_result"
    }
   ],
   "source": [
    "categorical"
   ]
  },
  {
   "cell_type": "code",
   "execution_count": 9,
   "metadata": {
    "collapsed": false
   },
   "outputs": [],
   "source": [
    "# Encode all labels\n",
    "df = df.apply(encode_categorical)"
   ]
  },
  {
   "cell_type": "code",
   "execution_count": 10,
   "metadata": {
    "collapsed": false
   },
   "outputs": [
    {
     "data": {
      "text/html": [
       "<div>\n",
       "<table border=\"1\" class=\"dataframe\">\n",
       "  <thead>\n",
       "    <tr style=\"text-align: right;\">\n",
       "      <th></th>\n",
       "      <th>reviewerID</th>\n",
       "      <th>asin</th>\n",
       "      <th>overall</th>\n",
       "    </tr>\n",
       "  </thead>\n",
       "  <tbody>\n",
       "    <tr>\n",
       "      <th>0</th>\n",
       "      <td>681</td>\n",
       "      <td>0</td>\n",
       "      <td>4.0</td>\n",
       "    </tr>\n",
       "    <tr>\n",
       "      <th>1</th>\n",
       "      <td>696</td>\n",
       "      <td>0</td>\n",
       "      <td>5.0</td>\n",
       "    </tr>\n",
       "    <tr>\n",
       "      <th>2</th>\n",
       "      <td>784</td>\n",
       "      <td>0</td>\n",
       "      <td>4.0</td>\n",
       "    </tr>\n",
       "    <tr>\n",
       "      <th>3</th>\n",
       "      <td>445</td>\n",
       "      <td>0</td>\n",
       "      <td>5.0</td>\n",
       "    </tr>\n",
       "    <tr>\n",
       "      <th>4</th>\n",
       "      <td>660</td>\n",
       "      <td>1</td>\n",
       "      <td>4.0</td>\n",
       "    </tr>\n",
       "  </tbody>\n",
       "</table>\n",
       "</div>"
      ],
      "text/plain": [
       "   reviewerID  asin  overall\n",
       "0         681     0      4.0\n",
       "1         696     0      5.0\n",
       "2         784     0      4.0\n",
       "3         445     0      5.0\n",
       "4         660     1      4.0"
      ]
     },
     "execution_count": 10,
     "metadata": {},
     "output_type": "execute_result"
    }
   ],
   "source": [
    "df.head()"
   ]
  },
  {
   "cell_type": "code",
   "execution_count": 11,
   "metadata": {
    "collapsed": true
   },
   "outputs": [],
   "source": [
    "df.columns = ['user_id', 'item_id', 'rating']"
   ]
  },
  {
   "cell_type": "code",
   "execution_count": 12,
   "metadata": {
    "collapsed": false
   },
   "outputs": [
    {
     "data": {
      "text/html": [
       "<div>\n",
       "<table border=\"1\" class=\"dataframe\">\n",
       "  <thead>\n",
       "    <tr style=\"text-align: right;\">\n",
       "      <th></th>\n",
       "      <th>user_id</th>\n",
       "      <th>item_id</th>\n",
       "      <th>rating</th>\n",
       "    </tr>\n",
       "  </thead>\n",
       "  <tbody>\n",
       "    <tr>\n",
       "      <th>0</th>\n",
       "      <td>681</td>\n",
       "      <td>0</td>\n",
       "      <td>4.0</td>\n",
       "    </tr>\n",
       "    <tr>\n",
       "      <th>1</th>\n",
       "      <td>696</td>\n",
       "      <td>0</td>\n",
       "      <td>5.0</td>\n",
       "    </tr>\n",
       "    <tr>\n",
       "      <th>2</th>\n",
       "      <td>784</td>\n",
       "      <td>0</td>\n",
       "      <td>4.0</td>\n",
       "    </tr>\n",
       "    <tr>\n",
       "      <th>3</th>\n",
       "      <td>445</td>\n",
       "      <td>0</td>\n",
       "      <td>5.0</td>\n",
       "    </tr>\n",
       "    <tr>\n",
       "      <th>4</th>\n",
       "      <td>660</td>\n",
       "      <td>1</td>\n",
       "      <td>4.0</td>\n",
       "    </tr>\n",
       "  </tbody>\n",
       "</table>\n",
       "</div>"
      ],
      "text/plain": [
       "   user_id  item_id  rating\n",
       "0      681        0     4.0\n",
       "1      696        0     5.0\n",
       "2      784        0     4.0\n",
       "3      445        0     5.0\n",
       "4      660        1     4.0"
      ]
     },
     "execution_count": 12,
     "metadata": {},
     "output_type": "execute_result"
    }
   ],
   "source": [
    "df.head()"
   ]
  },
  {
   "cell_type": "code",
   "execution_count": 13,
   "metadata": {
    "collapsed": true
   },
   "outputs": [],
   "source": [
    "df.to_csv('datasets/frequent_reviewsInt.csv', index = False)"
   ]
  },
  {
   "cell_type": "markdown",
   "metadata": {},
   "source": [
    "# Matrix Factorization - Prepare Matrixes"
   ]
  },
  {
   "cell_type": "code",
   "execution_count": 14,
   "metadata": {
    "collapsed": true
   },
   "outputs": [],
   "source": [
    "# Calculate the RMSE with Latent Features Matrices \n",
    "def rmse(I,R,Q,P):\n",
    "    return np.sqrt(np.sum((I * (R - prediction(P,Q)))**2)/len(R[R > 0]))"
   ]
  },
  {
   "cell_type": "code",
   "execution_count": 15,
   "metadata": {
    "collapsed": true
   },
   "outputs": [],
   "source": [
    "# Calculate the RMSE with full User Item matrix of Predictions\n",
    "def rmseMTX(I, R_True,R_Hat):\n",
    "    return np.sqrt(np.sum((I * (R_True - R_Hat))**2)/len(R_True[R_True > 0]))"
   ]
  },
  {
   "cell_type": "code",
   "execution_count": 16,
   "metadata": {
    "collapsed": true
   },
   "outputs": [],
   "source": [
    "maxScore = 5\n",
    "minScore = 1\n",
    "# Predict the unknown ratings through the dot product of the latent features for users and items \n",
    "# Limit Predictions to be only so high and so low\n",
    "def prediction(P,Q):\n",
    "    #return np.dot(P.T,Q)\n",
    "    return np.maximum(np.minimum(np.dot(P.T,Q),maxScore),minScore)"
   ]
  },
  {
   "cell_type": "code",
   "execution_count": 17,
   "metadata": {
    "collapsed": true
   },
   "outputs": [],
   "source": [
    "n_users = df.user_id.unique().shape[0]\n",
    "n_items = df.item_id.unique().shape[0]"
   ]
  },
  {
   "cell_type": "code",
   "execution_count": 18,
   "metadata": {
    "collapsed": true
   },
   "outputs": [],
   "source": [
    "train_data, test_data = cv.train_test_split(df,test_size=0.30)\n",
    "train_data = pd.DataFrame(train_data)\n",
    "test_data = pd.DataFrame(test_data)"
   ]
  },
  {
   "cell_type": "code",
   "execution_count": 19,
   "metadata": {
    "collapsed": true
   },
   "outputs": [],
   "source": [
    "# Create training and test matrix\n",
    "R = np.zeros((n_users, n_items))\n",
    "for line in train_data.itertuples():\n",
    "    R[line[1]-1, line[2]-1] = line[3] \n",
    "    \n",
    "T = np.zeros((n_users, n_items))\n",
    "for line in test_data.itertuples():\n",
    "    T[line[1]-1, line[2]-1] = line[3]"
   ]
  },
  {
   "cell_type": "code",
   "execution_count": 20,
   "metadata": {
    "collapsed": true
   },
   "outputs": [],
   "source": [
    "# Index matrix for training data\n",
    "I = R.copy()\n",
    "I[I > 0] = 1\n",
    "I[I == 0] = 0\n",
    "\n",
    "# Index matrix for test data\n",
    "I2 = T.copy()\n",
    "I2[I2 > 0] = 1\n",
    "I2[I2 == 0] = 0"
   ]
  },
  {
   "cell_type": "markdown",
   "metadata": {},
   "source": [
    "## Prepare Baseline Model - Produce their User Item Predict Matrices"
   ]
  },
  {
   "cell_type": "code",
   "execution_count": 21,
   "metadata": {
    "collapsed": true
   },
   "outputs": [],
   "source": [
    "# Always Predict the constant value always\n",
    "# Return User Item Matrix of Predictions\n",
    "def alwaysMTX(always):\n",
    "    return np.ones((n_users, n_items))*always"
   ]
  },
  {
   "cell_type": "code",
   "execution_count": 22,
   "metadata": {
    "collapsed": false
   },
   "outputs": [],
   "source": [
    "### Simple Avg Matrix - Train Total Average\n",
    "avgR = np.sum(R)/np.sum(R!=0)\n",
    "R_PopAvg = alwaysMTX(avgR)"
   ]
  },
  {
   "cell_type": "code",
   "execution_count": 23,
   "metadata": {
    "collapsed": true
   },
   "outputs": [],
   "source": [
    "#Given wItem \n",
    "def simpAvgMtx(wItem):\n",
    "    ### Simple Avg Matrix - Weighted Item Avg, Weighted User Avg\n",
    "    R_SimpAvg = R.copy()\n",
    "\n",
    "    wUser = 1-wItem\n",
    "\n",
    "    for i in range(n_users):\n",
    "        for j in range(n_items):\n",
    "            n_user = np.sum(R[i,:] != 0)\n",
    "            n_item = np.sum(R[:,j] != 0)\n",
    "            itemAvg = None\n",
    "            userAvg = None\n",
    "            predict = None\n",
    "            if n_user == 0 and n_item == 0:\n",
    "                predict = avgR\n",
    "            elif n_user == 0:\n",
    "                itemAvg =  np.sum(R[:,j])/n_item\n",
    "                predict = itemAvg\n",
    "            elif n_item == 0:\n",
    "                userAvg =  np.sum(R[i,:])/n_user\n",
    "                predict = userAvg\n",
    "            else:\n",
    "                itemAvg =  np.sum(R[:,j])/n_item\n",
    "                userAvg =  np.sum(R[i,:])/n_user\n",
    "                predict = wItem*itemAvg + wUser * userAvg\n",
    "            R_SimpAvg[i,j] = predict\n",
    "    return R_SimpAvg"
   ]
  },
  {
   "cell_type": "code",
   "execution_count": 31,
   "metadata": {
    "collapsed": false
   },
   "outputs": [],
   "source": [
    "constants = [3,3.25,3.5,3.75,4,4.25,avgR,4.5,4.75,5]\n",
    "RMSE_List_Always = []\n",
    "\n",
    "for constant in constants:\n",
    "    alwaysPredictions = alwaysMTX(constant)\n",
    "    RMSE_List_Always.append(rmseMTX(I2,T,alwaysPredictions))"
   ]
  },
  {
   "cell_type": "code",
   "execution_count": 32,
   "metadata": {
    "collapsed": false
   },
   "outputs": [
    {
     "data": {
      "text/plain": [
       "[1.5817229767117049,\n",
       " 1.3805080732888542,\n",
       " 1.1978136356602691,\n",
       " 1.0434138541976716,\n",
       " 0.93148668079023411,\n",
       " 0.878420401543347,\n",
       " 0.87585634996158923,\n",
       " 0.8947498908664604,\n",
       " 0.97700170550696097,\n",
       " 1.1106247331666435]"
      ]
     },
     "execution_count": 32,
     "metadata": {},
     "output_type": "execute_result"
    }
   ],
   "source": [
    "RMSE_List_Always"
   ]
  },
  {
   "cell_type": "code",
   "execution_count": 33,
   "metadata": {
    "collapsed": false
   },
   "outputs": [
    {
     "data": {
      "image/png": "[encoded data removed]",
      "text/plain": [
       "<matplotlib.figure.Figure at 0x117fecad0>"
      ]
     },
     "metadata": {},
     "output_type": "display_data"
    }
   ],
   "source": [
    "\n",
    "#plot R^2 Values\n",
    "fig, ((ax1)) = plt.subplots(1, 1, figsize=(8, 8))\n",
    "\n",
    "\n",
    "# plot R^2 Test\n",
    "ax1.plot(constants, \n",
    "            RMSE_List_Always, \n",
    "            color='red',\n",
    "            linewidth=2.0,\n",
    "            alpha=0.7,\n",
    "            label=\"RMSE Test Score vs. Constant Prediction\")\n",
    "    \n",
    "ax1.legend(loc='best')\n",
    "ax1.set_title('Test RMSE vs. Constant Prediction')\n",
    "\n",
    "plt.tight_layout()\n",
    "plt.show()"
   ]
  },
  {
   "cell_type": "code",
   "execution_count": 92,
   "metadata": {
    "collapsed": true
   },
   "outputs": [],
   "source": [
    "weights = np.array(range(0,11))*.1"
   ]
  },
  {
   "cell_type": "code",
   "execution_count": 93,
   "metadata": {
    "collapsed": true
   },
   "outputs": [],
   "source": [
    "RMSE_List = []\n",
    "\n",
    "for weight in weights:\n",
    "    simpleAvgPredictions = simpAvgMtx(weight)\n",
    "    RMSE_List.append(rmseMTX(I2,T,simpleAvgPredictions))"
   ]
  },
  {
   "cell_type": "code",
   "execution_count": 94,
   "metadata": {
    "collapsed": false
   },
   "outputs": [
    {
     "data": {
      "text/plain": [
       "[0.76663577769851565,\n",
       " 0.75657991285385617,\n",
       " 0.75164158575353801,\n",
       " 0.75192163311600624,\n",
       " 0.75741426661714994,\n",
       " 0.76800765635256063,\n",
       " 0.78349493244737367,\n",
       " 0.80359319194408352,\n",
       " 0.82796671860688353,\n",
       " 0.85625049846176715,\n",
       " 0.88807100229936764]"
      ]
     },
     "execution_count": 94,
     "metadata": {},
     "output_type": "execute_result"
    }
   ],
   "source": [
    "RMSE_List"
   ]
  },
  {
   "cell_type": "code",
   "execution_count": 100,
   "metadata": {
    "collapsed": false
   },
   "outputs": [
    {
     "name": "stdout",
     "output_type": "stream",
     "text": [
      "Min Simple Average: 0.752\n",
      "Optimal Item weight: 0.2\n"
     ]
    }
   ],
   "source": [
    "print \"Min Simple Average: %0.3f\" %min(RMSE_List)\n",
    "print \"Optimal Item weight: %0.1f\" %weights[np.argmin(RMSE_List)]"
   ]
  },
  {
   "cell_type": "code",
   "execution_count": null,
   "metadata": {
    "collapsed": true
   },
   "outputs": [],
   "source": [
    "optItemWeight = weights[np.argmin(RMSE_List)]"
   ]
  },
  {
   "cell_type": "code",
   "execution_count": 95,
   "metadata": {
    "collapsed": false
   },
   "outputs": [
    {
     "data": {
      "image/png": "[encoded data removed]",
      "text/plain": [
       "<matplotlib.figure.Figure at 0x11eda8050>"
      ]
     },
     "metadata": {},
     "output_type": "display_data"
    }
   ],
   "source": [
    "\n",
    "#plot R^2 Values\n",
    "fig, ((ax1)) = plt.subplots(1, 1, figsize=(8, 8))\n",
    "\n",
    "\n",
    "# plot R^2 Test\n",
    "ax1.plot(weights, \n",
    "            RMSE_List, \n",
    "            color='red',\n",
    "            linewidth=2.0,\n",
    "            alpha=0.7,\n",
    "            label=\"Test RMSE vs. Avg. Item Weight\")\n",
    "    \n",
    "ax1.legend(loc='best')\n",
    "ax1.set_title('Test RMSE vs. Item Weight (Avg. Item Weight + Avg. User Weight = 1 )')\n",
    "\n",
    "plt.tight_layout()\n",
    "plt.show()"
   ]
  },
  {
   "cell_type": "markdown",
   "metadata": {},
   "source": [
    "## Apply Matrix Factorization"
   ]
  },
  {
   "cell_type": "code",
   "execution_count": 22,
   "metadata": {
    "collapsed": true
   },
   "outputs": [],
   "source": [
    "lmbda = .25 # Regularisation weight\n",
    "k = 8  # Dimension of the latent feature space\n",
    "m, n = R.shape  # Number of users and items\n",
    "n_epochs = 100  # Number of epochs\n",
    "gamma=0.01  # Learning rate"
   ]
  },
  {
   "cell_type": "code",
   "execution_count": 23,
   "metadata": {
    "collapsed": true
   },
   "outputs": [],
   "source": [
    "P = 3 * np.random.rand(k,m) # Latent user feature matrix\n",
    "Q = 3 * np.random.rand(k,n) # Latent movie feature matrix"
   ]
  },
  {
   "cell_type": "code",
   "execution_count": 24,
   "metadata": {
    "collapsed": true
   },
   "outputs": [],
   "source": [
    "train_errors = []\n",
    "test_errors = []"
   ]
  },
  {
   "cell_type": "code",
   "execution_count": 25,
   "metadata": {
    "collapsed": true
   },
   "outputs": [],
   "source": [
    "#Only consider non-zero matrix \n",
    "users,items = R.nonzero()      \n",
    "for epoch in xrange(n_epochs):\n",
    "    for u, i in zip(users,items):\n",
    "        e = R[u, i] - prediction(P[:,u],Q[:,i])  # Calculate error for gradient\n",
    "        P[:,u] += gamma * ( e * Q[:,i] - lmbda * P[:,u]) # Update latent user feature matrix\n",
    "        Q[:,i] += gamma * ( e * P[:,u] - lmbda * Q[:,i])  # Update latent movie feature matrix\n",
    "    train_rmse = rmse(I,R,Q,P) # Calculate root mean squared error from train dataset\n",
    "    test_rmse = rmse(I2,T,Q,P) # Calculate root mean squared error from test dataset\n",
    "    train_errors.append(train_rmse)\n",
    "    test_errors.append(test_rmse)"
   ]
  },
  {
   "cell_type": "code",
   "execution_count": 29,
   "metadata": {
    "collapsed": false
   },
   "outputs": [
    {
     "name": "stdout",
     "output_type": "stream",
     "text": [
      "#### Stochastic Gradient Descent ####\n"
     ]
    },
    {
     "data": {
      "image/png": "[encoded data removed]",
      "text/plain": [
       "<matplotlib.figure.Figure at 0x118e51250>"
      ]
     },
     "metadata": {},
     "output_type": "display_data"
    }
   ],
   "source": [
    "# Check performance by - Weighted Lambda Regression plotting train and test errors\n",
    "print \"#### Stochastic Gradient Descent ####\"\n",
    "plt.plot(range(n_epochs), train_errors, label='Training Data');\n",
    "plt.plot(range(n_epochs), test_errors, marker='o', color = 'red', label='Test Data');\n",
    "plt.title('Stochastic Gradient Descent')\n",
    "plt.xlabel('Number of Iterations');\n",
    "plt.ylabel('RMSE');\n",
    "plt.legend()\n",
    "plt.grid()\n",
    "plt.show()"
   ]
  },
  {
   "cell_type": "code",
   "execution_count": 107,
   "metadata": {
    "collapsed": false
   },
   "outputs": [
    {
     "name": "stdout",
     "output_type": "stream",
     "text": [
      "Matrix Factorization Test RMSE:     0.8029\n"
     ]
    }
   ],
   "source": [
    "print \"Matrix Factorization Test RMSE:     %0.4f\" %test_rmse"
   ]
  },
  {
   "cell_type": "markdown",
   "metadata": {},
   "source": [
    "** Review Actual Predictions from Matrix Factorization **"
   ]
  },
  {
   "cell_type": "code",
   "execution_count": 108,
   "metadata": {
    "collapsed": true
   },
   "outputs": [],
   "source": [
    "R_MF = prediction(P,Q)"
   ]
  },
  {
   "cell_type": "code",
   "execution_count": 109,
   "metadata": {
    "collapsed": false
   },
   "outputs": [
    {
     "data": {
      "text/plain": [
       "array([[ 3.20082586,  4.29361477,  4.24827483, ...,  4.93395675,\n",
       "         4.74449529,  4.2387998 ],\n",
       "       [ 3.63519855,  5.        ,  5.        , ...,  5.        ,\n",
       "         5.        ,  5.        ],\n",
       "       [ 3.54335274,  4.73171342,  4.60976241, ...,  5.        ,\n",
       "         5.        ,  4.32512869],\n",
       "       ..., \n",
       "       [ 3.06253129,  4.2020303 ,  3.97548191, ...,  4.57856252,\n",
       "         4.46362656,  3.56003436],\n",
       "       [ 3.27716648,  3.86861349,  3.6484738 , ...,  4.17547335,\n",
       "         4.11464736,  3.42838326],\n",
       "       [ 3.03074167,  4.13310091,  4.16876115, ...,  4.77730448,\n",
       "         4.63355568,  3.97258075]])"
      ]
     },
     "execution_count": 109,
     "metadata": {},
     "output_type": "execute_result"
    }
   ],
   "source": [
    "R_MF"
   ]
  },
  {
   "cell_type": "markdown",
   "metadata": {},
   "source": [
    "## Grid Search For Optimal Parameters"
   ]
  },
  {
   "cell_type": "code",
   "execution_count": 33,
   "metadata": {
    "collapsed": true
   },
   "outputs": [],
   "source": [
    "def mfTestRMSE(lmda, k):\n",
    "    P = 3 * np.random.rand(k,m) # Latent user feature matrix\n",
    "    Q = 3 * np.random.rand(k,n) # Latent movie feature matrix\n",
    "    #Only consider non-zero matrix \n",
    "    users,items = R.nonzero()      \n",
    "    for epoch in xrange(n_epochs):\n",
    "        for u, i in zip(users,items):\n",
    "            e = R[u, i] - prediction(P[:,u],Q[:,i])  # Calculate error for gradient\n",
    "            P[:,u] += gamma * ( e * Q[:,i] - lmbda * P[:,u]) # Update latent user feature matrix\n",
    "            Q[:,i] += gamma * ( e * P[:,u] - lmbda * Q[:,i])  # Update latent movie feature matrix\n",
    "    test_rmse = rmse(I2,T,Q,P) # Calculate root mean squared error from test dataset\n",
    "    return test_rmse"
   ]
  },
  {
   "cell_type": "code",
   "execution_count": 34,
   "metadata": {
    "collapsed": true
   },
   "outputs": [],
   "source": [
    "def mfPredictions(lmda, k):\n",
    "    P = 3 * np.random.rand(k,m) # Latent user feature matrix\n",
    "    Q = 3 * np.random.rand(k,n) # Latent movie feature matrix\n",
    "    #Only consider non-zero matrix \n",
    "    users,items = R.nonzero()      \n",
    "    for epoch in xrange(n_epochs):\n",
    "        for u, i in zip(users,items):\n",
    "            e = R[u, i] - prediction(P[:,u],Q[:,i])  # Calculate error for gradient\n",
    "            P[:,u] += gamma * ( e * Q[:,i] - lmbda * P[:,u]) # Update latent user feature matrix\n",
    "            Q[:,i] += gamma * ( e * P[:,u] - lmbda * Q[:,i])  # Update latent movie feature matrix\n",
    "    return prediction(P,Q)"
   ]
  },
  {
   "cell_type": "code",
   "execution_count": 52,
   "metadata": {
    "collapsed": true
   },
   "outputs": [],
   "source": [
    "## Grid Search for Optimal Parameters\n",
    "lmbdaList = [.01,.25,.50,.75,1,10] # Regularisation weight\n",
    "kList = [5,10,20,40]  # Dimension of the latent feature space\n",
    "paramTupList =[]\n",
    "testScoreList =[]\n",
    "\n",
    "\n",
    "for currL in lmbdaList:\n",
    "    for currK in kList:\n",
    "        paramTupList.append((currL,currK))\n",
    "        testScoreList.append(mfTestRMSE(currL,currK))\n",
    "        "
   ]
  },
  {
   "cell_type": "code",
   "execution_count": 53,
   "metadata": {
    "collapsed": false
   },
   "outputs": [
    {
     "name": "stdout",
     "output_type": "stream",
     "text": [
      "Lowest Test Accuracy:     0.7944\n"
     ]
    }
   ],
   "source": [
    "### Lowest Test Score\n",
    "print \"Lowest Test RMSE:     %0.4f\" %min(testScoreList)"
   ]
  },
  {
   "cell_type": "code",
   "execution_count": 54,
   "metadata": {
    "collapsed": false
   },
   "outputs": [
    {
     "name": "stdout",
     "output_type": "stream",
     "text": [
      "Optimal Lambda and K Features:     (0.5, 5)\n"
     ]
    }
   ],
   "source": [
    "print \"Optimal Lambda and K Features:     %s\" %(paramTupList[np.argmin(testScoreList)],)"
   ]
  },
  {
   "cell_type": "code",
   "execution_count": 125,
   "metadata": {
    "collapsed": false
   },
   "outputs": [],
   "source": [
    "optimalParam = paramTupList[np.argmin(testScoreList)]"
   ]
  },
  {
   "cell_type": "markdown",
   "metadata": {},
   "source": [
    "## Combining Matrix Factorization and Simple Averaging"
   ]
  },
  {
   "cell_type": "code",
   "execution_count": 31,
   "metadata": {
    "collapsed": true
   },
   "outputs": [],
   "source": [
    "weights = np.array(range(0,11))*.1"
   ]
  },
  {
   "cell_type": "code",
   "execution_count": 35,
   "metadata": {
    "collapsed": false
   },
   "outputs": [],
   "source": [
    "R_MF = mfPredictions(optimalParam[0],optimalParam[1])"
   ]
  },
  {
   "cell_type": "code",
   "execution_count": 37,
   "metadata": {
    "collapsed": true
   },
   "outputs": [],
   "source": [
    "R_SimpAvg = simpAvgMtx(optItemWeight)"
   ]
  },
  {
   "cell_type": "code",
   "execution_count": 115,
   "metadata": {
    "collapsed": false
   },
   "outputs": [],
   "source": [
    "RMSE_List = []\n",
    "\n",
    "for weight in weights:\n",
    "    RMSE_List.append(rmseMTX(I2,T,weight*R_SimpAvg +(1-weight)*R_MF))"
   ]
  },
  {
   "cell_type": "code",
   "execution_count": 116,
   "metadata": {
    "collapsed": false
   },
   "outputs": [
    {
     "data": {
      "text/plain": [
       "[0.80114925144230709,\n",
       " 0.78741214777206492,\n",
       " 0.77545903078311373,\n",
       " 0.76537348855234077,\n",
       " 0.75723014739648142,\n",
       " 0.75109218200234107,\n",
       " 0.74700902685014581,\n",
       " 0.74501446772380842,\n",
       " 0.74512527713908661,\n",
       " 0.74734051859713524,\n",
       " 0.75164158575353801]"
      ]
     },
     "execution_count": 116,
     "metadata": {},
     "output_type": "execute_result"
    }
   ],
   "source": [
    "RMSE_List"
   ]
  },
  {
   "cell_type": "code",
   "execution_count": 39,
   "metadata": {
    "collapsed": false
   },
   "outputs": [
    {
     "data": {
      "image/png": "[encoded data removed]",
      "text/plain": [
       "<matplotlib.figure.Figure at 0x11eb5bf90>"
      ]
     },
     "metadata": {},
     "output_type": "display_data"
    }
   ],
   "source": [
    "\n",
    "#plot R^2 Values\n",
    "fig, ((ax1)) = plt.subplots(1, 1, figsize=(8, 8))\n",
    "\n",
    "\n",
    "# plot R^2 Test\n",
    "ax1.plot(weights, \n",
    "            RMSE_List, \n",
    "            color='red',\n",
    "            linewidth=2.0,\n",
    "            alpha=0.7,\n",
    "            label=\"Test RMSE vs. SimpAvg Weight\")\n",
    "    \n",
    "ax1.legend(loc='best')\n",
    "ax1.set_title('Test RMSE vs. SimpAvg Weight (SimpAvg Weight + Matrix Factoriazation Weight = 1 )')\n",
    "\n",
    "plt.tight_layout()\n",
    "plt.show()"
   ]
  },
  {
   "cell_type": "code",
   "execution_count": 118,
   "metadata": {
    "collapsed": false
   },
   "outputs": [
    {
     "name": "stdout",
     "output_type": "stream",
     "text": [
      "Min Ensemble RMSE: 0.745\n",
      "Optimal SimpAvg weight: 0.7\n"
     ]
    }
   ],
   "source": [
    "print \"Min Ensemble RMSE: %0.3f\" %min(RMSE_List)\n",
    "print \"Optimal SimpAvg weight: %0.1f\" %weights[np.argmin(RMSE_List)]"
   ]
  },
  {
   "cell_type": "markdown",
   "metadata": {},
   "source": [
    "## Reviewing what Matrix Factorization is actually predicting"
   ]
  },
  {
   "cell_type": "code",
   "execution_count": 119,
   "metadata": {
    "collapsed": true
   },
   "outputs": [],
   "source": [
    "# Calculate prediction matrix R_hat (low-rank approximation for R)\n",
    "R_DF = pd.DataFrame(R)\n",
    "R_hat=pd.DataFrame(prediction(P,Q))"
   ]
  },
  {
   "cell_type": "code",
   "execution_count": 120,
   "metadata": {
    "collapsed": false
   },
   "outputs": [
    {
     "data": {
      "text/html": [
       "<div>\n",
       "<table border=\"1\" class=\"dataframe\">\n",
       "  <thead>\n",
       "    <tr style=\"text-align: right;\">\n",
       "      <th></th>\n",
       "      <th>Actual Rating</th>\n",
       "      <th>Predicted Rating</th>\n",
       "    </tr>\n",
       "  </thead>\n",
       "  <tbody>\n",
       "    <tr>\n",
       "      <th>328</th>\n",
       "      <td>5.0</td>\n",
       "      <td>4.779014</td>\n",
       "    </tr>\n",
       "    <tr>\n",
       "      <th>458</th>\n",
       "      <td>5.0</td>\n",
       "      <td>4.832624</td>\n",
       "    </tr>\n",
       "    <tr>\n",
       "      <th>579</th>\n",
       "      <td>5.0</td>\n",
       "      <td>4.799448</td>\n",
       "    </tr>\n",
       "    <tr>\n",
       "      <th>650</th>\n",
       "      <td>5.0</td>\n",
       "      <td>4.779587</td>\n",
       "    </tr>\n",
       "    <tr>\n",
       "      <th>669</th>\n",
       "      <td>5.0</td>\n",
       "      <td>4.816993</td>\n",
       "    </tr>\n",
       "    <tr>\n",
       "      <th>729</th>\n",
       "      <td>5.0</td>\n",
       "      <td>4.627396</td>\n",
       "    </tr>\n",
       "    <tr>\n",
       "      <th>793</th>\n",
       "      <td>5.0</td>\n",
       "      <td>4.259399</td>\n",
       "    </tr>\n",
       "    <tr>\n",
       "      <th>807</th>\n",
       "      <td>5.0</td>\n",
       "      <td>4.761451</td>\n",
       "    </tr>\n",
       "    <tr>\n",
       "      <th>832</th>\n",
       "      <td>5.0</td>\n",
       "      <td>4.843581</td>\n",
       "    </tr>\n",
       "  </tbody>\n",
       "</table>\n",
       "</div>"
      ],
      "text/plain": [
       "     Actual Rating  Predicted Rating\n",
       "328            5.0          4.779014\n",
       "458            5.0          4.832624\n",
       "579            5.0          4.799448\n",
       "650            5.0          4.779587\n",
       "669            5.0          4.816993\n",
       "729            5.0          4.627396\n",
       "793            5.0          4.259399\n",
       "807            5.0          4.761451\n",
       "832            5.0          4.843581"
      ]
     },
     "execution_count": 120,
     "metadata": {},
     "output_type": "execute_result"
    }
   ],
   "source": [
    "# Compare true ratings of user N with predictions for Train\n",
    "userN = 16\n",
    "\n",
    "ratings = pd.DataFrame(data=R_DF.loc[userN,R_DF.loc[userN,:] > 0]).head(n=10)\n",
    "ratings['Prediction'] = R_hat.loc[userN,R_DF.loc[userN,:] > 0]\n",
    "ratings.columns = ['Actual Rating', 'Predicted Rating']\n",
    "ratings"
   ]
  },
  {
   "cell_type": "code",
   "execution_count": 121,
   "metadata": {
    "collapsed": true
   },
   "outputs": [],
   "source": [
    "# Calculate prediction matrix R_hat (low-rank approximation for R)\n",
    "T_DF = pd.DataFrame(T)\n",
    "T_hat=pd.DataFrame(prediction(P,Q))"
   ]
  },
  {
   "cell_type": "code",
   "execution_count": 122,
   "metadata": {
    "collapsed": false
   },
   "outputs": [
    {
     "data": {
      "text/html": [
       "<div>\n",
       "<table border=\"1\" class=\"dataframe\">\n",
       "  <thead>\n",
       "    <tr style=\"text-align: right;\">\n",
       "      <th></th>\n",
       "      <th>Actual Rating</th>\n",
       "      <th>Predicted Rating</th>\n",
       "    </tr>\n",
       "  </thead>\n",
       "  <tbody>\n",
       "    <tr>\n",
       "      <th>672</th>\n",
       "      <td>5.0</td>\n",
       "      <td>4.798832</td>\n",
       "    </tr>\n",
       "    <tr>\n",
       "      <th>876</th>\n",
       "      <td>5.0</td>\n",
       "      <td>3.963290</td>\n",
       "    </tr>\n",
       "  </tbody>\n",
       "</table>\n",
       "</div>"
      ],
      "text/plain": [
       "     Actual Rating  Predicted Rating\n",
       "672            5.0          4.798832\n",
       "876            5.0          3.963290"
      ]
     },
     "execution_count": 122,
     "metadata": {},
     "output_type": "execute_result"
    }
   ],
   "source": [
    "# Compare true ratings of user N with predictions for Test\n",
    "userN = 16\n",
    "\n",
    "ratings = pd.DataFrame(data=T_DF.loc[userN,T_DF.loc[userN,:] > 0]).head(n=10)\n",
    "ratings['Prediction'] = T_hat.loc[userN,T_DF.loc[userN,:] > 0]\n",
    "ratings.columns = ['Actual Rating', 'Predicted Rating']\n",
    "ratings"
   ]
  },
  {
   "cell_type": "markdown",
   "metadata": {},
   "source": [
    "This notebook references the below tutorial:\n",
    "\n",
    "http://online.cambridgecoding.com/notebooks/mhaller/implementing-your-own-recommender-systems-in-python-using-stochastic-gradient-descent-4"
   ]
  },
  {
   "cell_type": "code",
   "execution_count": null,
   "metadata": {
    "collapsed": true
   },
   "outputs": [],
   "source": []
  }
 ],
 "metadata": {
  "anaconda-cloud": {},
  "kernelspec": {
   "display_name": "Python [Root]",
   "language": "python",
   "name": "Python [Root]"
  },
  "language_info": {
   "codemirror_mode": {
    "name": "ipython",
    "version": 2
   },
   "file_extension": ".py",
   "mimetype": "text/x-python",
   "name": "python",
   "nbconvert_exporter": "python",
   "pygments_lexer": "ipython2",
   "version": "2.7.12"
  }
 },
 "nbformat": 4,
 "nbformat_minor": 0
}
