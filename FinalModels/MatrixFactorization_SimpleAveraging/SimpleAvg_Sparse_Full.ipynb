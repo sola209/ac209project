{
 "cells": [
  {
   "cell_type": "code",
   "execution_count": 1,
   "metadata": {
    "collapsed": true
   },
   "outputs": [],
   "source": [
    "import numpy as np\n",
    "import matplotlib\n",
    "import matplotlib.pyplot as plt\n",
    "from mpl_toolkits.mplot3d import Axes3D\n",
    "import matplotlib.cm as cmx\n",
    "import matplotlib.colors as colors\n",
    "import pandas as pd\n",
    "from sklearn.linear_model import LogisticRegression as LogReg\n",
    "from sklearn.feature_extraction.text import CountVectorizer\n",
    "from sklearn.neighbors import KNeighborsClassifier as KNN\n",
    "from sklearn.decomposition import PCA\n",
    "%matplotlib inline\n",
    "import random\n",
    "from sklearn import preprocessing\n",
    "import scipy.sparse as sparse\n",
    "from sklearn.cross_validation import train_test_split\n",
    "from sklearn.metrics import mean_squared_error\n",
    "from math import sqrt"
   ]
  },
  {
   "cell_type": "code",
   "execution_count": 2,
   "metadata": {
    "collapsed": true
   },
   "outputs": [],
   "source": [
    "df = pd.read_csv('datasets/reviews_simpleInt.csv')"
   ]
  },
  {
   "cell_type": "markdown",
   "metadata": {},
   "source": [
    "## Overview\n",
    "\n",
    "This notebook walks you through a few baseline models Test RMSE calculations.\n",
    "\n",
    "Baseline Models involve Simple Averaging: Total Train Populationa and a weighted combination of User vs. Item Avg.\n",
    "\n",
    "Best Test RMSE through these Baseline Models was .817, achieved with an ItemAvg Weight of .4"
   ]
  },
  {
   "cell_type": "markdown",
   "metadata": {},
   "source": [
    "## Creating a Sparse Matrix"
   ]
  },
  {
   "cell_type": "code",
   "execution_count": 29,
   "metadata": {
    "collapsed": false
   },
   "outputs": [
    {
     "name": "stdout",
     "output_type": "stream",
     "text": [
      "(982619, 3)\n"
     ]
    },
    {
     "data": {
      "text/html": [
       "<div>\n",
       "<table border=\"1\" class=\"dataframe\">\n",
       "  <thead>\n",
       "    <tr style=\"text-align: right;\">\n",
       "      <th></th>\n",
       "      <th>itemID</th>\n",
       "      <th>userID</th>\n",
       "      <th>rating</th>\n",
       "    </tr>\n",
       "  </thead>\n",
       "  <tbody>\n",
       "    <tr>\n",
       "      <th>0</th>\n",
       "      <td>0</td>\n",
       "      <td>7773</td>\n",
       "      <td>5</td>\n",
       "    </tr>\n",
       "    <tr>\n",
       "      <th>1</th>\n",
       "      <td>0</td>\n",
       "      <td>61894</td>\n",
       "      <td>4</td>\n",
       "    </tr>\n",
       "    <tr>\n",
       "      <th>2</th>\n",
       "      <td>0</td>\n",
       "      <td>53977</td>\n",
       "      <td>4</td>\n",
       "    </tr>\n",
       "    <tr>\n",
       "      <th>3</th>\n",
       "      <td>0</td>\n",
       "      <td>8128</td>\n",
       "      <td>5</td>\n",
       "    </tr>\n",
       "    <tr>\n",
       "      <th>4</th>\n",
       "      <td>0</td>\n",
       "      <td>50527</td>\n",
       "      <td>4</td>\n",
       "    </tr>\n",
       "  </tbody>\n",
       "</table>\n",
       "</div>"
      ],
      "text/plain": [
       "   itemID  userID  rating\n",
       "0       0    7773       5\n",
       "1       0   61894       4\n",
       "2       0   53977       4\n",
       "3       0    8128       5\n",
       "4       0   50527       4"
      ]
     },
     "execution_count": 29,
     "metadata": {},
     "output_type": "execute_result"
    }
   ],
   "source": [
    "print df.shape\n",
    "df.head()"
   ]
  },
  {
   "cell_type": "code",
   "execution_count": 46,
   "metadata": {
    "collapsed": false
   },
   "outputs": [
    {
     "data": {
      "text/plain": [
       "array([     0,  23018,  34130,  96194, 254013, 575264])"
      ]
     },
     "execution_count": 46,
     "metadata": {},
     "output_type": "execute_result"
    }
   ],
   "source": [
    "np.bincount(df['rating'].values)"
   ]
  },
  {
   "cell_type": "code",
   "execution_count": 30,
   "metadata": {
    "collapsed": true
   },
   "outputs": [],
   "source": [
    "users = len(set(df.userID))\n",
    "items = len(set(df.itemID))"
   ]
  },
  {
   "cell_type": "code",
   "execution_count": 31,
   "metadata": {
    "collapsed": true
   },
   "outputs": [],
   "source": [
    "mtx = sparse.csr_matrix((df.rating, (df.userID, df.itemID)), shape=(users, items))"
   ]
  },
  {
   "cell_type": "code",
   "execution_count": 32,
   "metadata": {
    "collapsed": false
   },
   "outputs": [
    {
     "data": {
      "text/plain": [
       "(68223, 61934)"
      ]
     },
     "execution_count": 32,
     "metadata": {},
     "output_type": "execute_result"
    }
   ],
   "source": [
    "mtx.shape"
   ]
  },
  {
   "cell_type": "code",
   "execution_count": 33,
   "metadata": {
    "collapsed": false
   },
   "outputs": [
    {
     "data": {
      "text/plain": [
       "<68223x61934 sparse matrix of type '<type 'numpy.int64'>'\n",
       "\twith 982619 stored elements in Compressed Sparse Row format>"
      ]
     },
     "execution_count": 33,
     "metadata": {},
     "output_type": "execute_result"
    }
   ],
   "source": [
    "mtx.non"
   ]
  },
  {
   "cell_type": "code",
   "execution_count": null,
   "metadata": {
    "collapsed": true
   },
   "outputs": [],
   "source": [
    "mtx[i:]"
   ]
  },
  {
   "cell_type": "code",
   "execution_count": null,
   "metadata": {
    "collapsed": true
   },
   "outputs": [],
   "source": [
    "userSTD = []\n",
    "itemSTD = []\n",
    "nUsers = mtx.shape[0]\n",
    "nUsers = mtx.shape[1]\n",
    "for i in range(nUsers):\n",
    "    mtxTrain[i,:].nonzero()[0]"
   ]
  },
  {
   "cell_type": "code",
   "execution_count": 40,
   "metadata": {
    "collapsed": false
   },
   "outputs": [
    {
     "data": {
      "text/plain": [
       "array([ 1453, 15475, 17395, 30311, 40593, 44810, 50670, 59616, 63899], dtype=int32)"
      ]
     },
     "execution_count": 40,
     "metadata": {},
     "output_type": "execute_result"
    }
   ],
   "source": [
    "mtx[:,5].nonzero()[0]"
   ]
  },
  {
   "cell_type": "markdown",
   "metadata": {},
   "source": [
    "## Train / Test Split"
   ]
  },
  {
   "cell_type": "code",
   "execution_count": 6,
   "metadata": {
    "collapsed": false
   },
   "outputs": [],
   "source": [
    "y = df.values[:,-1]\n",
    "x = df.values[:,:-1]"
   ]
  },
  {
   "cell_type": "code",
   "execution_count": 7,
   "metadata": {
    "collapsed": true
   },
   "outputs": [],
   "source": [
    "x_train, x_test, y_train, y_test = train_test_split(x, y, test_size=0.5, random_state=42)"
   ]
  },
  {
   "cell_type": "code",
   "execution_count": 8,
   "metadata": {
    "collapsed": true
   },
   "outputs": [],
   "source": [
    "mtxTrain = sparse.csr_matrix((y_train, (x_train[:,1], x_train[:,0])), shape=(users, items))"
   ]
  },
  {
   "cell_type": "code",
   "execution_count": 9,
   "metadata": {
    "collapsed": true
   },
   "outputs": [],
   "source": [
    "mtxTest = sparse.csr_matrix((y_test, (x_test[:,1], x_test[:,0])), shape=(users, items))"
   ]
  },
  {
   "cell_type": "code",
   "execution_count": 10,
   "metadata": {
    "collapsed": false
   },
   "outputs": [
    {
     "data": {
      "text/plain": [
       "4.3452592971022312"
      ]
     },
     "execution_count": 10,
     "metadata": {},
     "output_type": "execute_result"
    }
   ],
   "source": [
    "yAvg_Train = mtxTrain.sum() /float(len(mtxTrain.nonzero()[0]))\n",
    "yAvg_Train"
   ]
  },
  {
   "cell_type": "code",
   "execution_count": 11,
   "metadata": {
    "collapsed": true
   },
   "outputs": [],
   "source": [
    "### Given Actual and Predict, Return RMSE\n",
    "def RMSE (y_actual, y_predicted):\n",
    "    return sqrt(mean_squared_error(y_actual, y_predicted))"
   ]
  },
  {
   "cell_type": "markdown",
   "metadata": {},
   "source": [
    "## Simple Averaging - Always Predict Train Avg. "
   ]
  },
  {
   "cell_type": "code",
   "execution_count": 12,
   "metadata": {
    "collapsed": true
   },
   "outputs": [],
   "source": [
    "## Given x_test, always predict Val\n",
    "## Returns Predictions\n",
    "def alwaysPredict(x_test, val):\n",
    "    length = x_test.shape[0]\n",
    "    return np.ones(length)*float(val)"
   ]
  },
  {
   "cell_type": "code",
   "execution_count": 31,
   "metadata": {
    "collapsed": false
   },
   "outputs": [],
   "source": [
    "nPredict = 10000\n",
    "always_yAvg_predictions = alwaysPredict(x_test[:nPredict],yAvg_Train)\n",
    "always_yAvg_RMSE = RMSE(y_test[:nPredict], always_yAvg_predictions)"
   ]
  },
  {
   "cell_type": "code",
   "execution_count": 32,
   "metadata": {
    "collapsed": false
   },
   "outputs": [
    {
     "name": "stdout",
     "output_type": "stream",
     "text": [
      "Always Predict Y_Train_Avg Test RSME:     0.96\n"
     ]
    }
   ],
   "source": [
    "print \"Always Predict Y_Train_Avg Test RSME:     %0.2f\" %always_yAvg_RMSE"
   ]
  },
  {
   "cell_type": "code",
   "execution_count": 40,
   "metadata": {
    "collapsed": false
   },
   "outputs": [],
   "source": [
    "constants = [3,4,yAvg_Train,5]"
   ]
  },
  {
   "cell_type": "code",
   "execution_count": 41,
   "metadata": {
    "collapsed": true
   },
   "outputs": [],
   "source": [
    "nPredict = 10000\n",
    "RMSE_List_Always = []\n",
    "\n",
    "for i in range(len(constants)):\n",
    "    alwaysPredictions = alwaysPredict(x_test[:nPredict],constants[i])\n",
    "    RMSE_List_Always.append(RMSE(y_test[:nPredict], alwaysPredictions))"
   ]
  },
  {
   "cell_type": "code",
   "execution_count": 42,
   "metadata": {
    "collapsed": false
   },
   "outputs": [
    {
     "data": {
      "text/plain": [
       "[1.656713614358257, 1.0237675517420934, 0.962702631072603, 1.162540321881353]"
      ]
     },
     "execution_count": 42,
     "metadata": {},
     "output_type": "execute_result"
    }
   ],
   "source": [
    "RMSE_List_Always"
   ]
  },
  {
   "cell_type": "code",
   "execution_count": 43,
   "metadata": {
    "collapsed": false
   },
   "outputs": [
    {
     "data": {
      "image/png": "[encoded data removed]",
      "text/plain": [
       "<matplotlib.figure.Figure at 0x117c65f50>"
      ]
     },
     "metadata": {},
     "output_type": "display_data"
    }
   ],
   "source": [
    "\n",
    "#plot R^2 Values\n",
    "fig, ((ax1)) = plt.subplots(1, 1, figsize=(8, 8))\n",
    "\n",
    "\n",
    "# plot R^2 Test\n",
    "ax1.plot(constants, \n",
    "            RMSE_List_Always, \n",
    "            color='red',\n",
    "            linewidth=2.0,\n",
    "            alpha=0.7,\n",
    "            label=\"RMSE Test Score vs. Constant Prediction\")\n",
    "    \n",
    "ax1.legend(loc='best')\n",
    "ax1.set_title('Test RMSE vs. Constant Prediction')\n",
    "\n",
    "plt.tight_layout()\n",
    "plt.show()"
   ]
  },
  {
   "cell_type": "markdown",
   "metadata": {},
   "source": [
    "## Simple Averaging - User Avg. Ratings and Item Avg. Ratings"
   ]
  },
  {
   "cell_type": "code",
   "execution_count": 18,
   "metadata": {
    "collapsed": true
   },
   "outputs": [],
   "source": [
    "## Given x_test, predict y_test based on mtxTrain (itemAvg and userAvg)\n",
    "## Returns Predictions\n",
    "def simpleAvg(x_test, wItem = .5):\n",
    "    predict = np.zeros(len(x_test))\n",
    "    nPredict =x_test.shape[0]\n",
    "    wUser = float(1 - wItem)\n",
    "    \n",
    "    for i in range(nPredict):\n",
    "        itemID = x_test[i,0]\n",
    "        userID = x_test[i,1]\n",
    "        itemNonZeros = len(mtxTrain[:,itemID].nonzero()[0])\n",
    "        userNonZeros = len(mtxTrain[userID,:].nonzero()[0])\n",
    "        \n",
    "        if itemNonZeros == 0 and userNonZeros == 0:\n",
    "            predict[i] = yAvg_Train\n",
    "        elif itemNonZeros == 0:\n",
    "            userSum= (mtxTrain[userID,:].sum())\n",
    "            userAvg = userSum/float(userNonZeros)\n",
    "            predict[i] = userAvg\n",
    "        elif userNonZeros == 0:\n",
    "            itemSum= (mtxTrain[:,itemID].sum())\n",
    "            itemAvg = itemSum/float(itemNonZeros)\n",
    "            predict[i] = itemAvg\n",
    "        else:\n",
    "            userSum= (mtxTrain[userID,:].sum())\n",
    "            userAvg = userSum/float(userNonZeros)\n",
    "            itemSum= (mtxTrain[:,itemID].sum())\n",
    "            itemAvg = itemSum/float(itemNonZeros)\n",
    "            \n",
    "            predict[i] = wItem * itemAvg + wUser * userAvg \n",
    "    \n",
    "    return predict"
   ]
  },
  {
   "cell_type": "code",
   "execution_count": 20,
   "metadata": {
    "collapsed": false
   },
   "outputs": [],
   "source": [
    "nPredict = 10000\n",
    "simpleAvgPredictions = simpleAvg(x_test[:nPredict])\n",
    "simpleAvgRMSE = RMSE(y_test[:nPredict], simpleAvgPredictions)\n"
   ]
  },
  {
   "cell_type": "code",
   "execution_count": 22,
   "metadata": {
    "collapsed": false
   },
   "outputs": [
    {
     "name": "stdout",
     "output_type": "stream",
     "text": [
      "Obvi Algo Test RSME:     0.83\n"
     ]
    }
   ],
   "source": [
    "print \"Obvi Algo Test RSME:     %0.2f\" %simpleAvgRMSE"
   ]
  },
  {
   "cell_type": "code",
   "execution_count": 23,
   "metadata": {
    "collapsed": false
   },
   "outputs": [],
   "source": [
    "weights = np.array(range(0,11))*.1"
   ]
  },
  {
   "cell_type": "code",
   "execution_count": 26,
   "metadata": {
    "collapsed": false
   },
   "outputs": [],
   "source": [
    "nPredict = 2000\n",
    "RMSE_List = []\n",
    "\n",
    "for i in range(len(weights)):\n",
    "    simpleAvgPredictions = simpleAvg(x_test[:nPredict],weights[i])\n",
    "    RMSE_List.append(RMSE(y_test[:nPredict], simpleAvgPredictions))"
   ]
  },
  {
   "cell_type": "code",
   "execution_count": 27,
   "metadata": {
    "collapsed": false
   },
   "outputs": [
    {
     "data": {
      "text/plain": [
       "[0.8657735462768529,\n",
       " 0.8436526416524239,\n",
       " 0.8279432999936115,\n",
       " 0.8190145408626105,\n",
       " 0.8170886795124243,\n",
       " 0.8222149257543337,\n",
       " 0.83426329176222,\n",
       " 0.8529404889753731,\n",
       " 0.8778235001343067,\n",
       " 0.9084024983152704,\n",
       " 0.9441241880206691]"
      ]
     },
     "execution_count": 27,
     "metadata": {},
     "output_type": "execute_result"
    }
   ],
   "source": [
    "RMSE_List"
   ]
  },
  {
   "cell_type": "code",
   "execution_count": 45,
   "metadata": {
    "collapsed": false
   },
   "outputs": [
    {
     "data": {
      "image/png": "[encoded data removed]",
      "text/plain": [
       "<matplotlib.figure.Figure at 0x121028b50>"
      ]
     },
     "metadata": {},
     "output_type": "display_data"
    }
   ],
   "source": [
    "\n",
    "#plot R^2 Values\n",
    "fig, ((ax1)) = plt.subplots(1, 1, figsize=(8, 8))\n",
    "\n",
    "\n",
    "# plot R^2 Test\n",
    "ax1.plot(weights, \n",
    "            RMSE_List, \n",
    "            color='red',\n",
    "            linewidth=2.0,\n",
    "            alpha=0.7,\n",
    "            label=\"Test RMSE vs. Avg. Item Weight\")\n",
    "    \n",
    "ax1.legend(loc='best')\n",
    "ax1.set_title('Test RMSE vs. Item Weight (Avg. Item Weight + Avg. User Weight = 1 )')\n",
    "\n",
    "plt.tight_layout()\n",
    "plt.show()"
   ]
  }
 ],
 "metadata": {
  "anaconda-cloud": {},
  "kernelspec": {
   "display_name": "Python [Root]",
   "language": "python",
   "name": "Python [Root]"
  },
  "language_info": {
   "codemirror_mode": {
    "name": "ipython",
    "version": 2
   },
   "file_extension": ".py",
   "mimetype": "text/x-python",
   "name": "python",
   "nbconvert_exporter": "python",
   "pygments_lexer": "ipython2",
   "version": "2.7.12"
  }
 },
 "nbformat": 4,
 "nbformat_minor": 0
}
