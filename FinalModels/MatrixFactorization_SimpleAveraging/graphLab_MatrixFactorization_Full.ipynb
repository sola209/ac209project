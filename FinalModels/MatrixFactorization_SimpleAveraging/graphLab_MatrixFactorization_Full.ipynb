{
 "cells": [
  {
   "cell_type": "code",
   "execution_count": 2,
   "metadata": {
    "collapsed": true
   },
   "outputs": [],
   "source": [
    "import numpy as np\n",
    "import matplotlib\n",
    "import matplotlib.pyplot as plt\n",
    "from mpl_toolkits.mplot3d import Axes3D\n",
    "import matplotlib.cm as cmx\n",
    "import matplotlib.colors as colors\n",
    "import pandas as pd\n",
    "from sklearn.linear_model import LogisticRegression as LogReg\n",
    "from sklearn.feature_extraction.text import CountVectorizer\n",
    "from sklearn.neighbors import KNeighborsClassifier as KNN\n",
    "from sklearn.decomposition import PCA\n",
    "%matplotlib inline\n",
    "import random\n",
    "from sklearn import preprocessing\n",
    "import scipy.sparse as sparse\n",
    "from sklearn.cross_validation import train_test_split\n",
    "from sklearn.metrics import mean_squared_error\n",
    "from math import sqrt\n",
    "import graphlab as gl"
   ]
  },
  {
   "cell_type": "markdown",
   "metadata": {},
   "source": [
    "## Overview\n",
    "\n",
    "Used graphLab Library to use Matrix Factorization.  Best Test RMSE achieved was .86 with a regularization parameter of 1e-03"
   ]
  },
  {
   "cell_type": "code",
   "execution_count": 3,
   "metadata": {
    "collapsed": false
   },
   "outputs": [],
   "source": [
    "filename = \"datasets/reviews.csv\"\n",
    "df = pd.read_csv(filename)"
   ]
  },
  {
   "cell_type": "code",
   "execution_count": 4,
   "metadata": {
    "collapsed": false
   },
   "outputs": [
    {
     "data": {
      "text/html": [
       "<div>\n",
       "<table border=\"1\" class=\"dataframe\">\n",
       "  <thead>\n",
       "    <tr style=\"text-align: right;\">\n",
       "      <th></th>\n",
       "      <th>Unnamed: 0</th>\n",
       "      <th>asin</th>\n",
       "      <th>helpful</th>\n",
       "      <th>overall</th>\n",
       "      <th>reviewText</th>\n",
       "      <th>reviewTime</th>\n",
       "      <th>reviewerID</th>\n",
       "      <th>reviewerName</th>\n",
       "      <th>summary</th>\n",
       "      <th>unixReviewTime</th>\n",
       "    </tr>\n",
       "  </thead>\n",
       "  <tbody>\n",
       "    <tr>\n",
       "      <th>0</th>\n",
       "      <td>0</td>\n",
       "      <td>B000F83SZQ</td>\n",
       "      <td>[0, 0]</td>\n",
       "      <td>5</td>\n",
       "      <td>I enjoy vintage books and movies so I enjoyed ...</td>\n",
       "      <td>05 5, 2014</td>\n",
       "      <td>A1F6404F1VG29J</td>\n",
       "      <td>Avidreader</td>\n",
       "      <td>Nice vintage story</td>\n",
       "      <td>1399248000</td>\n",
       "    </tr>\n",
       "    <tr>\n",
       "      <th>1</th>\n",
       "      <td>1</td>\n",
       "      <td>B000F83SZQ</td>\n",
       "      <td>[2, 2]</td>\n",
       "      <td>4</td>\n",
       "      <td>This book is a reissue of an old one; the auth...</td>\n",
       "      <td>01 6, 2014</td>\n",
       "      <td>AN0N05A9LIJEQ</td>\n",
       "      <td>critters</td>\n",
       "      <td>Different...</td>\n",
       "      <td>1388966400</td>\n",
       "    </tr>\n",
       "    <tr>\n",
       "      <th>2</th>\n",
       "      <td>2</td>\n",
       "      <td>B000F83SZQ</td>\n",
       "      <td>[2, 2]</td>\n",
       "      <td>4</td>\n",
       "      <td>This was a fairly interesting read.  It had ol...</td>\n",
       "      <td>04 4, 2014</td>\n",
       "      <td>A795DMNCJILA6</td>\n",
       "      <td>dot</td>\n",
       "      <td>Oldie</td>\n",
       "      <td>1396569600</td>\n",
       "    </tr>\n",
       "    <tr>\n",
       "      <th>3</th>\n",
       "      <td>3</td>\n",
       "      <td>B000F83SZQ</td>\n",
       "      <td>[1, 1]</td>\n",
       "      <td>5</td>\n",
       "      <td>I'd never read any of the Amy Brewster mysteri...</td>\n",
       "      <td>02 19, 2014</td>\n",
       "      <td>A1FV0SX13TWVXQ</td>\n",
       "      <td>Elaine H. Turley \"Montana Songbird\"</td>\n",
       "      <td>I really liked it.</td>\n",
       "      <td>1392768000</td>\n",
       "    </tr>\n",
       "    <tr>\n",
       "      <th>4</th>\n",
       "      <td>4</td>\n",
       "      <td>B000F83SZQ</td>\n",
       "      <td>[0, 1]</td>\n",
       "      <td>4</td>\n",
       "      <td>If you like period pieces - clothing, lingo, y...</td>\n",
       "      <td>03 19, 2014</td>\n",
       "      <td>A3SPTOKDG7WBLN</td>\n",
       "      <td>Father Dowling Fan</td>\n",
       "      <td>Period Mystery</td>\n",
       "      <td>1395187200</td>\n",
       "    </tr>\n",
       "  </tbody>\n",
       "</table>\n",
       "</div>"
      ],
      "text/plain": [
       "   Unnamed: 0        asin helpful  overall  \\\n",
       "0           0  B000F83SZQ  [0, 0]        5   \n",
       "1           1  B000F83SZQ  [2, 2]        4   \n",
       "2           2  B000F83SZQ  [2, 2]        4   \n",
       "3           3  B000F83SZQ  [1, 1]        5   \n",
       "4           4  B000F83SZQ  [0, 1]        4   \n",
       "\n",
       "                                          reviewText   reviewTime  \\\n",
       "0  I enjoy vintage books and movies so I enjoyed ...   05 5, 2014   \n",
       "1  This book is a reissue of an old one; the auth...   01 6, 2014   \n",
       "2  This was a fairly interesting read.  It had ol...   04 4, 2014   \n",
       "3  I'd never read any of the Amy Brewster mysteri...  02 19, 2014   \n",
       "4  If you like period pieces - clothing, lingo, y...  03 19, 2014   \n",
       "\n",
       "       reviewerID                         reviewerName             summary  \\\n",
       "0  A1F6404F1VG29J                           Avidreader  Nice vintage story   \n",
       "1   AN0N05A9LIJEQ                             critters        Different...   \n",
       "2   A795DMNCJILA6                                  dot               Oldie   \n",
       "3  A1FV0SX13TWVXQ  Elaine H. Turley \"Montana Songbird\"  I really liked it.   \n",
       "4  A3SPTOKDG7WBLN                   Father Dowling Fan      Period Mystery   \n",
       "\n",
       "   unixReviewTime  \n",
       "0      1399248000  \n",
       "1      1388966400  \n",
       "2      1396569600  \n",
       "3      1392768000  \n",
       "4      1395187200  "
      ]
     },
     "execution_count": 4,
     "metadata": {},
     "output_type": "execute_result"
    }
   ],
   "source": [
    "df.head()"
   ]
  },
  {
   "cell_type": "code",
   "execution_count": 5,
   "metadata": {
    "collapsed": false
   },
   "outputs": [
    {
     "data": {
      "text/plain": [
       "(982619, 10)"
      ]
     },
     "execution_count": 5,
     "metadata": {},
     "output_type": "execute_result"
    }
   ],
   "source": [
    "df.shape"
   ]
  },
  {
   "cell_type": "code",
   "execution_count": 6,
   "metadata": {
    "collapsed": false
   },
   "outputs": [
    {
     "name": "stdout",
     "output_type": "stream",
     "text": [
      "This non-commercial license of GraphLab Create for academic use is assigned to atsoroka@g.harvard.edu and will expire on December 03, 2017.\n"
     ]
    },
    {
     "name": "stderr",
     "output_type": "stream",
     "text": [
      "[INFO] graphlab.cython.cy_server: GraphLab Create v2.1 started. Logging: /tmp/graphlab_server_1481584627.log\n"
     ]
    }
   ],
   "source": [
    "sf = gl.SFrame({'user_id': df.reviewerID,\n",
    "                       'item_id': df.asin,\n",
    "                       'rating': df.overall})"
   ]
  },
  {
   "cell_type": "code",
   "execution_count": 7,
   "metadata": {
    "collapsed": false
   },
   "outputs": [
    {
     "data": {
      "text/html": [
       "<div style=\"max-height:1000px;max-width:1500px;overflow:auto;\"><table frame=\"box\" rules=\"cols\">\n",
       "    <tr>\n",
       "        <th style=\"padding-left: 1em; padding-right: 1em; text-align: center\">item_id</th>\n",
       "        <th style=\"padding-left: 1em; padding-right: 1em; text-align: center\">rating</th>\n",
       "        <th style=\"padding-left: 1em; padding-right: 1em; text-align: center\">user_id</th>\n",
       "    </tr>\n",
       "    <tr>\n",
       "        <td style=\"padding-left: 1em; padding-right: 1em; text-align: center; vertical-align: top\">B000F83SZQ</td>\n",
       "        <td style=\"padding-left: 1em; padding-right: 1em; text-align: center; vertical-align: top\">5</td>\n",
       "        <td style=\"padding-left: 1em; padding-right: 1em; text-align: center; vertical-align: top\">A1F6404F1VG29J</td>\n",
       "    </tr>\n",
       "    <tr>\n",
       "        <td style=\"padding-left: 1em; padding-right: 1em; text-align: center; vertical-align: top\">B000F83SZQ</td>\n",
       "        <td style=\"padding-left: 1em; padding-right: 1em; text-align: center; vertical-align: top\">4</td>\n",
       "        <td style=\"padding-left: 1em; padding-right: 1em; text-align: center; vertical-align: top\">AN0N05A9LIJEQ</td>\n",
       "    </tr>\n",
       "    <tr>\n",
       "        <td style=\"padding-left: 1em; padding-right: 1em; text-align: center; vertical-align: top\">B000F83SZQ</td>\n",
       "        <td style=\"padding-left: 1em; padding-right: 1em; text-align: center; vertical-align: top\">4</td>\n",
       "        <td style=\"padding-left: 1em; padding-right: 1em; text-align: center; vertical-align: top\">A795DMNCJILA6</td>\n",
       "    </tr>\n",
       "    <tr>\n",
       "        <td style=\"padding-left: 1em; padding-right: 1em; text-align: center; vertical-align: top\">B000F83SZQ</td>\n",
       "        <td style=\"padding-left: 1em; padding-right: 1em; text-align: center; vertical-align: top\">5</td>\n",
       "        <td style=\"padding-left: 1em; padding-right: 1em; text-align: center; vertical-align: top\">A1FV0SX13TWVXQ</td>\n",
       "    </tr>\n",
       "    <tr>\n",
       "        <td style=\"padding-left: 1em; padding-right: 1em; text-align: center; vertical-align: top\">B000F83SZQ</td>\n",
       "        <td style=\"padding-left: 1em; padding-right: 1em; text-align: center; vertical-align: top\">4</td>\n",
       "        <td style=\"padding-left: 1em; padding-right: 1em; text-align: center; vertical-align: top\">A3SPTOKDG7WBLN</td>\n",
       "    </tr>\n",
       "    <tr>\n",
       "        <td style=\"padding-left: 1em; padding-right: 1em; text-align: center; vertical-align: top\">B000F83SZQ</td>\n",
       "        <td style=\"padding-left: 1em; padding-right: 1em; text-align: center; vertical-align: top\">4</td>\n",
       "        <td style=\"padding-left: 1em; padding-right: 1em; text-align: center; vertical-align: top\">A1RK2OCZDSGC6R</td>\n",
       "    </tr>\n",
       "    <tr>\n",
       "        <td style=\"padding-left: 1em; padding-right: 1em; text-align: center; vertical-align: top\">B000F83SZQ</td>\n",
       "        <td style=\"padding-left: 1em; padding-right: 1em; text-align: center; vertical-align: top\">4</td>\n",
       "        <td style=\"padding-left: 1em; padding-right: 1em; text-align: center; vertical-align: top\">A2HSAKHC3IBRE6</td>\n",
       "    </tr>\n",
       "    <tr>\n",
       "        <td style=\"padding-left: 1em; padding-right: 1em; text-align: center; vertical-align: top\">B000F83SZQ</td>\n",
       "        <td style=\"padding-left: 1em; padding-right: 1em; text-align: center; vertical-align: top\">4</td>\n",
       "        <td style=\"padding-left: 1em; padding-right: 1em; text-align: center; vertical-align: top\">A3DE6XGZ2EPADS</td>\n",
       "    </tr>\n",
       "    <tr>\n",
       "        <td style=\"padding-left: 1em; padding-right: 1em; text-align: center; vertical-align: top\">B000FA64PA</td>\n",
       "        <td style=\"padding-left: 1em; padding-right: 1em; text-align: center; vertical-align: top\">5</td>\n",
       "        <td style=\"padding-left: 1em; padding-right: 1em; text-align: center; vertical-align: top\">A1UG4Q4D3OAH3A</td>\n",
       "    </tr>\n",
       "    <tr>\n",
       "        <td style=\"padding-left: 1em; padding-right: 1em; text-align: center; vertical-align: top\">B000FA64PA</td>\n",
       "        <td style=\"padding-left: 1em; padding-right: 1em; text-align: center; vertical-align: top\">4</td>\n",
       "        <td style=\"padding-left: 1em; padding-right: 1em; text-align: center; vertical-align: top\">AQZH7YTWQPOBE</td>\n",
       "    </tr>\n",
       "</table>\n",
       "[982619 rows x 3 columns]<br/>Note: Only the head of the SFrame is printed.<br/>You can use print_rows(num_rows=m, num_columns=n) to print more rows and columns.\n",
       "</div>"
      ],
      "text/plain": [
       "Columns:\n",
       "\titem_id\tstr\n",
       "\trating\tint\n",
       "\tuser_id\tstr\n",
       "\n",
       "Rows: 982619\n",
       "\n",
       "Data:\n",
       "+------------+--------+----------------+\n",
       "|  item_id   | rating |    user_id     |\n",
       "+------------+--------+----------------+\n",
       "| B000F83SZQ |   5    | A1F6404F1VG29J |\n",
       "| B000F83SZQ |   4    | AN0N05A9LIJEQ  |\n",
       "| B000F83SZQ |   4    | A795DMNCJILA6  |\n",
       "| B000F83SZQ |   5    | A1FV0SX13TWVXQ |\n",
       "| B000F83SZQ |   4    | A3SPTOKDG7WBLN |\n",
       "| B000F83SZQ |   4    | A1RK2OCZDSGC6R |\n",
       "| B000F83SZQ |   4    | A2HSAKHC3IBRE6 |\n",
       "| B000F83SZQ |   4    | A3DE6XGZ2EPADS |\n",
       "| B000FA64PA |   5    | A1UG4Q4D3OAH3A |\n",
       "| B000FA64PA |   4    | AQZH7YTWQPOBE  |\n",
       "+------------+--------+----------------+\n",
       "[982619 rows x 3 columns]\n",
       "Note: Only the head of the SFrame is printed.\n",
       "You can use print_rows(num_rows=m, num_columns=n) to print more rows and columns."
      ]
     },
     "execution_count": 7,
     "metadata": {},
     "output_type": "execute_result"
    }
   ],
   "source": [
    "sf"
   ]
  },
  {
   "cell_type": "code",
   "execution_count": 8,
   "metadata": {
    "collapsed": true
   },
   "outputs": [],
   "source": [
    "train, valid = gl.recommender.util.random_split_by_user(sf, max_num_users=None, item_test_proportion=0.4)"
   ]
  },
  {
   "cell_type": "code",
   "execution_count": 9,
   "metadata": {
    "collapsed": false
   },
   "outputs": [
    {
     "data": {
      "text/html": [
       "<div style=\"max-height:1000px;max-width:1500px;overflow:auto;\"><table frame=\"box\" rules=\"cols\">\n",
       "    <tr>\n",
       "        <th style=\"padding-left: 1em; padding-right: 1em; text-align: center\">item_id</th>\n",
       "        <th style=\"padding-left: 1em; padding-right: 1em; text-align: center\">rating</th>\n",
       "        <th style=\"padding-left: 1em; padding-right: 1em; text-align: center\">user_id</th>\n",
       "    </tr>\n",
       "    <tr>\n",
       "        <td style=\"padding-left: 1em; padding-right: 1em; text-align: center; vertical-align: top\">B000F83SZQ</td>\n",
       "        <td style=\"padding-left: 1em; padding-right: 1em; text-align: center; vertical-align: top\">4</td>\n",
       "        <td style=\"padding-left: 1em; padding-right: 1em; text-align: center; vertical-align: top\">A795DMNCJILA6</td>\n",
       "    </tr>\n",
       "    <tr>\n",
       "        <td style=\"padding-left: 1em; padding-right: 1em; text-align: center; vertical-align: top\">B000F83SZQ</td>\n",
       "        <td style=\"padding-left: 1em; padding-right: 1em; text-align: center; vertical-align: top\">4</td>\n",
       "        <td style=\"padding-left: 1em; padding-right: 1em; text-align: center; vertical-align: top\">A3SPTOKDG7WBLN</td>\n",
       "    </tr>\n",
       "    <tr>\n",
       "        <td style=\"padding-left: 1em; padding-right: 1em; text-align: center; vertical-align: top\">B000F83SZQ</td>\n",
       "        <td style=\"padding-left: 1em; padding-right: 1em; text-align: center; vertical-align: top\">4</td>\n",
       "        <td style=\"padding-left: 1em; padding-right: 1em; text-align: center; vertical-align: top\">A2HSAKHC3IBRE6</td>\n",
       "    </tr>\n",
       "    <tr>\n",
       "        <td style=\"padding-left: 1em; padding-right: 1em; text-align: center; vertical-align: top\">B000FA64PA</td>\n",
       "        <td style=\"padding-left: 1em; padding-right: 1em; text-align: center; vertical-align: top\">5</td>\n",
       "        <td style=\"padding-left: 1em; padding-right: 1em; text-align: center; vertical-align: top\">A1UG4Q4D3OAH3A</td>\n",
       "    </tr>\n",
       "    <tr>\n",
       "        <td style=\"padding-left: 1em; padding-right: 1em; text-align: center; vertical-align: top\">B000FA64PA</td>\n",
       "        <td style=\"padding-left: 1em; padding-right: 1em; text-align: center; vertical-align: top\">4</td>\n",
       "        <td style=\"padding-left: 1em; padding-right: 1em; text-align: center; vertical-align: top\">AQZH7YTWQPOBE</td>\n",
       "    </tr>\n",
       "    <tr>\n",
       "        <td style=\"padding-left: 1em; padding-right: 1em; text-align: center; vertical-align: top\">B000FA64PA</td>\n",
       "        <td style=\"padding-left: 1em; padding-right: 1em; text-align: center; vertical-align: top\">5</td>\n",
       "        <td style=\"padding-left: 1em; padding-right: 1em; text-align: center; vertical-align: top\">A1ZT7WV0ZUA0OJ</td>\n",
       "    </tr>\n",
       "    <tr>\n",
       "        <td style=\"padding-left: 1em; padding-right: 1em; text-align: center; vertical-align: top\">B000FA64PA</td>\n",
       "        <td style=\"padding-left: 1em; padding-right: 1em; text-align: center; vertical-align: top\">4</td>\n",
       "        <td style=\"padding-left: 1em; padding-right: 1em; text-align: center; vertical-align: top\">A2ZFR72PT054YS</td>\n",
       "    </tr>\n",
       "    <tr>\n",
       "        <td style=\"padding-left: 1em; padding-right: 1em; text-align: center; vertical-align: top\">B000FA64PA</td>\n",
       "        <td style=\"padding-left: 1em; padding-right: 1em; text-align: center; vertical-align: top\">3</td>\n",
       "        <td style=\"padding-left: 1em; padding-right: 1em; text-align: center; vertical-align: top\">A2QK1U70OJ74P</td>\n",
       "    </tr>\n",
       "    <tr>\n",
       "        <td style=\"padding-left: 1em; padding-right: 1em; text-align: center; vertical-align: top\">B000FA64PK</td>\n",
       "        <td style=\"padding-left: 1em; padding-right: 1em; text-align: center; vertical-align: top\">3</td>\n",
       "        <td style=\"padding-left: 1em; padding-right: 1em; text-align: center; vertical-align: top\">A3SZMGJMV0G16C</td>\n",
       "    </tr>\n",
       "    <tr>\n",
       "        <td style=\"padding-left: 1em; padding-right: 1em; text-align: center; vertical-align: top\">B000FA64PK</td>\n",
       "        <td style=\"padding-left: 1em; padding-right: 1em; text-align: center; vertical-align: top\">5</td>\n",
       "        <td style=\"padding-left: 1em; padding-right: 1em; text-align: center; vertical-align: top\">A2EN84QHDRZLP2</td>\n",
       "    </tr>\n",
       "</table>\n",
       "[589592 rows x 3 columns]<br/>Note: Only the head of the SFrame is printed.<br/>You can use print_rows(num_rows=m, num_columns=n) to print more rows and columns.\n",
       "</div>"
      ],
      "text/plain": [
       "Columns:\n",
       "\titem_id\tstr\n",
       "\trating\tint\n",
       "\tuser_id\tstr\n",
       "\n",
       "Rows: 589592\n",
       "\n",
       "Data:\n",
       "+------------+--------+----------------+\n",
       "|  item_id   | rating |    user_id     |\n",
       "+------------+--------+----------------+\n",
       "| B000F83SZQ |   4    | A795DMNCJILA6  |\n",
       "| B000F83SZQ |   4    | A3SPTOKDG7WBLN |\n",
       "| B000F83SZQ |   4    | A2HSAKHC3IBRE6 |\n",
       "| B000FA64PA |   5    | A1UG4Q4D3OAH3A |\n",
       "| B000FA64PA |   4    | AQZH7YTWQPOBE  |\n",
       "| B000FA64PA |   5    | A1ZT7WV0ZUA0OJ |\n",
       "| B000FA64PA |   4    | A2ZFR72PT054YS |\n",
       "| B000FA64PA |   3    | A2QK1U70OJ74P  |\n",
       "| B000FA64PK |   3    | A3SZMGJMV0G16C |\n",
       "| B000FA64PK |   5    | A2EN84QHDRZLP2 |\n",
       "+------------+--------+----------------+\n",
       "[589592 rows x 3 columns]\n",
       "Note: Only the head of the SFrame is printed.\n",
       "You can use print_rows(num_rows=m, num_columns=n) to print more rows and columns."
      ]
     },
     "execution_count": 9,
     "metadata": {},
     "output_type": "execute_result"
    }
   ],
   "source": [
    "train"
   ]
  },
  {
   "cell_type": "code",
   "execution_count": 10,
   "metadata": {
    "collapsed": false
   },
   "outputs": [
    {
     "data": {
      "text/html": [
       "<div style=\"max-height:1000px;max-width:1500px;overflow:auto;\"><table frame=\"box\" rules=\"cols\">\n",
       "    <tr>\n",
       "        <th style=\"padding-left: 1em; padding-right: 1em; text-align: center\">item_id</th>\n",
       "        <th style=\"padding-left: 1em; padding-right: 1em; text-align: center\">rating</th>\n",
       "        <th style=\"padding-left: 1em; padding-right: 1em; text-align: center\">user_id</th>\n",
       "    </tr>\n",
       "    <tr>\n",
       "        <td style=\"padding-left: 1em; padding-right: 1em; text-align: center; vertical-align: top\">B000F83SZQ</td>\n",
       "        <td style=\"padding-left: 1em; padding-right: 1em; text-align: center; vertical-align: top\">5</td>\n",
       "        <td style=\"padding-left: 1em; padding-right: 1em; text-align: center; vertical-align: top\">A1F6404F1VG29J</td>\n",
       "    </tr>\n",
       "    <tr>\n",
       "        <td style=\"padding-left: 1em; padding-right: 1em; text-align: center; vertical-align: top\">B000F83SZQ</td>\n",
       "        <td style=\"padding-left: 1em; padding-right: 1em; text-align: center; vertical-align: top\">4</td>\n",
       "        <td style=\"padding-left: 1em; padding-right: 1em; text-align: center; vertical-align: top\">AN0N05A9LIJEQ</td>\n",
       "    </tr>\n",
       "    <tr>\n",
       "        <td style=\"padding-left: 1em; padding-right: 1em; text-align: center; vertical-align: top\">B000F83SZQ</td>\n",
       "        <td style=\"padding-left: 1em; padding-right: 1em; text-align: center; vertical-align: top\">5</td>\n",
       "        <td style=\"padding-left: 1em; padding-right: 1em; text-align: center; vertical-align: top\">A1FV0SX13TWVXQ</td>\n",
       "    </tr>\n",
       "    <tr>\n",
       "        <td style=\"padding-left: 1em; padding-right: 1em; text-align: center; vertical-align: top\">B000F83SZQ</td>\n",
       "        <td style=\"padding-left: 1em; padding-right: 1em; text-align: center; vertical-align: top\">4</td>\n",
       "        <td style=\"padding-left: 1em; padding-right: 1em; text-align: center; vertical-align: top\">A1RK2OCZDSGC6R</td>\n",
       "    </tr>\n",
       "    <tr>\n",
       "        <td style=\"padding-left: 1em; padding-right: 1em; text-align: center; vertical-align: top\">B000F83SZQ</td>\n",
       "        <td style=\"padding-left: 1em; padding-right: 1em; text-align: center; vertical-align: top\">4</td>\n",
       "        <td style=\"padding-left: 1em; padding-right: 1em; text-align: center; vertical-align: top\">A3DE6XGZ2EPADS</td>\n",
       "    </tr>\n",
       "    <tr>\n",
       "        <td style=\"padding-left: 1em; padding-right: 1em; text-align: center; vertical-align: top\">B000FA64PK</td>\n",
       "        <td style=\"padding-left: 1em; padding-right: 1em; text-align: center; vertical-align: top\">5</td>\n",
       "        <td style=\"padding-left: 1em; padding-right: 1em; text-align: center; vertical-align: top\">A3H8PE1UFK04JZ</td>\n",
       "    </tr>\n",
       "    <tr>\n",
       "        <td style=\"padding-left: 1em; padding-right: 1em; text-align: center; vertical-align: top\">B000FA64PK</td>\n",
       "        <td style=\"padding-left: 1em; padding-right: 1em; text-align: center; vertical-align: top\">5</td>\n",
       "        <td style=\"padding-left: 1em; padding-right: 1em; text-align: center; vertical-align: top\">A1UG4Q4D3OAH3A</td>\n",
       "    </tr>\n",
       "    <tr>\n",
       "        <td style=\"padding-left: 1em; padding-right: 1em; text-align: center; vertical-align: top\">B000FA64PK</td>\n",
       "        <td style=\"padding-left: 1em; padding-right: 1em; text-align: center; vertical-align: top\">3</td>\n",
       "        <td style=\"padding-left: 1em; padding-right: 1em; text-align: center; vertical-align: top\">A38Z3Q6DTDIH9J</td>\n",
       "    </tr>\n",
       "    <tr>\n",
       "        <td style=\"padding-left: 1em; padding-right: 1em; text-align: center; vertical-align: top\">B000FA64PK</td>\n",
       "        <td style=\"padding-left: 1em; padding-right: 1em; text-align: center; vertical-align: top\">4</td>\n",
       "        <td style=\"padding-left: 1em; padding-right: 1em; text-align: center; vertical-align: top\">A22CW0ZHY3NJH8</td>\n",
       "    </tr>\n",
       "    <tr>\n",
       "        <td style=\"padding-left: 1em; padding-right: 1em; text-align: center; vertical-align: top\">B000FA64QO</td>\n",
       "        <td style=\"padding-left: 1em; padding-right: 1em; text-align: center; vertical-align: top\">2</td>\n",
       "        <td style=\"padding-left: 1em; padding-right: 1em; text-align: center; vertical-align: top\">A3SZMGJMV0G16C</td>\n",
       "    </tr>\n",
       "</table>\n",
       "[393027 rows x 3 columns]<br/>Note: Only the head of the SFrame is printed.<br/>You can use print_rows(num_rows=m, num_columns=n) to print more rows and columns.\n",
       "</div>"
      ],
      "text/plain": [
       "Columns:\n",
       "\titem_id\tstr\n",
       "\trating\tint\n",
       "\tuser_id\tstr\n",
       "\n",
       "Rows: 393027\n",
       "\n",
       "Data:\n",
       "+------------+--------+----------------+\n",
       "|  item_id   | rating |    user_id     |\n",
       "+------------+--------+----------------+\n",
       "| B000F83SZQ |   5    | A1F6404F1VG29J |\n",
       "| B000F83SZQ |   4    | AN0N05A9LIJEQ  |\n",
       "| B000F83SZQ |   5    | A1FV0SX13TWVXQ |\n",
       "| B000F83SZQ |   4    | A1RK2OCZDSGC6R |\n",
       "| B000F83SZQ |   4    | A3DE6XGZ2EPADS |\n",
       "| B000FA64PK |   5    | A3H8PE1UFK04JZ |\n",
       "| B000FA64PK |   5    | A1UG4Q4D3OAH3A |\n",
       "| B000FA64PK |   3    | A38Z3Q6DTDIH9J |\n",
       "| B000FA64PK |   4    | A22CW0ZHY3NJH8 |\n",
       "| B000FA64QO |   2    | A3SZMGJMV0G16C |\n",
       "+------------+--------+----------------+\n",
       "[393027 rows x 3 columns]\n",
       "Note: Only the head of the SFrame is printed.\n",
       "You can use print_rows(num_rows=m, num_columns=n) to print more rows and columns."
      ]
     },
     "execution_count": 10,
     "metadata": {},
     "output_type": "execute_result"
    }
   ],
   "source": [
    "valid"
   ]
  },
  {
   "cell_type": "code",
   "execution_count": 11,
   "metadata": {
    "collapsed": false
   },
   "outputs": [
    {
     "data": {
      "text/html": [
       "<pre>Recsys training: model = factorization_recommender</pre>"
      ],
      "text/plain": [
       "Recsys training: model = factorization_recommender"
      ]
     },
     "metadata": {},
     "output_type": "display_data"
    },
    {
     "data": {
      "text/html": [
       "<pre>Preparing data set.</pre>"
      ],
      "text/plain": [
       "Preparing data set."
      ]
     },
     "metadata": {},
     "output_type": "display_data"
    },
    {
     "data": {
      "text/html": [
       "<pre>    Data has 589592 observations with 67976 users and 61930 items.</pre>"
      ],
      "text/plain": [
       "    Data has 589592 observations with 67976 users and 61930 items."
      ]
     },
     "metadata": {},
     "output_type": "display_data"
    },
    {
     "data": {
      "text/html": [
       "<pre>    Data prepared in: 1.07573s</pre>"
      ],
      "text/plain": [
       "    Data prepared in: 1.07573s"
      ]
     },
     "metadata": {},
     "output_type": "display_data"
    },
    {
     "data": {
      "text/html": [
       "<pre>Training factorization_recommender for recommendations.</pre>"
      ],
      "text/plain": [
       "Training factorization_recommender for recommendations."
      ]
     },
     "metadata": {},
     "output_type": "display_data"
    },
    {
     "data": {
      "text/html": [
       "<pre>+--------------------------------+--------------------------------------------------+----------+</pre>"
      ],
      "text/plain": [
       "+--------------------------------+--------------------------------------------------+----------+"
      ]
     },
     "metadata": {},
     "output_type": "display_data"
    },
    {
     "data": {
      "text/html": [
       "<pre>| Parameter                      | Description                                      | Value    |</pre>"
      ],
      "text/plain": [
       "| Parameter                      | Description                                      | Value    |"
      ]
     },
     "metadata": {},
     "output_type": "display_data"
    },
    {
     "data": {
      "text/html": [
       "<pre>+--------------------------------+--------------------------------------------------+----------+</pre>"
      ],
      "text/plain": [
       "+--------------------------------+--------------------------------------------------+----------+"
      ]
     },
     "metadata": {},
     "output_type": "display_data"
    },
    {
     "data": {
      "text/html": [
       "<pre>| num_factors                    | Factor Dimension                                 | 8        |</pre>"
      ],
      "text/plain": [
       "| num_factors                    | Factor Dimension                                 | 8        |"
      ]
     },
     "metadata": {},
     "output_type": "display_data"
    },
    {
     "data": {
      "text/html": [
       "<pre>| regularization                 | L2 Regularization on Factors                     | 1e-08    |</pre>"
      ],
      "text/plain": [
       "| regularization                 | L2 Regularization on Factors                     | 1e-08    |"
      ]
     },
     "metadata": {},
     "output_type": "display_data"
    },
    {
     "data": {
      "text/html": [
       "<pre>| solver                         | Solver used for training                         | sgd      |</pre>"
      ],
      "text/plain": [
       "| solver                         | Solver used for training                         | sgd      |"
      ]
     },
     "metadata": {},
     "output_type": "display_data"
    },
    {
     "data": {
      "text/html": [
       "<pre>| linear_regularization          | L2 Regularization on Linear Coefficients         | 1e-10    |</pre>"
      ],
      "text/plain": [
       "| linear_regularization          | L2 Regularization on Linear Coefficients         | 1e-10    |"
      ]
     },
     "metadata": {},
     "output_type": "display_data"
    },
    {
     "data": {
      "text/html": [
       "<pre>| max_iterations                 | Maximum Number of Iterations                     | 50       |</pre>"
      ],
      "text/plain": [
       "| max_iterations                 | Maximum Number of Iterations                     | 50       |"
      ]
     },
     "metadata": {},
     "output_type": "display_data"
    },
    {
     "data": {
      "text/html": [
       "<pre>+--------------------------------+--------------------------------------------------+----------+</pre>"
      ],
      "text/plain": [
       "+--------------------------------+--------------------------------------------------+----------+"
      ]
     },
     "metadata": {},
     "output_type": "display_data"
    },
    {
     "data": {
      "text/html": [
       "<pre>  Optimizing model using SGD; tuning step size.</pre>"
      ],
      "text/plain": [
       "  Optimizing model using SGD; tuning step size."
      ]
     },
     "metadata": {},
     "output_type": "display_data"
    },
    {
     "data": {
      "text/html": [
       "<pre>  Using 73699 / 589592 points for tuning the step size.</pre>"
      ],
      "text/plain": [
       "  Using 73699 / 589592 points for tuning the step size."
      ]
     },
     "metadata": {},
     "output_type": "display_data"
    },
    {
     "data": {
      "text/html": [
       "<pre>+---------+-------------------+------------------------------------------+</pre>"
      ],
      "text/plain": [
       "+---------+-------------------+------------------------------------------+"
      ]
     },
     "metadata": {},
     "output_type": "display_data"
    },
    {
     "data": {
      "text/html": [
       "<pre>| Attempt | Initial Step Size | Estimated Objective Value                |</pre>"
      ],
      "text/plain": [
       "| Attempt | Initial Step Size | Estimated Objective Value                |"
      ]
     },
     "metadata": {},
     "output_type": "display_data"
    },
    {
     "data": {
      "text/html": [
       "<pre>+---------+-------------------+------------------------------------------+</pre>"
      ],
      "text/plain": [
       "+---------+-------------------+------------------------------------------+"
      ]
     },
     "metadata": {},
     "output_type": "display_data"
    },
    {
     "data": {
      "text/html": [
       "<pre>| 0       | 25                | Not Viable                               |</pre>"
      ],
      "text/plain": [
       "| 0       | 25                | Not Viable                               |"
      ]
     },
     "metadata": {},
     "output_type": "display_data"
    },
    {
     "data": {
      "text/html": [
       "<pre>| 1       | 6.25              | Not Viable                               |</pre>"
      ],
      "text/plain": [
       "| 1       | 6.25              | Not Viable                               |"
      ]
     },
     "metadata": {},
     "output_type": "display_data"
    },
    {
     "data": {
      "text/html": [
       "<pre>| 2       | 1.5625            | Not Viable                               |</pre>"
      ],
      "text/plain": [
       "| 2       | 1.5625            | Not Viable                               |"
      ]
     },
     "metadata": {},
     "output_type": "display_data"
    },
    {
     "data": {
      "text/html": [
       "<pre>| 3       | 0.390625          | 0.0897929                                |</pre>"
      ],
      "text/plain": [
       "| 3       | 0.390625          | 0.0897929                                |"
      ]
     },
     "metadata": {},
     "output_type": "display_data"
    },
    {
     "data": {
      "text/html": [
       "<pre>| 4       | 0.195312          | 0.119537                                 |</pre>"
      ],
      "text/plain": [
       "| 4       | 0.195312          | 0.119537                                 |"
      ]
     },
     "metadata": {},
     "output_type": "display_data"
    },
    {
     "data": {
      "text/html": [
       "<pre>| 5       | 0.0976562         | 0.202202                                 |</pre>"
      ],
      "text/plain": [
       "| 5       | 0.0976562         | 0.202202                                 |"
      ]
     },
     "metadata": {},
     "output_type": "display_data"
    },
    {
     "data": {
      "text/html": [
       "<pre>+---------+-------------------+------------------------------------------+</pre>"
      ],
      "text/plain": [
       "+---------+-------------------+------------------------------------------+"
      ]
     },
     "metadata": {},
     "output_type": "display_data"
    },
    {
     "data": {
      "text/html": [
       "<pre>| Final   | 0.390625          | 0.0897929                                |</pre>"
      ],
      "text/plain": [
       "| Final   | 0.390625          | 0.0897929                                |"
      ]
     },
     "metadata": {},
     "output_type": "display_data"
    },
    {
     "data": {
      "text/html": [
       "<pre>+---------+-------------------+------------------------------------------+</pre>"
      ],
      "text/plain": [
       "+---------+-------------------+------------------------------------------+"
      ]
     },
     "metadata": {},
     "output_type": "display_data"
    },
    {
     "data": {
      "text/html": [
       "<pre>Starting Optimization.</pre>"
      ],
      "text/plain": [
       "Starting Optimization."
      ]
     },
     "metadata": {},
     "output_type": "display_data"
    },
    {
     "data": {
      "text/html": [
       "<pre>+---------+--------------+-------------------+-----------------------+-------------+</pre>"
      ],
      "text/plain": [
       "+---------+--------------+-------------------+-----------------------+-------------+"
      ]
     },
     "metadata": {},
     "output_type": "display_data"
    },
    {
     "data": {
      "text/html": [
       "<pre>| Iter.   | Elapsed Time | Approx. Objective | Approx. Training RMSE | Step Size   |</pre>"
      ],
      "text/plain": [
       "| Iter.   | Elapsed Time | Approx. Objective | Approx. Training RMSE | Step Size   |"
      ]
     },
     "metadata": {},
     "output_type": "display_data"
    },
    {
     "data": {
      "text/html": [
       "<pre>+---------+--------------+-------------------+-----------------------+-------------+</pre>"
      ],
      "text/plain": [
       "+---------+--------------+-------------------+-----------------------+-------------+"
      ]
     },
     "metadata": {},
     "output_type": "display_data"
    },
    {
     "data": {
      "text/html": [
       "<pre>| Initial | 70us         | 0.91143           | 0.954689              |             |</pre>"
      ],
      "text/plain": [
       "| Initial | 70us         | 0.91143           | 0.954689              |             |"
      ]
     },
     "metadata": {},
     "output_type": "display_data"
    },
    {
     "data": {
      "text/html": [
       "<pre>+---------+--------------+-------------------+-----------------------+-------------+</pre>"
      ],
      "text/plain": [
       "+---------+--------------+-------------------+-----------------------+-------------+"
      ]
     },
     "metadata": {},
     "output_type": "display_data"
    },
    {
     "data": {
      "text/html": [
       "<pre>| 1       | 187.171ms    | DIVERGED          | DIVERGED              | 0.390625    |</pre>"
      ],
      "text/plain": [
       "| 1       | 187.171ms    | DIVERGED          | DIVERGED              | 0.390625    |"
      ]
     },
     "metadata": {},
     "output_type": "display_data"
    },
    {
     "data": {
      "text/html": [
       "<pre>| RESET   | 277.673ms    | 0.911434          | 0.954691              |             |</pre>"
      ],
      "text/plain": [
       "| RESET   | 277.673ms    | 0.911434          | 0.954691              |             |"
      ]
     },
     "metadata": {},
     "output_type": "display_data"
    },
    {
     "data": {
      "text/html": [
       "<pre>| 1       | 389.158ms    | 0.856692          | 0.925355              | 0.195312    |</pre>"
      ],
      "text/plain": [
       "| 1       | 389.158ms    | 0.856692          | 0.925355              | 0.195312    |"
      ]
     },
     "metadata": {},
     "output_type": "display_data"
    },
    {
     "data": {
      "text/html": [
       "<pre>| 2       | 508.273ms    | 0.62654           | 0.791462              | 0.116134    |</pre>"
      ],
      "text/plain": [
       "| 2       | 508.273ms    | 0.62654           | 0.791462              | 0.116134    |"
      ]
     },
     "metadata": {},
     "output_type": "display_data"
    },
    {
     "data": {
      "text/html": [
       "<pre>| 3       | 616.959ms    | 0.538869          | 0.734031              | 0.0856819   |</pre>"
      ],
      "text/plain": [
       "| 3       | 616.959ms    | 0.538869          | 0.734031              | 0.0856819   |"
      ]
     },
     "metadata": {},
     "output_type": "display_data"
    },
    {
     "data": {
      "text/html": [
       "<pre>| 4       | 716.777ms    | 0.469207          | 0.684918              | 0.0690534   |</pre>"
      ],
      "text/plain": [
       "| 4       | 716.777ms    | 0.469207          | 0.684918              | 0.0690534   |"
      ]
     },
     "metadata": {},
     "output_type": "display_data"
    },
    {
     "data": {
      "text/html": [
       "<pre>| 5       | 844.651ms    | 0.396207          | 0.629324              | 0.0584121   |</pre>"
      ],
      "text/plain": [
       "| 5       | 844.651ms    | 0.396207          | 0.629324              | 0.0584121   |"
      ]
     },
     "metadata": {},
     "output_type": "display_data"
    },
    {
     "data": {
      "text/html": [
       "<pre>| 6       | 958.368ms    | 0.329224          | 0.573573              | 0.0509468   |</pre>"
      ],
      "text/plain": [
       "| 6       | 958.368ms    | 0.329224          | 0.573573              | 0.0509468   |"
      ]
     },
     "metadata": {},
     "output_type": "display_data"
    },
    {
     "data": {
      "text/html": [
       "<pre>| 9       | 1.31s        | 0.192188          | 0.437873              | 0.0375879   |</pre>"
      ],
      "text/plain": [
       "| 9       | 1.31s        | 0.192188          | 0.437873              | 0.0375879   |"
      ]
     },
     "metadata": {},
     "output_type": "display_data"
    },
    {
     "data": {
      "text/html": [
       "<pre>| 11      | 1.52s        | 0.142697          | 0.377003              | 0.0323359   |</pre>"
      ],
      "text/plain": [
       "| 11      | 1.52s        | 0.142697          | 0.377003              | 0.0323359   |"
      ]
     },
     "metadata": {},
     "output_type": "display_data"
    },
    {
     "data": {
      "text/html": [
       "<pre>| 19      | 2.41s        | 0.0645114         | 0.252356              | 0.0214617   |</pre>"
      ],
      "text/plain": [
       "| 19      | 2.41s        | 0.0645114         | 0.252356              | 0.0214617   |"
      ]
     },
     "metadata": {},
     "output_type": "display_data"
    },
    {
     "data": {
      "text/html": [
       "<pre>| 29      | 4.09s        | 0.0385752         | 0.193907              | 0.015629    |</pre>"
      ],
      "text/plain": [
       "| 29      | 4.09s        | 0.0385752         | 0.193907              | 0.015629    |"
      ]
     },
     "metadata": {},
     "output_type": "display_data"
    },
    {
     "data": {
      "text/html": [
       "<pre>| 39      | 5.59s        | 0.0287035         | 0.16628               | 0.012515    |</pre>"
      ],
      "text/plain": [
       "| 39      | 5.59s        | 0.0287035         | 0.16628               | 0.012515    |"
      ]
     },
     "metadata": {},
     "output_type": "display_data"
    },
    {
     "data": {
      "text/html": [
       "<pre>| 49      | 7.13s        | 0.0236061         | 0.150003              | 0.0105459   |</pre>"
      ],
      "text/plain": [
       "| 49      | 7.13s        | 0.0236061         | 0.150003              | 0.0105459   |"
      ]
     },
     "metadata": {},
     "output_type": "display_data"
    },
    {
     "data": {
      "text/html": [
       "<pre>+---------+--------------+-------------------+-----------------------+-------------+</pre>"
      ],
      "text/plain": [
       "+---------+--------------+-------------------+-----------------------+-------------+"
      ]
     },
     "metadata": {},
     "output_type": "display_data"
    },
    {
     "data": {
      "text/html": [
       "<pre>Optimization Complete: Maximum number of passes through the data reached.</pre>"
      ],
      "text/plain": [
       "Optimization Complete: Maximum number of passes through the data reached."
      ]
     },
     "metadata": {},
     "output_type": "display_data"
    },
    {
     "data": {
      "text/html": [
       "<pre>Computing final objective value and training RMSE.</pre>"
      ],
      "text/plain": [
       "Computing final objective value and training RMSE."
      ]
     },
     "metadata": {},
     "output_type": "display_data"
    },
    {
     "data": {
      "text/html": [
       "<pre>       Final objective value: 0.0210608</pre>"
      ],
      "text/plain": [
       "       Final objective value: 0.0210608"
      ]
     },
     "metadata": {},
     "output_type": "display_data"
    },
    {
     "data": {
      "text/html": [
       "<pre>       Final training RMSE: 0.14125</pre>"
      ],
      "text/plain": [
       "       Final training RMSE: 0.14125"
      ]
     },
     "metadata": {},
     "output_type": "display_data"
    }
   ],
   "source": [
    "m1 = gl.factorization_recommender.create(train, target='rating')"
   ]
  },
  {
   "cell_type": "code",
   "execution_count": 12,
   "metadata": {
    "collapsed": false
   },
   "outputs": [
    {
     "data": {
      "text/html": [
       "<pre>recommendations finished on 1000/66235 queries. users per second: 1142.79</pre>"
      ],
      "text/plain": [
       "recommendations finished on 1000/66235 queries. users per second: 1142.79"
      ]
     },
     "metadata": {},
     "output_type": "display_data"
    },
    {
     "data": {
      "text/html": [
       "<pre>recommendations finished on 2000/66235 queries. users per second: 1265.5</pre>"
      ],
      "text/plain": [
       "recommendations finished on 2000/66235 queries. users per second: 1265.5"
      ]
     },
     "metadata": {},
     "output_type": "display_data"
    },
    {
     "data": {
      "text/html": [
       "<pre>recommendations finished on 3000/66235 queries. users per second: 1347.55</pre>"
      ],
      "text/plain": [
       "recommendations finished on 3000/66235 queries. users per second: 1347.55"
      ]
     },
     "metadata": {},
     "output_type": "display_data"
    },
    {
     "data": {
      "text/html": [
       "<pre>recommendations finished on 4000/66235 queries. users per second: 1394.81</pre>"
      ],
      "text/plain": [
       "recommendations finished on 4000/66235 queries. users per second: 1394.81"
      ]
     },
     "metadata": {},
     "output_type": "display_data"
    },
    {
     "data": {
      "text/html": [
       "<pre>recommendations finished on 5000/66235 queries. users per second: 1417.51</pre>"
      ],
      "text/plain": [
       "recommendations finished on 5000/66235 queries. users per second: 1417.51"
      ]
     },
     "metadata": {},
     "output_type": "display_data"
    },
    {
     "data": {
      "text/html": [
       "<pre>recommendations finished on 6000/66235 queries. users per second: 1433.5</pre>"
      ],
      "text/plain": [
       "recommendations finished on 6000/66235 queries. users per second: 1433.5"
      ]
     },
     "metadata": {},
     "output_type": "display_data"
    },
    {
     "data": {
      "text/html": [
       "<pre>recommendations finished on 7000/66235 queries. users per second: 1449.39</pre>"
      ],
      "text/plain": [
       "recommendations finished on 7000/66235 queries. users per second: 1449.39"
      ]
     },
     "metadata": {},
     "output_type": "display_data"
    },
    {
     "data": {
      "text/html": [
       "<pre>recommendations finished on 8000/66235 queries. users per second: 1463.32</pre>"
      ],
      "text/plain": [
       "recommendations finished on 8000/66235 queries. users per second: 1463.32"
      ]
     },
     "metadata": {},
     "output_type": "display_data"
    },
    {
     "data": {
      "text/html": [
       "<pre>recommendations finished on 9000/66235 queries. users per second: 1473.17</pre>"
      ],
      "text/plain": [
       "recommendations finished on 9000/66235 queries. users per second: 1473.17"
      ]
     },
     "metadata": {},
     "output_type": "display_data"
    },
    {
     "data": {
      "text/html": [
       "<pre>recommendations finished on 10000/66235 queries. users per second: 1482.66</pre>"
      ],
      "text/plain": [
       "recommendations finished on 10000/66235 queries. users per second: 1482.66"
      ]
     },
     "metadata": {},
     "output_type": "display_data"
    },
    {
     "data": {
      "text/html": [
       "<pre>recommendations finished on 11000/66235 queries. users per second: 1489.68</pre>"
      ],
      "text/plain": [
       "recommendations finished on 11000/66235 queries. users per second: 1489.68"
      ]
     },
     "metadata": {},
     "output_type": "display_data"
    },
    {
     "data": {
      "text/html": [
       "<pre>recommendations finished on 12000/66235 queries. users per second: 1474.5</pre>"
      ],
      "text/plain": [
       "recommendations finished on 12000/66235 queries. users per second: 1474.5"
      ]
     },
     "metadata": {},
     "output_type": "display_data"
    },
    {
     "data": {
      "text/html": [
       "<pre>recommendations finished on 13000/66235 queries. users per second: 1417.36</pre>"
      ],
      "text/plain": [
       "recommendations finished on 13000/66235 queries. users per second: 1417.36"
      ]
     },
     "metadata": {},
     "output_type": "display_data"
    },
    {
     "data": {
      "text/html": [
       "<pre>recommendations finished on 14000/66235 queries. users per second: 1386.05</pre>"
      ],
      "text/plain": [
       "recommendations finished on 14000/66235 queries. users per second: 1386.05"
      ]
     },
     "metadata": {},
     "output_type": "display_data"
    },
    {
     "data": {
      "text/html": [
       "<pre>recommendations finished on 15000/66235 queries. users per second: 1388.79</pre>"
      ],
      "text/plain": [
       "recommendations finished on 15000/66235 queries. users per second: 1388.79"
      ]
     },
     "metadata": {},
     "output_type": "display_data"
    },
    {
     "data": {
      "text/html": [
       "<pre>recommendations finished on 16000/66235 queries. users per second: 1387.68</pre>"
      ],
      "text/plain": [
       "recommendations finished on 16000/66235 queries. users per second: 1387.68"
      ]
     },
     "metadata": {},
     "output_type": "display_data"
    },
    {
     "data": {
      "text/html": [
       "<pre>recommendations finished on 17000/66235 queries. users per second: 1395.63</pre>"
      ],
      "text/plain": [
       "recommendations finished on 17000/66235 queries. users per second: 1395.63"
      ]
     },
     "metadata": {},
     "output_type": "display_data"
    },
    {
     "data": {
      "text/html": [
       "<pre>recommendations finished on 18000/66235 queries. users per second: 1400.33</pre>"
      ],
      "text/plain": [
       "recommendations finished on 18000/66235 queries. users per second: 1400.33"
      ]
     },
     "metadata": {},
     "output_type": "display_data"
    },
    {
     "data": {
      "text/html": [
       "<pre>recommendations finished on 19000/66235 queries. users per second: 1374.36</pre>"
      ],
      "text/plain": [
       "recommendations finished on 19000/66235 queries. users per second: 1374.36"
      ]
     },
     "metadata": {},
     "output_type": "display_data"
    },
    {
     "data": {
      "text/html": [
       "<pre>recommendations finished on 20000/66235 queries. users per second: 1376.88</pre>"
      ],
      "text/plain": [
       "recommendations finished on 20000/66235 queries. users per second: 1376.88"
      ]
     },
     "metadata": {},
     "output_type": "display_data"
    },
    {
     "data": {
      "text/html": [
       "<pre>recommendations finished on 21000/66235 queries. users per second: 1359.97</pre>"
      ],
      "text/plain": [
       "recommendations finished on 21000/66235 queries. users per second: 1359.97"
      ]
     },
     "metadata": {},
     "output_type": "display_data"
    },
    {
     "data": {
      "text/html": [
       "<pre>recommendations finished on 22000/66235 queries. users per second: 1355.41</pre>"
      ],
      "text/plain": [
       "recommendations finished on 22000/66235 queries. users per second: 1355.41"
      ]
     },
     "metadata": {},
     "output_type": "display_data"
    },
    {
     "data": {
      "text/html": [
       "<pre>recommendations finished on 23000/66235 queries. users per second: 1327.43</pre>"
      ],
      "text/plain": [
       "recommendations finished on 23000/66235 queries. users per second: 1327.43"
      ]
     },
     "metadata": {},
     "output_type": "display_data"
    },
    {
     "data": {
      "text/html": [
       "<pre>recommendations finished on 24000/66235 queries. users per second: 1304.64</pre>"
      ],
      "text/plain": [
       "recommendations finished on 24000/66235 queries. users per second: 1304.64"
      ]
     },
     "metadata": {},
     "output_type": "display_data"
    },
    {
     "data": {
      "text/html": [
       "<pre>recommendations finished on 25000/66235 queries. users per second: 1287.55</pre>"
      ],
      "text/plain": [
       "recommendations finished on 25000/66235 queries. users per second: 1287.55"
      ]
     },
     "metadata": {},
     "output_type": "display_data"
    },
    {
     "data": {
      "text/html": [
       "<pre>recommendations finished on 26000/66235 queries. users per second: 1268.15</pre>"
      ],
      "text/plain": [
       "recommendations finished on 26000/66235 queries. users per second: 1268.15"
      ]
     },
     "metadata": {},
     "output_type": "display_data"
    },
    {
     "data": {
      "text/html": [
       "<pre>recommendations finished on 27000/66235 queries. users per second: 1264.99</pre>"
      ],
      "text/plain": [
       "recommendations finished on 27000/66235 queries. users per second: 1264.99"
      ]
     },
     "metadata": {},
     "output_type": "display_data"
    },
    {
     "data": {
      "text/html": [
       "<pre>recommendations finished on 28000/66235 queries. users per second: 1253.16</pre>"
      ],
      "text/plain": [
       "recommendations finished on 28000/66235 queries. users per second: 1253.16"
      ]
     },
     "metadata": {},
     "output_type": "display_data"
    },
    {
     "data": {
      "text/html": [
       "<pre>recommendations finished on 29000/66235 queries. users per second: 1255.43</pre>"
      ],
      "text/plain": [
       "recommendations finished on 29000/66235 queries. users per second: 1255.43"
      ]
     },
     "metadata": {},
     "output_type": "display_data"
    },
    {
     "data": {
      "text/html": [
       "<pre>recommendations finished on 30000/66235 queries. users per second: 1252.49</pre>"
      ],
      "text/plain": [
       "recommendations finished on 30000/66235 queries. users per second: 1252.49"
      ]
     },
     "metadata": {},
     "output_type": "display_data"
    },
    {
     "data": {
      "text/html": [
       "<pre>recommendations finished on 31000/66235 queries. users per second: 1239.52</pre>"
      ],
      "text/plain": [
       "recommendations finished on 31000/66235 queries. users per second: 1239.52"
      ]
     },
     "metadata": {},
     "output_type": "display_data"
    },
    {
     "data": {
      "text/html": [
       "<pre>recommendations finished on 32000/66235 queries. users per second: 1242.68</pre>"
      ],
      "text/plain": [
       "recommendations finished on 32000/66235 queries. users per second: 1242.68"
      ]
     },
     "metadata": {},
     "output_type": "display_data"
    },
    {
     "data": {
      "text/html": [
       "<pre>recommendations finished on 33000/66235 queries. users per second: 1249.84</pre>"
      ],
      "text/plain": [
       "recommendations finished on 33000/66235 queries. users per second: 1249.84"
      ]
     },
     "metadata": {},
     "output_type": "display_data"
    },
    {
     "data": {
      "text/html": [
       "<pre>recommendations finished on 34000/66235 queries. users per second: 1256.86</pre>"
      ],
      "text/plain": [
       "recommendations finished on 34000/66235 queries. users per second: 1256.86"
      ]
     },
     "metadata": {},
     "output_type": "display_data"
    },
    {
     "data": {
      "text/html": [
       "<pre>recommendations finished on 35000/66235 queries. users per second: 1263.09</pre>"
      ],
      "text/plain": [
       "recommendations finished on 35000/66235 queries. users per second: 1263.09"
      ]
     },
     "metadata": {},
     "output_type": "display_data"
    },
    {
     "data": {
      "text/html": [
       "<pre>recommendations finished on 36000/66235 queries. users per second: 1259.47</pre>"
      ],
      "text/plain": [
       "recommendations finished on 36000/66235 queries. users per second: 1259.47"
      ]
     },
     "metadata": {},
     "output_type": "display_data"
    },
    {
     "data": {
      "text/html": [
       "<pre>recommendations finished on 37000/66235 queries. users per second: 1252.09</pre>"
      ],
      "text/plain": [
       "recommendations finished on 37000/66235 queries. users per second: 1252.09"
      ]
     },
     "metadata": {},
     "output_type": "display_data"
    },
    {
     "data": {
      "text/html": [
       "<pre>recommendations finished on 38000/66235 queries. users per second: 1247.47</pre>"
      ],
      "text/plain": [
       "recommendations finished on 38000/66235 queries. users per second: 1247.47"
      ]
     },
     "metadata": {},
     "output_type": "display_data"
    },
    {
     "data": {
      "text/html": [
       "<pre>recommendations finished on 39000/66235 queries. users per second: 1236.92</pre>"
      ],
      "text/plain": [
       "recommendations finished on 39000/66235 queries. users per second: 1236.92"
      ]
     },
     "metadata": {},
     "output_type": "display_data"
    },
    {
     "data": {
      "text/html": [
       "<pre>recommendations finished on 40000/66235 queries. users per second: 1226.31</pre>"
      ],
      "text/plain": [
       "recommendations finished on 40000/66235 queries. users per second: 1226.31"
      ]
     },
     "metadata": {},
     "output_type": "display_data"
    },
    {
     "data": {
      "text/html": [
       "<pre>recommendations finished on 41000/66235 queries. users per second: 1223.11</pre>"
      ],
      "text/plain": [
       "recommendations finished on 41000/66235 queries. users per second: 1223.11"
      ]
     },
     "metadata": {},
     "output_type": "display_data"
    },
    {
     "data": {
      "text/html": [
       "<pre>recommendations finished on 42000/66235 queries. users per second: 1219.45</pre>"
      ],
      "text/plain": [
       "recommendations finished on 42000/66235 queries. users per second: 1219.45"
      ]
     },
     "metadata": {},
     "output_type": "display_data"
    },
    {
     "data": {
      "text/html": [
       "<pre>recommendations finished on 43000/66235 queries. users per second: 1215.8</pre>"
      ],
      "text/plain": [
       "recommendations finished on 43000/66235 queries. users per second: 1215.8"
      ]
     },
     "metadata": {},
     "output_type": "display_data"
    },
    {
     "data": {
      "text/html": [
       "<pre>recommendations finished on 44000/66235 queries. users per second: 1218.33</pre>"
      ],
      "text/plain": [
       "recommendations finished on 44000/66235 queries. users per second: 1218.33"
      ]
     },
     "metadata": {},
     "output_type": "display_data"
    },
    {
     "data": {
      "text/html": [
       "<pre>recommendations finished on 45000/66235 queries. users per second: 1222.4</pre>"
      ],
      "text/plain": [
       "recommendations finished on 45000/66235 queries. users per second: 1222.4"
      ]
     },
     "metadata": {},
     "output_type": "display_data"
    },
    {
     "data": {
      "text/html": [
       "<pre>recommendations finished on 46000/66235 queries. users per second: 1225.81</pre>"
      ],
      "text/plain": [
       "recommendations finished on 46000/66235 queries. users per second: 1225.81"
      ]
     },
     "metadata": {},
     "output_type": "display_data"
    },
    {
     "data": {
      "text/html": [
       "<pre>recommendations finished on 47000/66235 queries. users per second: 1228.27</pre>"
      ],
      "text/plain": [
       "recommendations finished on 47000/66235 queries. users per second: 1228.27"
      ]
     },
     "metadata": {},
     "output_type": "display_data"
    },
    {
     "data": {
      "text/html": [
       "<pre>recommendations finished on 48000/66235 queries. users per second: 1231.56</pre>"
      ],
      "text/plain": [
       "recommendations finished on 48000/66235 queries. users per second: 1231.56"
      ]
     },
     "metadata": {},
     "output_type": "display_data"
    },
    {
     "data": {
      "text/html": [
       "<pre>recommendations finished on 49000/66235 queries. users per second: 1235.53</pre>"
      ],
      "text/plain": [
       "recommendations finished on 49000/66235 queries. users per second: 1235.53"
      ]
     },
     "metadata": {},
     "output_type": "display_data"
    },
    {
     "data": {
      "text/html": [
       "<pre>recommendations finished on 50000/66235 queries. users per second: 1238.66</pre>"
      ],
      "text/plain": [
       "recommendations finished on 50000/66235 queries. users per second: 1238.66"
      ]
     },
     "metadata": {},
     "output_type": "display_data"
    },
    {
     "data": {
      "text/html": [
       "<pre>recommendations finished on 51000/66235 queries. users per second: 1241.35</pre>"
      ],
      "text/plain": [
       "recommendations finished on 51000/66235 queries. users per second: 1241.35"
      ]
     },
     "metadata": {},
     "output_type": "display_data"
    },
    {
     "data": {
      "text/html": [
       "<pre>recommendations finished on 52000/66235 queries. users per second: 1241.58</pre>"
      ],
      "text/plain": [
       "recommendations finished on 52000/66235 queries. users per second: 1241.58"
      ]
     },
     "metadata": {},
     "output_type": "display_data"
    },
    {
     "data": {
      "text/html": [
       "<pre>recommendations finished on 53000/66235 queries. users per second: 1244.21</pre>"
      ],
      "text/plain": [
       "recommendations finished on 53000/66235 queries. users per second: 1244.21"
      ]
     },
     "metadata": {},
     "output_type": "display_data"
    },
    {
     "data": {
      "text/html": [
       "<pre>recommendations finished on 54000/66235 queries. users per second: 1247.53</pre>"
      ],
      "text/plain": [
       "recommendations finished on 54000/66235 queries. users per second: 1247.53"
      ]
     },
     "metadata": {},
     "output_type": "display_data"
    },
    {
     "data": {
      "text/html": [
       "<pre>recommendations finished on 55000/66235 queries. users per second: 1249.49</pre>"
      ],
      "text/plain": [
       "recommendations finished on 55000/66235 queries. users per second: 1249.49"
      ]
     },
     "metadata": {},
     "output_type": "display_data"
    },
    {
     "data": {
      "text/html": [
       "<pre>recommendations finished on 56000/66235 queries. users per second: 1246.95</pre>"
      ],
      "text/plain": [
       "recommendations finished on 56000/66235 queries. users per second: 1246.95"
      ]
     },
     "metadata": {},
     "output_type": "display_data"
    },
    {
     "data": {
      "text/html": [
       "<pre>recommendations finished on 57000/66235 queries. users per second: 1233.4</pre>"
      ],
      "text/plain": [
       "recommendations finished on 57000/66235 queries. users per second: 1233.4"
      ]
     },
     "metadata": {},
     "output_type": "display_data"
    },
    {
     "data": {
      "text/html": [
       "<pre>recommendations finished on 58000/66235 queries. users per second: 1221.56</pre>"
      ],
      "text/plain": [
       "recommendations finished on 58000/66235 queries. users per second: 1221.56"
      ]
     },
     "metadata": {},
     "output_type": "display_data"
    },
    {
     "data": {
      "text/html": [
       "<pre>recommendations finished on 59000/66235 queries. users per second: 1210.66</pre>"
      ],
      "text/plain": [
       "recommendations finished on 59000/66235 queries. users per second: 1210.66"
      ]
     },
     "metadata": {},
     "output_type": "display_data"
    },
    {
     "data": {
      "text/html": [
       "<pre>recommendations finished on 60000/66235 queries. users per second: 1198.78</pre>"
      ],
      "text/plain": [
       "recommendations finished on 60000/66235 queries. users per second: 1198.78"
      ]
     },
     "metadata": {},
     "output_type": "display_data"
    },
    {
     "data": {
      "text/html": [
       "<pre>recommendations finished on 61000/66235 queries. users per second: 1185.7</pre>"
      ],
      "text/plain": [
       "recommendations finished on 61000/66235 queries. users per second: 1185.7"
      ]
     },
     "metadata": {},
     "output_type": "display_data"
    },
    {
     "data": {
      "text/html": [
       "<pre>recommendations finished on 62000/66235 queries. users per second: 1160.51</pre>"
      ],
      "text/plain": [
       "recommendations finished on 62000/66235 queries. users per second: 1160.51"
      ]
     },
     "metadata": {},
     "output_type": "display_data"
    },
    {
     "data": {
      "text/html": [
       "<pre>recommendations finished on 63000/66235 queries. users per second: 1138.83</pre>"
      ],
      "text/plain": [
       "recommendations finished on 63000/66235 queries. users per second: 1138.83"
      ]
     },
     "metadata": {},
     "output_type": "display_data"
    },
    {
     "data": {
      "text/html": [
       "<pre>recommendations finished on 64000/66235 queries. users per second: 1132.87</pre>"
      ],
      "text/plain": [
       "recommendations finished on 64000/66235 queries. users per second: 1132.87"
      ]
     },
     "metadata": {},
     "output_type": "display_data"
    },
    {
     "data": {
      "text/html": [
       "<pre>recommendations finished on 65000/66235 queries. users per second: 1114.72</pre>"
      ],
      "text/plain": [
       "recommendations finished on 65000/66235 queries. users per second: 1114.72"
      ]
     },
     "metadata": {},
     "output_type": "display_data"
    },
    {
     "data": {
      "text/html": [
       "<pre>recommendations finished on 66000/66235 queries. users per second: 1097.3</pre>"
      ],
      "text/plain": [
       "recommendations finished on 66000/66235 queries. users per second: 1097.3"
      ]
     },
     "metadata": {},
     "output_type": "display_data"
    },
    {
     "name": "stdout",
     "output_type": "stream",
     "text": [
      "\n",
      "Precision and recall summary statistics by cutoff\n",
      "+--------+-------------------+-------------------+\n",
      "| cutoff |   mean_precision  |    mean_recall    |\n",
      "+--------+-------------------+-------------------+\n",
      "|   1    | 0.000120782063864 | 1.56137740119e-05 |\n",
      "|   2    | 0.000166075337812 | 5.34454688656e-05 |\n",
      "|   3    | 0.000156010165824 | 7.52188255549e-05 |\n",
      "|   4    | 0.000143428700838 | 9.71824687158e-05 |\n",
      "|   5    |  0.00013286027025 |  0.00011266715987 |\n",
      "|   6    | 0.000130847235852 | 0.000141705615979 |\n",
      "|   7    | 0.000138036644415 | 0.000164926326531 |\n",
      "|   8    | 0.000154752019325 | 0.000195527143501 |\n",
      "|   9    | 0.000150977579829 | 0.000210421906419 |\n",
      "|   10   | 0.000152487355628 | 0.000241537198824 |\n",
      "+--------+-------------------+-------------------+\n",
      "[10 rows x 3 columns]\n",
      "\n",
      "('\\nOverall RMSE: ', 0.9663450445826951)\n",
      "\n",
      "Per User RMSE (best)\n",
      "+----------------+-------+-------------------+\n",
      "|    user_id     | count |        rmse       |\n",
      "+----------------+-------+-------------------+\n",
      "| A3ANIY3SNWHB8R |   1   | 2.22748263559e-05 |\n",
      "+----------------+-------+-------------------+\n",
      "[1 rows x 3 columns]\n",
      "\n",
      "\n",
      "Per User RMSE (worst)\n",
      "+----------------+-------+---------------+\n",
      "|    user_id     | count |      rmse     |\n",
      "+----------------+-------+---------------+\n",
      "| A28LEGTRT35UPA |   1   | 4.96511219573 |\n",
      "+----------------+-------+---------------+\n",
      "[1 rows x 3 columns]\n",
      "\n",
      "\n",
      "Per Item RMSE (best)\n",
      "+------------+-------+-------------------+\n",
      "|  item_id   | count |        rmse       |\n",
      "+------------+-------+-------------------+\n",
      "| B006O09K56 |   1   | 9.31542178169e-05 |\n",
      "+------------+-------+-------------------+\n",
      "[1 rows x 3 columns]\n",
      "\n",
      "\n",
      "Per Item RMSE (worst)\n",
      "+------------+-------+---------------+\n",
      "|  item_id   | count |      rmse     |\n",
      "+------------+-------+---------------+\n",
      "| B005VXJ7EG |   1   | 4.53021844981 |\n",
      "+------------+-------+---------------+\n",
      "[1 rows x 3 columns]\n",
      "\n"
     ]
    }
   ],
   "source": [
    "eval1 = m1.evaluate(valid)"
   ]
  },
  {
   "cell_type": "code",
   "execution_count": 13,
   "metadata": {
    "collapsed": false
   },
   "outputs": [
    {
     "data": {
      "text/html": [
       "<pre>Recsys training: model = factorization_recommender</pre>"
      ],
      "text/plain": [
       "Recsys training: model = factorization_recommender"
      ]
     },
     "metadata": {},
     "output_type": "display_data"
    },
    {
     "data": {
      "text/html": [
       "<pre>Preparing data set.</pre>"
      ],
      "text/plain": [
       "Preparing data set."
      ]
     },
     "metadata": {},
     "output_type": "display_data"
    },
    {
     "data": {
      "text/html": [
       "<pre>    Data has 589592 observations with 67976 users and 61930 items.</pre>"
      ],
      "text/plain": [
       "    Data has 589592 observations with 67976 users and 61930 items."
      ]
     },
     "metadata": {},
     "output_type": "display_data"
    },
    {
     "data": {
      "text/html": [
       "<pre>    Data prepared in: 1.25348s</pre>"
      ],
      "text/plain": [
       "    Data prepared in: 1.25348s"
      ]
     },
     "metadata": {},
     "output_type": "display_data"
    },
    {
     "data": {
      "text/html": [
       "<pre>Training factorization_recommender for recommendations.</pre>"
      ],
      "text/plain": [
       "Training factorization_recommender for recommendations."
      ]
     },
     "metadata": {},
     "output_type": "display_data"
    },
    {
     "data": {
      "text/html": [
       "<pre>+--------------------------------+--------------------------------------------------+----------+</pre>"
      ],
      "text/plain": [
       "+--------------------------------+--------------------------------------------------+----------+"
      ]
     },
     "metadata": {},
     "output_type": "display_data"
    },
    {
     "data": {
      "text/html": [
       "<pre>| Parameter                      | Description                                      | Value    |</pre>"
      ],
      "text/plain": [
       "| Parameter                      | Description                                      | Value    |"
      ]
     },
     "metadata": {},
     "output_type": "display_data"
    },
    {
     "data": {
      "text/html": [
       "<pre>+--------------------------------+--------------------------------------------------+----------+</pre>"
      ],
      "text/plain": [
       "+--------------------------------+--------------------------------------------------+----------+"
      ]
     },
     "metadata": {},
     "output_type": "display_data"
    },
    {
     "data": {
      "text/html": [
       "<pre>| num_factors                    | Factor Dimension                                 | 8        |</pre>"
      ],
      "text/plain": [
       "| num_factors                    | Factor Dimension                                 | 8        |"
      ]
     },
     "metadata": {},
     "output_type": "display_data"
    },
    {
     "data": {
      "text/html": [
       "<pre>| regularization                 | L2 Regularization on Factors                     | 0.001    |</pre>"
      ],
      "text/plain": [
       "| regularization                 | L2 Regularization on Factors                     | 0.001    |"
      ]
     },
     "metadata": {},
     "output_type": "display_data"
    },
    {
     "data": {
      "text/html": [
       "<pre>| solver                         | Solver used for training                         | sgd      |</pre>"
      ],
      "text/plain": [
       "| solver                         | Solver used for training                         | sgd      |"
      ]
     },
     "metadata": {},
     "output_type": "display_data"
    },
    {
     "data": {
      "text/html": [
       "<pre>| linear_regularization          | L2 Regularization on Linear Coefficients         | 1e-10    |</pre>"
      ],
      "text/plain": [
       "| linear_regularization          | L2 Regularization on Linear Coefficients         | 1e-10    |"
      ]
     },
     "metadata": {},
     "output_type": "display_data"
    },
    {
     "data": {
      "text/html": [
       "<pre>| max_iterations                 | Maximum Number of Iterations                     | 50       |</pre>"
      ],
      "text/plain": [
       "| max_iterations                 | Maximum Number of Iterations                     | 50       |"
      ]
     },
     "metadata": {},
     "output_type": "display_data"
    },
    {
     "data": {
      "text/html": [
       "<pre>+--------------------------------+--------------------------------------------------+----------+</pre>"
      ],
      "text/plain": [
       "+--------------------------------+--------------------------------------------------+----------+"
      ]
     },
     "metadata": {},
     "output_type": "display_data"
    },
    {
     "data": {
      "text/html": [
       "<pre>  Optimizing model using SGD; tuning step size.</pre>"
      ],
      "text/plain": [
       "  Optimizing model using SGD; tuning step size."
      ]
     },
     "metadata": {},
     "output_type": "display_data"
    },
    {
     "data": {
      "text/html": [
       "<pre>  Using 73699 / 589592 points for tuning the step size.</pre>"
      ],
      "text/plain": [
       "  Using 73699 / 589592 points for tuning the step size."
      ]
     },
     "metadata": {},
     "output_type": "display_data"
    },
    {
     "data": {
      "text/html": [
       "<pre>+---------+-------------------+------------------------------------------+</pre>"
      ],
      "text/plain": [
       "+---------+-------------------+------------------------------------------+"
      ]
     },
     "metadata": {},
     "output_type": "display_data"
    },
    {
     "data": {
      "text/html": [
       "<pre>| Attempt | Initial Step Size | Estimated Objective Value                |</pre>"
      ],
      "text/plain": [
       "| Attempt | Initial Step Size | Estimated Objective Value                |"
      ]
     },
     "metadata": {},
     "output_type": "display_data"
    },
    {
     "data": {
      "text/html": [
       "<pre>+---------+-------------------+------------------------------------------+</pre>"
      ],
      "text/plain": [
       "+---------+-------------------+------------------------------------------+"
      ]
     },
     "metadata": {},
     "output_type": "display_data"
    },
    {
     "data": {
      "text/html": [
       "<pre>| 0       | 0.124965          | Not Viable                               |</pre>"
      ],
      "text/plain": [
       "| 0       | 0.124965          | Not Viable                               |"
      ]
     },
     "metadata": {},
     "output_type": "display_data"
    },
    {
     "data": {
      "text/html": [
       "<pre>| 1       | 0.0312411         | 0.620317                                 |</pre>"
      ],
      "text/plain": [
       "| 1       | 0.0312411         | 0.620317                                 |"
      ]
     },
     "metadata": {},
     "output_type": "display_data"
    },
    {
     "data": {
      "text/html": [
       "<pre>| 2       | 0.0156206         | 0.723389                                 |</pre>"
      ],
      "text/plain": [
       "| 2       | 0.0156206         | 0.723389                                 |"
      ]
     },
     "metadata": {},
     "output_type": "display_data"
    },
    {
     "data": {
      "text/html": [
       "<pre>| 3       | 0.00781029        | 0.788831                                 |</pre>"
      ],
      "text/plain": [
       "| 3       | 0.00781029        | 0.788831                                 |"
      ]
     },
     "metadata": {},
     "output_type": "display_data"
    },
    {
     "data": {
      "text/html": [
       "<pre>| 4       | 0.00390514        | 0.828738                                 |</pre>"
      ],
      "text/plain": [
       "| 4       | 0.00390514        | 0.828738                                 |"
      ]
     },
     "metadata": {},
     "output_type": "display_data"
    },
    {
     "data": {
      "text/html": [
       "<pre>+---------+-------------------+------------------------------------------+</pre>"
      ],
      "text/plain": [
       "+---------+-------------------+------------------------------------------+"
      ]
     },
     "metadata": {},
     "output_type": "display_data"
    },
    {
     "data": {
      "text/html": [
       "<pre>| Final   | 0.0312411         | 0.620317                                 |</pre>"
      ],
      "text/plain": [
       "| Final   | 0.0312411         | 0.620317                                 |"
      ]
     },
     "metadata": {},
     "output_type": "display_data"
    },
    {
     "data": {
      "text/html": [
       "<pre>+---------+-------------------+------------------------------------------+</pre>"
      ],
      "text/plain": [
       "+---------+-------------------+------------------------------------------+"
      ]
     },
     "metadata": {},
     "output_type": "display_data"
    },
    {
     "data": {
      "text/html": [
       "<pre>Starting Optimization.</pre>"
      ],
      "text/plain": [
       "Starting Optimization."
      ]
     },
     "metadata": {},
     "output_type": "display_data"
    },
    {
     "data": {
      "text/html": [
       "<pre>+---------+--------------+-------------------+-----------------------+-------------+</pre>"
      ],
      "text/plain": [
       "+---------+--------------+-------------------+-----------------------+-------------+"
      ]
     },
     "metadata": {},
     "output_type": "display_data"
    },
    {
     "data": {
      "text/html": [
       "<pre>| Iter.   | Elapsed Time | Approx. Objective | Approx. Training RMSE | Step Size   |</pre>"
      ],
      "text/plain": [
       "| Iter.   | Elapsed Time | Approx. Objective | Approx. Training RMSE | Step Size   |"
      ]
     },
     "metadata": {},
     "output_type": "display_data"
    },
    {
     "data": {
      "text/html": [
       "<pre>+---------+--------------+-------------------+-----------------------+-------------+</pre>"
      ],
      "text/plain": [
       "+---------+--------------+-------------------+-----------------------+-------------+"
      ]
     },
     "metadata": {},
     "output_type": "display_data"
    },
    {
     "data": {
      "text/html": [
       "<pre>| Initial | 152us        | 0.911438          | 0.954691              |             |</pre>"
      ],
      "text/plain": [
       "| Initial | 152us        | 0.911438          | 0.954691              |             |"
      ]
     },
     "metadata": {},
     "output_type": "display_data"
    },
    {
     "data": {
      "text/html": [
       "<pre>+---------+--------------+-------------------+-----------------------+-------------+</pre>"
      ],
      "text/plain": [
       "+---------+--------------+-------------------+-----------------------+-------------+"
      ]
     },
     "metadata": {},
     "output_type": "display_data"
    },
    {
     "data": {
      "text/html": [
       "<pre>| 1       | 224.793ms    | DIVERGED          | DIVERGED              | 0.0312411   |</pre>"
      ],
      "text/plain": [
       "| 1       | 224.793ms    | DIVERGED          | DIVERGED              | 0.0312411   |"
      ]
     },
     "metadata": {},
     "output_type": "display_data"
    },
    {
     "data": {
      "text/html": [
       "<pre>| RESET   | 349.137ms    | 0.911437          | 0.95469               |             |</pre>"
      ],
      "text/plain": [
       "| RESET   | 349.137ms    | 0.911437          | 0.95469               |             |"
      ]
     },
     "metadata": {},
     "output_type": "display_data"
    },
    {
     "data": {
      "text/html": [
       "<pre>| 1       | 626.292ms    | DIVERGED          | DIVERGED              | 0.0156206   |</pre>"
      ],
      "text/plain": [
       "| 1       | 626.292ms    | DIVERGED          | DIVERGED              | 0.0156206   |"
      ]
     },
     "metadata": {},
     "output_type": "display_data"
    },
    {
     "data": {
      "text/html": [
       "<pre>| RESET   | 742.43ms     | 0.91144           | 0.954692              |             |</pre>"
      ],
      "text/plain": [
       "| RESET   | 742.43ms     | 0.91144           | 0.954692              |             |"
      ]
     },
     "metadata": {},
     "output_type": "display_data"
    },
    {
     "data": {
      "text/html": [
       "<pre>| 1       | 1.01s        | DIVERGED          | DIVERGED              | 0.00781029  |</pre>"
      ],
      "text/plain": [
       "| 1       | 1.01s        | DIVERGED          | DIVERGED              | 0.00781029  |"
      ]
     },
     "metadata": {},
     "output_type": "display_data"
    },
    {
     "data": {
      "text/html": [
       "<pre>| RESET   | 1.15s        | 0.911443          | 0.954694              |             |</pre>"
      ],
      "text/plain": [
       "| RESET   | 1.15s        | 0.911443          | 0.954694              |             |"
      ]
     },
     "metadata": {},
     "output_type": "display_data"
    },
    {
     "data": {
      "text/html": [
       "<pre>| 1       | 1.36s        | 0.850617          | 0.922287              | 0.00390514  |</pre>"
      ],
      "text/plain": [
       "| 1       | 1.36s        | 0.850617          | 0.922287              | 0.00390514  |"
      ]
     },
     "metadata": {},
     "output_type": "display_data"
    },
    {
     "data": {
      "text/html": [
       "<pre>| 2       | 1.52s        | 0.775965          | 0.880888              | 0.0011825   |</pre>"
      ],
      "text/plain": [
       "| 2       | 1.52s        | 0.775965          | 0.880888              | 0.0011825   |"
      ]
     },
     "metadata": {},
     "output_type": "display_data"
    },
    {
     "data": {
      "text/html": [
       "<pre>| 3       | 1.68s        | 0.757268          | 0.870211              | 0.00069674  |</pre>"
      ],
      "text/plain": [
       "| 3       | 1.68s        | 0.757268          | 0.870211              | 0.00069674  |"
      ]
     },
     "metadata": {},
     "output_type": "display_data"
    },
    {
     "data": {
      "text/html": [
       "<pre>| 4       | 1.90s        | 0.746796          | 0.864174              | 0.000493864 |</pre>"
      ],
      "text/plain": [
       "| 4       | 1.90s        | 0.746796          | 0.864174              | 0.000493864 |"
      ]
     },
     "metadata": {},
     "output_type": "display_data"
    },
    {
     "data": {
      "text/html": [
       "<pre>| 5       | 2.07s        | 0.739634          | 0.86002               | 0.000382491 |</pre>"
      ],
      "text/plain": [
       "| 5       | 2.07s        | 0.739634          | 0.86002               | 0.000382491 |"
      ]
     },
     "metadata": {},
     "output_type": "display_data"
    },
    {
     "data": {
      "text/html": [
       "<pre>| 6       | 2.25s        | 0.734242          | 0.856879              | 0.000312107 |</pre>"
      ],
      "text/plain": [
       "| 6       | 2.25s        | 0.734242          | 0.856879              | 0.000312107 |"
      ]
     },
     "metadata": {},
     "output_type": "display_data"
    },
    {
     "data": {
      "text/html": [
       "<pre>| 7       | 2.45s        | 0.729945          | 0.854368              | 0.0002636   |</pre>"
      ],
      "text/plain": [
       "| 7       | 2.45s        | 0.729945          | 0.854368              | 0.0002636   |"
      ]
     },
     "metadata": {},
     "output_type": "display_data"
    },
    {
     "data": {
      "text/html": [
       "<pre>| 11      | 2.88s        | 0.71843           | 0.847603              | 0.000162549 |</pre>"
      ],
      "text/plain": [
       "| 11      | 2.88s        | 0.71843           | 0.847603              | 0.000162549 |"
      ]
     },
     "metadata": {},
     "output_type": "display_data"
    },
    {
     "data": {
      "text/html": [
       "<pre>| 17      | 3.79s        | 0.708502          | 0.841725              | 0.000103204 |</pre>"
      ],
      "text/plain": [
       "| 17      | 3.79s        | 0.708502          | 0.841725              | 0.000103204 |"
      ]
     },
     "metadata": {},
     "output_type": "display_data"
    },
    {
     "data": {
      "text/html": [
       "<pre>| 27      | 5.30s        | 0.698879          | 0.83599               | 6.41623e-05 |</pre>"
      ],
      "text/plain": [
       "| 27      | 5.30s        | 0.698879          | 0.83599               | 6.41623e-05 |"
      ]
     },
     "metadata": {},
     "output_type": "display_data"
    },
    {
     "data": {
      "text/html": [
       "<pre>| 37      | 7.22s        | 0.692766          | 0.832326              | 4.65519e-05 |</pre>"
      ],
      "text/plain": [
       "| 37      | 7.22s        | 0.692766          | 0.832326              | 4.65519e-05 |"
      ]
     },
     "metadata": {},
     "output_type": "display_data"
    },
    {
     "data": {
      "text/html": [
       "<pre>| 47      | 8.79s        | 0.688329          | 0.829656              | 3.65266e-05 |</pre>"
      ],
      "text/plain": [
       "| 47      | 8.79s        | 0.688329          | 0.829656              | 3.65266e-05 |"
      ]
     },
     "metadata": {},
     "output_type": "display_data"
    },
    {
     "data": {
      "text/html": [
       "<pre>+---------+--------------+-------------------+-----------------------+-------------+</pre>"
      ],
      "text/plain": [
       "+---------+--------------+-------------------+-----------------------+-------------+"
      ]
     },
     "metadata": {},
     "output_type": "display_data"
    },
    {
     "data": {
      "text/html": [
       "<pre>Optimization Complete: Maximum number of passes through the data reached.</pre>"
      ],
      "text/plain": [
       "Optimization Complete: Maximum number of passes through the data reached."
      ]
     },
     "metadata": {},
     "output_type": "display_data"
    },
    {
     "data": {
      "text/html": [
       "<pre>Computing final objective value and training RMSE.</pre>"
      ],
      "text/plain": [
       "Computing final objective value and training RMSE."
      ]
     },
     "metadata": {},
     "output_type": "display_data"
    },
    {
     "data": {
      "text/html": [
       "<pre>       Final objective value: 0.686934</pre>"
      ],
      "text/plain": [
       "       Final objective value: 0.686934"
      ]
     },
     "metadata": {},
     "output_type": "display_data"
    },
    {
     "data": {
      "text/html": [
       "<pre>       Final training RMSE: 0.828815</pre>"
      ],
      "text/plain": [
       "       Final training RMSE: 0.828815"
      ]
     },
     "metadata": {},
     "output_type": "display_data"
    }
   ],
   "source": [
    "m2 = gl.factorization_recommender.create(train, target='rating',regularization=1e-03 )"
   ]
  },
  {
   "cell_type": "code",
   "execution_count": 14,
   "metadata": {
    "collapsed": false
   },
   "outputs": [
    {
     "data": {
      "text/html": [
       "<pre>recommendations finished on 1000/66235 queries. users per second: 1057.88</pre>"
      ],
      "text/plain": [
       "recommendations finished on 1000/66235 queries. users per second: 1057.88"
      ]
     },
     "metadata": {},
     "output_type": "display_data"
    },
    {
     "data": {
      "text/html": [
       "<pre>recommendations finished on 2000/66235 queries. users per second: 1192.57</pre>"
      ],
      "text/plain": [
       "recommendations finished on 2000/66235 queries. users per second: 1192.57"
      ]
     },
     "metadata": {},
     "output_type": "display_data"
    },
    {
     "data": {
      "text/html": [
       "<pre>recommendations finished on 3000/66235 queries. users per second: 1251.63</pre>"
      ],
      "text/plain": [
       "recommendations finished on 3000/66235 queries. users per second: 1251.63"
      ]
     },
     "metadata": {},
     "output_type": "display_data"
    },
    {
     "data": {
      "text/html": [
       "<pre>recommendations finished on 4000/66235 queries. users per second: 1075.14</pre>"
      ],
      "text/plain": [
       "recommendations finished on 4000/66235 queries. users per second: 1075.14"
      ]
     },
     "metadata": {},
     "output_type": "display_data"
    },
    {
     "data": {
      "text/html": [
       "<pre>recommendations finished on 5000/66235 queries. users per second: 1108.8</pre>"
      ],
      "text/plain": [
       "recommendations finished on 5000/66235 queries. users per second: 1108.8"
      ]
     },
     "metadata": {},
     "output_type": "display_data"
    },
    {
     "data": {
      "text/html": [
       "<pre>recommendations finished on 6000/66235 queries. users per second: 1125.17</pre>"
      ],
      "text/plain": [
       "recommendations finished on 6000/66235 queries. users per second: 1125.17"
      ]
     },
     "metadata": {},
     "output_type": "display_data"
    },
    {
     "data": {
      "text/html": [
       "<pre>recommendations finished on 7000/66235 queries. users per second: 1156.07</pre>"
      ],
      "text/plain": [
       "recommendations finished on 7000/66235 queries. users per second: 1156.07"
      ]
     },
     "metadata": {},
     "output_type": "display_data"
    },
    {
     "data": {
      "text/html": [
       "<pre>recommendations finished on 8000/66235 queries. users per second: 1170.59</pre>"
      ],
      "text/plain": [
       "recommendations finished on 8000/66235 queries. users per second: 1170.59"
      ]
     },
     "metadata": {},
     "output_type": "display_data"
    },
    {
     "data": {
      "text/html": [
       "<pre>recommendations finished on 9000/66235 queries. users per second: 1179.82</pre>"
      ],
      "text/plain": [
       "recommendations finished on 9000/66235 queries. users per second: 1179.82"
      ]
     },
     "metadata": {},
     "output_type": "display_data"
    },
    {
     "data": {
      "text/html": [
       "<pre>recommendations finished on 10000/66235 queries. users per second: 1195.53</pre>"
      ],
      "text/plain": [
       "recommendations finished on 10000/66235 queries. users per second: 1195.53"
      ]
     },
     "metadata": {},
     "output_type": "display_data"
    },
    {
     "data": {
      "text/html": [
       "<pre>recommendations finished on 11000/66235 queries. users per second: 1206.43</pre>"
      ],
      "text/plain": [
       "recommendations finished on 11000/66235 queries. users per second: 1206.43"
      ]
     },
     "metadata": {},
     "output_type": "display_data"
    },
    {
     "data": {
      "text/html": [
       "<pre>recommendations finished on 12000/66235 queries. users per second: 1221.25</pre>"
      ],
      "text/plain": [
       "recommendations finished on 12000/66235 queries. users per second: 1221.25"
      ]
     },
     "metadata": {},
     "output_type": "display_data"
    },
    {
     "data": {
      "text/html": [
       "<pre>recommendations finished on 13000/66235 queries. users per second: 1222.43</pre>"
      ],
      "text/plain": [
       "recommendations finished on 13000/66235 queries. users per second: 1222.43"
      ]
     },
     "metadata": {},
     "output_type": "display_data"
    },
    {
     "data": {
      "text/html": [
       "<pre>recommendations finished on 14000/66235 queries. users per second: 1230.47</pre>"
      ],
      "text/plain": [
       "recommendations finished on 14000/66235 queries. users per second: 1230.47"
      ]
     },
     "metadata": {},
     "output_type": "display_data"
    },
    {
     "data": {
      "text/html": [
       "<pre>recommendations finished on 15000/66235 queries. users per second: 1236.55</pre>"
      ],
      "text/plain": [
       "recommendations finished on 15000/66235 queries. users per second: 1236.55"
      ]
     },
     "metadata": {},
     "output_type": "display_data"
    },
    {
     "data": {
      "text/html": [
       "<pre>recommendations finished on 16000/66235 queries. users per second: 1237.68</pre>"
      ],
      "text/plain": [
       "recommendations finished on 16000/66235 queries. users per second: 1237.68"
      ]
     },
     "metadata": {},
     "output_type": "display_data"
    },
    {
     "data": {
      "text/html": [
       "<pre>recommendations finished on 17000/66235 queries. users per second: 1240.39</pre>"
      ],
      "text/plain": [
       "recommendations finished on 17000/66235 queries. users per second: 1240.39"
      ]
     },
     "metadata": {},
     "output_type": "display_data"
    },
    {
     "data": {
      "text/html": [
       "<pre>recommendations finished on 18000/66235 queries. users per second: 1247.01</pre>"
      ],
      "text/plain": [
       "recommendations finished on 18000/66235 queries. users per second: 1247.01"
      ]
     },
     "metadata": {},
     "output_type": "display_data"
    },
    {
     "data": {
      "text/html": [
       "<pre>recommendations finished on 19000/66235 queries. users per second: 1247.67</pre>"
      ],
      "text/plain": [
       "recommendations finished on 19000/66235 queries. users per second: 1247.67"
      ]
     },
     "metadata": {},
     "output_type": "display_data"
    },
    {
     "data": {
      "text/html": [
       "<pre>recommendations finished on 20000/66235 queries. users per second: 1255.05</pre>"
      ],
      "text/plain": [
       "recommendations finished on 20000/66235 queries. users per second: 1255.05"
      ]
     },
     "metadata": {},
     "output_type": "display_data"
    },
    {
     "data": {
      "text/html": [
       "<pre>recommendations finished on 21000/66235 queries. users per second: 1263.96</pre>"
      ],
      "text/plain": [
       "recommendations finished on 21000/66235 queries. users per second: 1263.96"
      ]
     },
     "metadata": {},
     "output_type": "display_data"
    },
    {
     "data": {
      "text/html": [
       "<pre>recommendations finished on 22000/66235 queries. users per second: 1270.78</pre>"
      ],
      "text/plain": [
       "recommendations finished on 22000/66235 queries. users per second: 1270.78"
      ]
     },
     "metadata": {},
     "output_type": "display_data"
    },
    {
     "data": {
      "text/html": [
       "<pre>recommendations finished on 23000/66235 queries. users per second: 1278.36</pre>"
      ],
      "text/plain": [
       "recommendations finished on 23000/66235 queries. users per second: 1278.36"
      ]
     },
     "metadata": {},
     "output_type": "display_data"
    },
    {
     "data": {
      "text/html": [
       "<pre>recommendations finished on 24000/66235 queries. users per second: 1285.25</pre>"
      ],
      "text/plain": [
       "recommendations finished on 24000/66235 queries. users per second: 1285.25"
      ]
     },
     "metadata": {},
     "output_type": "display_data"
    },
    {
     "data": {
      "text/html": [
       "<pre>recommendations finished on 25000/66235 queries. users per second: 1292.55</pre>"
      ],
      "text/plain": [
       "recommendations finished on 25000/66235 queries. users per second: 1292.55"
      ]
     },
     "metadata": {},
     "output_type": "display_data"
    },
    {
     "data": {
      "text/html": [
       "<pre>recommendations finished on 26000/66235 queries. users per second: 1298.31</pre>"
      ],
      "text/plain": [
       "recommendations finished on 26000/66235 queries. users per second: 1298.31"
      ]
     },
     "metadata": {},
     "output_type": "display_data"
    },
    {
     "data": {
      "text/html": [
       "<pre>recommendations finished on 27000/66235 queries. users per second: 1299.99</pre>"
      ],
      "text/plain": [
       "recommendations finished on 27000/66235 queries. users per second: 1299.99"
      ]
     },
     "metadata": {},
     "output_type": "display_data"
    },
    {
     "data": {
      "text/html": [
       "<pre>recommendations finished on 28000/66235 queries. users per second: 1301.12</pre>"
      ],
      "text/plain": [
       "recommendations finished on 28000/66235 queries. users per second: 1301.12"
      ]
     },
     "metadata": {},
     "output_type": "display_data"
    },
    {
     "data": {
      "text/html": [
       "<pre>recommendations finished on 29000/66235 queries. users per second: 1299.36</pre>"
      ],
      "text/plain": [
       "recommendations finished on 29000/66235 queries. users per second: 1299.36"
      ]
     },
     "metadata": {},
     "output_type": "display_data"
    },
    {
     "data": {
      "text/html": [
       "<pre>recommendations finished on 30000/66235 queries. users per second: 1298.98</pre>"
      ],
      "text/plain": [
       "recommendations finished on 30000/66235 queries. users per second: 1298.98"
      ]
     },
     "metadata": {},
     "output_type": "display_data"
    },
    {
     "data": {
      "text/html": [
       "<pre>recommendations finished on 31000/66235 queries. users per second: 1303.12</pre>"
      ],
      "text/plain": [
       "recommendations finished on 31000/66235 queries. users per second: 1303.12"
      ]
     },
     "metadata": {},
     "output_type": "display_data"
    },
    {
     "data": {
      "text/html": [
       "<pre>recommendations finished on 32000/66235 queries. users per second: 1303.57</pre>"
      ],
      "text/plain": [
       "recommendations finished on 32000/66235 queries. users per second: 1303.57"
      ]
     },
     "metadata": {},
     "output_type": "display_data"
    },
    {
     "data": {
      "text/html": [
       "<pre>recommendations finished on 33000/66235 queries. users per second: 1302.62</pre>"
      ],
      "text/plain": [
       "recommendations finished on 33000/66235 queries. users per second: 1302.62"
      ]
     },
     "metadata": {},
     "output_type": "display_data"
    },
    {
     "data": {
      "text/html": [
       "<pre>recommendations finished on 34000/66235 queries. users per second: 1304.49</pre>"
      ],
      "text/plain": [
       "recommendations finished on 34000/66235 queries. users per second: 1304.49"
      ]
     },
     "metadata": {},
     "output_type": "display_data"
    },
    {
     "data": {
      "text/html": [
       "<pre>recommendations finished on 35000/66235 queries. users per second: 1307.54</pre>"
      ],
      "text/plain": [
       "recommendations finished on 35000/66235 queries. users per second: 1307.54"
      ]
     },
     "metadata": {},
     "output_type": "display_data"
    },
    {
     "data": {
      "text/html": [
       "<pre>recommendations finished on 36000/66235 queries. users per second: 1304.63</pre>"
      ],
      "text/plain": [
       "recommendations finished on 36000/66235 queries. users per second: 1304.63"
      ]
     },
     "metadata": {},
     "output_type": "display_data"
    },
    {
     "data": {
      "text/html": [
       "<pre>recommendations finished on 37000/66235 queries. users per second: 1306.21</pre>"
      ],
      "text/plain": [
       "recommendations finished on 37000/66235 queries. users per second: 1306.21"
      ]
     },
     "metadata": {},
     "output_type": "display_data"
    },
    {
     "data": {
      "text/html": [
       "<pre>recommendations finished on 38000/66235 queries. users per second: 1308.23</pre>"
      ],
      "text/plain": [
       "recommendations finished on 38000/66235 queries. users per second: 1308.23"
      ]
     },
     "metadata": {},
     "output_type": "display_data"
    },
    {
     "data": {
      "text/html": [
       "<pre>recommendations finished on 39000/66235 queries. users per second: 1310.58</pre>"
      ],
      "text/plain": [
       "recommendations finished on 39000/66235 queries. users per second: 1310.58"
      ]
     },
     "metadata": {},
     "output_type": "display_data"
    },
    {
     "data": {
      "text/html": [
       "<pre>recommendations finished on 40000/66235 queries. users per second: 1309.96</pre>"
      ],
      "text/plain": [
       "recommendations finished on 40000/66235 queries. users per second: 1309.96"
      ]
     },
     "metadata": {},
     "output_type": "display_data"
    },
    {
     "data": {
      "text/html": [
       "<pre>recommendations finished on 41000/66235 queries. users per second: 1313.21</pre>"
      ],
      "text/plain": [
       "recommendations finished on 41000/66235 queries. users per second: 1313.21"
      ]
     },
     "metadata": {},
     "output_type": "display_data"
    },
    {
     "data": {
      "text/html": [
       "<pre>recommendations finished on 42000/66235 queries. users per second: 1290.03</pre>"
      ],
      "text/plain": [
       "recommendations finished on 42000/66235 queries. users per second: 1290.03"
      ]
     },
     "metadata": {},
     "output_type": "display_data"
    },
    {
     "data": {
      "text/html": [
       "<pre>recommendations finished on 43000/66235 queries. users per second: 1265.57</pre>"
      ],
      "text/plain": [
       "recommendations finished on 43000/66235 queries. users per second: 1265.57"
      ]
     },
     "metadata": {},
     "output_type": "display_data"
    },
    {
     "data": {
      "text/html": [
       "<pre>recommendations finished on 44000/66235 queries. users per second: 1248.26</pre>"
      ],
      "text/plain": [
       "recommendations finished on 44000/66235 queries. users per second: 1248.26"
      ]
     },
     "metadata": {},
     "output_type": "display_data"
    },
    {
     "data": {
      "text/html": [
       "<pre>recommendations finished on 45000/66235 queries. users per second: 1242.11</pre>"
      ],
      "text/plain": [
       "recommendations finished on 45000/66235 queries. users per second: 1242.11"
      ]
     },
     "metadata": {},
     "output_type": "display_data"
    },
    {
     "data": {
      "text/html": [
       "<pre>recommendations finished on 46000/66235 queries. users per second: 1229.14</pre>"
      ],
      "text/plain": [
       "recommendations finished on 46000/66235 queries. users per second: 1229.14"
      ]
     },
     "metadata": {},
     "output_type": "display_data"
    },
    {
     "data": {
      "text/html": [
       "<pre>recommendations finished on 47000/66235 queries. users per second: 1216.77</pre>"
      ],
      "text/plain": [
       "recommendations finished on 47000/66235 queries. users per second: 1216.77"
      ]
     },
     "metadata": {},
     "output_type": "display_data"
    },
    {
     "data": {
      "text/html": [
       "<pre>recommendations finished on 48000/66235 queries. users per second: 1219.68</pre>"
      ],
      "text/plain": [
       "recommendations finished on 48000/66235 queries. users per second: 1219.68"
      ]
     },
     "metadata": {},
     "output_type": "display_data"
    },
    {
     "data": {
      "text/html": [
       "<pre>recommendations finished on 49000/66235 queries. users per second: 1218.42</pre>"
      ],
      "text/plain": [
       "recommendations finished on 49000/66235 queries. users per second: 1218.42"
      ]
     },
     "metadata": {},
     "output_type": "display_data"
    },
    {
     "data": {
      "text/html": [
       "<pre>recommendations finished on 50000/66235 queries. users per second: 1215.23</pre>"
      ],
      "text/plain": [
       "recommendations finished on 50000/66235 queries. users per second: 1215.23"
      ]
     },
     "metadata": {},
     "output_type": "display_data"
    },
    {
     "data": {
      "text/html": [
       "<pre>recommendations finished on 51000/66235 queries. users per second: 1204.62</pre>"
      ],
      "text/plain": [
       "recommendations finished on 51000/66235 queries. users per second: 1204.62"
      ]
     },
     "metadata": {},
     "output_type": "display_data"
    },
    {
     "data": {
      "text/html": [
       "<pre>recommendations finished on 52000/66235 queries. users per second: 1199.04</pre>"
      ],
      "text/plain": [
       "recommendations finished on 52000/66235 queries. users per second: 1199.04"
      ]
     },
     "metadata": {},
     "output_type": "display_data"
    },
    {
     "data": {
      "text/html": [
       "<pre>recommendations finished on 53000/66235 queries. users per second: 1191.74</pre>"
      ],
      "text/plain": [
       "recommendations finished on 53000/66235 queries. users per second: 1191.74"
      ]
     },
     "metadata": {},
     "output_type": "display_data"
    },
    {
     "data": {
      "text/html": [
       "<pre>recommendations finished on 54000/66235 queries. users per second: 1185.6</pre>"
      ],
      "text/plain": [
       "recommendations finished on 54000/66235 queries. users per second: 1185.6"
      ]
     },
     "metadata": {},
     "output_type": "display_data"
    },
    {
     "data": {
      "text/html": [
       "<pre>recommendations finished on 55000/66235 queries. users per second: 1187.38</pre>"
      ],
      "text/plain": [
       "recommendations finished on 55000/66235 queries. users per second: 1187.38"
      ]
     },
     "metadata": {},
     "output_type": "display_data"
    },
    {
     "data": {
      "text/html": [
       "<pre>recommendations finished on 56000/66235 queries. users per second: 1185.43</pre>"
      ],
      "text/plain": [
       "recommendations finished on 56000/66235 queries. users per second: 1185.43"
      ]
     },
     "metadata": {},
     "output_type": "display_data"
    },
    {
     "data": {
      "text/html": [
       "<pre>recommendations finished on 57000/66235 queries. users per second: 1176.95</pre>"
      ],
      "text/plain": [
       "recommendations finished on 57000/66235 queries. users per second: 1176.95"
      ]
     },
     "metadata": {},
     "output_type": "display_data"
    },
    {
     "data": {
      "text/html": [
       "<pre>recommendations finished on 58000/66235 queries. users per second: 1168.41</pre>"
      ],
      "text/plain": [
       "recommendations finished on 58000/66235 queries. users per second: 1168.41"
      ]
     },
     "metadata": {},
     "output_type": "display_data"
    },
    {
     "data": {
      "text/html": [
       "<pre>recommendations finished on 59000/66235 queries. users per second: 1160.53</pre>"
      ],
      "text/plain": [
       "recommendations finished on 59000/66235 queries. users per second: 1160.53"
      ]
     },
     "metadata": {},
     "output_type": "display_data"
    },
    {
     "data": {
      "text/html": [
       "<pre>recommendations finished on 60000/66235 queries. users per second: 1153.95</pre>"
      ],
      "text/plain": [
       "recommendations finished on 60000/66235 queries. users per second: 1153.95"
      ]
     },
     "metadata": {},
     "output_type": "display_data"
    },
    {
     "data": {
      "text/html": [
       "<pre>recommendations finished on 61000/66235 queries. users per second: 1147.3</pre>"
      ],
      "text/plain": [
       "recommendations finished on 61000/66235 queries. users per second: 1147.3"
      ]
     },
     "metadata": {},
     "output_type": "display_data"
    },
    {
     "data": {
      "text/html": [
       "<pre>recommendations finished on 62000/66235 queries. users per second: 1145.76</pre>"
      ],
      "text/plain": [
       "recommendations finished on 62000/66235 queries. users per second: 1145.76"
      ]
     },
     "metadata": {},
     "output_type": "display_data"
    },
    {
     "data": {
      "text/html": [
       "<pre>recommendations finished on 63000/66235 queries. users per second: 1148.24</pre>"
      ],
      "text/plain": [
       "recommendations finished on 63000/66235 queries. users per second: 1148.24"
      ]
     },
     "metadata": {},
     "output_type": "display_data"
    },
    {
     "data": {
      "text/html": [
       "<pre>recommendations finished on 64000/66235 queries. users per second: 1148.86</pre>"
      ],
      "text/plain": [
       "recommendations finished on 64000/66235 queries. users per second: 1148.86"
      ]
     },
     "metadata": {},
     "output_type": "display_data"
    },
    {
     "data": {
      "text/html": [
       "<pre>recommendations finished on 65000/66235 queries. users per second: 1150.19</pre>"
      ],
      "text/plain": [
       "recommendations finished on 65000/66235 queries. users per second: 1150.19"
      ]
     },
     "metadata": {},
     "output_type": "display_data"
    },
    {
     "data": {
      "text/html": [
       "<pre>recommendations finished on 66000/66235 queries. users per second: 1151.8</pre>"
      ],
      "text/plain": [
       "recommendations finished on 66000/66235 queries. users per second: 1151.8"
      ]
     },
     "metadata": {},
     "output_type": "display_data"
    },
    {
     "name": "stdout",
     "output_type": "stream",
     "text": [
      "\n",
      "Precision and recall summary statistics by cutoff\n",
      "+--------+------------------+-------------------+\n",
      "| cutoff |  mean_precision  |    mean_recall    |\n",
      "+--------+------------------+-------------------+\n",
      "|   1    | 0.00187212198988 | 0.000532304264993 |\n",
      "|   2    | 0.00173624216804 |  0.00103515046465 |\n",
      "|   3    | 0.00150977579829 |  0.00133061041632 |\n",
      "|   4    | 0.00152109911678 |  0.00179932054593 |\n",
      "|   5    | 0.00131954404771 |  0.00193413014567 |\n",
      "|   6    | 0.00123298356861 |  0.0021383664727  |\n",
      "|   7    | 0.00123154568689 |  0.00234883713099 |\n",
      "|   8    | 0.00118517400166 |  0.0024941795279  |\n",
      "|   9    | 0.00125311391258 |  0.00277302630111 |\n",
      "|   10   | 0.00124858458519 |  0.00303297210357 |\n",
      "+--------+------------------+-------------------+\n",
      "[10 rows x 3 columns]\n",
      "\n",
      "('\\nOverall RMSE: ', 0.8603735738806225)\n",
      "\n",
      "Per User RMSE (best)\n",
      "+----------------+-------+------------------+\n",
      "|    user_id     | count |       rmse       |\n",
      "+----------------+-------+------------------+\n",
      "| A3KEOLR9OKKB1W |   1   | 0.00102477652272 |\n",
      "+----------------+-------+------------------+\n",
      "[1 rows x 3 columns]\n",
      "\n",
      "\n",
      "Per User RMSE (worst)\n",
      "+----------------+-------+---------------+\n",
      "|    user_id     | count |      rmse     |\n",
      "+----------------+-------+---------------+\n",
      "| A3CPNY2JWNWVZT |   1   | 3.61307717246 |\n",
      "+----------------+-------+---------------+\n",
      "[1 rows x 3 columns]\n",
      "\n",
      "\n",
      "Per Item RMSE (best)\n",
      "+------------+-------+-------------------+\n",
      "|  item_id   | count |        rmse       |\n",
      "+------------+-------+-------------------+\n",
      "| B00C8TSVRA |   1   | 0.000268674071224 |\n",
      "+------------+-------+-------------------+\n",
      "[1 rows x 3 columns]\n",
      "\n",
      "\n",
      "Per Item RMSE (worst)\n",
      "+------------+-------+---------------+\n",
      "|  item_id   | count |      rmse     |\n",
      "+------------+-------+---------------+\n",
      "| B00DPY40D6 |   1   | 3.90722804555 |\n",
      "+------------+-------+---------------+\n",
      "[1 rows x 3 columns]\n",
      "\n"
     ]
    }
   ],
   "source": [
    "eval2 = m2.evaluate(valid)"
   ]
  },
  {
   "cell_type": "code",
   "execution_count": 15,
   "metadata": {
    "collapsed": false
   },
   "outputs": [
    {
     "data": {
      "text/html": [
       "<pre>Recsys training: model = factorization_recommender</pre>"
      ],
      "text/plain": [
       "Recsys training: model = factorization_recommender"
      ]
     },
     "metadata": {},
     "output_type": "display_data"
    },
    {
     "data": {
      "text/html": [
       "<pre>Preparing data set.</pre>"
      ],
      "text/plain": [
       "Preparing data set."
      ]
     },
     "metadata": {},
     "output_type": "display_data"
    },
    {
     "data": {
      "text/html": [
       "<pre>    Data has 589592 observations with 67976 users and 61930 items.</pre>"
      ],
      "text/plain": [
       "    Data has 589592 observations with 67976 users and 61930 items."
      ]
     },
     "metadata": {},
     "output_type": "display_data"
    },
    {
     "data": {
      "text/html": [
       "<pre>    Data prepared in: 1.3254s</pre>"
      ],
      "text/plain": [
       "    Data prepared in: 1.3254s"
      ]
     },
     "metadata": {},
     "output_type": "display_data"
    },
    {
     "data": {
      "text/html": [
       "<pre>Training factorization_recommender for recommendations.</pre>"
      ],
      "text/plain": [
       "Training factorization_recommender for recommendations."
      ]
     },
     "metadata": {},
     "output_type": "display_data"
    },
    {
     "data": {
      "text/html": [
       "<pre>+--------------------------------+--------------------------------------------------+----------+</pre>"
      ],
      "text/plain": [
       "+--------------------------------+--------------------------------------------------+----------+"
      ]
     },
     "metadata": {},
     "output_type": "display_data"
    },
    {
     "data": {
      "text/html": [
       "<pre>| Parameter                      | Description                                      | Value    |</pre>"
      ],
      "text/plain": [
       "| Parameter                      | Description                                      | Value    |"
      ]
     },
     "metadata": {},
     "output_type": "display_data"
    },
    {
     "data": {
      "text/html": [
       "<pre>+--------------------------------+--------------------------------------------------+----------+</pre>"
      ],
      "text/plain": [
       "+--------------------------------+--------------------------------------------------+----------+"
      ]
     },
     "metadata": {},
     "output_type": "display_data"
    },
    {
     "data": {
      "text/html": [
       "<pre>| num_factors                    | Factor Dimension                                 | 8        |</pre>"
      ],
      "text/plain": [
       "| num_factors                    | Factor Dimension                                 | 8        |"
      ]
     },
     "metadata": {},
     "output_type": "display_data"
    },
    {
     "data": {
      "text/html": [
       "<pre>| regularization                 | L2 Regularization on Factors                     | 1e-06    |</pre>"
      ],
      "text/plain": [
       "| regularization                 | L2 Regularization on Factors                     | 1e-06    |"
      ]
     },
     "metadata": {},
     "output_type": "display_data"
    },
    {
     "data": {
      "text/html": [
       "<pre>| solver                         | Solver used for training                         | sgd      |</pre>"
      ],
      "text/plain": [
       "| solver                         | Solver used for training                         | sgd      |"
      ]
     },
     "metadata": {},
     "output_type": "display_data"
    },
    {
     "data": {
      "text/html": [
       "<pre>| linear_regularization          | L2 Regularization on Linear Coefficients         | 1e-10    |</pre>"
      ],
      "text/plain": [
       "| linear_regularization          | L2 Regularization on Linear Coefficients         | 1e-10    |"
      ]
     },
     "metadata": {},
     "output_type": "display_data"
    },
    {
     "data": {
      "text/html": [
       "<pre>| max_iterations                 | Maximum Number of Iterations                     | 50       |</pre>"
      ],
      "text/plain": [
       "| max_iterations                 | Maximum Number of Iterations                     | 50       |"
      ]
     },
     "metadata": {},
     "output_type": "display_data"
    },
    {
     "data": {
      "text/html": [
       "<pre>+--------------------------------+--------------------------------------------------+----------+</pre>"
      ],
      "text/plain": [
       "+--------------------------------+--------------------------------------------------+----------+"
      ]
     },
     "metadata": {},
     "output_type": "display_data"
    },
    {
     "data": {
      "text/html": [
       "<pre>  Optimizing model using SGD; tuning step size.</pre>"
      ],
      "text/plain": [
       "  Optimizing model using SGD; tuning step size."
      ]
     },
     "metadata": {},
     "output_type": "display_data"
    },
    {
     "data": {
      "text/html": [
       "<pre>  Using 73699 / 589592 points for tuning the step size.</pre>"
      ],
      "text/plain": [
       "  Using 73699 / 589592 points for tuning the step size."
      ]
     },
     "metadata": {},
     "output_type": "display_data"
    },
    {
     "data": {
      "text/html": [
       "<pre>+---------+-------------------+------------------------------------------+</pre>"
      ],
      "text/plain": [
       "+---------+-------------------+------------------------------------------+"
      ]
     },
     "metadata": {},
     "output_type": "display_data"
    },
    {
     "data": {
      "text/html": [
       "<pre>| Attempt | Initial Step Size | Estimated Objective Value                |</pre>"
      ],
      "text/plain": [
       "| Attempt | Initial Step Size | Estimated Objective Value                |"
      ]
     },
     "metadata": {},
     "output_type": "display_data"
    },
    {
     "data": {
      "text/html": [
       "<pre>+---------+-------------------+------------------------------------------+</pre>"
      ],
      "text/plain": [
       "+---------+-------------------+------------------------------------------+"
      ]
     },
     "metadata": {},
     "output_type": "display_data"
    },
    {
     "data": {
      "text/html": [
       "<pre>| 0       | 25                | Not Viable                               |</pre>"
      ],
      "text/plain": [
       "| 0       | 25                | Not Viable                               |"
      ]
     },
     "metadata": {},
     "output_type": "display_data"
    },
    {
     "data": {
      "text/html": [
       "<pre>| 1       | 6.25              | Not Viable                               |</pre>"
      ],
      "text/plain": [
       "| 1       | 6.25              | Not Viable                               |"
      ]
     },
     "metadata": {},
     "output_type": "display_data"
    },
    {
     "data": {
      "text/html": [
       "<pre>| 2       | 1.5625            | Not Viable                               |</pre>"
      ],
      "text/plain": [
       "| 2       | 1.5625            | Not Viable                               |"
      ]
     },
     "metadata": {},
     "output_type": "display_data"
    },
    {
     "data": {
      "text/html": [
       "<pre>| 3       | 0.390625          | 0.0887643                                |</pre>"
      ],
      "text/plain": [
       "| 3       | 0.390625          | 0.0887643                                |"
      ]
     },
     "metadata": {},
     "output_type": "display_data"
    },
    {
     "data": {
      "text/html": [
       "<pre>| 4       | 0.195312          | 0.117877                                 |</pre>"
      ],
      "text/plain": [
       "| 4       | 0.195312          | 0.117877                                 |"
      ]
     },
     "metadata": {},
     "output_type": "display_data"
    },
    {
     "data": {
      "text/html": [
       "<pre>| 5       | 0.0976562         | 0.200671                                 |</pre>"
      ],
      "text/plain": [
       "| 5       | 0.0976562         | 0.200671                                 |"
      ]
     },
     "metadata": {},
     "output_type": "display_data"
    },
    {
     "data": {
      "text/html": [
       "<pre>+---------+-------------------+------------------------------------------+</pre>"
      ],
      "text/plain": [
       "+---------+-------------------+------------------------------------------+"
      ]
     },
     "metadata": {},
     "output_type": "display_data"
    },
    {
     "data": {
      "text/html": [
       "<pre>| Final   | 0.390625          | 0.0887643                                |</pre>"
      ],
      "text/plain": [
       "| Final   | 0.390625          | 0.0887643                                |"
      ]
     },
     "metadata": {},
     "output_type": "display_data"
    },
    {
     "data": {
      "text/html": [
       "<pre>+---------+-------------------+------------------------------------------+</pre>"
      ],
      "text/plain": [
       "+---------+-------------------+------------------------------------------+"
      ]
     },
     "metadata": {},
     "output_type": "display_data"
    },
    {
     "data": {
      "text/html": [
       "<pre>Starting Optimization.</pre>"
      ],
      "text/plain": [
       "Starting Optimization."
      ]
     },
     "metadata": {},
     "output_type": "display_data"
    },
    {
     "data": {
      "text/html": [
       "<pre>+---------+--------------+-------------------+-----------------------+-------------+</pre>"
      ],
      "text/plain": [
       "+---------+--------------+-------------------+-----------------------+-------------+"
      ]
     },
     "metadata": {},
     "output_type": "display_data"
    },
    {
     "data": {
      "text/html": [
       "<pre>| Iter.   | Elapsed Time | Approx. Objective | Approx. Training RMSE | Step Size   |</pre>"
      ],
      "text/plain": [
       "| Iter.   | Elapsed Time | Approx. Objective | Approx. Training RMSE | Step Size   |"
      ]
     },
     "metadata": {},
     "output_type": "display_data"
    },
    {
     "data": {
      "text/html": [
       "<pre>+---------+--------------+-------------------+-----------------------+-------------+</pre>"
      ],
      "text/plain": [
       "+---------+--------------+-------------------+-----------------------+-------------+"
      ]
     },
     "metadata": {},
     "output_type": "display_data"
    },
    {
     "data": {
      "text/html": [
       "<pre>| Initial | 71us         | 0.911431          | 0.954689              |             |</pre>"
      ],
      "text/plain": [
       "| Initial | 71us         | 0.911431          | 0.954689              |             |"
      ]
     },
     "metadata": {},
     "output_type": "display_data"
    },
    {
     "data": {
      "text/html": [
       "<pre>+---------+--------------+-------------------+-----------------------+-------------+</pre>"
      ],
      "text/plain": [
       "+---------+--------------+-------------------+-----------------------+-------------+"
      ]
     },
     "metadata": {},
     "output_type": "display_data"
    },
    {
     "data": {
      "text/html": [
       "<pre>| 1       | 297.503ms    | DIVERGED          | DIVERGED              | 0.390625    |</pre>"
      ],
      "text/plain": [
       "| 1       | 297.503ms    | DIVERGED          | DIVERGED              | 0.390625    |"
      ]
     },
     "metadata": {},
     "output_type": "display_data"
    },
    {
     "data": {
      "text/html": [
       "<pre>| RESET   | 399.093ms    | 0.911432          | 0.954689              |             |</pre>"
      ],
      "text/plain": [
       "| RESET   | 399.093ms    | 0.911432          | 0.954689              |             |"
      ]
     },
     "metadata": {},
     "output_type": "display_data"
    },
    {
     "data": {
      "text/html": [
       "<pre>| 1       | 659.441ms    | 0.856558          | 0.92526               | 0.195312    |</pre>"
      ],
      "text/plain": [
       "| 1       | 659.441ms    | 0.856558          | 0.92526               | 0.195312    |"
      ]
     },
     "metadata": {},
     "output_type": "display_data"
    },
    {
     "data": {
      "text/html": [
       "<pre>| 2       | 827.273ms    | 0.630355          | 0.793417              | 0.116134    |</pre>"
      ],
      "text/plain": [
       "| 2       | 827.273ms    | 0.630355          | 0.793417              | 0.116134    |"
      ]
     },
     "metadata": {},
     "output_type": "display_data"
    },
    {
     "data": {
      "text/html": [
       "<pre>| 3       | 1.04s        | 0.538754          | 0.731207              | 0.0856819   |</pre>"
      ],
      "text/plain": [
       "| 3       | 1.04s        | 0.538754          | 0.731207              | 0.0856819   |"
      ]
     },
     "metadata": {},
     "output_type": "display_data"
    },
    {
     "data": {
      "text/html": [
       "<pre>| 4       | 1.25s        | 0.467299          | 0.676032              | 0.0690534   |</pre>"
      ],
      "text/plain": [
       "| 4       | 1.25s        | 0.467299          | 0.676032              | 0.0690534   |"
      ]
     },
     "metadata": {},
     "output_type": "display_data"
    },
    {
     "data": {
      "text/html": [
       "<pre>| 5       | 1.48s        | 0.397958          | 0.616567              | 0.0584121   |</pre>"
      ],
      "text/plain": [
       "| 5       | 1.48s        | 0.397958          | 0.616567              | 0.0584121   |"
      ]
     },
     "metadata": {},
     "output_type": "display_data"
    },
    {
     "data": {
      "text/html": [
       "<pre>| 6       | 1.67s        | 0.338949          | 0.559871              | 0.0509468   |</pre>"
      ],
      "text/plain": [
       "| 6       | 1.67s        | 0.338949          | 0.559871              | 0.0509468   |"
      ]
     },
     "metadata": {},
     "output_type": "display_data"
    },
    {
     "data": {
      "text/html": [
       "<pre>| 9       | 2.12s        | 0.232278          | 0.433335              | 0.0375879   |</pre>"
      ],
      "text/plain": [
       "| 9       | 2.12s        | 0.232278          | 0.433335              | 0.0375879   |"
      ]
     },
     "metadata": {},
     "output_type": "display_data"
    },
    {
     "data": {
      "text/html": [
       "<pre>| 11      | 2.35s        | 0.197124          | 0.378828              | 0.0323359   |</pre>"
      ],
      "text/plain": [
       "| 11      | 2.35s        | 0.197124          | 0.378828              | 0.0323359   |"
      ]
     },
     "metadata": {},
     "output_type": "display_data"
    },
    {
     "data": {
      "text/html": [
       "<pre>| 14      | 2.93s        | 0.167794          | 0.322836              | 0.0269857   |</pre>"
      ],
      "text/plain": [
       "| 14      | 2.93s        | 0.167794          | 0.322836              | 0.0269857   |"
      ]
     },
     "metadata": {},
     "output_type": "display_data"
    },
    {
     "data": {
      "text/html": [
       "<pre>| 19      | 3.81s        | 0.145738          | 0.267693              | 0.0214617   |</pre>"
      ],
      "text/plain": [
       "| 19      | 3.81s        | 0.145738          | 0.267693              | 0.0214617   |"
      ]
     },
     "metadata": {},
     "output_type": "display_data"
    },
    {
     "data": {
      "text/html": [
       "<pre>| 24      | 4.46s        | 0.136029          | 0.235703              | 0.0180124   |</pre>"
      ],
      "text/plain": [
       "| 24      | 4.46s        | 0.136029          | 0.235703              | 0.0180124   |"
      ]
     },
     "metadata": {},
     "output_type": "display_data"
    },
    {
     "data": {
      "text/html": [
       "<pre>| 29      | 5.08s        | 0.130947          | 0.215037              | 0.015629    |</pre>"
      ],
      "text/plain": [
       "| 29      | 5.08s        | 0.130947          | 0.215037              | 0.015629    |"
      ]
     },
     "metadata": {},
     "output_type": "display_data"
    },
    {
     "data": {
      "text/html": [
       "<pre>| 34      | 5.71s        | 0.127891          | 0.200525              | 0.0138714   |</pre>"
      ],
      "text/plain": [
       "| 34      | 5.71s        | 0.127891          | 0.200525              | 0.0138714   |"
      ]
     },
     "metadata": {},
     "output_type": "display_data"
    },
    {
     "data": {
      "text/html": [
       "<pre>| 39      | 6.33s        | 0.125975          | 0.189919              | 0.012515    |</pre>"
      ],
      "text/plain": [
       "| 39      | 6.33s        | 0.125975          | 0.189919              | 0.012515    |"
      ]
     },
     "metadata": {},
     "output_type": "display_data"
    },
    {
     "data": {
      "text/html": [
       "<pre>| 44      | 6.96s        | 0.124614          | 0.18168               | 0.0114325   |</pre>"
      ],
      "text/plain": [
       "| 44      | 6.96s        | 0.124614          | 0.18168               | 0.0114325   |"
      ]
     },
     "metadata": {},
     "output_type": "display_data"
    },
    {
     "data": {
      "text/html": [
       "<pre>| 49      | 7.55s        | 0.12365           | 0.175186              | 0.0105459   |</pre>"
      ],
      "text/plain": [
       "| 49      | 7.55s        | 0.12365           | 0.175186              | 0.0105459   |"
      ]
     },
     "metadata": {},
     "output_type": "display_data"
    },
    {
     "data": {
      "text/html": [
       "<pre>+---------+--------------+-------------------+-----------------------+-------------+</pre>"
      ],
      "text/plain": [
       "+---------+--------------+-------------------+-----------------------+-------------+"
      ]
     },
     "metadata": {},
     "output_type": "display_data"
    },
    {
     "data": {
      "text/html": [
       "<pre>Optimization Complete: Maximum number of passes through the data reached.</pre>"
      ],
      "text/plain": [
       "Optimization Complete: Maximum number of passes through the data reached."
      ]
     },
     "metadata": {},
     "output_type": "display_data"
    },
    {
     "data": {
      "text/html": [
       "<pre>Computing final objective value and training RMSE.</pre>"
      ],
      "text/plain": [
       "Computing final objective value and training RMSE."
      ]
     },
     "metadata": {},
     "output_type": "display_data"
    },
    {
     "data": {
      "text/html": [
       "<pre>       Final objective value: 0.121355</pre>"
      ],
      "text/plain": [
       "       Final objective value: 0.121355"
      ]
     },
     "metadata": {},
     "output_type": "display_data"
    },
    {
     "data": {
      "text/html": [
       "<pre>       Final training RMSE: 0.167804</pre>"
      ],
      "text/plain": [
       "       Final training RMSE: 0.167804"
      ]
     },
     "metadata": {},
     "output_type": "display_data"
    }
   ],
   "source": [
    "m3 = gl.factorization_recommender.create(train, target='rating',regularization=1e-06 )"
   ]
  },
  {
   "cell_type": "code",
   "execution_count": 16,
   "metadata": {
    "collapsed": false
   },
   "outputs": [
    {
     "data": {
      "text/html": [
       "<pre>recommendations finished on 1000/66235 queries. users per second: 1139.98</pre>"
      ],
      "text/plain": [
       "recommendations finished on 1000/66235 queries. users per second: 1139.98"
      ]
     },
     "metadata": {},
     "output_type": "display_data"
    },
    {
     "data": {
      "text/html": [
       "<pre>recommendations finished on 2000/66235 queries. users per second: 1207.98</pre>"
      ],
      "text/plain": [
       "recommendations finished on 2000/66235 queries. users per second: 1207.98"
      ]
     },
     "metadata": {},
     "output_type": "display_data"
    },
    {
     "data": {
      "text/html": [
       "<pre>recommendations finished on 3000/66235 queries. users per second: 1206.44</pre>"
      ],
      "text/plain": [
       "recommendations finished on 3000/66235 queries. users per second: 1206.44"
      ]
     },
     "metadata": {},
     "output_type": "display_data"
    },
    {
     "data": {
      "text/html": [
       "<pre>recommendations finished on 4000/66235 queries. users per second: 1227.43</pre>"
      ],
      "text/plain": [
       "recommendations finished on 4000/66235 queries. users per second: 1227.43"
      ]
     },
     "metadata": {},
     "output_type": "display_data"
    },
    {
     "data": {
      "text/html": [
       "<pre>recommendations finished on 5000/66235 queries. users per second: 1162.63</pre>"
      ],
      "text/plain": [
       "recommendations finished on 5000/66235 queries. users per second: 1162.63"
      ]
     },
     "metadata": {},
     "output_type": "display_data"
    },
    {
     "data": {
      "text/html": [
       "<pre>recommendations finished on 6000/66235 queries. users per second: 1169.99</pre>"
      ],
      "text/plain": [
       "recommendations finished on 6000/66235 queries. users per second: 1169.99"
      ]
     },
     "metadata": {},
     "output_type": "display_data"
    },
    {
     "data": {
      "text/html": [
       "<pre>recommendations finished on 7000/66235 queries. users per second: 1145.25</pre>"
      ],
      "text/plain": [
       "recommendations finished on 7000/66235 queries. users per second: 1145.25"
      ]
     },
     "metadata": {},
     "output_type": "display_data"
    },
    {
     "data": {
      "text/html": [
       "<pre>recommendations finished on 8000/66235 queries. users per second: 1145.72</pre>"
      ],
      "text/plain": [
       "recommendations finished on 8000/66235 queries. users per second: 1145.72"
      ]
     },
     "metadata": {},
     "output_type": "display_data"
    },
    {
     "data": {
      "text/html": [
       "<pre>recommendations finished on 9000/66235 queries. users per second: 1160.87</pre>"
      ],
      "text/plain": [
       "recommendations finished on 9000/66235 queries. users per second: 1160.87"
      ]
     },
     "metadata": {},
     "output_type": "display_data"
    },
    {
     "data": {
      "text/html": [
       "<pre>recommendations finished on 10000/66235 queries. users per second: 1126.19</pre>"
      ],
      "text/plain": [
       "recommendations finished on 10000/66235 queries. users per second: 1126.19"
      ]
     },
     "metadata": {},
     "output_type": "display_data"
    },
    {
     "data": {
      "text/html": [
       "<pre>recommendations finished on 11000/66235 queries. users per second: 1123.23</pre>"
      ],
      "text/plain": [
       "recommendations finished on 11000/66235 queries. users per second: 1123.23"
      ]
     },
     "metadata": {},
     "output_type": "display_data"
    },
    {
     "data": {
      "text/html": [
       "<pre>recommendations finished on 12000/66235 queries. users per second: 1120.54</pre>"
      ],
      "text/plain": [
       "recommendations finished on 12000/66235 queries. users per second: 1120.54"
      ]
     },
     "metadata": {},
     "output_type": "display_data"
    },
    {
     "data": {
      "text/html": [
       "<pre>recommendations finished on 13000/66235 queries. users per second: 1125.81</pre>"
      ],
      "text/plain": [
       "recommendations finished on 13000/66235 queries. users per second: 1125.81"
      ]
     },
     "metadata": {},
     "output_type": "display_data"
    },
    {
     "data": {
      "text/html": [
       "<pre>recommendations finished on 14000/66235 queries. users per second: 1137.52</pre>"
      ],
      "text/plain": [
       "recommendations finished on 14000/66235 queries. users per second: 1137.52"
      ]
     },
     "metadata": {},
     "output_type": "display_data"
    },
    {
     "data": {
      "text/html": [
       "<pre>recommendations finished on 15000/66235 queries. users per second: 1149.92</pre>"
      ],
      "text/plain": [
       "recommendations finished on 15000/66235 queries. users per second: 1149.92"
      ]
     },
     "metadata": {},
     "output_type": "display_data"
    },
    {
     "data": {
      "text/html": [
       "<pre>recommendations finished on 16000/66235 queries. users per second: 1144.91</pre>"
      ],
      "text/plain": [
       "recommendations finished on 16000/66235 queries. users per second: 1144.91"
      ]
     },
     "metadata": {},
     "output_type": "display_data"
    },
    {
     "data": {
      "text/html": [
       "<pre>recommendations finished on 17000/66235 queries. users per second: 1149.61</pre>"
      ],
      "text/plain": [
       "recommendations finished on 17000/66235 queries. users per second: 1149.61"
      ]
     },
     "metadata": {},
     "output_type": "display_data"
    },
    {
     "data": {
      "text/html": [
       "<pre>recommendations finished on 18000/66235 queries. users per second: 1110.25</pre>"
      ],
      "text/plain": [
       "recommendations finished on 18000/66235 queries. users per second: 1110.25"
      ]
     },
     "metadata": {},
     "output_type": "display_data"
    },
    {
     "data": {
      "text/html": [
       "<pre>recommendations finished on 19000/66235 queries. users per second: 1102.39</pre>"
      ],
      "text/plain": [
       "recommendations finished on 19000/66235 queries. users per second: 1102.39"
      ]
     },
     "metadata": {},
     "output_type": "display_data"
    },
    {
     "data": {
      "text/html": [
       "<pre>recommendations finished on 20000/66235 queries. users per second: 1110.26</pre>"
      ],
      "text/plain": [
       "recommendations finished on 20000/66235 queries. users per second: 1110.26"
      ]
     },
     "metadata": {},
     "output_type": "display_data"
    },
    {
     "data": {
      "text/html": [
       "<pre>recommendations finished on 21000/66235 queries. users per second: 1062.14</pre>"
      ],
      "text/plain": [
       "recommendations finished on 21000/66235 queries. users per second: 1062.14"
      ]
     },
     "metadata": {},
     "output_type": "display_data"
    },
    {
     "data": {
      "text/html": [
       "<pre>recommendations finished on 22000/66235 queries. users per second: 1042</pre>"
      ],
      "text/plain": [
       "recommendations finished on 22000/66235 queries. users per second: 1042"
      ]
     },
     "metadata": {},
     "output_type": "display_data"
    },
    {
     "data": {
      "text/html": [
       "<pre>recommendations finished on 23000/66235 queries. users per second: 1033.69</pre>"
      ],
      "text/plain": [
       "recommendations finished on 23000/66235 queries. users per second: 1033.69"
      ]
     },
     "metadata": {},
     "output_type": "display_data"
    },
    {
     "data": {
      "text/html": [
       "<pre>recommendations finished on 24000/66235 queries. users per second: 1031.04</pre>"
      ],
      "text/plain": [
       "recommendations finished on 24000/66235 queries. users per second: 1031.04"
      ]
     },
     "metadata": {},
     "output_type": "display_data"
    },
    {
     "data": {
      "text/html": [
       "<pre>recommendations finished on 25000/66235 queries. users per second: 1027.35</pre>"
      ],
      "text/plain": [
       "recommendations finished on 25000/66235 queries. users per second: 1027.35"
      ]
     },
     "metadata": {},
     "output_type": "display_data"
    },
    {
     "data": {
      "text/html": [
       "<pre>recommendations finished on 26000/66235 queries. users per second: 1005.02</pre>"
      ],
      "text/plain": [
       "recommendations finished on 26000/66235 queries. users per second: 1005.02"
      ]
     },
     "metadata": {},
     "output_type": "display_data"
    },
    {
     "data": {
      "text/html": [
       "<pre>recommendations finished on 27000/66235 queries. users per second: 1005.5</pre>"
      ],
      "text/plain": [
       "recommendations finished on 27000/66235 queries. users per second: 1005.5"
      ]
     },
     "metadata": {},
     "output_type": "display_data"
    },
    {
     "data": {
      "text/html": [
       "<pre>recommendations finished on 28000/66235 queries. users per second: 999.298</pre>"
      ],
      "text/plain": [
       "recommendations finished on 28000/66235 queries. users per second: 999.298"
      ]
     },
     "metadata": {},
     "output_type": "display_data"
    },
    {
     "data": {
      "text/html": [
       "<pre>recommendations finished on 29000/66235 queries. users per second: 991.979</pre>"
      ],
      "text/plain": [
       "recommendations finished on 29000/66235 queries. users per second: 991.979"
      ]
     },
     "metadata": {},
     "output_type": "display_data"
    },
    {
     "data": {
      "text/html": [
       "<pre>recommendations finished on 30000/66235 queries. users per second: 998.743</pre>"
      ],
      "text/plain": [
       "recommendations finished on 30000/66235 queries. users per second: 998.743"
      ]
     },
     "metadata": {},
     "output_type": "display_data"
    },
    {
     "data": {
      "text/html": [
       "<pre>recommendations finished on 31000/66235 queries. users per second: 987.598</pre>"
      ],
      "text/plain": [
       "recommendations finished on 31000/66235 queries. users per second: 987.598"
      ]
     },
     "metadata": {},
     "output_type": "display_data"
    },
    {
     "data": {
      "text/html": [
       "<pre>recommendations finished on 32000/66235 queries. users per second: 979.666</pre>"
      ],
      "text/plain": [
       "recommendations finished on 32000/66235 queries. users per second: 979.666"
      ]
     },
     "metadata": {},
     "output_type": "display_data"
    },
    {
     "data": {
      "text/html": [
       "<pre>recommendations finished on 33000/66235 queries. users per second: 976.75</pre>"
      ],
      "text/plain": [
       "recommendations finished on 33000/66235 queries. users per second: 976.75"
      ]
     },
     "metadata": {},
     "output_type": "display_data"
    },
    {
     "data": {
      "text/html": [
       "<pre>recommendations finished on 34000/66235 queries. users per second: 978.745</pre>"
      ],
      "text/plain": [
       "recommendations finished on 34000/66235 queries. users per second: 978.745"
      ]
     },
     "metadata": {},
     "output_type": "display_data"
    },
    {
     "data": {
      "text/html": [
       "<pre>recommendations finished on 35000/66235 queries. users per second: 976.738</pre>"
      ],
      "text/plain": [
       "recommendations finished on 35000/66235 queries. users per second: 976.738"
      ]
     },
     "metadata": {},
     "output_type": "display_data"
    },
    {
     "data": {
      "text/html": [
       "<pre>recommendations finished on 36000/66235 queries. users per second: 980.011</pre>"
      ],
      "text/plain": [
       "recommendations finished on 36000/66235 queries. users per second: 980.011"
      ]
     },
     "metadata": {},
     "output_type": "display_data"
    },
    {
     "data": {
      "text/html": [
       "<pre>recommendations finished on 37000/66235 queries. users per second: 976.127</pre>"
      ],
      "text/plain": [
       "recommendations finished on 37000/66235 queries. users per second: 976.127"
      ]
     },
     "metadata": {},
     "output_type": "display_data"
    },
    {
     "data": {
      "text/html": [
       "<pre>recommendations finished on 38000/66235 queries. users per second: 980.515</pre>"
      ],
      "text/plain": [
       "recommendations finished on 38000/66235 queries. users per second: 980.515"
      ]
     },
     "metadata": {},
     "output_type": "display_data"
    },
    {
     "data": {
      "text/html": [
       "<pre>recommendations finished on 39000/66235 queries. users per second: 974.105</pre>"
      ],
      "text/plain": [
       "recommendations finished on 39000/66235 queries. users per second: 974.105"
      ]
     },
     "metadata": {},
     "output_type": "display_data"
    },
    {
     "data": {
      "text/html": [
       "<pre>recommendations finished on 40000/66235 queries. users per second: 977.381</pre>"
      ],
      "text/plain": [
       "recommendations finished on 40000/66235 queries. users per second: 977.381"
      ]
     },
     "metadata": {},
     "output_type": "display_data"
    },
    {
     "data": {
      "text/html": [
       "<pre>recommendations finished on 41000/66235 queries. users per second: 983.137</pre>"
      ],
      "text/plain": [
       "recommendations finished on 41000/66235 queries. users per second: 983.137"
      ]
     },
     "metadata": {},
     "output_type": "display_data"
    },
    {
     "data": {
      "text/html": [
       "<pre>recommendations finished on 42000/66235 queries. users per second: 989.202</pre>"
      ],
      "text/plain": [
       "recommendations finished on 42000/66235 queries. users per second: 989.202"
      ]
     },
     "metadata": {},
     "output_type": "display_data"
    },
    {
     "data": {
      "text/html": [
       "<pre>recommendations finished on 43000/66235 queries. users per second: 996.036</pre>"
      ],
      "text/plain": [
       "recommendations finished on 43000/66235 queries. users per second: 996.036"
      ]
     },
     "metadata": {},
     "output_type": "display_data"
    },
    {
     "data": {
      "text/html": [
       "<pre>recommendations finished on 44000/66235 queries. users per second: 997.6</pre>"
      ],
      "text/plain": [
       "recommendations finished on 44000/66235 queries. users per second: 997.6"
      ]
     },
     "metadata": {},
     "output_type": "display_data"
    },
    {
     "data": {
      "text/html": [
       "<pre>recommendations finished on 45000/66235 queries. users per second: 994.127</pre>"
      ],
      "text/plain": [
       "recommendations finished on 45000/66235 queries. users per second: 994.127"
      ]
     },
     "metadata": {},
     "output_type": "display_data"
    },
    {
     "data": {
      "text/html": [
       "<pre>recommendations finished on 46000/66235 queries. users per second: 996.806</pre>"
      ],
      "text/plain": [
       "recommendations finished on 46000/66235 queries. users per second: 996.806"
      ]
     },
     "metadata": {},
     "output_type": "display_data"
    },
    {
     "data": {
      "text/html": [
       "<pre>recommendations finished on 47000/66235 queries. users per second: 994.156</pre>"
      ],
      "text/plain": [
       "recommendations finished on 47000/66235 queries. users per second: 994.156"
      ]
     },
     "metadata": {},
     "output_type": "display_data"
    },
    {
     "data": {
      "text/html": [
       "<pre>recommendations finished on 48000/66235 queries. users per second: 985.324</pre>"
      ],
      "text/plain": [
       "recommendations finished on 48000/66235 queries. users per second: 985.324"
      ]
     },
     "metadata": {},
     "output_type": "display_data"
    },
    {
     "data": {
      "text/html": [
       "<pre>recommendations finished on 49000/66235 queries. users per second: 987.422</pre>"
      ],
      "text/plain": [
       "recommendations finished on 49000/66235 queries. users per second: 987.422"
      ]
     },
     "metadata": {},
     "output_type": "display_data"
    },
    {
     "data": {
      "text/html": [
       "<pre>recommendations finished on 50000/66235 queries. users per second: 992.63</pre>"
      ],
      "text/plain": [
       "recommendations finished on 50000/66235 queries. users per second: 992.63"
      ]
     },
     "metadata": {},
     "output_type": "display_data"
    },
    {
     "data": {
      "text/html": [
       "<pre>recommendations finished on 51000/66235 queries. users per second: 997.112</pre>"
      ],
      "text/plain": [
       "recommendations finished on 51000/66235 queries. users per second: 997.112"
      ]
     },
     "metadata": {},
     "output_type": "display_data"
    },
    {
     "data": {
      "text/html": [
       "<pre>recommendations finished on 52000/66235 queries. users per second: 1001.45</pre>"
      ],
      "text/plain": [
       "recommendations finished on 52000/66235 queries. users per second: 1001.45"
      ]
     },
     "metadata": {},
     "output_type": "display_data"
    },
    {
     "data": {
      "text/html": [
       "<pre>recommendations finished on 53000/66235 queries. users per second: 1005.27</pre>"
      ],
      "text/plain": [
       "recommendations finished on 53000/66235 queries. users per second: 1005.27"
      ]
     },
     "metadata": {},
     "output_type": "display_data"
    },
    {
     "data": {
      "text/html": [
       "<pre>recommendations finished on 54000/66235 queries. users per second: 1009.35</pre>"
      ],
      "text/plain": [
       "recommendations finished on 54000/66235 queries. users per second: 1009.35"
      ]
     },
     "metadata": {},
     "output_type": "display_data"
    },
    {
     "data": {
      "text/html": [
       "<pre>recommendations finished on 55000/66235 queries. users per second: 1013.69</pre>"
      ],
      "text/plain": [
       "recommendations finished on 55000/66235 queries. users per second: 1013.69"
      ]
     },
     "metadata": {},
     "output_type": "display_data"
    },
    {
     "data": {
      "text/html": [
       "<pre>recommendations finished on 56000/66235 queries. users per second: 1017.67</pre>"
      ],
      "text/plain": [
       "recommendations finished on 56000/66235 queries. users per second: 1017.67"
      ]
     },
     "metadata": {},
     "output_type": "display_data"
    },
    {
     "data": {
      "text/html": [
       "<pre>recommendations finished on 57000/66235 queries. users per second: 1022.3</pre>"
      ],
      "text/plain": [
       "recommendations finished on 57000/66235 queries. users per second: 1022.3"
      ]
     },
     "metadata": {},
     "output_type": "display_data"
    },
    {
     "data": {
      "text/html": [
       "<pre>recommendations finished on 58000/66235 queries. users per second: 1026.3</pre>"
      ],
      "text/plain": [
       "recommendations finished on 58000/66235 queries. users per second: 1026.3"
      ]
     },
     "metadata": {},
     "output_type": "display_data"
    },
    {
     "data": {
      "text/html": [
       "<pre>recommendations finished on 59000/66235 queries. users per second: 1031.45</pre>"
      ],
      "text/plain": [
       "recommendations finished on 59000/66235 queries. users per second: 1031.45"
      ]
     },
     "metadata": {},
     "output_type": "display_data"
    },
    {
     "data": {
      "text/html": [
       "<pre>recommendations finished on 60000/66235 queries. users per second: 1036.56</pre>"
      ],
      "text/plain": [
       "recommendations finished on 60000/66235 queries. users per second: 1036.56"
      ]
     },
     "metadata": {},
     "output_type": "display_data"
    },
    {
     "data": {
      "text/html": [
       "<pre>recommendations finished on 61000/66235 queries. users per second: 1041.46</pre>"
      ],
      "text/plain": [
       "recommendations finished on 61000/66235 queries. users per second: 1041.46"
      ]
     },
     "metadata": {},
     "output_type": "display_data"
    },
    {
     "data": {
      "text/html": [
       "<pre>recommendations finished on 62000/66235 queries. users per second: 1041.9</pre>"
      ],
      "text/plain": [
       "recommendations finished on 62000/66235 queries. users per second: 1041.9"
      ]
     },
     "metadata": {},
     "output_type": "display_data"
    },
    {
     "data": {
      "text/html": [
       "<pre>recommendations finished on 63000/66235 queries. users per second: 1044.87</pre>"
      ],
      "text/plain": [
       "recommendations finished on 63000/66235 queries. users per second: 1044.87"
      ]
     },
     "metadata": {},
     "output_type": "display_data"
    },
    {
     "data": {
      "text/html": [
       "<pre>recommendations finished on 64000/66235 queries. users per second: 1045.22</pre>"
      ],
      "text/plain": [
       "recommendations finished on 64000/66235 queries. users per second: 1045.22"
      ]
     },
     "metadata": {},
     "output_type": "display_data"
    },
    {
     "data": {
      "text/html": [
       "<pre>recommendations finished on 65000/66235 queries. users per second: 1045.83</pre>"
      ],
      "text/plain": [
       "recommendations finished on 65000/66235 queries. users per second: 1045.83"
      ]
     },
     "metadata": {},
     "output_type": "display_data"
    },
    {
     "data": {
      "text/html": [
       "<pre>recommendations finished on 66000/66235 queries. users per second: 1047.11</pre>"
      ],
      "text/plain": [
       "recommendations finished on 66000/66235 queries. users per second: 1047.11"
      ]
     },
     "metadata": {},
     "output_type": "display_data"
    },
    {
     "name": "stdout",
     "output_type": "stream",
     "text": [
      "\n",
      "Precision and recall summary statistics by cutoff\n",
      "+--------+-------------------+-------------------+\n",
      "| cutoff |   mean_precision  |    mean_recall    |\n",
      "+--------+-------------------+-------------------+\n",
      "|   1    | 0.000181173095795 | 2.82836366218e-05 |\n",
      "|   2    | 0.000196270853778 | 6.78315982934e-05 |\n",
      "|   3    | 0.000226466369744 | 0.000108636236648 |\n",
      "|   4    | 0.000215143051257 | 0.000130900161666 |\n",
      "|   5    | 0.000214388163358 |  0.00017442247557 |\n",
      "|   6    | 0.000216401197755 |  0.00021572539085 |\n",
      "|   7    | 0.000215682256899 | 0.000235884971065 |\n",
      "|   8    | 0.000211368611761 |   0.000260125651  |\n",
      "|   9    | 0.000209691083096 |  0.00030840342491 |\n",
      "|   10   | 0.000217407714954 | 0.000346146790489 |\n",
      "+--------+-------------------+-------------------+\n",
      "[10 rows x 3 columns]\n",
      "\n",
      "('\\nOverall RMSE: ', 0.9463132478326678)\n",
      "\n",
      "Per User RMSE (best)\n",
      "+---------------+-------+-------------------+\n",
      "|    user_id    | count |        rmse       |\n",
      "+---------------+-------+-------------------+\n",
      "| A7WED2NNBF2VP |   1   | 8.28894904865e-05 |\n",
      "+---------------+-------+-------------------+\n",
      "[1 rows x 3 columns]\n",
      "\n",
      "\n",
      "Per User RMSE (worst)\n",
      "+----------------+-------+--------------+\n",
      "|    user_id     | count |     rmse     |\n",
      "+----------------+-------+--------------+\n",
      "| A3CPNY2JWNWVZT |   1   | 5.8095521642 |\n",
      "+----------------+-------+--------------+\n",
      "[1 rows x 3 columns]\n",
      "\n",
      "\n",
      "Per Item RMSE (best)\n",
      "+------------+-------+-------------------+\n",
      "|  item_id   | count |        rmse       |\n",
      "+------------+-------+-------------------+\n",
      "| B00E2QS2LW |   1   | 6.05801238729e-05 |\n",
      "+------------+-------+-------------------+\n",
      "[1 rows x 3 columns]\n",
      "\n",
      "\n",
      "Per Item RMSE (worst)\n",
      "+------------+-------+---------------+\n",
      "|  item_id   | count |      rmse     |\n",
      "+------------+-------+---------------+\n",
      "| B00ICN4HII |   1   | 4.39054885266 |\n",
      "+------------+-------+---------------+\n",
      "[1 rows x 3 columns]\n",
      "\n"
     ]
    }
   ],
   "source": [
    "eval3 = m3.evaluate(valid)"
   ]
  },
  {
   "cell_type": "code",
   "execution_count": 17,
   "metadata": {
    "collapsed": false
   },
   "outputs": [
    {
     "data": {
      "text/html": [
       "<pre>Recsys training: model = factorization_recommender</pre>"
      ],
      "text/plain": [
       "Recsys training: model = factorization_recommender"
      ]
     },
     "metadata": {},
     "output_type": "display_data"
    },
    {
     "data": {
      "text/html": [
       "<pre>Preparing data set.</pre>"
      ],
      "text/plain": [
       "Preparing data set."
      ]
     },
     "metadata": {},
     "output_type": "display_data"
    },
    {
     "data": {
      "text/html": [
       "<pre>    Data has 589592 observations with 67976 users and 61930 items.</pre>"
      ],
      "text/plain": [
       "    Data has 589592 observations with 67976 users and 61930 items."
      ]
     },
     "metadata": {},
     "output_type": "display_data"
    },
    {
     "data": {
      "text/html": [
       "<pre>    Data prepared in: 0.884896s</pre>"
      ],
      "text/plain": [
       "    Data prepared in: 0.884896s"
      ]
     },
     "metadata": {},
     "output_type": "display_data"
    },
    {
     "data": {
      "text/html": [
       "<pre>Training factorization_recommender for recommendations.</pre>"
      ],
      "text/plain": [
       "Training factorization_recommender for recommendations."
      ]
     },
     "metadata": {},
     "output_type": "display_data"
    },
    {
     "data": {
      "text/html": [
       "<pre>+--------------------------------+--------------------------------------------------+----------+</pre>"
      ],
      "text/plain": [
       "+--------------------------------+--------------------------------------------------+----------+"
      ]
     },
     "metadata": {},
     "output_type": "display_data"
    },
    {
     "data": {
      "text/html": [
       "<pre>| Parameter                      | Description                                      | Value    |</pre>"
      ],
      "text/plain": [
       "| Parameter                      | Description                                      | Value    |"
      ]
     },
     "metadata": {},
     "output_type": "display_data"
    },
    {
     "data": {
      "text/html": [
       "<pre>+--------------------------------+--------------------------------------------------+----------+</pre>"
      ],
      "text/plain": [
       "+--------------------------------+--------------------------------------------------+----------+"
      ]
     },
     "metadata": {},
     "output_type": "display_data"
    },
    {
     "data": {
      "text/html": [
       "<pre>| num_factors                    | Factor Dimension                                 | 8        |</pre>"
      ],
      "text/plain": [
       "| num_factors                    | Factor Dimension                                 | 8        |"
      ]
     },
     "metadata": {},
     "output_type": "display_data"
    },
    {
     "data": {
      "text/html": [
       "<pre>| regularization                 | L2 Regularization on Factors                     | 0.1      |</pre>"
      ],
      "text/plain": [
       "| regularization                 | L2 Regularization on Factors                     | 0.1      |"
      ]
     },
     "metadata": {},
     "output_type": "display_data"
    },
    {
     "data": {
      "text/html": [
       "<pre>| solver                         | Solver used for training                         | sgd      |</pre>"
      ],
      "text/plain": [
       "| solver                         | Solver used for training                         | sgd      |"
      ]
     },
     "metadata": {},
     "output_type": "display_data"
    },
    {
     "data": {
      "text/html": [
       "<pre>| linear_regularization          | L2 Regularization on Linear Coefficients         | 1e-10    |</pre>"
      ],
      "text/plain": [
       "| linear_regularization          | L2 Regularization on Linear Coefficients         | 1e-10    |"
      ]
     },
     "metadata": {},
     "output_type": "display_data"
    },
    {
     "data": {
      "text/html": [
       "<pre>| max_iterations                 | Maximum Number of Iterations                     | 50       |</pre>"
      ],
      "text/plain": [
       "| max_iterations                 | Maximum Number of Iterations                     | 50       |"
      ]
     },
     "metadata": {},
     "output_type": "display_data"
    },
    {
     "data": {
      "text/html": [
       "<pre>+--------------------------------+--------------------------------------------------+----------+</pre>"
      ],
      "text/plain": [
       "+--------------------------------+--------------------------------------------------+----------+"
      ]
     },
     "metadata": {},
     "output_type": "display_data"
    },
    {
     "data": {
      "text/html": [
       "<pre>  Optimizing model using SGD; tuning step size.</pre>"
      ],
      "text/plain": [
       "  Optimizing model using SGD; tuning step size."
      ]
     },
     "metadata": {},
     "output_type": "display_data"
    },
    {
     "data": {
      "text/html": [
       "<pre>  Using 73699 / 589592 points for tuning the step size.</pre>"
      ],
      "text/plain": [
       "  Using 73699 / 589592 points for tuning the step size."
      ]
     },
     "metadata": {},
     "output_type": "display_data"
    },
    {
     "data": {
      "text/html": [
       "<pre>+---------+-------------------+------------------------------------------+</pre>"
      ],
      "text/plain": [
       "+---------+-------------------+------------------------------------------+"
      ]
     },
     "metadata": {},
     "output_type": "display_data"
    },
    {
     "data": {
      "text/html": [
       "<pre>| Attempt | Initial Step Size | Estimated Objective Value                |</pre>"
      ],
      "text/plain": [
       "| Attempt | Initial Step Size | Estimated Objective Value                |"
      ]
     },
     "metadata": {},
     "output_type": "display_data"
    },
    {
     "data": {
      "text/html": [
       "<pre>+---------+-------------------+------------------------------------------+</pre>"
      ],
      "text/plain": [
       "+---------+-------------------+------------------------------------------+"
      ]
     },
     "metadata": {},
     "output_type": "display_data"
    },
    {
     "data": {
      "text/html": [
       "<pre>| 0       | 0.00124965        | Not Viable                               |</pre>"
      ],
      "text/plain": [
       "| 0       | 0.00124965        | Not Viable                               |"
      ]
     },
     "metadata": {},
     "output_type": "display_data"
    },
    {
     "data": {
      "text/html": [
       "<pre>| 1       | 0.000312411       | 0.900793                                 |</pre>"
      ],
      "text/plain": [
       "| 1       | 0.000312411       | 0.900793                                 |"
      ]
     },
     "metadata": {},
     "output_type": "display_data"
    },
    {
     "data": {
      "text/html": [
       "<pre>| 2       | 0.000156206       | 0.902818                                 |</pre>"
      ],
      "text/plain": [
       "| 2       | 0.000156206       | 0.902818                                 |"
      ]
     },
     "metadata": {},
     "output_type": "display_data"
    },
    {
     "data": {
      "text/html": [
       "<pre>| 3       | 7.81029e-05       | 0.903891                                 |</pre>"
      ],
      "text/plain": [
       "| 3       | 7.81029e-05       | 0.903891                                 |"
      ]
     },
     "metadata": {},
     "output_type": "display_data"
    },
    {
     "data": {
      "text/html": [
       "<pre>| 4       | 3.90514e-05       | 0.904492                                 |</pre>"
      ],
      "text/plain": [
       "| 4       | 3.90514e-05       | 0.904492                                 |"
      ]
     },
     "metadata": {},
     "output_type": "display_data"
    },
    {
     "data": {
      "text/html": [
       "<pre>+---------+-------------------+------------------------------------------+</pre>"
      ],
      "text/plain": [
       "+---------+-------------------+------------------------------------------+"
      ]
     },
     "metadata": {},
     "output_type": "display_data"
    },
    {
     "data": {
      "text/html": [
       "<pre>| Final   | 0.000312411       | 0.900793                                 |</pre>"
      ],
      "text/plain": [
       "| Final   | 0.000312411       | 0.900793                                 |"
      ]
     },
     "metadata": {},
     "output_type": "display_data"
    },
    {
     "data": {
      "text/html": [
       "<pre>+---------+-------------------+------------------------------------------+</pre>"
      ],
      "text/plain": [
       "+---------+-------------------+------------------------------------------+"
      ]
     },
     "metadata": {},
     "output_type": "display_data"
    },
    {
     "data": {
      "text/html": [
       "<pre>Starting Optimization.</pre>"
      ],
      "text/plain": [
       "Starting Optimization."
      ]
     },
     "metadata": {},
     "output_type": "display_data"
    },
    {
     "data": {
      "text/html": [
       "<pre>+---------+--------------+-------------------+-----------------------+-------------+</pre>"
      ],
      "text/plain": [
       "+---------+--------------+-------------------+-----------------------+-------------+"
      ]
     },
     "metadata": {},
     "output_type": "display_data"
    },
    {
     "data": {
      "text/html": [
       "<pre>| Iter.   | Elapsed Time | Approx. Objective | Approx. Training RMSE | Step Size   |</pre>"
      ],
      "text/plain": [
       "| Iter.   | Elapsed Time | Approx. Objective | Approx. Training RMSE | Step Size   |"
      ]
     },
     "metadata": {},
     "output_type": "display_data"
    },
    {
     "data": {
      "text/html": [
       "<pre>+---------+--------------+-------------------+-----------------------+-------------+</pre>"
      ],
      "text/plain": [
       "+---------+--------------+-------------------+-----------------------+-------------+"
      ]
     },
     "metadata": {},
     "output_type": "display_data"
    },
    {
     "data": {
      "text/html": [
       "<pre>| Initial | 111us        | 0.911759          | 0.954688              |             |</pre>"
      ],
      "text/plain": [
       "| Initial | 111us        | 0.911759          | 0.954688              |             |"
      ]
     },
     "metadata": {},
     "output_type": "display_data"
    },
    {
     "data": {
      "text/html": [
       "<pre>+---------+--------------+-------------------+-----------------------+-------------+</pre>"
      ],
      "text/plain": [
       "+---------+--------------+-------------------+-----------------------+-------------+"
      ]
     },
     "metadata": {},
     "output_type": "display_data"
    },
    {
     "data": {
      "text/html": [
       "<pre>| 1       | 220.818ms    | DIVERGED          | DIVERGED              | 0.000312411 |</pre>"
      ],
      "text/plain": [
       "| 1       | 220.818ms    | DIVERGED          | DIVERGED              | 0.000312411 |"
      ]
     },
     "metadata": {},
     "output_type": "display_data"
    },
    {
     "data": {
      "text/html": [
       "<pre>| RESET   | 300.946ms    | 0.911763          | 0.954691              |             |</pre>"
      ],
      "text/plain": [
       "| RESET   | 300.946ms    | 0.911763          | 0.954691              |             |"
      ]
     },
     "metadata": {},
     "output_type": "display_data"
    },
    {
     "data": {
      "text/html": [
       "<pre>| 1       | 452.343ms    | DIVERGED          | DIVERGED              | 0.000156206 |</pre>"
      ],
      "text/plain": [
       "| 1       | 452.343ms    | DIVERGED          | DIVERGED              | 0.000156206 |"
      ]
     },
     "metadata": {},
     "output_type": "display_data"
    },
    {
     "data": {
      "text/html": [
       "<pre>| RESET   | 528.712ms    | 0.911759          | 0.954689              |             |</pre>"
      ],
      "text/plain": [
       "| RESET   | 528.712ms    | 0.911759          | 0.954689              |             |"
      ]
     },
     "metadata": {},
     "output_type": "display_data"
    },
    {
     "data": {
      "text/html": [
       "<pre>| 1       | 728.504ms    | 0.90954           | 0.953698              | 7.81029e-05 |</pre>"
      ],
      "text/plain": [
       "| 1       | 728.504ms    | 0.90954           | 0.953698              | 7.81029e-05 |"
      ]
     },
     "metadata": {},
     "output_type": "display_data"
    },
    {
     "data": {
      "text/html": [
       "<pre>| 2       | 985.368ms    | 0.906781          | 0.95225               | 1.39348e-05 |</pre>"
      ],
      "text/plain": [
       "| 2       | 985.368ms    | 0.906781          | 0.95225               | 1.39348e-05 |"
      ]
     },
     "metadata": {},
     "output_type": "display_data"
    },
    {
     "data": {
      "text/html": [
       "<pre>| 3       | 1.10s        | 0.906175          | 0.951932              | 7.64982e-06 |</pre>"
      ],
      "text/plain": [
       "| 3       | 1.10s        | 0.906175          | 0.951932              | 7.64982e-06 |"
      ]
     },
     "metadata": {},
     "output_type": "display_data"
    },
    {
     "data": {
      "text/html": [
       "<pre>| 4       | 1.25s        | 0.90582           | 0.951746              | 5.272e-06   |</pre>"
      ],
      "text/plain": [
       "| 4       | 1.25s        | 0.90582           | 0.951746              | 5.272e-06   |"
      ]
     },
     "metadata": {},
     "output_type": "display_data"
    },
    {
     "data": {
      "text/html": [
       "<pre>| 5       | 1.42s        | 0.905566          | 0.951612              | 4.02187e-06 |</pre>"
      ],
      "text/plain": [
       "| 5       | 1.42s        | 0.905566          | 0.951612              | 4.02187e-06 |"
      ]
     },
     "metadata": {},
     "output_type": "display_data"
    },
    {
     "data": {
      "text/html": [
       "<pre>| 6       | 1.62s        | 0.905369          | 0.951509              | 3.25098e-06 |</pre>"
      ],
      "text/plain": [
       "| 6       | 1.62s        | 0.905369          | 0.951509              | 3.25098e-06 |"
      ]
     },
     "metadata": {},
     "output_type": "display_data"
    },
    {
     "data": {
      "text/html": [
       "<pre>| 8       | 2.02s        | 0.90507           | 0.951352              | 2.35008e-06 |</pre>"
      ],
      "text/plain": [
       "| 8       | 2.02s        | 0.90507           | 0.951352              | 2.35008e-06 |"
      ]
     },
     "metadata": {},
     "output_type": "display_data"
    },
    {
     "data": {
      "text/html": [
       "<pre>| 11      | 2.47s        | 0.904753          | 0.951185              | 1.66004e-06 |</pre>"
      ],
      "text/plain": [
       "| 11      | 2.47s        | 0.904753          | 0.951185              | 1.66004e-06 |"
      ]
     },
     "metadata": {},
     "output_type": "display_data"
    },
    {
     "data": {
      "text/html": [
       "<pre>| 18      | 3.39s        | 0.904281          | 0.950937              | 9.85115e-07 |</pre>"
      ],
      "text/plain": [
       "| 18      | 3.39s        | 0.904281          | 0.950937              | 9.85115e-07 |"
      ]
     },
     "metadata": {},
     "output_type": "display_data"
    },
    {
     "data": {
      "text/html": [
       "<pre>| 28      | 4.48s        | 0.903869          | 0.95072               | 6.23169e-07 |</pre>"
      ],
      "text/plain": [
       "| 28      | 4.48s        | 0.903869          | 0.95072               | 6.23169e-07 |"
      ]
     },
     "metadata": {},
     "output_type": "display_data"
    },
    {
     "data": {
      "text/html": [
       "<pre>| 38      | 5.63s        | 0.903589          | 0.950573              | 4.55727e-07 |</pre>"
      ],
      "text/plain": [
       "| 38      | 5.63s        | 0.903589          | 0.950573              | 4.55727e-07 |"
      ]
     },
     "metadata": {},
     "output_type": "display_data"
    },
    {
     "data": {
      "text/html": [
       "<pre>| 48      | 6.63s        | 0.903376          | 0.950461              | 3.5921e-07  |</pre>"
      ],
      "text/plain": [
       "| 48      | 6.63s        | 0.903376          | 0.950461              | 3.5921e-07  |"
      ]
     },
     "metadata": {},
     "output_type": "display_data"
    },
    {
     "data": {
      "text/html": [
       "<pre>+---------+--------------+-------------------+-----------------------+-------------+</pre>"
      ],
      "text/plain": [
       "+---------+--------------+-------------------+-----------------------+-------------+"
      ]
     },
     "metadata": {},
     "output_type": "display_data"
    },
    {
     "data": {
      "text/html": [
       "<pre>Optimization Complete: Maximum number of passes through the data reached.</pre>"
      ],
      "text/plain": [
       "Optimization Complete: Maximum number of passes through the data reached."
      ]
     },
     "metadata": {},
     "output_type": "display_data"
    },
    {
     "data": {
      "text/html": [
       "<pre>Computing final objective value and training RMSE.</pre>"
      ],
      "text/plain": [
       "Computing final objective value and training RMSE."
      ]
     },
     "metadata": {},
     "output_type": "display_data"
    },
    {
     "data": {
      "text/html": [
       "<pre>       Final objective value: 0.903329</pre>"
      ],
      "text/plain": [
       "       Final objective value: 0.903329"
      ]
     },
     "metadata": {},
     "output_type": "display_data"
    },
    {
     "data": {
      "text/html": [
       "<pre>       Final training RMSE: 0.950436</pre>"
      ],
      "text/plain": [
       "       Final training RMSE: 0.950436"
      ]
     },
     "metadata": {},
     "output_type": "display_data"
    }
   ],
   "source": [
    "m4 = gl.factorization_recommender.create(train, target='rating',regularization=1e-01 )"
   ]
  },
  {
   "cell_type": "code",
   "execution_count": 18,
   "metadata": {
    "collapsed": false
   },
   "outputs": [
    {
     "data": {
      "text/html": [
       "<pre>recommendations finished on 1000/66235 queries. users per second: 1382.69</pre>"
      ],
      "text/plain": [
       "recommendations finished on 1000/66235 queries. users per second: 1382.69"
      ]
     },
     "metadata": {},
     "output_type": "display_data"
    },
    {
     "data": {
      "text/html": [
       "<pre>recommendations finished on 2000/66235 queries. users per second: 1399.51</pre>"
      ],
      "text/plain": [
       "recommendations finished on 2000/66235 queries. users per second: 1399.51"
      ]
     },
     "metadata": {},
     "output_type": "display_data"
    },
    {
     "data": {
      "text/html": [
       "<pre>recommendations finished on 3000/66235 queries. users per second: 1400.74</pre>"
      ],
      "text/plain": [
       "recommendations finished on 3000/66235 queries. users per second: 1400.74"
      ]
     },
     "metadata": {},
     "output_type": "display_data"
    },
    {
     "data": {
      "text/html": [
       "<pre>recommendations finished on 4000/66235 queries. users per second: 1413.82</pre>"
      ],
      "text/plain": [
       "recommendations finished on 4000/66235 queries. users per second: 1413.82"
      ]
     },
     "metadata": {},
     "output_type": "display_data"
    },
    {
     "data": {
      "text/html": [
       "<pre>recommendations finished on 5000/66235 queries. users per second: 1383.13</pre>"
      ],
      "text/plain": [
       "recommendations finished on 5000/66235 queries. users per second: 1383.13"
      ]
     },
     "metadata": {},
     "output_type": "display_data"
    },
    {
     "data": {
      "text/html": [
       "<pre>recommendations finished on 6000/66235 queries. users per second: 1338.51</pre>"
      ],
      "text/plain": [
       "recommendations finished on 6000/66235 queries. users per second: 1338.51"
      ]
     },
     "metadata": {},
     "output_type": "display_data"
    },
    {
     "data": {
      "text/html": [
       "<pre>recommendations finished on 7000/66235 queries. users per second: 1329.7</pre>"
      ],
      "text/plain": [
       "recommendations finished on 7000/66235 queries. users per second: 1329.7"
      ]
     },
     "metadata": {},
     "output_type": "display_data"
    },
    {
     "data": {
      "text/html": [
       "<pre>recommendations finished on 8000/66235 queries. users per second: 1339.65</pre>"
      ],
      "text/plain": [
       "recommendations finished on 8000/66235 queries. users per second: 1339.65"
      ]
     },
     "metadata": {},
     "output_type": "display_data"
    },
    {
     "data": {
      "text/html": [
       "<pre>recommendations finished on 9000/66235 queries. users per second: 1344.59</pre>"
      ],
      "text/plain": [
       "recommendations finished on 9000/66235 queries. users per second: 1344.59"
      ]
     },
     "metadata": {},
     "output_type": "display_data"
    },
    {
     "data": {
      "text/html": [
       "<pre>recommendations finished on 10000/66235 queries. users per second: 1352.35</pre>"
      ],
      "text/plain": [
       "recommendations finished on 10000/66235 queries. users per second: 1352.35"
      ]
     },
     "metadata": {},
     "output_type": "display_data"
    },
    {
     "data": {
      "text/html": [
       "<pre>recommendations finished on 11000/66235 queries. users per second: 1349.01</pre>"
      ],
      "text/plain": [
       "recommendations finished on 11000/66235 queries. users per second: 1349.01"
      ]
     },
     "metadata": {},
     "output_type": "display_data"
    },
    {
     "data": {
      "text/html": [
       "<pre>recommendations finished on 12000/66235 queries. users per second: 1342.49</pre>"
      ],
      "text/plain": [
       "recommendations finished on 12000/66235 queries. users per second: 1342.49"
      ]
     },
     "metadata": {},
     "output_type": "display_data"
    },
    {
     "data": {
      "text/html": [
       "<pre>recommendations finished on 13000/66235 queries. users per second: 1329.58</pre>"
      ],
      "text/plain": [
       "recommendations finished on 13000/66235 queries. users per second: 1329.58"
      ]
     },
     "metadata": {},
     "output_type": "display_data"
    },
    {
     "data": {
      "text/html": [
       "<pre>recommendations finished on 14000/66235 queries. users per second: 1326.17</pre>"
      ],
      "text/plain": [
       "recommendations finished on 14000/66235 queries. users per second: 1326.17"
      ]
     },
     "metadata": {},
     "output_type": "display_data"
    },
    {
     "data": {
      "text/html": [
       "<pre>recommendations finished on 15000/66235 queries. users per second: 1329.04</pre>"
      ],
      "text/plain": [
       "recommendations finished on 15000/66235 queries. users per second: 1329.04"
      ]
     },
     "metadata": {},
     "output_type": "display_data"
    },
    {
     "data": {
      "text/html": [
       "<pre>recommendations finished on 16000/66235 queries. users per second: 1334.25</pre>"
      ],
      "text/plain": [
       "recommendations finished on 16000/66235 queries. users per second: 1334.25"
      ]
     },
     "metadata": {},
     "output_type": "display_data"
    },
    {
     "data": {
      "text/html": [
       "<pre>recommendations finished on 17000/66235 queries. users per second: 1339.47</pre>"
      ],
      "text/plain": [
       "recommendations finished on 17000/66235 queries. users per second: 1339.47"
      ]
     },
     "metadata": {},
     "output_type": "display_data"
    },
    {
     "data": {
      "text/html": [
       "<pre>recommendations finished on 18000/66235 queries. users per second: 1338.42</pre>"
      ],
      "text/plain": [
       "recommendations finished on 18000/66235 queries. users per second: 1338.42"
      ]
     },
     "metadata": {},
     "output_type": "display_data"
    },
    {
     "data": {
      "text/html": [
       "<pre>recommendations finished on 19000/66235 queries. users per second: 1335.55</pre>"
      ],
      "text/plain": [
       "recommendations finished on 19000/66235 queries. users per second: 1335.55"
      ]
     },
     "metadata": {},
     "output_type": "display_data"
    },
    {
     "data": {
      "text/html": [
       "<pre>recommendations finished on 20000/66235 queries. users per second: 1332.97</pre>"
      ],
      "text/plain": [
       "recommendations finished on 20000/66235 queries. users per second: 1332.97"
      ]
     },
     "metadata": {},
     "output_type": "display_data"
    },
    {
     "data": {
      "text/html": [
       "<pre>recommendations finished on 21000/66235 queries. users per second: 1324.33</pre>"
      ],
      "text/plain": [
       "recommendations finished on 21000/66235 queries. users per second: 1324.33"
      ]
     },
     "metadata": {},
     "output_type": "display_data"
    },
    {
     "data": {
      "text/html": [
       "<pre>recommendations finished on 22000/66235 queries. users per second: 1332.02</pre>"
      ],
      "text/plain": [
       "recommendations finished on 22000/66235 queries. users per second: 1332.02"
      ]
     },
     "metadata": {},
     "output_type": "display_data"
    },
    {
     "data": {
      "text/html": [
       "<pre>recommendations finished on 23000/66235 queries. users per second: 1331.26</pre>"
      ],
      "text/plain": [
       "recommendations finished on 23000/66235 queries. users per second: 1331.26"
      ]
     },
     "metadata": {},
     "output_type": "display_data"
    },
    {
     "data": {
      "text/html": [
       "<pre>recommendations finished on 24000/66235 queries. users per second: 1332.1</pre>"
      ],
      "text/plain": [
       "recommendations finished on 24000/66235 queries. users per second: 1332.1"
      ]
     },
     "metadata": {},
     "output_type": "display_data"
    },
    {
     "data": {
      "text/html": [
       "<pre>recommendations finished on 25000/66235 queries. users per second: 1332.51</pre>"
      ],
      "text/plain": [
       "recommendations finished on 25000/66235 queries. users per second: 1332.51"
      ]
     },
     "metadata": {},
     "output_type": "display_data"
    },
    {
     "data": {
      "text/html": [
       "<pre>recommendations finished on 26000/66235 queries. users per second: 1327.57</pre>"
      ],
      "text/plain": [
       "recommendations finished on 26000/66235 queries. users per second: 1327.57"
      ]
     },
     "metadata": {},
     "output_type": "display_data"
    },
    {
     "data": {
      "text/html": [
       "<pre>recommendations finished on 27000/66235 queries. users per second: 1321.78</pre>"
      ],
      "text/plain": [
       "recommendations finished on 27000/66235 queries. users per second: 1321.78"
      ]
     },
     "metadata": {},
     "output_type": "display_data"
    },
    {
     "data": {
      "text/html": [
       "<pre>recommendations finished on 28000/66235 queries. users per second: 1320</pre>"
      ],
      "text/plain": [
       "recommendations finished on 28000/66235 queries. users per second: 1320"
      ]
     },
     "metadata": {},
     "output_type": "display_data"
    },
    {
     "data": {
      "text/html": [
       "<pre>recommendations finished on 29000/66235 queries. users per second: 1322.05</pre>"
      ],
      "text/plain": [
       "recommendations finished on 29000/66235 queries. users per second: 1322.05"
      ]
     },
     "metadata": {},
     "output_type": "display_data"
    },
    {
     "data": {
      "text/html": [
       "<pre>recommendations finished on 30000/66235 queries. users per second: 1321.97</pre>"
      ],
      "text/plain": [
       "recommendations finished on 30000/66235 queries. users per second: 1321.97"
      ]
     },
     "metadata": {},
     "output_type": "display_data"
    },
    {
     "data": {
      "text/html": [
       "<pre>recommendations finished on 31000/66235 queries. users per second: 1326.07</pre>"
      ],
      "text/plain": [
       "recommendations finished on 31000/66235 queries. users per second: 1326.07"
      ]
     },
     "metadata": {},
     "output_type": "display_data"
    },
    {
     "data": {
      "text/html": [
       "<pre>recommendations finished on 32000/66235 queries. users per second: 1324.27</pre>"
      ],
      "text/plain": [
       "recommendations finished on 32000/66235 queries. users per second: 1324.27"
      ]
     },
     "metadata": {},
     "output_type": "display_data"
    },
    {
     "data": {
      "text/html": [
       "<pre>recommendations finished on 33000/66235 queries. users per second: 1325.4</pre>"
      ],
      "text/plain": [
       "recommendations finished on 33000/66235 queries. users per second: 1325.4"
      ]
     },
     "metadata": {},
     "output_type": "display_data"
    },
    {
     "data": {
      "text/html": [
       "<pre>recommendations finished on 34000/66235 queries. users per second: 1326.54</pre>"
      ],
      "text/plain": [
       "recommendations finished on 34000/66235 queries. users per second: 1326.54"
      ]
     },
     "metadata": {},
     "output_type": "display_data"
    },
    {
     "data": {
      "text/html": [
       "<pre>recommendations finished on 35000/66235 queries. users per second: 1329.8</pre>"
      ],
      "text/plain": [
       "recommendations finished on 35000/66235 queries. users per second: 1329.8"
      ]
     },
     "metadata": {},
     "output_type": "display_data"
    },
    {
     "data": {
      "text/html": [
       "<pre>recommendations finished on 36000/66235 queries. users per second: 1320.59</pre>"
      ],
      "text/plain": [
       "recommendations finished on 36000/66235 queries. users per second: 1320.59"
      ]
     },
     "metadata": {},
     "output_type": "display_data"
    },
    {
     "data": {
      "text/html": [
       "<pre>recommendations finished on 37000/66235 queries. users per second: 1319.23</pre>"
      ],
      "text/plain": [
       "recommendations finished on 37000/66235 queries. users per second: 1319.23"
      ]
     },
     "metadata": {},
     "output_type": "display_data"
    },
    {
     "data": {
      "text/html": [
       "<pre>recommendations finished on 38000/66235 queries. users per second: 1316.94</pre>"
      ],
      "text/plain": [
       "recommendations finished on 38000/66235 queries. users per second: 1316.94"
      ]
     },
     "metadata": {},
     "output_type": "display_data"
    },
    {
     "data": {
      "text/html": [
       "<pre>recommendations finished on 39000/66235 queries. users per second: 1314.23</pre>"
      ],
      "text/plain": [
       "recommendations finished on 39000/66235 queries. users per second: 1314.23"
      ]
     },
     "metadata": {},
     "output_type": "display_data"
    },
    {
     "data": {
      "text/html": [
       "<pre>recommendations finished on 40000/66235 queries. users per second: 1314.74</pre>"
      ],
      "text/plain": [
       "recommendations finished on 40000/66235 queries. users per second: 1314.74"
      ]
     },
     "metadata": {},
     "output_type": "display_data"
    },
    {
     "data": {
      "text/html": [
       "<pre>recommendations finished on 41000/66235 queries. users per second: 1313.57</pre>"
      ],
      "text/plain": [
       "recommendations finished on 41000/66235 queries. users per second: 1313.57"
      ]
     },
     "metadata": {},
     "output_type": "display_data"
    },
    {
     "data": {
      "text/html": [
       "<pre>recommendations finished on 42000/66235 queries. users per second: 1314.15</pre>"
      ],
      "text/plain": [
       "recommendations finished on 42000/66235 queries. users per second: 1314.15"
      ]
     },
     "metadata": {},
     "output_type": "display_data"
    },
    {
     "data": {
      "text/html": [
       "<pre>recommendations finished on 43000/66235 queries. users per second: 1315.47</pre>"
      ],
      "text/plain": [
       "recommendations finished on 43000/66235 queries. users per second: 1315.47"
      ]
     },
     "metadata": {},
     "output_type": "display_data"
    },
    {
     "data": {
      "text/html": [
       "<pre>recommendations finished on 44000/66235 queries. users per second: 1316.76</pre>"
      ],
      "text/plain": [
       "recommendations finished on 44000/66235 queries. users per second: 1316.76"
      ]
     },
     "metadata": {},
     "output_type": "display_data"
    },
    {
     "data": {
      "text/html": [
       "<pre>recommendations finished on 45000/66235 queries. users per second: 1319.21</pre>"
      ],
      "text/plain": [
       "recommendations finished on 45000/66235 queries. users per second: 1319.21"
      ]
     },
     "metadata": {},
     "output_type": "display_data"
    },
    {
     "data": {
      "text/html": [
       "<pre>recommendations finished on 46000/66235 queries. users per second: 1320.42</pre>"
      ],
      "text/plain": [
       "recommendations finished on 46000/66235 queries. users per second: 1320.42"
      ]
     },
     "metadata": {},
     "output_type": "display_data"
    },
    {
     "data": {
      "text/html": [
       "<pre>recommendations finished on 47000/66235 queries. users per second: 1321.12</pre>"
      ],
      "text/plain": [
       "recommendations finished on 47000/66235 queries. users per second: 1321.12"
      ]
     },
     "metadata": {},
     "output_type": "display_data"
    },
    {
     "data": {
      "text/html": [
       "<pre>recommendations finished on 48000/66235 queries. users per second: 1319.01</pre>"
      ],
      "text/plain": [
       "recommendations finished on 48000/66235 queries. users per second: 1319.01"
      ]
     },
     "metadata": {},
     "output_type": "display_data"
    },
    {
     "data": {
      "text/html": [
       "<pre>recommendations finished on 49000/66235 queries. users per second: 1318.15</pre>"
      ],
      "text/plain": [
       "recommendations finished on 49000/66235 queries. users per second: 1318.15"
      ]
     },
     "metadata": {},
     "output_type": "display_data"
    },
    {
     "data": {
      "text/html": [
       "<pre>recommendations finished on 50000/66235 queries. users per second: 1320.41</pre>"
      ],
      "text/plain": [
       "recommendations finished on 50000/66235 queries. users per second: 1320.41"
      ]
     },
     "metadata": {},
     "output_type": "display_data"
    },
    {
     "data": {
      "text/html": [
       "<pre>recommendations finished on 51000/66235 queries. users per second: 1320.64</pre>"
      ],
      "text/plain": [
       "recommendations finished on 51000/66235 queries. users per second: 1320.64"
      ]
     },
     "metadata": {},
     "output_type": "display_data"
    },
    {
     "data": {
      "text/html": [
       "<pre>recommendations finished on 52000/66235 queries. users per second: 1322.35</pre>"
      ],
      "text/plain": [
       "recommendations finished on 52000/66235 queries. users per second: 1322.35"
      ]
     },
     "metadata": {},
     "output_type": "display_data"
    },
    {
     "data": {
      "text/html": [
       "<pre>recommendations finished on 53000/66235 queries. users per second: 1321.38</pre>"
      ],
      "text/plain": [
       "recommendations finished on 53000/66235 queries. users per second: 1321.38"
      ]
     },
     "metadata": {},
     "output_type": "display_data"
    },
    {
     "data": {
      "text/html": [
       "<pre>recommendations finished on 54000/66235 queries. users per second: 1321</pre>"
      ],
      "text/plain": [
       "recommendations finished on 54000/66235 queries. users per second: 1321"
      ]
     },
     "metadata": {},
     "output_type": "display_data"
    },
    {
     "data": {
      "text/html": [
       "<pre>recommendations finished on 55000/66235 queries. users per second: 1323.36</pre>"
      ],
      "text/plain": [
       "recommendations finished on 55000/66235 queries. users per second: 1323.36"
      ]
     },
     "metadata": {},
     "output_type": "display_data"
    },
    {
     "data": {
      "text/html": [
       "<pre>recommendations finished on 56000/66235 queries. users per second: 1324.08</pre>"
      ],
      "text/plain": [
       "recommendations finished on 56000/66235 queries. users per second: 1324.08"
      ]
     },
     "metadata": {},
     "output_type": "display_data"
    },
    {
     "data": {
      "text/html": [
       "<pre>recommendations finished on 57000/66235 queries. users per second: 1320.82</pre>"
      ],
      "text/plain": [
       "recommendations finished on 57000/66235 queries. users per second: 1320.82"
      ]
     },
     "metadata": {},
     "output_type": "display_data"
    },
    {
     "data": {
      "text/html": [
       "<pre>recommendations finished on 58000/66235 queries. users per second: 1319.31</pre>"
      ],
      "text/plain": [
       "recommendations finished on 58000/66235 queries. users per second: 1319.31"
      ]
     },
     "metadata": {},
     "output_type": "display_data"
    },
    {
     "data": {
      "text/html": [
       "<pre>recommendations finished on 59000/66235 queries. users per second: 1317.69</pre>"
      ],
      "text/plain": [
       "recommendations finished on 59000/66235 queries. users per second: 1317.69"
      ]
     },
     "metadata": {},
     "output_type": "display_data"
    },
    {
     "data": {
      "text/html": [
       "<pre>recommendations finished on 60000/66235 queries. users per second: 1318.12</pre>"
      ],
      "text/plain": [
       "recommendations finished on 60000/66235 queries. users per second: 1318.12"
      ]
     },
     "metadata": {},
     "output_type": "display_data"
    },
    {
     "data": {
      "text/html": [
       "<pre>recommendations finished on 61000/66235 queries. users per second: 1317.59</pre>"
      ],
      "text/plain": [
       "recommendations finished on 61000/66235 queries. users per second: 1317.59"
      ]
     },
     "metadata": {},
     "output_type": "display_data"
    },
    {
     "data": {
      "text/html": [
       "<pre>recommendations finished on 62000/66235 queries. users per second: 1311.13</pre>"
      ],
      "text/plain": [
       "recommendations finished on 62000/66235 queries. users per second: 1311.13"
      ]
     },
     "metadata": {},
     "output_type": "display_data"
    },
    {
     "data": {
      "text/html": [
       "<pre>recommendations finished on 63000/66235 queries. users per second: 1309.86</pre>"
      ],
      "text/plain": [
       "recommendations finished on 63000/66235 queries. users per second: 1309.86"
      ]
     },
     "metadata": {},
     "output_type": "display_data"
    },
    {
     "data": {
      "text/html": [
       "<pre>recommendations finished on 64000/66235 queries. users per second: 1306.62</pre>"
      ],
      "text/plain": [
       "recommendations finished on 64000/66235 queries. users per second: 1306.62"
      ]
     },
     "metadata": {},
     "output_type": "display_data"
    },
    {
     "data": {
      "text/html": [
       "<pre>recommendations finished on 65000/66235 queries. users per second: 1298.57</pre>"
      ],
      "text/plain": [
       "recommendations finished on 65000/66235 queries. users per second: 1298.57"
      ]
     },
     "metadata": {},
     "output_type": "display_data"
    },
    {
     "data": {
      "text/html": [
       "<pre>recommendations finished on 66000/66235 queries. users per second: 1296.81</pre>"
      ],
      "text/plain": [
       "recommendations finished on 66000/66235 queries. users per second: 1296.81"
      ]
     },
     "metadata": {},
     "output_type": "display_data"
    },
    {
     "name": "stdout",
     "output_type": "stream",
     "text": [
      "\n",
      "Precision and recall summary statistics by cutoff\n",
      "+--------+------------------+------------------+\n",
      "| cutoff |  mean_precision  |   mean_recall    |\n",
      "+--------+------------------+------------------+\n",
      "|   1    | 0.00705065297803 | 0.00222729856788 |\n",
      "|   2    | 0.00471050049068 | 0.00296296999819 |\n",
      "|   3    | 0.00412672051534 | 0.00344140852491 |\n",
      "|   4    | 0.00367252962935 | 0.00421864316611 |\n",
      "|   5    | 0.00325809617272 | 0.00465181009588 |\n",
      "|   6    | 0.00291135099771 | 0.00496870615068 |\n",
      "|   7    | 0.00257308932481 | 0.00510986234403 |\n",
      "|   8    | 0.00261191213105 | 0.00562211227329 |\n",
      "|   9    | 0.00261191213105 | 0.00619825612554 |\n",
      "|   10   | 0.00260285347626 | 0.00671826788424 |\n",
      "+--------+------------------+------------------+\n",
      "[10 rows x 3 columns]\n",
      "\n",
      "('\\nOverall RMSE: ', 0.9518764766962728)\n",
      "\n",
      "Per User RMSE (best)\n",
      "+----------------+-------+----------------+\n",
      "|    user_id     | count |      rmse      |\n",
      "+----------------+-------+----------------+\n",
      "| A2TEZE9WMSUB5E |   1   | 0.267068258172 |\n",
      "+----------------+-------+----------------+\n",
      "[1 rows x 3 columns]\n",
      "\n",
      "\n",
      "Per User RMSE (worst)\n",
      "+----------------+-------+---------------+\n",
      "|    user_id     | count |      rmse     |\n",
      "+----------------+-------+---------------+\n",
      "| A3CPNY2JWNWVZT |   1   | 3.38159310903 |\n",
      "+----------------+-------+---------------+\n",
      "[1 rows x 3 columns]\n",
      "\n",
      "\n",
      "Per Item RMSE (best)\n",
      "+------------+-------+----------------+\n",
      "|  item_id   | count |      rmse      |\n",
      "+------------+-------+----------------+\n",
      "| B009POGM04 |   1   | 0.244691614533 |\n",
      "+------------+-------+----------------+\n",
      "[1 rows x 3 columns]\n",
      "\n",
      "\n",
      "Per Item RMSE (worst)\n",
      "+------------+-------+---------------+\n",
      "|  item_id   | count |      rmse     |\n",
      "+------------+-------+---------------+\n",
      "| B00DPY40D6 |   1   | 3.42316386614 |\n",
      "+------------+-------+---------------+\n",
      "[1 rows x 3 columns]\n",
      "\n"
     ]
    }
   ],
   "source": [
    "eval4 = m4.evaluate(valid)"
   ]
  },
  {
   "cell_type": "code",
   "execution_count": 19,
   "metadata": {
    "collapsed": false
   },
   "outputs": [
    {
     "data": {
      "text/html": [
       "<pre>Recsys training: model = factorization_recommender</pre>"
      ],
      "text/plain": [
       "Recsys training: model = factorization_recommender"
      ]
     },
     "metadata": {},
     "output_type": "display_data"
    },
    {
     "data": {
      "text/html": [
       "<pre>Preparing data set.</pre>"
      ],
      "text/plain": [
       "Preparing data set."
      ]
     },
     "metadata": {},
     "output_type": "display_data"
    },
    {
     "data": {
      "text/html": [
       "<pre>    Data has 589592 observations with 67976 users and 61930 items.</pre>"
      ],
      "text/plain": [
       "    Data has 589592 observations with 67976 users and 61930 items."
      ]
     },
     "metadata": {},
     "output_type": "display_data"
    },
    {
     "data": {
      "text/html": [
       "<pre>    Data prepared in: 1.05774s</pre>"
      ],
      "text/plain": [
       "    Data prepared in: 1.05774s"
      ]
     },
     "metadata": {},
     "output_type": "display_data"
    },
    {
     "data": {
      "text/html": [
       "<pre>Training factorization_recommender for recommendations.</pre>"
      ],
      "text/plain": [
       "Training factorization_recommender for recommendations."
      ]
     },
     "metadata": {},
     "output_type": "display_data"
    },
    {
     "data": {
      "text/html": [
       "<pre>+--------------------------------+--------------------------------------------------+----------+</pre>"
      ],
      "text/plain": [
       "+--------------------------------+--------------------------------------------------+----------+"
      ]
     },
     "metadata": {},
     "output_type": "display_data"
    },
    {
     "data": {
      "text/html": [
       "<pre>| Parameter                      | Description                                      | Value    |</pre>"
      ],
      "text/plain": [
       "| Parameter                      | Description                                      | Value    |"
      ]
     },
     "metadata": {},
     "output_type": "display_data"
    },
    {
     "data": {
      "text/html": [
       "<pre>+--------------------------------+--------------------------------------------------+----------+</pre>"
      ],
      "text/plain": [
       "+--------------------------------+--------------------------------------------------+----------+"
      ]
     },
     "metadata": {},
     "output_type": "display_data"
    },
    {
     "data": {
      "text/html": [
       "<pre>| num_factors                    | Factor Dimension                                 | 8        |</pre>"
      ],
      "text/plain": [
       "| num_factors                    | Factor Dimension                                 | 8        |"
      ]
     },
     "metadata": {},
     "output_type": "display_data"
    },
    {
     "data": {
      "text/html": [
       "<pre>| regularization                 | L2 Regularization on Factors                     | 0.0001   |</pre>"
      ],
      "text/plain": [
       "| regularization                 | L2 Regularization on Factors                     | 0.0001   |"
      ]
     },
     "metadata": {},
     "output_type": "display_data"
    },
    {
     "data": {
      "text/html": [
       "<pre>| solver                         | Solver used for training                         | sgd      |</pre>"
      ],
      "text/plain": [
       "| solver                         | Solver used for training                         | sgd      |"
      ]
     },
     "metadata": {},
     "output_type": "display_data"
    },
    {
     "data": {
      "text/html": [
       "<pre>| linear_regularization          | L2 Regularization on Linear Coefficients         | 1e-10    |</pre>"
      ],
      "text/plain": [
       "| linear_regularization          | L2 Regularization on Linear Coefficients         | 1e-10    |"
      ]
     },
     "metadata": {},
     "output_type": "display_data"
    },
    {
     "data": {
      "text/html": [
       "<pre>| max_iterations                 | Maximum Number of Iterations                     | 50       |</pre>"
      ],
      "text/plain": [
       "| max_iterations                 | Maximum Number of Iterations                     | 50       |"
      ]
     },
     "metadata": {},
     "output_type": "display_data"
    },
    {
     "data": {
      "text/html": [
       "<pre>+--------------------------------+--------------------------------------------------+----------+</pre>"
      ],
      "text/plain": [
       "+--------------------------------+--------------------------------------------------+----------+"
      ]
     },
     "metadata": {},
     "output_type": "display_data"
    },
    {
     "data": {
      "text/html": [
       "<pre>  Optimizing model using SGD; tuning step size.</pre>"
      ],
      "text/plain": [
       "  Optimizing model using SGD; tuning step size."
      ]
     },
     "metadata": {},
     "output_type": "display_data"
    },
    {
     "data": {
      "text/html": [
       "<pre>  Using 73699 / 589592 points for tuning the step size.</pre>"
      ],
      "text/plain": [
       "  Using 73699 / 589592 points for tuning the step size."
      ]
     },
     "metadata": {},
     "output_type": "display_data"
    },
    {
     "data": {
      "text/html": [
       "<pre>+---------+-------------------+------------------------------------------+</pre>"
      ],
      "text/plain": [
       "+---------+-------------------+------------------------------------------+"
      ]
     },
     "metadata": {},
     "output_type": "display_data"
    },
    {
     "data": {
      "text/html": [
       "<pre>| Attempt | Initial Step Size | Estimated Objective Value                |</pre>"
      ],
      "text/plain": [
       "| Attempt | Initial Step Size | Estimated Objective Value                |"
      ]
     },
     "metadata": {},
     "output_type": "display_data"
    },
    {
     "data": {
      "text/html": [
       "<pre>+---------+-------------------+------------------------------------------+</pre>"
      ],
      "text/plain": [
       "+---------+-------------------+------------------------------------------+"
      ]
     },
     "metadata": {},
     "output_type": "display_data"
    },
    {
     "data": {
      "text/html": [
       "<pre>| 0       | 1.24965           | No Decrease (2.07254 >= 0.908558)        |</pre>"
      ],
      "text/plain": [
       "| 0       | 1.24965           | No Decrease (2.07254 >= 0.908558)        |"
      ]
     },
     "metadata": {},
     "output_type": "display_data"
    },
    {
     "data": {
      "text/html": [
       "<pre>| 1       | 0.312411          | 0.369867                                 |</pre>"
      ],
      "text/plain": [
       "| 1       | 0.312411          | 0.369867                                 |"
      ]
     },
     "metadata": {},
     "output_type": "display_data"
    },
    {
     "data": {
      "text/html": [
       "<pre>| 2       | 0.156206          | 0.24385                                  |</pre>"
      ],
      "text/plain": [
       "| 2       | 0.156206          | 0.24385                                  |"
      ]
     },
     "metadata": {},
     "output_type": "display_data"
    },
    {
     "data": {
      "text/html": [
       "<pre>| 3       | 0.0781029         | 0.366465                                 |</pre>"
      ],
      "text/plain": [
       "| 3       | 0.0781029         | 0.366465                                 |"
      ]
     },
     "metadata": {},
     "output_type": "display_data"
    },
    {
     "data": {
      "text/html": [
       "<pre>| 4       | 0.0390514         | 0.490298                                 |</pre>"
      ],
      "text/plain": [
       "| 4       | 0.0390514         | 0.490298                                 |"
      ]
     },
     "metadata": {},
     "output_type": "display_data"
    },
    {
     "data": {
      "text/html": [
       "<pre>+---------+-------------------+------------------------------------------+</pre>"
      ],
      "text/plain": [
       "+---------+-------------------+------------------------------------------+"
      ]
     },
     "metadata": {},
     "output_type": "display_data"
    },
    {
     "data": {
      "text/html": [
       "<pre>| Final   | 0.156206          | 0.24385                                  |</pre>"
      ],
      "text/plain": [
       "| Final   | 0.156206          | 0.24385                                  |"
      ]
     },
     "metadata": {},
     "output_type": "display_data"
    },
    {
     "data": {
      "text/html": [
       "<pre>+---------+-------------------+------------------------------------------+</pre>"
      ],
      "text/plain": [
       "+---------+-------------------+------------------------------------------+"
      ]
     },
     "metadata": {},
     "output_type": "display_data"
    },
    {
     "data": {
      "text/html": [
       "<pre>Starting Optimization.</pre>"
      ],
      "text/plain": [
       "Starting Optimization."
      ]
     },
     "metadata": {},
     "output_type": "display_data"
    },
    {
     "data": {
      "text/html": [
       "<pre>+---------+--------------+-------------------+-----------------------+-------------+</pre>"
      ],
      "text/plain": [
       "+---------+--------------+-------------------+-----------------------+-------------+"
      ]
     },
     "metadata": {},
     "output_type": "display_data"
    },
    {
     "data": {
      "text/html": [
       "<pre>| Iter.   | Elapsed Time | Approx. Objective | Approx. Training RMSE | Step Size   |</pre>"
      ],
      "text/plain": [
       "| Iter.   | Elapsed Time | Approx. Objective | Approx. Training RMSE | Step Size   |"
      ]
     },
     "metadata": {},
     "output_type": "display_data"
    },
    {
     "data": {
      "text/html": [
       "<pre>+---------+--------------+-------------------+-----------------------+-------------+</pre>"
      ],
      "text/plain": [
       "+---------+--------------+-------------------+-----------------------+-------------+"
      ]
     },
     "metadata": {},
     "output_type": "display_data"
    },
    {
     "data": {
      "text/html": [
       "<pre>| Initial | 70us         | 0.911438          | 0.954693              |             |</pre>"
      ],
      "text/plain": [
       "| Initial | 70us         | 0.911438          | 0.954693              |             |"
      ]
     },
     "metadata": {},
     "output_type": "display_data"
    },
    {
     "data": {
      "text/html": [
       "<pre>+---------+--------------+-------------------+-----------------------+-------------+</pre>"
      ],
      "text/plain": [
       "+---------+--------------+-------------------+-----------------------+-------------+"
      ]
     },
     "metadata": {},
     "output_type": "display_data"
    },
    {
     "data": {
      "text/html": [
       "<pre>| 1       | 155.285ms    | DIVERGED          | DIVERGED              | 0.156206    |</pre>"
      ],
      "text/plain": [
       "| 1       | 155.285ms    | DIVERGED          | DIVERGED              | 0.156206    |"
      ]
     },
     "metadata": {},
     "output_type": "display_data"
    },
    {
     "data": {
      "text/html": [
       "<pre>| RESET   | 228.226ms    | 0.911435          | 0.954691              |             |</pre>"
      ],
      "text/plain": [
       "| RESET   | 228.226ms    | 0.911435          | 0.954691              |             |"
      ]
     },
     "metadata": {},
     "output_type": "display_data"
    },
    {
     "data": {
      "text/html": [
       "<pre>| 1       | 380.049ms    | DIVERGED          | DIVERGED              | 0.0781029   |</pre>"
      ],
      "text/plain": [
       "| 1       | 380.049ms    | DIVERGED          | DIVERGED              | 0.0781029   |"
      ]
     },
     "metadata": {},
     "output_type": "display_data"
    },
    {
     "data": {
      "text/html": [
       "<pre>| RESET   | 454.865ms    | 0.911432          | 0.95469               |             |</pre>"
      ],
      "text/plain": [
       "| RESET   | 454.865ms    | 0.911432          | 0.95469               |             |"
      ]
     },
     "metadata": {},
     "output_type": "display_data"
    },
    {
     "data": {
      "text/html": [
       "<pre>| 1       | 574.22ms     | 0.729859          | 0.854272              | 0.0390514   |</pre>"
      ],
      "text/plain": [
       "| 1       | 574.22ms     | 0.729859          | 0.854272              | 0.0390514   |"
      ]
     },
     "metadata": {},
     "output_type": "display_data"
    },
    {
     "data": {
      "text/html": [
       "<pre>| 2       | 678.273ms    | 0.544533          | 0.737904              | 0.011825    |</pre>"
      ],
      "text/plain": [
       "| 2       | 678.273ms    | 0.544533          | 0.737904              | 0.011825    |"
      ]
     },
     "metadata": {},
     "output_type": "display_data"
    },
    {
     "data": {
      "text/html": [
       "<pre>| 3       | 772.143ms    | 0.513708          | 0.716727              | 0.0069674   |</pre>"
      ],
      "text/plain": [
       "| 3       | 772.143ms    | 0.513708          | 0.716727              | 0.0069674   |"
      ]
     },
     "metadata": {},
     "output_type": "display_data"
    },
    {
     "data": {
      "text/html": [
       "<pre>| 4       | 887.106ms    | 0.499888          | 0.707025              | 0.00493864  |</pre>"
      ],
      "text/plain": [
       "| 4       | 887.106ms    | 0.499888          | 0.707025              | 0.00493864  |"
      ]
     },
     "metadata": {},
     "output_type": "display_data"
    },
    {
     "data": {
      "text/html": [
       "<pre>| 5       | 997.21ms     | 0.491502          | 0.701071              | 0.00382491  |</pre>"
      ],
      "text/plain": [
       "| 5       | 997.21ms     | 0.491502          | 0.701071              | 0.00382491  |"
      ]
     },
     "metadata": {},
     "output_type": "display_data"
    },
    {
     "data": {
      "text/html": [
       "<pre>| 6       | 1.12s        | 0.485706          | 0.696925              | 0.00312107  |</pre>"
      ],
      "text/plain": [
       "| 6       | 1.12s        | 0.485706          | 0.696925              | 0.00312107  |"
      ]
     },
     "metadata": {},
     "output_type": "display_data"
    },
    {
     "data": {
      "text/html": [
       "<pre>| 8       | 1.32s        | 0.477973          | 0.691355              | 0.00228143  |</pre>"
      ],
      "text/plain": [
       "| 8       | 1.32s        | 0.477973          | 0.691355              | 0.00228143  |"
      ]
     },
     "metadata": {},
     "output_type": "display_data"
    },
    {
     "data": {
      "text/html": [
       "<pre>| 11      | 1.68s        | 0.470904          | 0.686223              | 0.00162549  |</pre>"
      ],
      "text/plain": [
       "| 11      | 1.68s        | 0.470904          | 0.686223              | 0.00162549  |"
      ]
     },
     "metadata": {},
     "output_type": "display_data"
    },
    {
     "data": {
      "text/html": [
       "<pre>| 18      | 2.48s        | 0.462114          | 0.679788              | 0.000972844 |</pre>"
      ],
      "text/plain": [
       "| 18      | 2.48s        | 0.462114          | 0.679788              | 0.000972844 |"
      ]
     },
     "metadata": {},
     "output_type": "display_data"
    },
    {
     "data": {
      "text/html": [
       "<pre>| 28      | 3.68s        | 0.455775          | 0.67511               | 0.000618236 |</pre>"
      ],
      "text/plain": [
       "| 28      | 3.68s        | 0.455775          | 0.67511               | 0.000618236 |"
      ]
     },
     "metadata": {},
     "output_type": "display_data"
    },
    {
     "data": {
      "text/html": [
       "<pre>| 38      | 4.82s        | 0.452022          | 0.672325              | 0.000453084 |</pre>"
      ],
      "text/plain": [
       "| 38      | 4.82s        | 0.452022          | 0.672325              | 0.000453084 |"
      ]
     },
     "metadata": {},
     "output_type": "display_data"
    },
    {
     "data": {
      "text/html": [
       "<pre>| 48      | 6.04s        | 0.44943           | 0.670394              | 0.000357566 |</pre>"
      ],
      "text/plain": [
       "| 48      | 6.04s        | 0.44943           | 0.670394              | 0.000357566 |"
      ]
     },
     "metadata": {},
     "output_type": "display_data"
    },
    {
     "data": {
      "text/html": [
       "<pre>+---------+--------------+-------------------+-----------------------+-------------+</pre>"
      ],
      "text/plain": [
       "+---------+--------------+-------------------+-----------------------+-------------+"
      ]
     },
     "metadata": {},
     "output_type": "display_data"
    },
    {
     "data": {
      "text/html": [
       "<pre>Optimization Complete: Maximum number of passes through the data reached.</pre>"
      ],
      "text/plain": [
       "Optimization Complete: Maximum number of passes through the data reached."
      ]
     },
     "metadata": {},
     "output_type": "display_data"
    },
    {
     "data": {
      "text/html": [
       "<pre>Computing final objective value and training RMSE.</pre>"
      ],
      "text/plain": [
       "Computing final objective value and training RMSE."
      ]
     },
     "metadata": {},
     "output_type": "display_data"
    },
    {
     "data": {
      "text/html": [
       "<pre>       Final objective value: 0.448287</pre>"
      ],
      "text/plain": [
       "       Final objective value: 0.448287"
      ]
     },
     "metadata": {},
     "output_type": "display_data"
    },
    {
     "data": {
      "text/html": [
       "<pre>       Final training RMSE: 0.669541</pre>"
      ],
      "text/plain": [
       "       Final training RMSE: 0.669541"
      ]
     },
     "metadata": {},
     "output_type": "display_data"
    }
   ],
   "source": [
    "m5 = gl.factorization_recommender.create(train, target='rating',regularization=1e-04 )"
   ]
  },
  {
   "cell_type": "code",
   "execution_count": 20,
   "metadata": {
    "collapsed": false
   },
   "outputs": [
    {
     "data": {
      "text/html": [
       "<pre>recommendations finished on 1000/66235 queries. users per second: 1371.63</pre>"
      ],
      "text/plain": [
       "recommendations finished on 1000/66235 queries. users per second: 1371.63"
      ]
     },
     "metadata": {},
     "output_type": "display_data"
    },
    {
     "data": {
      "text/html": [
       "<pre>recommendations finished on 2000/66235 queries. users per second: 1367.96</pre>"
      ],
      "text/plain": [
       "recommendations finished on 2000/66235 queries. users per second: 1367.96"
      ]
     },
     "metadata": {},
     "output_type": "display_data"
    },
    {
     "data": {
      "text/html": [
       "<pre>recommendations finished on 3000/66235 queries. users per second: 1377.08</pre>"
      ],
      "text/plain": [
       "recommendations finished on 3000/66235 queries. users per second: 1377.08"
      ]
     },
     "metadata": {},
     "output_type": "display_data"
    },
    {
     "data": {
      "text/html": [
       "<pre>recommendations finished on 4000/66235 queries. users per second: 1362.87</pre>"
      ],
      "text/plain": [
       "recommendations finished on 4000/66235 queries. users per second: 1362.87"
      ]
     },
     "metadata": {},
     "output_type": "display_data"
    },
    {
     "data": {
      "text/html": [
       "<pre>recommendations finished on 5000/66235 queries. users per second: 1356.95</pre>"
      ],
      "text/plain": [
       "recommendations finished on 5000/66235 queries. users per second: 1356.95"
      ]
     },
     "metadata": {},
     "output_type": "display_data"
    },
    {
     "data": {
      "text/html": [
       "<pre>recommendations finished on 6000/66235 queries. users per second: 1341.68</pre>"
      ],
      "text/plain": [
       "recommendations finished on 6000/66235 queries. users per second: 1341.68"
      ]
     },
     "metadata": {},
     "output_type": "display_data"
    },
    {
     "data": {
      "text/html": [
       "<pre>recommendations finished on 7000/66235 queries. users per second: 1293.69</pre>"
      ],
      "text/plain": [
       "recommendations finished on 7000/66235 queries. users per second: 1293.69"
      ]
     },
     "metadata": {},
     "output_type": "display_data"
    },
    {
     "data": {
      "text/html": [
       "<pre>recommendations finished on 8000/66235 queries. users per second: 1292.89</pre>"
      ],
      "text/plain": [
       "recommendations finished on 8000/66235 queries. users per second: 1292.89"
      ]
     },
     "metadata": {},
     "output_type": "display_data"
    },
    {
     "data": {
      "text/html": [
       "<pre>recommendations finished on 9000/66235 queries. users per second: 1262.71</pre>"
      ],
      "text/plain": [
       "recommendations finished on 9000/66235 queries. users per second: 1262.71"
      ]
     },
     "metadata": {},
     "output_type": "display_data"
    },
    {
     "data": {
      "text/html": [
       "<pre>recommendations finished on 10000/66235 queries. users per second: 1242.13</pre>"
      ],
      "text/plain": [
       "recommendations finished on 10000/66235 queries. users per second: 1242.13"
      ]
     },
     "metadata": {},
     "output_type": "display_data"
    },
    {
     "data": {
      "text/html": [
       "<pre>recommendations finished on 11000/66235 queries. users per second: 1214.1</pre>"
      ],
      "text/plain": [
       "recommendations finished on 11000/66235 queries. users per second: 1214.1"
      ]
     },
     "metadata": {},
     "output_type": "display_data"
    },
    {
     "data": {
      "text/html": [
       "<pre>recommendations finished on 12000/66235 queries. users per second: 1163.28</pre>"
      ],
      "text/plain": [
       "recommendations finished on 12000/66235 queries. users per second: 1163.28"
      ]
     },
     "metadata": {},
     "output_type": "display_data"
    },
    {
     "data": {
      "text/html": [
       "<pre>recommendations finished on 13000/66235 queries. users per second: 1099.13</pre>"
      ],
      "text/plain": [
       "recommendations finished on 13000/66235 queries. users per second: 1099.13"
      ]
     },
     "metadata": {},
     "output_type": "display_data"
    },
    {
     "data": {
      "text/html": [
       "<pre>recommendations finished on 14000/66235 queries. users per second: 1076.05</pre>"
      ],
      "text/plain": [
       "recommendations finished on 14000/66235 queries. users per second: 1076.05"
      ]
     },
     "metadata": {},
     "output_type": "display_data"
    },
    {
     "data": {
      "text/html": [
       "<pre>recommendations finished on 15000/66235 queries. users per second: 1074.03</pre>"
      ],
      "text/plain": [
       "recommendations finished on 15000/66235 queries. users per second: 1074.03"
      ]
     },
     "metadata": {},
     "output_type": "display_data"
    },
    {
     "data": {
      "text/html": [
       "<pre>recommendations finished on 16000/66235 queries. users per second: 1070.62</pre>"
      ],
      "text/plain": [
       "recommendations finished on 16000/66235 queries. users per second: 1070.62"
      ]
     },
     "metadata": {},
     "output_type": "display_data"
    },
    {
     "data": {
      "text/html": [
       "<pre>recommendations finished on 17000/66235 queries. users per second: 1056.99</pre>"
      ],
      "text/plain": [
       "recommendations finished on 17000/66235 queries. users per second: 1056.99"
      ]
     },
     "metadata": {},
     "output_type": "display_data"
    },
    {
     "data": {
      "text/html": [
       "<pre>recommendations finished on 18000/66235 queries. users per second: 1046.79</pre>"
      ],
      "text/plain": [
       "recommendations finished on 18000/66235 queries. users per second: 1046.79"
      ]
     },
     "metadata": {},
     "output_type": "display_data"
    },
    {
     "data": {
      "text/html": [
       "<pre>recommendations finished on 19000/66235 queries. users per second: 1044.61</pre>"
      ],
      "text/plain": [
       "recommendations finished on 19000/66235 queries. users per second: 1044.61"
      ]
     },
     "metadata": {},
     "output_type": "display_data"
    },
    {
     "data": {
      "text/html": [
       "<pre>recommendations finished on 20000/66235 queries. users per second: 1034.67</pre>"
      ],
      "text/plain": [
       "recommendations finished on 20000/66235 queries. users per second: 1034.67"
      ]
     },
     "metadata": {},
     "output_type": "display_data"
    },
    {
     "data": {
      "text/html": [
       "<pre>recommendations finished on 21000/66235 queries. users per second: 1021.24</pre>"
      ],
      "text/plain": [
       "recommendations finished on 21000/66235 queries. users per second: 1021.24"
      ]
     },
     "metadata": {},
     "output_type": "display_data"
    },
    {
     "data": {
      "text/html": [
       "<pre>recommendations finished on 22000/66235 queries. users per second: 1023.1</pre>"
      ],
      "text/plain": [
       "recommendations finished on 22000/66235 queries. users per second: 1023.1"
      ]
     },
     "metadata": {},
     "output_type": "display_data"
    },
    {
     "data": {
      "text/html": [
       "<pre>recommendations finished on 23000/66235 queries. users per second: 1009.14</pre>"
      ],
      "text/plain": [
       "recommendations finished on 23000/66235 queries. users per second: 1009.14"
      ]
     },
     "metadata": {},
     "output_type": "display_data"
    },
    {
     "data": {
      "text/html": [
       "<pre>recommendations finished on 24000/66235 queries. users per second: 1009.85</pre>"
      ],
      "text/plain": [
       "recommendations finished on 24000/66235 queries. users per second: 1009.85"
      ]
     },
     "metadata": {},
     "output_type": "display_data"
    },
    {
     "data": {
      "text/html": [
       "<pre>recommendations finished on 25000/66235 queries. users per second: 1005.11</pre>"
      ],
      "text/plain": [
       "recommendations finished on 25000/66235 queries. users per second: 1005.11"
      ]
     },
     "metadata": {},
     "output_type": "display_data"
    },
    {
     "data": {
      "text/html": [
       "<pre>recommendations finished on 26000/66235 queries. users per second: 995.273</pre>"
      ],
      "text/plain": [
       "recommendations finished on 26000/66235 queries. users per second: 995.273"
      ]
     },
     "metadata": {},
     "output_type": "display_data"
    },
    {
     "data": {
      "text/html": [
       "<pre>recommendations finished on 27000/66235 queries. users per second: 988.62</pre>"
      ],
      "text/plain": [
       "recommendations finished on 27000/66235 queries. users per second: 988.62"
      ]
     },
     "metadata": {},
     "output_type": "display_data"
    },
    {
     "data": {
      "text/html": [
       "<pre>recommendations finished on 28000/66235 queries. users per second: 984.774</pre>"
      ],
      "text/plain": [
       "recommendations finished on 28000/66235 queries. users per second: 984.774"
      ]
     },
     "metadata": {},
     "output_type": "display_data"
    },
    {
     "data": {
      "text/html": [
       "<pre>recommendations finished on 29000/66235 queries. users per second: 990.34</pre>"
      ],
      "text/plain": [
       "recommendations finished on 29000/66235 queries. users per second: 990.34"
      ]
     },
     "metadata": {},
     "output_type": "display_data"
    },
    {
     "data": {
      "text/html": [
       "<pre>recommendations finished on 30000/66235 queries. users per second: 996.931</pre>"
      ],
      "text/plain": [
       "recommendations finished on 30000/66235 queries. users per second: 996.931"
      ]
     },
     "metadata": {},
     "output_type": "display_data"
    },
    {
     "data": {
      "text/html": [
       "<pre>recommendations finished on 31000/66235 queries. users per second: 989.662</pre>"
      ],
      "text/plain": [
       "recommendations finished on 31000/66235 queries. users per second: 989.662"
      ]
     },
     "metadata": {},
     "output_type": "display_data"
    },
    {
     "data": {
      "text/html": [
       "<pre>recommendations finished on 32000/66235 queries. users per second: 993.969</pre>"
      ],
      "text/plain": [
       "recommendations finished on 32000/66235 queries. users per second: 993.969"
      ]
     },
     "metadata": {},
     "output_type": "display_data"
    },
    {
     "data": {
      "text/html": [
       "<pre>recommendations finished on 33000/66235 queries. users per second: 990.442</pre>"
      ],
      "text/plain": [
       "recommendations finished on 33000/66235 queries. users per second: 990.442"
      ]
     },
     "metadata": {},
     "output_type": "display_data"
    },
    {
     "data": {
      "text/html": [
       "<pre>recommendations finished on 34000/66235 queries. users per second: 987.567</pre>"
      ],
      "text/plain": [
       "recommendations finished on 34000/66235 queries. users per second: 987.567"
      ]
     },
     "metadata": {},
     "output_type": "display_data"
    },
    {
     "data": {
      "text/html": [
       "<pre>recommendations finished on 35000/66235 queries. users per second: 986.617</pre>"
      ],
      "text/plain": [
       "recommendations finished on 35000/66235 queries. users per second: 986.617"
      ]
     },
     "metadata": {},
     "output_type": "display_data"
    },
    {
     "data": {
      "text/html": [
       "<pre>recommendations finished on 36000/66235 queries. users per second: 981.337</pre>"
      ],
      "text/plain": [
       "recommendations finished on 36000/66235 queries. users per second: 981.337"
      ]
     },
     "metadata": {},
     "output_type": "display_data"
    },
    {
     "data": {
      "text/html": [
       "<pre>recommendations finished on 37000/66235 queries. users per second: 976.006</pre>"
      ],
      "text/plain": [
       "recommendations finished on 37000/66235 queries. users per second: 976.006"
      ]
     },
     "metadata": {},
     "output_type": "display_data"
    },
    {
     "data": {
      "text/html": [
       "<pre>recommendations finished on 38000/66235 queries. users per second: 983.435</pre>"
      ],
      "text/plain": [
       "recommendations finished on 38000/66235 queries. users per second: 983.435"
      ]
     },
     "metadata": {},
     "output_type": "display_data"
    },
    {
     "data": {
      "text/html": [
       "<pre>recommendations finished on 39000/66235 queries. users per second: 989.89</pre>"
      ],
      "text/plain": [
       "recommendations finished on 39000/66235 queries. users per second: 989.89"
      ]
     },
     "metadata": {},
     "output_type": "display_data"
    },
    {
     "data": {
      "text/html": [
       "<pre>recommendations finished on 40000/66235 queries. users per second: 991.469</pre>"
      ],
      "text/plain": [
       "recommendations finished on 40000/66235 queries. users per second: 991.469"
      ]
     },
     "metadata": {},
     "output_type": "display_data"
    },
    {
     "data": {
      "text/html": [
       "<pre>recommendations finished on 41000/66235 queries. users per second: 997.396</pre>"
      ],
      "text/plain": [
       "recommendations finished on 41000/66235 queries. users per second: 997.396"
      ]
     },
     "metadata": {},
     "output_type": "display_data"
    },
    {
     "data": {
      "text/html": [
       "<pre>recommendations finished on 42000/66235 queries. users per second: 998.909</pre>"
      ],
      "text/plain": [
       "recommendations finished on 42000/66235 queries. users per second: 998.909"
      ]
     },
     "metadata": {},
     "output_type": "display_data"
    },
    {
     "data": {
      "text/html": [
       "<pre>recommendations finished on 43000/66235 queries. users per second: 992.761</pre>"
      ],
      "text/plain": [
       "recommendations finished on 43000/66235 queries. users per second: 992.761"
      ]
     },
     "metadata": {},
     "output_type": "display_data"
    },
    {
     "data": {
      "text/html": [
       "<pre>recommendations finished on 44000/66235 queries. users per second: 990.861</pre>"
      ],
      "text/plain": [
       "recommendations finished on 44000/66235 queries. users per second: 990.861"
      ]
     },
     "metadata": {},
     "output_type": "display_data"
    },
    {
     "data": {
      "text/html": [
       "<pre>recommendations finished on 45000/66235 queries. users per second: 988.354</pre>"
      ],
      "text/plain": [
       "recommendations finished on 45000/66235 queries. users per second: 988.354"
      ]
     },
     "metadata": {},
     "output_type": "display_data"
    },
    {
     "data": {
      "text/html": [
       "<pre>recommendations finished on 46000/66235 queries. users per second: 979.046</pre>"
      ],
      "text/plain": [
       "recommendations finished on 46000/66235 queries. users per second: 979.046"
      ]
     },
     "metadata": {},
     "output_type": "display_data"
    },
    {
     "data": {
      "text/html": [
       "<pre>recommendations finished on 47000/66235 queries. users per second: 979.18</pre>"
      ],
      "text/plain": [
       "recommendations finished on 47000/66235 queries. users per second: 979.18"
      ]
     },
     "metadata": {},
     "output_type": "display_data"
    },
    {
     "data": {
      "text/html": [
       "<pre>recommendations finished on 48000/66235 queries. users per second: 974.042</pre>"
      ],
      "text/plain": [
       "recommendations finished on 48000/66235 queries. users per second: 974.042"
      ]
     },
     "metadata": {},
     "output_type": "display_data"
    },
    {
     "data": {
      "text/html": [
       "<pre>recommendations finished on 49000/66235 queries. users per second: 973.038</pre>"
      ],
      "text/plain": [
       "recommendations finished on 49000/66235 queries. users per second: 973.038"
      ]
     },
     "metadata": {},
     "output_type": "display_data"
    },
    {
     "data": {
      "text/html": [
       "<pre>recommendations finished on 50000/66235 queries. users per second: 974.948</pre>"
      ],
      "text/plain": [
       "recommendations finished on 50000/66235 queries. users per second: 974.948"
      ]
     },
     "metadata": {},
     "output_type": "display_data"
    },
    {
     "data": {
      "text/html": [
       "<pre>recommendations finished on 51000/66235 queries. users per second: 979.519</pre>"
      ],
      "text/plain": [
       "recommendations finished on 51000/66235 queries. users per second: 979.519"
      ]
     },
     "metadata": {},
     "output_type": "display_data"
    },
    {
     "data": {
      "text/html": [
       "<pre>recommendations finished on 52000/66235 queries. users per second: 978.794</pre>"
      ],
      "text/plain": [
       "recommendations finished on 52000/66235 queries. users per second: 978.794"
      ]
     },
     "metadata": {},
     "output_type": "display_data"
    },
    {
     "data": {
      "text/html": [
       "<pre>recommendations finished on 53000/66235 queries. users per second: 976.139</pre>"
      ],
      "text/plain": [
       "recommendations finished on 53000/66235 queries. users per second: 976.139"
      ]
     },
     "metadata": {},
     "output_type": "display_data"
    },
    {
     "data": {
      "text/html": [
       "<pre>recommendations finished on 54000/66235 queries. users per second: 976.44</pre>"
      ],
      "text/plain": [
       "recommendations finished on 54000/66235 queries. users per second: 976.44"
      ]
     },
     "metadata": {},
     "output_type": "display_data"
    },
    {
     "data": {
      "text/html": [
       "<pre>recommendations finished on 55000/66235 queries. users per second: 974.259</pre>"
      ],
      "text/plain": [
       "recommendations finished on 55000/66235 queries. users per second: 974.259"
      ]
     },
     "metadata": {},
     "output_type": "display_data"
    },
    {
     "data": {
      "text/html": [
       "<pre>recommendations finished on 56000/66235 queries. users per second: 969.09</pre>"
      ],
      "text/plain": [
       "recommendations finished on 56000/66235 queries. users per second: 969.09"
      ]
     },
     "metadata": {},
     "output_type": "display_data"
    },
    {
     "data": {
      "text/html": [
       "<pre>recommendations finished on 57000/66235 queries. users per second: 967.776</pre>"
      ],
      "text/plain": [
       "recommendations finished on 57000/66235 queries. users per second: 967.776"
      ]
     },
     "metadata": {},
     "output_type": "display_data"
    },
    {
     "data": {
      "text/html": [
       "<pre>recommendations finished on 58000/66235 queries. users per second: 970.753</pre>"
      ],
      "text/plain": [
       "recommendations finished on 58000/66235 queries. users per second: 970.753"
      ]
     },
     "metadata": {},
     "output_type": "display_data"
    },
    {
     "data": {
      "text/html": [
       "<pre>recommendations finished on 59000/66235 queries. users per second: 975.047</pre>"
      ],
      "text/plain": [
       "recommendations finished on 59000/66235 queries. users per second: 975.047"
      ]
     },
     "metadata": {},
     "output_type": "display_data"
    },
    {
     "data": {
      "text/html": [
       "<pre>recommendations finished on 60000/66235 queries. users per second: 977.105</pre>"
      ],
      "text/plain": [
       "recommendations finished on 60000/66235 queries. users per second: 977.105"
      ]
     },
     "metadata": {},
     "output_type": "display_data"
    },
    {
     "data": {
      "text/html": [
       "<pre>recommendations finished on 61000/66235 queries. users per second: 980.744</pre>"
      ],
      "text/plain": [
       "recommendations finished on 61000/66235 queries. users per second: 980.744"
      ]
     },
     "metadata": {},
     "output_type": "display_data"
    },
    {
     "data": {
      "text/html": [
       "<pre>recommendations finished on 62000/66235 queries. users per second: 984.129</pre>"
      ],
      "text/plain": [
       "recommendations finished on 62000/66235 queries. users per second: 984.129"
      ]
     },
     "metadata": {},
     "output_type": "display_data"
    },
    {
     "data": {
      "text/html": [
       "<pre>recommendations finished on 63000/66235 queries. users per second: 987.615</pre>"
      ],
      "text/plain": [
       "recommendations finished on 63000/66235 queries. users per second: 987.615"
      ]
     },
     "metadata": {},
     "output_type": "display_data"
    },
    {
     "data": {
      "text/html": [
       "<pre>recommendations finished on 64000/66235 queries. users per second: 990.268</pre>"
      ],
      "text/plain": [
       "recommendations finished on 64000/66235 queries. users per second: 990.268"
      ]
     },
     "metadata": {},
     "output_type": "display_data"
    },
    {
     "data": {
      "text/html": [
       "<pre>recommendations finished on 65000/66235 queries. users per second: 992.545</pre>"
      ],
      "text/plain": [
       "recommendations finished on 65000/66235 queries. users per second: 992.545"
      ]
     },
     "metadata": {},
     "output_type": "display_data"
    },
    {
     "data": {
      "text/html": [
       "<pre>recommendations finished on 66000/66235 queries. users per second: 989.667</pre>"
      ],
      "text/plain": [
       "recommendations finished on 66000/66235 queries. users per second: 989.667"
      ]
     },
     "metadata": {},
     "output_type": "display_data"
    },
    {
     "name": "stdout",
     "output_type": "stream",
     "text": [
      "\n",
      "Precision and recall summary statistics by cutoff\n",
      "+--------+------------------+------------------+\n",
      "| cutoff |  mean_precision  |   mean_recall    |\n",
      "+--------+------------------+------------------+\n",
      "|   1    | 0.00705065297803 | 0.00222729856788 |\n",
      "|   2    | 0.00471050049068 | 0.00296296999819 |\n",
      "|   3    | 0.00412672051534 | 0.00344140852491 |\n",
      "|   4    | 0.00367252962935 | 0.00421864316611 |\n",
      "|   5    | 0.00325809617272 | 0.00465181009588 |\n",
      "|   6    | 0.00291135099771 | 0.00496870615068 |\n",
      "|   7    | 0.00257308932481 | 0.00510986234403 |\n",
      "|   8    | 0.00261191213105 | 0.00562211227329 |\n",
      "|   9    | 0.00261191213105 | 0.00619825612554 |\n",
      "|   10   | 0.00260285347626 | 0.00671826788424 |\n",
      "+--------+------------------+------------------+\n",
      "[10 rows x 3 columns]\n",
      "\n",
      "('\\nOverall RMSE: ', 0.9518764766962728)\n",
      "\n",
      "Per User RMSE (best)\n",
      "+----------------+-------+----------------+\n",
      "|    user_id     | count |      rmse      |\n",
      "+----------------+-------+----------------+\n",
      "| A2TEZE9WMSUB5E |   1   | 0.267068258172 |\n",
      "+----------------+-------+----------------+\n",
      "[1 rows x 3 columns]\n",
      "\n",
      "\n",
      "Per User RMSE (worst)\n",
      "+----------------+-------+---------------+\n",
      "|    user_id     | count |      rmse     |\n",
      "+----------------+-------+---------------+\n",
      "| A3CPNY2JWNWVZT |   1   | 3.38159310903 |\n",
      "+----------------+-------+---------------+\n",
      "[1 rows x 3 columns]\n",
      "\n",
      "\n",
      "Per Item RMSE (best)\n",
      "+------------+-------+----------------+\n",
      "|  item_id   | count |      rmse      |\n",
      "+------------+-------+----------------+\n",
      "| B009POGM04 |   1   | 0.244691614533 |\n",
      "+------------+-------+----------------+\n",
      "[1 rows x 3 columns]\n",
      "\n",
      "\n",
      "Per Item RMSE (worst)\n",
      "+------------+-------+---------------+\n",
      "|  item_id   | count |      rmse     |\n",
      "+------------+-------+---------------+\n",
      "| B00DPY40D6 |   1   | 3.42316386614 |\n",
      "+------------+-------+---------------+\n",
      "[1 rows x 3 columns]\n",
      "\n"
     ]
    }
   ],
   "source": [
    "eval4 = m4.evaluate(valid)"
   ]
  },
  {
   "cell_type": "code",
   "execution_count": null,
   "metadata": {
    "collapsed": true
   },
   "outputs": [],
   "source": []
  }
 ],
 "metadata": {
  "kernelspec": {
   "display_name": "Python [gl-env]",
   "language": "python",
   "name": "Python [gl-env]"
  },
  "language_info": {
   "codemirror_mode": {
    "name": "ipython",
    "version": 2
   },
   "file_extension": ".py",
   "mimetype": "text/x-python",
   "name": "python",
   "nbconvert_exporter": "python",
   "pygments_lexer": "ipython2",
   "version": "2.7.11"
  }
 },
 "nbformat": 4,
 "nbformat_minor": 0
}
