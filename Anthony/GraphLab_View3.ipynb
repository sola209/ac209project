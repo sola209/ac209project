{
 "cells": [
  {
   "cell_type": "code",
   "execution_count": 18,
   "metadata": {
    "collapsed": true
   },
   "outputs": [],
   "source": [
    "import numpy as np\n",
    "import matplotlib\n",
    "import matplotlib.pyplot as plt\n",
    "from mpl_toolkits.mplot3d import Axes3D\n",
    "import matplotlib.cm as cmx\n",
    "import matplotlib.colors as colors\n",
    "import pandas as pd\n",
    "from sklearn.linear_model import LogisticRegression as LogReg\n",
    "from sklearn.feature_extraction.text import CountVectorizer\n",
    "from sklearn.neighbors import KNeighborsClassifier as KNN\n",
    "from sklearn.decomposition import PCA\n",
    "%matplotlib inline\n",
    "import random\n",
    "from sklearn import preprocessing\n",
    "import scipy.sparse as sparse\n",
    "from sklearn.cross_validation import train_test_split\n",
    "from sklearn.metrics import mean_squared_error\n",
    "from math import sqrt\n",
    "import graphlab as gl"
   ]
  },
  {
   "cell_type": "code",
   "execution_count": 19,
   "metadata": {
    "collapsed": true
   },
   "outputs": [],
   "source": [
    "filename = \"datasets/reviews.csv\"\n",
    "df = pd.read_csv(filename)"
   ]
  },
  {
   "cell_type": "code",
   "execution_count": 3,
   "metadata": {
    "collapsed": false
   },
   "outputs": [
    {
     "data": {
      "text/html": [
       "<div>\n",
       "<table border=\"1\" class=\"dataframe\">\n",
       "  <thead>\n",
       "    <tr style=\"text-align: right;\">\n",
       "      <th></th>\n",
       "      <th>Unnamed: 0</th>\n",
       "      <th>asin</th>\n",
       "      <th>helpful</th>\n",
       "      <th>overall</th>\n",
       "      <th>reviewText</th>\n",
       "      <th>reviewTime</th>\n",
       "      <th>reviewerID</th>\n",
       "      <th>reviewerName</th>\n",
       "      <th>summary</th>\n",
       "      <th>unixReviewTime</th>\n",
       "    </tr>\n",
       "  </thead>\n",
       "  <tbody>\n",
       "    <tr>\n",
       "      <th>0</th>\n",
       "      <td>0</td>\n",
       "      <td>B000F83SZQ</td>\n",
       "      <td>[0, 0]</td>\n",
       "      <td>5</td>\n",
       "      <td>I enjoy vintage books and movies so I enjoyed ...</td>\n",
       "      <td>05 5, 2014</td>\n",
       "      <td>A1F6404F1VG29J</td>\n",
       "      <td>Avidreader</td>\n",
       "      <td>Nice vintage story</td>\n",
       "      <td>1399248000</td>\n",
       "    </tr>\n",
       "    <tr>\n",
       "      <th>1</th>\n",
       "      <td>1</td>\n",
       "      <td>B000F83SZQ</td>\n",
       "      <td>[2, 2]</td>\n",
       "      <td>4</td>\n",
       "      <td>This book is a reissue of an old one; the auth...</td>\n",
       "      <td>01 6, 2014</td>\n",
       "      <td>AN0N05A9LIJEQ</td>\n",
       "      <td>critters</td>\n",
       "      <td>Different...</td>\n",
       "      <td>1388966400</td>\n",
       "    </tr>\n",
       "    <tr>\n",
       "      <th>2</th>\n",
       "      <td>2</td>\n",
       "      <td>B000F83SZQ</td>\n",
       "      <td>[2, 2]</td>\n",
       "      <td>4</td>\n",
       "      <td>This was a fairly interesting read.  It had ol...</td>\n",
       "      <td>04 4, 2014</td>\n",
       "      <td>A795DMNCJILA6</td>\n",
       "      <td>dot</td>\n",
       "      <td>Oldie</td>\n",
       "      <td>1396569600</td>\n",
       "    </tr>\n",
       "    <tr>\n",
       "      <th>3</th>\n",
       "      <td>3</td>\n",
       "      <td>B000F83SZQ</td>\n",
       "      <td>[1, 1]</td>\n",
       "      <td>5</td>\n",
       "      <td>I'd never read any of the Amy Brewster mysteri...</td>\n",
       "      <td>02 19, 2014</td>\n",
       "      <td>A1FV0SX13TWVXQ</td>\n",
       "      <td>Elaine H. Turley \"Montana Songbird\"</td>\n",
       "      <td>I really liked it.</td>\n",
       "      <td>1392768000</td>\n",
       "    </tr>\n",
       "    <tr>\n",
       "      <th>4</th>\n",
       "      <td>4</td>\n",
       "      <td>B000F83SZQ</td>\n",
       "      <td>[0, 1]</td>\n",
       "      <td>4</td>\n",
       "      <td>If you like period pieces - clothing, lingo, y...</td>\n",
       "      <td>03 19, 2014</td>\n",
       "      <td>A3SPTOKDG7WBLN</td>\n",
       "      <td>Father Dowling Fan</td>\n",
       "      <td>Period Mystery</td>\n",
       "      <td>1395187200</td>\n",
       "    </tr>\n",
       "  </tbody>\n",
       "</table>\n",
       "</div>"
      ],
      "text/plain": [
       "   Unnamed: 0        asin helpful  overall  \\\n",
       "0           0  B000F83SZQ  [0, 0]        5   \n",
       "1           1  B000F83SZQ  [2, 2]        4   \n",
       "2           2  B000F83SZQ  [2, 2]        4   \n",
       "3           3  B000F83SZQ  [1, 1]        5   \n",
       "4           4  B000F83SZQ  [0, 1]        4   \n",
       "\n",
       "                                          reviewText   reviewTime  \\\n",
       "0  I enjoy vintage books and movies so I enjoyed ...   05 5, 2014   \n",
       "1  This book is a reissue of an old one; the auth...   01 6, 2014   \n",
       "2  This was a fairly interesting read.  It had ol...   04 4, 2014   \n",
       "3  I'd never read any of the Amy Brewster mysteri...  02 19, 2014   \n",
       "4  If you like period pieces - clothing, lingo, y...  03 19, 2014   \n",
       "\n",
       "       reviewerID                         reviewerName             summary  \\\n",
       "0  A1F6404F1VG29J                           Avidreader  Nice vintage story   \n",
       "1   AN0N05A9LIJEQ                             critters        Different...   \n",
       "2   A795DMNCJILA6                                  dot               Oldie   \n",
       "3  A1FV0SX13TWVXQ  Elaine H. Turley \"Montana Songbird\"  I really liked it.   \n",
       "4  A3SPTOKDG7WBLN                   Father Dowling Fan      Period Mystery   \n",
       "\n",
       "   unixReviewTime  \n",
       "0      1399248000  \n",
       "1      1388966400  \n",
       "2      1396569600  \n",
       "3      1392768000  \n",
       "4      1395187200  "
      ]
     },
     "execution_count": 3,
     "metadata": {},
     "output_type": "execute_result"
    }
   ],
   "source": [
    "df.head()"
   ]
  },
  {
   "cell_type": "code",
   "execution_count": 4,
   "metadata": {
    "collapsed": false
   },
   "outputs": [
    {
     "name": "stdout",
     "output_type": "stream",
     "text": [
      "This non-commercial license of GraphLab Create for academic use is assigned to atsoroka@g.harvard.edu and will expire on December 03, 2017.\n"
     ]
    },
    {
     "name": "stderr",
     "output_type": "stream",
     "text": [
      "[INFO] graphlab.cython.cy_server: GraphLab Create v2.1 started. Logging: /tmp/graphlab_server_1480970218.log\n"
     ]
    },
    {
     "data": {
      "text/html": [
       "<pre>Unable to parse line \"2827,B001NIZLZM,\"[21, 23]\",1,\"This is analogous to those straight-to-video movies that end up in the $3 bin at Big Lots. Somehow, they are produced, written and made; but in so many cases, you end up wondering...what were they thinking?In this case, the au...\"</pre>"
      ],
      "text/plain": [
       "Unable to parse line \"2827,B001NIZLZM,\"[21, 23]\",1,\"This is analogous to those straight-to-video movies that end up in the $3 bin at Big Lots. Somehow, they are produced, written and made; but in so many cases, you end up wondering...what were they thinking?In this case, the au...\""
      ]
     },
     "metadata": {},
     "output_type": "display_data"
    },
    {
     "data": {
      "text/html": [
       "<pre>Unable to parse line \"28648,B004443YVK,\"[1, 1]\",5,Unbelievable how depraved the human spirit can become and yet such goodness and compassion prevails at the same time.  Thank God he can overcome our failures.,\"04 26, 2013\",A1KNXLIXUTUY0L,\"Carol  berry\"</pre>"
      ],
      "text/plain": [
       "Unable to parse line \"28648,B004443YVK,\"[1, 1]\",5,Unbelievable how depraved the human spirit can become and yet such goodness and compassion prevails at the same time.  Thank God he can overcome our failures.,\"04 26, 2013\",A1KNXLIXUTUY0L,\"Carol  berry\""
      ]
     },
     "metadata": {},
     "output_type": "display_data"
    },
    {
     "data": {
      "text/html": [
       "<pre>Unable to parse line \"Carol berry\",The terror continues by so does the good.,1366934400\"</pre>"
      ],
      "text/plain": [
       "Unable to parse line \"Carol berry\",The terror continues by so does the good.,1366934400\""
      ]
     },
     "metadata": {},
     "output_type": "display_data"
    },
    {
     "data": {
      "text/html": [
       "<pre>Unable to parse line \"53525,B004S7MR0M,\"[0, 0]\",3,A good clean read but too many subplots.  Faculty has more problems than the inmates.  Enjoyed info on service dogs.,\"01 7, 2013\",A1KNXLIXUTUY0L,\"Carol  berry\"</pre>"
      ],
      "text/plain": [
       "Unable to parse line \"53525,B004S7MR0M,\"[0, 0]\",3,A good clean read but too many subplots.  Faculty has more problems than the inmates.  Enjoyed info on service dogs.,\"01 7, 2013\",A1KNXLIXUTUY0L,\"Carol  berry\""
      ]
     },
     "metadata": {},
     "output_type": "display_data"
    },
    {
     "data": {
      "text/html": [
       "<pre>Unable to parse line \"Carol berry\",Never too many chances.,1357516800\"</pre>"
      ],
      "text/plain": [
       "Unable to parse line \"Carol berry\",Never too many chances.,1357516800\""
      ]
     },
     "metadata": {},
     "output_type": "display_data"
    },
    {
     "data": {
      "text/html": [
       "<pre>Unable to parse line \"35061,B004D4ZQ3K,\"[1, 1]\",4,Good character development. Kept the number of main characters fully involved. Tons of action. Written like Stephen King used to write. Long book but when it concluded I wanted more chapters,\"04 23, 2013\",A1G8NY1FKZ7O2N,\"T\"</pre>"
      ],
      "text/plain": [
       "Unable to parse line \"35061,B004D4ZQ3K,\"[1, 1]\",4,Good character development. Kept the number of main characters fully involved. Tons of action. Written like Stephen King used to write. Long book but when it concluded I wanted more chapters,\"04 23, 2013\",A1G8NY1FKZ7O2N,\"T\""
      ]
     },
     "metadata": {},
     "output_type": "display_data"
    },
    {
     "data": {
      "text/html": [
       "<pre>Unable to parse line \"Ron Davis\",\"Valley of Death, Zombie Trailer Park\",1366675200\"</pre>"
      ],
      "text/plain": [
       "Unable to parse line \"Ron Davis\",\"Valley of Death, Zombie Trailer Park\",1366675200\""
      ]
     },
     "metadata": {},
     "output_type": "display_data"
    },
    {
     "data": {
      "text/html": [
       "<pre>Unable to parse line \"37001,B004EYT9CS,\"[0, 0]\",5,\"Darling story about a lifelong friendship and how it evolves. Best advice possible, marry someone you can be friends with.  Great read.\",\"03 29, 2013\",A1KNXLIXUTUY0L,\"Carol  berry\"</pre>"
      ],
      "text/plain": [
       "Unable to parse line \"37001,B004EYT9CS,\"[0, 0]\",5,\"Darling story about a lifelong friendship and how it evolves. Best advice possible, marry someone you can be friends with.  Great read.\",\"03 29, 2013\",A1KNXLIXUTUY0L,\"Carol  berry\""
      ]
     },
     "metadata": {},
     "output_type": "display_data"
    },
    {
     "data": {
      "text/html": [
       "<pre>Unable to parse line \"Carol berry\",Love conquers all.,1364515200\"</pre>"
      ],
      "text/plain": [
       "Unable to parse line \"Carol berry\",Love conquers all.,1364515200\""
      ]
     },
     "metadata": {},
     "output_type": "display_data"
    },
    {
     "data": {
      "text/html": [
       "<pre>Unable to parse line \"56629,B004TPTQI4,\"[0, 0]\",4,Classic Zane grey. Not a lot of violence. Very descriptive people and places.  Use your imagination when you read. If you enjoy classic westerners you will like this book.,\"03 1, 2013\",A1G8NY1FKZ7O2N,\"T\"</pre>"
      ],
      "text/plain": [
       "Unable to parse line \"56629,B004TPTQI4,\"[0, 0]\",4,Classic Zane grey. Not a lot of violence. Very descriptive people and places.  Use your imagination when you read. If you enjoy classic westerners you will like this book.,\"03 1, 2013\",A1G8NY1FKZ7O2N,\"T\""
      ]
     },
     "metadata": {},
     "output_type": "display_data"
    },
    {
     "data": {
      "text/html": [
       "<pre>46 lines failed to parse correctly</pre>"
      ],
      "text/plain": [
       "46 lines failed to parse correctly"
      ]
     },
     "metadata": {},
     "output_type": "display_data"
    },
    {
     "data": {
      "text/html": [
       "<pre>Finished parsing file /Users/anthonysoroka/Documents/Academic/HarvardCSE/AC209/Project/Milestone3/datasets/reviews.csv</pre>"
      ],
      "text/plain": [
       "Finished parsing file /Users/anthonysoroka/Documents/Academic/HarvardCSE/AC209/Project/Milestone3/datasets/reviews.csv"
      ]
     },
     "metadata": {},
     "output_type": "display_data"
    },
    {
     "data": {
      "text/html": [
       "<pre>Parsing completed. Parsed 100 lines in 1.39479 secs.</pre>"
      ],
      "text/plain": [
       "Parsing completed. Parsed 100 lines in 1.39479 secs."
      ]
     },
     "metadata": {},
     "output_type": "display_data"
    },
    {
     "name": "stdout",
     "output_type": "stream",
     "text": [
      "------------------------------------------------------\n",
      "Inferred types from first 100 line(s) of file as \n",
      "column_type_hints=[int,str,array,int,str,str,str,str,str,int]\n",
      "If parsing fails due to incorrect types, you can correct\n",
      "the inferred type list above and pass it to read_csv in\n",
      "the column_type_hints argument\n",
      "------------------------------------------------------\n"
     ]
    },
    {
     "data": {
      "text/html": [
       "<pre>Unable to parse line \"2827,B001NIZLZM,\"[21, 23]\",1,\"This is analogous to those straight-to-video movies that end up in the $3 bin at Big Lots. Somehow, they are produced, written and made; but in so many cases, you end up wondering...what were they thinking?In this case, the au...\"</pre>"
      ],
      "text/plain": [
       "Unable to parse line \"2827,B001NIZLZM,\"[21, 23]\",1,\"This is analogous to those straight-to-video movies that end up in the $3 bin at Big Lots. Somehow, they are produced, written and made; but in so many cases, you end up wondering...what were they thinking?In this case, the au...\""
      ]
     },
     "metadata": {},
     "output_type": "display_data"
    },
    {
     "data": {
      "text/html": [
       "<pre>Unable to parse line \"53525,B004S7MR0M,\"[0, 0]\",3,A good clean read but too many subplots.  Faculty has more problems than the inmates.  Enjoyed info on service dogs.,\"01 7, 2013\",A1KNXLIXUTUY0L,\"Carol  berry\"</pre>"
      ],
      "text/plain": [
       "Unable to parse line \"53525,B004S7MR0M,\"[0, 0]\",3,A good clean read but too many subplots.  Faculty has more problems than the inmates.  Enjoyed info on service dogs.,\"01 7, 2013\",A1KNXLIXUTUY0L,\"Carol  berry\""
      ]
     },
     "metadata": {},
     "output_type": "display_data"
    },
    {
     "data": {
      "text/html": [
       "<pre>Unable to parse line \"Carol berry\",Never too many chances.,1357516800\"</pre>"
      ],
      "text/plain": [
       "Unable to parse line \"Carol berry\",Never too many chances.,1357516800\""
      ]
     },
     "metadata": {},
     "output_type": "display_data"
    },
    {
     "data": {
      "text/html": [
       "<pre>Unable to parse line \"28648,B004443YVK,\"[1, 1]\",5,Unbelievable how depraved the human spirit can become and yet such goodness and compassion prevails at the same time.  Thank God he can overcome our failures.,\"04 26, 2013\",A1KNXLIXUTUY0L,\"Carol  berry\"</pre>"
      ],
      "text/plain": [
       "Unable to parse line \"28648,B004443YVK,\"[1, 1]\",5,Unbelievable how depraved the human spirit can become and yet such goodness and compassion prevails at the same time.  Thank God he can overcome our failures.,\"04 26, 2013\",A1KNXLIXUTUY0L,\"Carol  berry\""
      ]
     },
     "metadata": {},
     "output_type": "display_data"
    },
    {
     "data": {
      "text/html": [
       "<pre>Unable to parse line \"Carol berry\",The terror continues by so does the good.,1366934400\"</pre>"
      ],
      "text/plain": [
       "Unable to parse line \"Carol berry\",The terror continues by so does the good.,1366934400\""
      ]
     },
     "metadata": {},
     "output_type": "display_data"
    },
    {
     "data": {
      "text/html": [
       "<pre>Unable to parse line \"56629,B004TPTQI4,\"[0, 0]\",4,Classic Zane grey. Not a lot of violence. Very descriptive people and places.  Use your imagination when you read. If you enjoy classic westerners you will like this book.,\"03 1, 2013\",A1G8NY1FKZ7O2N,\"T\"</pre>"
      ],
      "text/plain": [
       "Unable to parse line \"56629,B004TPTQI4,\"[0, 0]\",4,Classic Zane grey. Not a lot of violence. Very descriptive people and places.  Use your imagination when you read. If you enjoy classic westerners you will like this book.,\"03 1, 2013\",A1G8NY1FKZ7O2N,\"T\""
      ]
     },
     "metadata": {},
     "output_type": "display_data"
    },
    {
     "data": {
      "text/html": [
       "<pre>Unable to parse line \"Ron Davis\",Valley of wild horses,1362096000\"</pre>"
      ],
      "text/plain": [
       "Unable to parse line \"Ron Davis\",Valley of wild horses,1362096000\""
      ]
     },
     "metadata": {},
     "output_type": "display_data"
    },
    {
     "data": {
      "text/html": [
       "<pre>Unable to parse line \"56715,B004TQ22D4,\"[0, 0]\",5,\"Another great western from Max Brand. Fabulous description of the Western land.  You just have we to root for Whistin\"\" Dan, his usurper horse and the river faithful dog.  Don't pass this book bye just because it's an old one. ...\"</pre>"
      ],
      "text/plain": [
       "Unable to parse line \"56715,B004TQ22D4,\"[0, 0]\",5,\"Another great western from Max Brand. Fabulous description of the Western land.  You just have we to root for Whistin\"\" Dan, his usurper horse and the river faithful dog.  Don't pass this book bye just because it's an old one. ...\""
      ]
     },
     "metadata": {},
     "output_type": "display_data"
    },
    {
     "data": {
      "text/html": [
       "<pre>Unable to parse line \"Ron Davis\",The Seventh Man,1377043200\"</pre>"
      ],
      "text/plain": [
       "Unable to parse line \"Ron Davis\",The Seventh Man,1377043200\""
      ]
     },
     "metadata": {},
     "output_type": "display_data"
    },
    {
     "data": {
      "text/html": [
       "<pre>Unable to parse line \"56774,B004TQA4RK,\"[0, 0]\",4,An excellent book. This is the first book I have read by this author. If you enjoy Zane Grey you will like Mr.  CULLUM.,\"07 29, 2013\",A1G8NY1FKZ7O2N,\"T\"</pre>"
      ],
      "text/plain": [
       "Unable to parse line \"56774,B004TQA4RK,\"[0, 0]\",4,An excellent book. This is the first book I have read by this author. If you enjoy Zane Grey you will like Mr.  CULLUM.,\"07 29, 2013\",A1G8NY1FKZ7O2N,\"T\""
      ]
     },
     "metadata": {},
     "output_type": "display_data"
    },
    {
     "data": {
      "text/html": [
       "<pre>Read 73065 lines. Lines per second: 38616.9</pre>"
      ],
      "text/plain": [
       "Read 73065 lines. Lines per second: 38616.9"
      ]
     },
     "metadata": {},
     "output_type": "display_data"
    },
    {
     "data": {
      "text/html": [
       "<pre>Read 539148 lines. Lines per second: 68633.3</pre>"
      ],
      "text/plain": [
       "Read 539148 lines. Lines per second: 68633.3"
      ]
     },
     "metadata": {},
     "output_type": "display_data"
    },
    {
     "data": {
      "text/html": [
       "<pre>Read 889259 lines. Lines per second: 69344.1</pre>"
      ],
      "text/plain": [
       "Read 889259 lines. Lines per second: 69344.1"
      ]
     },
     "metadata": {},
     "output_type": "display_data"
    },
    {
     "data": {
      "text/html": [
       "<pre>411 lines failed to parse correctly</pre>"
      ],
      "text/plain": [
       "411 lines failed to parse correctly"
      ]
     },
     "metadata": {},
     "output_type": "display_data"
    },
    {
     "data": {
      "text/html": [
       "<pre>Finished parsing file /Users/anthonysoroka/Documents/Academic/HarvardCSE/AC209/Project/Milestone3/datasets/reviews.csv</pre>"
      ],
      "text/plain": [
       "Finished parsing file /Users/anthonysoroka/Documents/Academic/HarvardCSE/AC209/Project/Milestone3/datasets/reviews.csv"
      ]
     },
     "metadata": {},
     "output_type": "display_data"
    },
    {
     "data": {
      "text/html": [
       "<pre>Parsing completed. Parsed 982409 lines in 14.1132 secs.</pre>"
      ],
      "text/plain": [
       "Parsing completed. Parsed 982409 lines in 14.1132 secs."
      ]
     },
     "metadata": {},
     "output_type": "display_data"
    }
   ],
   "source": [
    "data = gl.SFrame.read_csv(filename)"
   ]
  },
  {
   "cell_type": "code",
   "execution_count": 5,
   "metadata": {
    "collapsed": false
   },
   "outputs": [
    {
     "data": {
      "text/html": [
       "<div style=\"max-height:1000px;max-width:1500px;overflow:auto;\"><table frame=\"box\" rules=\"cols\">\n",
       "    <tr>\n",
       "        <th style=\"padding-left: 1em; padding-right: 1em; text-align: center\">X1</th>\n",
       "        <th style=\"padding-left: 1em; padding-right: 1em; text-align: center\">asin</th>\n",
       "        <th style=\"padding-left: 1em; padding-right: 1em; text-align: center\">helpful</th>\n",
       "        <th style=\"padding-left: 1em; padding-right: 1em; text-align: center\">overall</th>\n",
       "        <th style=\"padding-left: 1em; padding-right: 1em; text-align: center\">reviewText</th>\n",
       "        <th style=\"padding-left: 1em; padding-right: 1em; text-align: center\">reviewTime</th>\n",
       "        <th style=\"padding-left: 1em; padding-right: 1em; text-align: center\">reviewerID</th>\n",
       "    </tr>\n",
       "    <tr>\n",
       "        <td style=\"padding-left: 1em; padding-right: 1em; text-align: center; vertical-align: top\">0</td>\n",
       "        <td style=\"padding-left: 1em; padding-right: 1em; text-align: center; vertical-align: top\">B000F83SZQ</td>\n",
       "        <td style=\"padding-left: 1em; padding-right: 1em; text-align: center; vertical-align: top\">[0.0, 0.0]</td>\n",
       "        <td style=\"padding-left: 1em; padding-right: 1em; text-align: center; vertical-align: top\">5</td>\n",
       "        <td style=\"padding-left: 1em; padding-right: 1em; text-align: center; vertical-align: top\">I enjoy vintage books and<br>movies so I enjoyed ...</td>\n",
       "        <td style=\"padding-left: 1em; padding-right: 1em; text-align: center; vertical-align: top\">05 5, 2014</td>\n",
       "        <td style=\"padding-left: 1em; padding-right: 1em; text-align: center; vertical-align: top\">A1F6404F1VG29J</td>\n",
       "    </tr>\n",
       "    <tr>\n",
       "        <td style=\"padding-left: 1em; padding-right: 1em; text-align: center; vertical-align: top\">1</td>\n",
       "        <td style=\"padding-left: 1em; padding-right: 1em; text-align: center; vertical-align: top\">B000F83SZQ</td>\n",
       "        <td style=\"padding-left: 1em; padding-right: 1em; text-align: center; vertical-align: top\">[2.0, 2.0]</td>\n",
       "        <td style=\"padding-left: 1em; padding-right: 1em; text-align: center; vertical-align: top\">4</td>\n",
       "        <td style=\"padding-left: 1em; padding-right: 1em; text-align: center; vertical-align: top\">This book is a reissue of<br>an old one; the author ...</td>\n",
       "        <td style=\"padding-left: 1em; padding-right: 1em; text-align: center; vertical-align: top\">01 6, 2014</td>\n",
       "        <td style=\"padding-left: 1em; padding-right: 1em; text-align: center; vertical-align: top\">AN0N05A9LIJEQ</td>\n",
       "    </tr>\n",
       "    <tr>\n",
       "        <td style=\"padding-left: 1em; padding-right: 1em; text-align: center; vertical-align: top\">2</td>\n",
       "        <td style=\"padding-left: 1em; padding-right: 1em; text-align: center; vertical-align: top\">B000F83SZQ</td>\n",
       "        <td style=\"padding-left: 1em; padding-right: 1em; text-align: center; vertical-align: top\">[2.0, 2.0]</td>\n",
       "        <td style=\"padding-left: 1em; padding-right: 1em; text-align: center; vertical-align: top\">4</td>\n",
       "        <td style=\"padding-left: 1em; padding-right: 1em; text-align: center; vertical-align: top\">This was a fairly<br>interesting read.  It ...</td>\n",
       "        <td style=\"padding-left: 1em; padding-right: 1em; text-align: center; vertical-align: top\">04 4, 2014</td>\n",
       "        <td style=\"padding-left: 1em; padding-right: 1em; text-align: center; vertical-align: top\">A795DMNCJILA6</td>\n",
       "    </tr>\n",
       "    <tr>\n",
       "        <td style=\"padding-left: 1em; padding-right: 1em; text-align: center; vertical-align: top\">3</td>\n",
       "        <td style=\"padding-left: 1em; padding-right: 1em; text-align: center; vertical-align: top\">B000F83SZQ</td>\n",
       "        <td style=\"padding-left: 1em; padding-right: 1em; text-align: center; vertical-align: top\">[1.0, 1.0]</td>\n",
       "        <td style=\"padding-left: 1em; padding-right: 1em; text-align: center; vertical-align: top\">5</td>\n",
       "        <td style=\"padding-left: 1em; padding-right: 1em; text-align: center; vertical-align: top\">I'd never read any of the<br>Amy Brewster mysteries ...</td>\n",
       "        <td style=\"padding-left: 1em; padding-right: 1em; text-align: center; vertical-align: top\">02 19, 2014</td>\n",
       "        <td style=\"padding-left: 1em; padding-right: 1em; text-align: center; vertical-align: top\">A1FV0SX13TWVXQ</td>\n",
       "    </tr>\n",
       "    <tr>\n",
       "        <td style=\"padding-left: 1em; padding-right: 1em; text-align: center; vertical-align: top\">4</td>\n",
       "        <td style=\"padding-left: 1em; padding-right: 1em; text-align: center; vertical-align: top\">B000F83SZQ</td>\n",
       "        <td style=\"padding-left: 1em; padding-right: 1em; text-align: center; vertical-align: top\">[0.0, 1.0]</td>\n",
       "        <td style=\"padding-left: 1em; padding-right: 1em; text-align: center; vertical-align: top\">4</td>\n",
       "        <td style=\"padding-left: 1em; padding-right: 1em; text-align: center; vertical-align: top\">If you like period pieces<br>- clothing, lingo, you ...</td>\n",
       "        <td style=\"padding-left: 1em; padding-right: 1em; text-align: center; vertical-align: top\">03 19, 2014</td>\n",
       "        <td style=\"padding-left: 1em; padding-right: 1em; text-align: center; vertical-align: top\">A3SPTOKDG7WBLN</td>\n",
       "    </tr>\n",
       "    <tr>\n",
       "        <td style=\"padding-left: 1em; padding-right: 1em; text-align: center; vertical-align: top\">5</td>\n",
       "        <td style=\"padding-left: 1em; padding-right: 1em; text-align: center; vertical-align: top\">B000F83SZQ</td>\n",
       "        <td style=\"padding-left: 1em; padding-right: 1em; text-align: center; vertical-align: top\">[0.0, 0.0]</td>\n",
       "        <td style=\"padding-left: 1em; padding-right: 1em; text-align: center; vertical-align: top\">4</td>\n",
       "        <td style=\"padding-left: 1em; padding-right: 1em; text-align: center; vertical-align: top\">A beautiful in-depth<br>character description ...</td>\n",
       "        <td style=\"padding-left: 1em; padding-right: 1em; text-align: center; vertical-align: top\">05 26, 2014</td>\n",
       "        <td style=\"padding-left: 1em; padding-right: 1em; text-align: center; vertical-align: top\">A1RK2OCZDSGC6R</td>\n",
       "    </tr>\n",
       "    <tr>\n",
       "        <td style=\"padding-left: 1em; padding-right: 1em; text-align: center; vertical-align: top\">6</td>\n",
       "        <td style=\"padding-left: 1em; padding-right: 1em; text-align: center; vertical-align: top\">B000F83SZQ</td>\n",
       "        <td style=\"padding-left: 1em; padding-right: 1em; text-align: center; vertical-align: top\">[0.0, 0.0]</td>\n",
       "        <td style=\"padding-left: 1em; padding-right: 1em; text-align: center; vertical-align: top\">4</td>\n",
       "        <td style=\"padding-left: 1em; padding-right: 1em; text-align: center; vertical-align: top\">I enjoyed this one tho<br>I'm not sure why it's ...</td>\n",
       "        <td style=\"padding-left: 1em; padding-right: 1em; text-align: center; vertical-align: top\">06 10, 2014</td>\n",
       "        <td style=\"padding-left: 1em; padding-right: 1em; text-align: center; vertical-align: top\">A2HSAKHC3IBRE6</td>\n",
       "    </tr>\n",
       "    <tr>\n",
       "        <td style=\"padding-left: 1em; padding-right: 1em; text-align: center; vertical-align: top\">7</td>\n",
       "        <td style=\"padding-left: 1em; padding-right: 1em; text-align: center; vertical-align: top\">B000F83SZQ</td>\n",
       "        <td style=\"padding-left: 1em; padding-right: 1em; text-align: center; vertical-align: top\">[1.0, 1.0]</td>\n",
       "        <td style=\"padding-left: 1em; padding-right: 1em; text-align: center; vertical-align: top\">4</td>\n",
       "        <td style=\"padding-left: 1em; padding-right: 1em; text-align: center; vertical-align: top\">Never heard of Amy<br>Brewster. But I don't ...</td>\n",
       "        <td style=\"padding-left: 1em; padding-right: 1em; text-align: center; vertical-align: top\">03 22, 2014</td>\n",
       "        <td style=\"padding-left: 1em; padding-right: 1em; text-align: center; vertical-align: top\">A3DE6XGZ2EPADS</td>\n",
       "    </tr>\n",
       "    <tr>\n",
       "        <td style=\"padding-left: 1em; padding-right: 1em; text-align: center; vertical-align: top\">8</td>\n",
       "        <td style=\"padding-left: 1em; padding-right: 1em; text-align: center; vertical-align: top\">B000FA64PA</td>\n",
       "        <td style=\"padding-left: 1em; padding-right: 1em; text-align: center; vertical-align: top\">[0.0, 0.0]</td>\n",
       "        <td style=\"padding-left: 1em; padding-right: 1em; text-align: center; vertical-align: top\">5</td>\n",
       "        <td style=\"padding-left: 1em; padding-right: 1em; text-align: center; vertical-align: top\">Darth Maul working under<br>cloak of darkness ...</td>\n",
       "        <td style=\"padding-left: 1em; padding-right: 1em; text-align: center; vertical-align: top\">10 11, 2013</td>\n",
       "        <td style=\"padding-left: 1em; padding-right: 1em; text-align: center; vertical-align: top\">A1UG4Q4D3OAH3A</td>\n",
       "    </tr>\n",
       "    <tr>\n",
       "        <td style=\"padding-left: 1em; padding-right: 1em; text-align: center; vertical-align: top\">9</td>\n",
       "        <td style=\"padding-left: 1em; padding-right: 1em; text-align: center; vertical-align: top\">B000FA64PA</td>\n",
       "        <td style=\"padding-left: 1em; padding-right: 1em; text-align: center; vertical-align: top\">[0.0, 0.0]</td>\n",
       "        <td style=\"padding-left: 1em; padding-right: 1em; text-align: center; vertical-align: top\">4</td>\n",
       "        <td style=\"padding-left: 1em; padding-right: 1em; text-align: center; vertical-align: top\">This is a short story<br>focused on Darth Maul's ...</td>\n",
       "        <td style=\"padding-left: 1em; padding-right: 1em; text-align: center; vertical-align: top\">02 13, 2011</td>\n",
       "        <td style=\"padding-left: 1em; padding-right: 1em; text-align: center; vertical-align: top\">AQZH7YTWQPOBE</td>\n",
       "    </tr>\n",
       "</table>\n",
       "<table frame=\"box\" rules=\"cols\">\n",
       "    <tr>\n",
       "        <th style=\"padding-left: 1em; padding-right: 1em; text-align: center\">reviewerName</th>\n",
       "        <th style=\"padding-left: 1em; padding-right: 1em; text-align: center\">summary</th>\n",
       "        <th style=\"padding-left: 1em; padding-right: 1em; text-align: center\">unixReviewTime</th>\n",
       "    </tr>\n",
       "    <tr>\n",
       "        <td style=\"padding-left: 1em; padding-right: 1em; text-align: center; vertical-align: top\">Avidreader</td>\n",
       "        <td style=\"padding-left: 1em; padding-right: 1em; text-align: center; vertical-align: top\">Nice vintage story</td>\n",
       "        <td style=\"padding-left: 1em; padding-right: 1em; text-align: center; vertical-align: top\">1399248000</td>\n",
       "    </tr>\n",
       "    <tr>\n",
       "        <td style=\"padding-left: 1em; padding-right: 1em; text-align: center; vertical-align: top\">critters</td>\n",
       "        <td style=\"padding-left: 1em; padding-right: 1em; text-align: center; vertical-align: top\">Different...</td>\n",
       "        <td style=\"padding-left: 1em; padding-right: 1em; text-align: center; vertical-align: top\">1388966400</td>\n",
       "    </tr>\n",
       "    <tr>\n",
       "        <td style=\"padding-left: 1em; padding-right: 1em; text-align: center; vertical-align: top\">dot</td>\n",
       "        <td style=\"padding-left: 1em; padding-right: 1em; text-align: center; vertical-align: top\">Oldie</td>\n",
       "        <td style=\"padding-left: 1em; padding-right: 1em; text-align: center; vertical-align: top\">1396569600</td>\n",
       "    </tr>\n",
       "    <tr>\n",
       "        <td style=\"padding-left: 1em; padding-right: 1em; text-align: center; vertical-align: top\">Elaine H. Turley \"Montana<br>Songbird\" ...</td>\n",
       "        <td style=\"padding-left: 1em; padding-right: 1em; text-align: center; vertical-align: top\">I really liked it.</td>\n",
       "        <td style=\"padding-left: 1em; padding-right: 1em; text-align: center; vertical-align: top\">1392768000</td>\n",
       "    </tr>\n",
       "    <tr>\n",
       "        <td style=\"padding-left: 1em; padding-right: 1em; text-align: center; vertical-align: top\">Father Dowling Fan</td>\n",
       "        <td style=\"padding-left: 1em; padding-right: 1em; text-align: center; vertical-align: top\">Period Mystery</td>\n",
       "        <td style=\"padding-left: 1em; padding-right: 1em; text-align: center; vertical-align: top\">1395187200</td>\n",
       "    </tr>\n",
       "    <tr>\n",
       "        <td style=\"padding-left: 1em; padding-right: 1em; text-align: center; vertical-align: top\">ubavka seirovska</td>\n",
       "        <td style=\"padding-left: 1em; padding-right: 1em; text-align: center; vertical-align: top\">Review</td>\n",
       "        <td style=\"padding-left: 1em; padding-right: 1em; text-align: center; vertical-align: top\">1401062400</td>\n",
       "    </tr>\n",
       "    <tr>\n",
       "        <td style=\"padding-left: 1em; padding-right: 1em; text-align: center; vertical-align: top\">Wolfmist</td>\n",
       "        <td style=\"padding-left: 1em; padding-right: 1em; text-align: center; vertical-align: top\">Nice old fashioned story</td>\n",
       "        <td style=\"padding-left: 1em; padding-right: 1em; text-align: center; vertical-align: top\">1402358400</td>\n",
       "    </tr>\n",
       "    <tr>\n",
       "        <td style=\"padding-left: 1em; padding-right: 1em; text-align: center; vertical-align: top\">WPY</td>\n",
       "        <td style=\"padding-left: 1em; padding-right: 1em; text-align: center; vertical-align: top\">Enjoyable reading and<br>reminding the old times ...</td>\n",
       "        <td style=\"padding-left: 1em; padding-right: 1em; text-align: center; vertical-align: top\">1395446400</td>\n",
       "    </tr>\n",
       "    <tr>\n",
       "        <td style=\"padding-left: 1em; padding-right: 1em; text-align: center; vertical-align: top\">dsa</td>\n",
       "        <td style=\"padding-left: 1em; padding-right: 1em; text-align: center; vertical-align: top\">Darth Maul</td>\n",
       "        <td style=\"padding-left: 1em; padding-right: 1em; text-align: center; vertical-align: top\">1381449600</td>\n",
       "    </tr>\n",
       "    <tr>\n",
       "        <td style=\"padding-left: 1em; padding-right: 1em; text-align: center; vertical-align: top\">Enjolras</td>\n",
       "        <td style=\"padding-left: 1em; padding-right: 1em; text-align: center; vertical-align: top\">Not bad, not exceptional</td>\n",
       "        <td style=\"padding-left: 1em; padding-right: 1em; text-align: center; vertical-align: top\">1297555200</td>\n",
       "    </tr>\n",
       "</table>\n",
       "[982409 rows x 10 columns]<br/>Note: Only the head of the SFrame is printed.<br/>You can use print_rows(num_rows=m, num_columns=n) to print more rows and columns.\n",
       "</div>"
      ],
      "text/plain": [
       "Columns:\n",
       "\tX1\tint\n",
       "\tasin\tstr\n",
       "\thelpful\tarray\n",
       "\toverall\tint\n",
       "\treviewText\tstr\n",
       "\treviewTime\tstr\n",
       "\treviewerID\tstr\n",
       "\treviewerName\tstr\n",
       "\tsummary\tstr\n",
       "\tunixReviewTime\tint\n",
       "\n",
       "Rows: 982409\n",
       "\n",
       "Data:\n",
       "+----+------------+------------+---------+-------------------------------+\n",
       "| X1 |    asin    |  helpful   | overall |           reviewText          |\n",
       "+----+------------+------------+---------+-------------------------------+\n",
       "| 0  | B000F83SZQ | [0.0, 0.0] |    5    | I enjoy vintage books and ... |\n",
       "| 1  | B000F83SZQ | [2.0, 2.0] |    4    | This book is a reissue of ... |\n",
       "| 2  | B000F83SZQ | [2.0, 2.0] |    4    | This was a fairly interest... |\n",
       "| 3  | B000F83SZQ | [1.0, 1.0] |    5    | I'd never read any of the ... |\n",
       "| 4  | B000F83SZQ | [0.0, 1.0] |    4    | If you like period pieces ... |\n",
       "| 5  | B000F83SZQ | [0.0, 0.0] |    4    | A beautiful in-depth chara... |\n",
       "| 6  | B000F83SZQ | [0.0, 0.0] |    4    | I enjoyed this one tho I'm... |\n",
       "| 7  | B000F83SZQ | [1.0, 1.0] |    4    | Never heard of Amy Brewste... |\n",
       "| 8  | B000FA64PA | [0.0, 0.0] |    5    | Darth Maul working under c... |\n",
       "| 9  | B000FA64PA | [0.0, 0.0] |    4    | This is a short story focu... |\n",
       "+----+------------+------------+---------+-------------------------------+\n",
       "+-------------+----------------+-------------------------------+\n",
       "|  reviewTime |   reviewerID   |          reviewerName         |\n",
       "+-------------+----------------+-------------------------------+\n",
       "|  05 5, 2014 | A1F6404F1VG29J |           Avidreader          |\n",
       "|  01 6, 2014 | AN0N05A9LIJEQ  |            critters           |\n",
       "|  04 4, 2014 | A795DMNCJILA6  |              dot              |\n",
       "| 02 19, 2014 | A1FV0SX13TWVXQ | Elaine H. Turley \"Montana ... |\n",
       "| 03 19, 2014 | A3SPTOKDG7WBLN |       Father Dowling Fan      |\n",
       "| 05 26, 2014 | A1RK2OCZDSGC6R |        ubavka seirovska       |\n",
       "| 06 10, 2014 | A2HSAKHC3IBRE6 |            Wolfmist           |\n",
       "| 03 22, 2014 | A3DE6XGZ2EPADS |              WPY              |\n",
       "| 10 11, 2013 | A1UG4Q4D3OAH3A |              dsa              |\n",
       "| 02 13, 2011 | AQZH7YTWQPOBE  |            Enjolras           |\n",
       "+-------------+----------------+-------------------------------+\n",
       "+-------------------------------+----------------+\n",
       "|            summary            | unixReviewTime |\n",
       "+-------------------------------+----------------+\n",
       "|       Nice vintage story      |   1399248000   |\n",
       "|          Different...         |   1388966400   |\n",
       "|             Oldie             |   1396569600   |\n",
       "|       I really liked it.      |   1392768000   |\n",
       "|         Period Mystery        |   1395187200   |\n",
       "|             Review            |   1401062400   |\n",
       "|    Nice old fashioned story   |   1402358400   |\n",
       "| Enjoyable reading and remi... |   1395446400   |\n",
       "|           Darth Maul          |   1381449600   |\n",
       "|    Not bad, not exceptional   |   1297555200   |\n",
       "+-------------------------------+----------------+\n",
       "[982409 rows x 10 columns]\n",
       "Note: Only the head of the SFrame is printed.\n",
       "You can use print_rows(num_rows=m, num_columns=n) to print more rows and columns."
      ]
     },
     "execution_count": 5,
     "metadata": {},
     "output_type": "execute_result"
    }
   ],
   "source": [
    "data"
   ]
  },
  {
   "cell_type": "code",
   "execution_count": 7,
   "metadata": {
    "collapsed": false
   },
   "outputs": [],
   "source": [
    "items = data.groupby('asin', gl.aggregate.MEAN('overall'))"
   ]
  },
  {
   "cell_type": "code",
   "execution_count": 8,
   "metadata": {
    "collapsed": false
   },
   "outputs": [
    {
     "data": {
      "text/html": [
       "<div style=\"max-height:1000px;max-width:1500px;overflow:auto;\"><table frame=\"box\" rules=\"cols\">\n",
       "    <tr>\n",
       "        <th style=\"padding-left: 1em; padding-right: 1em; text-align: center\">asin</th>\n",
       "        <th style=\"padding-left: 1em; padding-right: 1em; text-align: center\">Avg of overall</th>\n",
       "    </tr>\n",
       "    <tr>\n",
       "        <td style=\"padding-left: 1em; padding-right: 1em; text-align: center; vertical-align: top\">B00BRLB1LS</td>\n",
       "        <td style=\"padding-left: 1em; padding-right: 1em; text-align: center; vertical-align: top\">4.83333333333</td>\n",
       "    </tr>\n",
       "    <tr>\n",
       "        <td style=\"padding-left: 1em; padding-right: 1em; text-align: center; vertical-align: top\">B00DSSEHW8</td>\n",
       "        <td style=\"padding-left: 1em; padding-right: 1em; text-align: center; vertical-align: top\">4.89473684211</td>\n",
       "    </tr>\n",
       "    <tr>\n",
       "        <td style=\"padding-left: 1em; padding-right: 1em; text-align: center; vertical-align: top\">B00HFHEC9Q</td>\n",
       "        <td style=\"padding-left: 1em; padding-right: 1em; text-align: center; vertical-align: top\">4.83333333333</td>\n",
       "    </tr>\n",
       "    <tr>\n",
       "        <td style=\"padding-left: 1em; padding-right: 1em; text-align: center; vertical-align: top\">B00HFIZ3E8</td>\n",
       "        <td style=\"padding-left: 1em; padding-right: 1em; text-align: center; vertical-align: top\">4.0</td>\n",
       "    </tr>\n",
       "    <tr>\n",
       "        <td style=\"padding-left: 1em; padding-right: 1em; text-align: center; vertical-align: top\">B00F1Y9M04</td>\n",
       "        <td style=\"padding-left: 1em; padding-right: 1em; text-align: center; vertical-align: top\">4.25</td>\n",
       "    </tr>\n",
       "    <tr>\n",
       "        <td style=\"padding-left: 1em; padding-right: 1em; text-align: center; vertical-align: top\">B001RV3OLS</td>\n",
       "        <td style=\"padding-left: 1em; padding-right: 1em; text-align: center; vertical-align: top\">4.6</td>\n",
       "    </tr>\n",
       "    <tr>\n",
       "        <td style=\"padding-left: 1em; padding-right: 1em; text-align: center; vertical-align: top\">B00A3YDWW6</td>\n",
       "        <td style=\"padding-left: 1em; padding-right: 1em; text-align: center; vertical-align: top\">4.625</td>\n",
       "    </tr>\n",
       "    <tr>\n",
       "        <td style=\"padding-left: 1em; padding-right: 1em; text-align: center; vertical-align: top\">B00ISBMQ5A</td>\n",
       "        <td style=\"padding-left: 1em; padding-right: 1em; text-align: center; vertical-align: top\">4.83333333333</td>\n",
       "    </tr>\n",
       "    <tr>\n",
       "        <td style=\"padding-left: 1em; padding-right: 1em; text-align: center; vertical-align: top\">B00C2FCC0M</td>\n",
       "        <td style=\"padding-left: 1em; padding-right: 1em; text-align: center; vertical-align: top\">4.22222222222</td>\n",
       "    </tr>\n",
       "    <tr>\n",
       "        <td style=\"padding-left: 1em; padding-right: 1em; text-align: center; vertical-align: top\">B00GH9OOQE</td>\n",
       "        <td style=\"padding-left: 1em; padding-right: 1em; text-align: center; vertical-align: top\">3.83333333333</td>\n",
       "    </tr>\n",
       "</table>\n",
       "[61934 rows x 2 columns]<br/>Note: Only the head of the SFrame is printed.<br/>You can use print_rows(num_rows=m, num_columns=n) to print more rows and columns.\n",
       "</div>"
      ],
      "text/plain": [
       "Columns:\n",
       "\tasin\tstr\n",
       "\tAvg of overall\tfloat\n",
       "\n",
       "Rows: 61934\n",
       "\n",
       "Data:\n",
       "+------------+----------------+\n",
       "|    asin    | Avg of overall |\n",
       "+------------+----------------+\n",
       "| B00BRLB1LS | 4.83333333333  |\n",
       "| B00DSSEHW8 | 4.89473684211  |\n",
       "| B00HFHEC9Q | 4.83333333333  |\n",
       "| B00HFIZ3E8 |      4.0       |\n",
       "| B00F1Y9M04 |      4.25      |\n",
       "| B001RV3OLS |      4.6       |\n",
       "| B00A3YDWW6 |     4.625      |\n",
       "| B00ISBMQ5A | 4.83333333333  |\n",
       "| B00C2FCC0M | 4.22222222222  |\n",
       "| B00GH9OOQE | 3.83333333333  |\n",
       "+------------+----------------+\n",
       "[61934 rows x 2 columns]\n",
       "Note: Only the head of the SFrame is printed.\n",
       "You can use print_rows(num_rows=m, num_columns=n) to print more rows and columns."
      ]
     },
     "execution_count": 8,
     "metadata": {},
     "output_type": "execute_result"
    }
   ],
   "source": [
    "items"
   ]
  },
  {
   "cell_type": "code",
   "execution_count": 9,
   "metadata": {
    "collapsed": true
   },
   "outputs": [],
   "source": [
    "items = items.add_row_number('item_id')"
   ]
  },
  {
   "cell_type": "code",
   "execution_count": 10,
   "metadata": {
    "collapsed": false
   },
   "outputs": [
    {
     "data": {
      "text/html": [
       "<div style=\"max-height:1000px;max-width:1500px;overflow:auto;\"><table frame=\"box\" rules=\"cols\">\n",
       "    <tr>\n",
       "        <th style=\"padding-left: 1em; padding-right: 1em; text-align: center\">item_id</th>\n",
       "        <th style=\"padding-left: 1em; padding-right: 1em; text-align: center\">asin</th>\n",
       "        <th style=\"padding-left: 1em; padding-right: 1em; text-align: center\">Avg of overall</th>\n",
       "    </tr>\n",
       "    <tr>\n",
       "        <td style=\"padding-left: 1em; padding-right: 1em; text-align: center; vertical-align: top\">0</td>\n",
       "        <td style=\"padding-left: 1em; padding-right: 1em; text-align: center; vertical-align: top\">B00BRLB1LS</td>\n",
       "        <td style=\"padding-left: 1em; padding-right: 1em; text-align: center; vertical-align: top\">4.83333333333</td>\n",
       "    </tr>\n",
       "    <tr>\n",
       "        <td style=\"padding-left: 1em; padding-right: 1em; text-align: center; vertical-align: top\">1</td>\n",
       "        <td style=\"padding-left: 1em; padding-right: 1em; text-align: center; vertical-align: top\">B00DSSEHW8</td>\n",
       "        <td style=\"padding-left: 1em; padding-right: 1em; text-align: center; vertical-align: top\">4.89473684211</td>\n",
       "    </tr>\n",
       "    <tr>\n",
       "        <td style=\"padding-left: 1em; padding-right: 1em; text-align: center; vertical-align: top\">2</td>\n",
       "        <td style=\"padding-left: 1em; padding-right: 1em; text-align: center; vertical-align: top\">B00HFHEC9Q</td>\n",
       "        <td style=\"padding-left: 1em; padding-right: 1em; text-align: center; vertical-align: top\">4.83333333333</td>\n",
       "    </tr>\n",
       "    <tr>\n",
       "        <td style=\"padding-left: 1em; padding-right: 1em; text-align: center; vertical-align: top\">3</td>\n",
       "        <td style=\"padding-left: 1em; padding-right: 1em; text-align: center; vertical-align: top\">B00HFIZ3E8</td>\n",
       "        <td style=\"padding-left: 1em; padding-right: 1em; text-align: center; vertical-align: top\">4.0</td>\n",
       "    </tr>\n",
       "    <tr>\n",
       "        <td style=\"padding-left: 1em; padding-right: 1em; text-align: center; vertical-align: top\">4</td>\n",
       "        <td style=\"padding-left: 1em; padding-right: 1em; text-align: center; vertical-align: top\">B00F1Y9M04</td>\n",
       "        <td style=\"padding-left: 1em; padding-right: 1em; text-align: center; vertical-align: top\">4.25</td>\n",
       "    </tr>\n",
       "    <tr>\n",
       "        <td style=\"padding-left: 1em; padding-right: 1em; text-align: center; vertical-align: top\">5</td>\n",
       "        <td style=\"padding-left: 1em; padding-right: 1em; text-align: center; vertical-align: top\">B001RV3OLS</td>\n",
       "        <td style=\"padding-left: 1em; padding-right: 1em; text-align: center; vertical-align: top\">4.6</td>\n",
       "    </tr>\n",
       "    <tr>\n",
       "        <td style=\"padding-left: 1em; padding-right: 1em; text-align: center; vertical-align: top\">6</td>\n",
       "        <td style=\"padding-left: 1em; padding-right: 1em; text-align: center; vertical-align: top\">B00A3YDWW6</td>\n",
       "        <td style=\"padding-left: 1em; padding-right: 1em; text-align: center; vertical-align: top\">4.625</td>\n",
       "    </tr>\n",
       "    <tr>\n",
       "        <td style=\"padding-left: 1em; padding-right: 1em; text-align: center; vertical-align: top\">7</td>\n",
       "        <td style=\"padding-left: 1em; padding-right: 1em; text-align: center; vertical-align: top\">B00ISBMQ5A</td>\n",
       "        <td style=\"padding-left: 1em; padding-right: 1em; text-align: center; vertical-align: top\">4.83333333333</td>\n",
       "    </tr>\n",
       "    <tr>\n",
       "        <td style=\"padding-left: 1em; padding-right: 1em; text-align: center; vertical-align: top\">8</td>\n",
       "        <td style=\"padding-left: 1em; padding-right: 1em; text-align: center; vertical-align: top\">B00C2FCC0M</td>\n",
       "        <td style=\"padding-left: 1em; padding-right: 1em; text-align: center; vertical-align: top\">4.22222222222</td>\n",
       "    </tr>\n",
       "    <tr>\n",
       "        <td style=\"padding-left: 1em; padding-right: 1em; text-align: center; vertical-align: top\">9</td>\n",
       "        <td style=\"padding-left: 1em; padding-right: 1em; text-align: center; vertical-align: top\">B00GH9OOQE</td>\n",
       "        <td style=\"padding-left: 1em; padding-right: 1em; text-align: center; vertical-align: top\">3.83333333333</td>\n",
       "    </tr>\n",
       "</table>\n",
       "[61934 rows x 3 columns]<br/>Note: Only the head of the SFrame is printed.<br/>You can use print_rows(num_rows=m, num_columns=n) to print more rows and columns.\n",
       "</div>"
      ],
      "text/plain": [
       "Columns:\n",
       "\titem_id\tint\n",
       "\tasin\tstr\n",
       "\tAvg of overall\tfloat\n",
       "\n",
       "Rows: 61934\n",
       "\n",
       "Data:\n",
       "+---------+------------+----------------+\n",
       "| item_id |    asin    | Avg of overall |\n",
       "+---------+------------+----------------+\n",
       "|    0    | B00BRLB1LS | 4.83333333333  |\n",
       "|    1    | B00DSSEHW8 | 4.89473684211  |\n",
       "|    2    | B00HFHEC9Q | 4.83333333333  |\n",
       "|    3    | B00HFIZ3E8 |      4.0       |\n",
       "|    4    | B00F1Y9M04 |      4.25      |\n",
       "|    5    | B001RV3OLS |      4.6       |\n",
       "|    6    | B00A3YDWW6 |     4.625      |\n",
       "|    7    | B00ISBMQ5A | 4.83333333333  |\n",
       "|    8    | B00C2FCC0M | 4.22222222222  |\n",
       "|    9    | B00GH9OOQE | 3.83333333333  |\n",
       "+---------+------------+----------------+\n",
       "[61934 rows x 3 columns]\n",
       "Note: Only the head of the SFrame is printed.\n",
       "You can use print_rows(num_rows=m, num_columns=n) to print more rows and columns."
      ]
     },
     "execution_count": 10,
     "metadata": {},
     "output_type": "execute_result"
    }
   ],
   "source": [
    "items"
   ]
  },
  {
   "cell_type": "code",
   "execution_count": 11,
   "metadata": {
    "collapsed": false
   },
   "outputs": [
    {
     "data": {
      "text/html": [
       "<pre>Unable to parse line \"B003QP4GPQ,\"Alan Simon is the author of several historical novels set in the mid-20th century: TheFirst Christmas of the War,Thanksgiving, 1942, andUnfinished Business. He is also the author of the serialized novelGettysburg, 1913: A Novel of the Great Reu...\"</pre>"
      ],
      "text/plain": [
       "Unable to parse line \"B003QP4GPQ,\"Alan Simon is the author of several historical novels set in the mid-20th century: TheFirst Christmas of the War,Thanksgiving, 1942, andUnfinished Business. He is also the author of the serialized novelGettysburg, 1913: A Novel of the Great Reu...\""
      ]
     },
     "metadata": {},
     "output_type": "display_data"
    },
    {
     "data": {
      "text/html": [
       "<pre>Unable to parse line \"Battle of Gettysburg and the 100th anniversary of the 1913 &#x22;Great Reunion&#x22; that was held 50 years\"</pre>"
      ],
      "text/plain": [
       "Unable to parse line \"Battle of Gettysburg and the 100th anniversary of the 1913 &#x22;Great Reunion&#x22; that was held 50 years\""
      ]
     },
     "metadata": {},
     "output_type": "display_data"
    },
    {
     "data": {
      "text/html": [
       "<pre>Unable to parse line \"later and was attended by more than 50,000 aging Civil War veterans.Alan is also the author of the memoirClemente: Memories of a Once-Young Fan - Four Birthdays, Three World Series, Two Holiday Steelers Games, and One Bar Mitzvah,\"</pre>"
      ],
      "text/plain": [
       "Unable to parse line \"later and was attended by more than 50,000 aging Civil War veterans.Alan is also the author of the memoirClemente: Memories of a Once-Young Fan - Four Birthdays, Three World Series, Two Holiday Steelers Games, and One Bar Mitzvah,\""
      ]
     },
     "metadata": {},
     "output_type": "display_data"
    },
    {
     "data": {
      "text/html": [
       "<pre>Unable to parse line \" published in honor and memory of the 40th anniversary of baseball\"</pre>"
      ],
      "text/plain": [
       "Unable to parse line \" published in honor and memory of the 40th anniversary of baseball\""
      ]
     },
     "metadata": {},
     "output_type": "display_data"
    },
    {
     "data": {
      "text/html": [
       "<pre>Unable to parse line \"Hall-of-Famer Roberto Clemente's tragic loss on a humanitarian mission.He is a native of Pittsburgh (where several of his novels are set) and currently lives in Phoenix.\",3.99,\"http://ecx.images-amazon.com/images/I/41CIp3ALnrL._BO2,204,203,200_PIsitb-stick...\"</pre>"
      ],
      "text/plain": [
       "Unable to parse line \"Hall-of-Famer Roberto Clemente's tragic loss on a humanitarian mission.He is a native of Pittsburgh (where several of his novels are set) and currently lives in Phoenix.\",3.99,\"http://ecx.images-amazon.com/images/I/41CIp3ALnrL._BO2,204,203,200_PIsitb-stick...\""
      ]
     },
     "metadata": {},
     "output_type": "display_data"
    },
    {
     "data": {
      "text/html": [
       "<pre>Unable to parse line \"B002NGO5O6,\"Applause for David Alexander's novel Brooklynese&#x22;From the\"</pre>"
      ],
      "text/plain": [
       "Unable to parse line \"B002NGO5O6,\"Applause for David Alexander's novel Brooklynese&#x22;From the\""
      ]
     },
     "metadata": {},
     "output_type": "display_data"
    },
    {
     "data": {
      "text/html": [
       "<pre>Unable to parse line \" mean streets of New York City's toughest borough, comes a chase after\"</pre>"
      ],
      "text/plain": [
       "Unable to parse line \" mean streets of New York City's toughest borough, comes a chase after\""
      ]
     },
     "metadata": {},
     "output_type": "display_data"
    },
    {
     "data": {
      "text/html": [
       "<pre>Unable to parse line \"savvy and streetwise bank robbers and jewel thieves that crosses\"</pre>"
      ],
      "text/plain": [
       "Unable to parse line \"savvy and streetwise bank robbers and jewel thieves that crosses\""
      ]
     },
     "metadata": {},
     "output_type": "display_data"
    },
    {
     "data": {
      "text/html": [
       "<pre>Unable to parse line \"international boundaries and time zones with the speed of a rocket\"</pre>"
      ],
      "text/plain": [
       "Unable to parse line \"international boundaries and time zones with the speed of a rocket\""
      ]
     },
     "metadata": {},
     "output_type": "display_data"
    },
    {
     "data": {
      "text/html": [
       "<pre>Unable to parse line \"plane. Alexander weaves everything together with the skill of a true\"</pre>"
      ],
      "text/plain": [
       "Unable to parse line \"plane. Alexander weaves everything together with the skill of a true\""
      ]
     },
     "metadata": {},
     "output_type": "display_data"
    },
    {
     "data": {
      "text/html": [
       "<pre>4809 lines failed to parse correctly</pre>"
      ],
      "text/plain": [
       "4809 lines failed to parse correctly"
      ]
     },
     "metadata": {},
     "output_type": "display_data"
    },
    {
     "data": {
      "text/html": [
       "<pre>Finished parsing file /Users/anthonysoroka/Documents/Academic/HarvardCSE/AC209/Project/Milestone3/datasets/meta_Kindle_Store.csv</pre>"
      ],
      "text/plain": [
       "Finished parsing file /Users/anthonysoroka/Documents/Academic/HarvardCSE/AC209/Project/Milestone3/datasets/meta_Kindle_Store.csv"
      ]
     },
     "metadata": {},
     "output_type": "display_data"
    },
    {
     "data": {
      "text/html": [
       "<pre>Parsing completed. Parsed 100 lines in 1.53553 secs.</pre>"
      ],
      "text/plain": [
       "Parsing completed. Parsed 100 lines in 1.53553 secs."
      ]
     },
     "metadata": {},
     "output_type": "display_data"
    },
    {
     "name": "stdout",
     "output_type": "stream",
     "text": [
      "------------------------------------------------------\n",
      "Inferred types from first 100 line(s) of file as \n",
      "column_type_hints=[str,str,float,str,dict,list,str,dict,str]\n",
      "If parsing fails due to incorrect types, you can correct\n",
      "the inferred type list above and pass it to read_csv in\n",
      "the column_type_hints argument\n",
      "------------------------------------------------------\n"
     ]
    },
    {
     "data": {
      "text/html": [
       "<pre>Unable to parse line \"B002NGO5O6,\"Applause for David Alexander's novel Brooklynese&#x22;From the\"</pre>"
      ],
      "text/plain": [
       "Unable to parse line \"B002NGO5O6,\"Applause for David Alexander's novel Brooklynese&#x22;From the\""
      ]
     },
     "metadata": {},
     "output_type": "display_data"
    },
    {
     "data": {
      "text/html": [
       "<pre>Unable to parse line \" mean streets of New York City's toughest borough, comes a chase after\"</pre>"
      ],
      "text/plain": [
       "Unable to parse line \" mean streets of New York City's toughest borough, comes a chase after\""
      ]
     },
     "metadata": {},
     "output_type": "display_data"
    },
    {
     "data": {
      "text/html": [
       "<pre>Unable to parse line \"savvy and streetwise bank robbers and jewel thieves that crosses\"</pre>"
      ],
      "text/plain": [
       "Unable to parse line \"savvy and streetwise bank robbers and jewel thieves that crosses\""
      ]
     },
     "metadata": {},
     "output_type": "display_data"
    },
    {
     "data": {
      "text/html": [
       "<pre>Unable to parse line \"international boundaries and time zones with the speed of a rocket\"</pre>"
      ],
      "text/plain": [
       "Unable to parse line \"international boundaries and time zones with the speed of a rocket\""
      ]
     },
     "metadata": {},
     "output_type": "display_data"
    },
    {
     "data": {
      "text/html": [
       "<pre>Unable to parse line \"plane. Alexander weaves everything together with the skill of a true\"</pre>"
      ],
      "text/plain": [
       "Unable to parse line \"plane. Alexander weaves everything together with the skill of a true\""
      ]
     },
     "metadata": {},
     "output_type": "display_data"
    },
    {
     "data": {
      "text/html": [
       "<pre>Unable to parse line \"master of the action thriller category in an unforgettable extravaganza\"</pre>"
      ],
      "text/plain": [
       "Unable to parse line \"master of the action thriller category in an unforgettable extravaganza\""
      ]
     },
     "metadata": {},
     "output_type": "display_data"
    },
    {
     "data": {
      "text/html": [
       "<pre>Unable to parse line \"of capers, mayhem, hot gems, hot dames, and accomplished criminals who\"</pre>"
      ],
      "text/plain": [
       "Unable to parse line \"of capers, mayhem, hot gems, hot dames, and accomplished criminals who\""
      ]
     },
     "metadata": {},
     "output_type": "display_data"
    },
    {
     "data": {
      "text/html": [
       "<pre>Unable to parse line \"will stop at nothing to gain possession of a treasure whose value is\"</pre>"
      ],
      "text/plain": [
       "Unable to parse line \"will stop at nothing to gain possession of a treasure whose value is\""
      ]
     },
     "metadata": {},
     "output_type": "display_data"
    },
    {
     "data": {
      "text/html": [
       "<pre>Unable to parse line \"beyond calculation. As crime thrillers go, Brooklynese is the boss of\"</pre>"
      ],
      "text/plain": [
       "Unable to parse line \"beyond calculation. As crime thrillers go, Brooklynese is the boss of\""
      ]
     },
     "metadata": {},
     "output_type": "display_data"
    },
    {
     "data": {
      "text/html": [
       "<pre>Unable to parse line \"bosses.&#x22; -- Brookline BeaconPraise for David Alexander's Thrillers&#x22;Alexander\"</pre>"
      ],
      "text/plain": [
       "Unable to parse line \"bosses.&#x22; -- Brookline BeaconPraise for David Alexander's Thrillers&#x22;Alexander\""
      ]
     },
     "metadata": {},
     "output_type": "display_data"
    },
    {
     "data": {
      "text/html": [
       "<pre>Read 35582 lines. Lines per second: 12825.7</pre>"
      ],
      "text/plain": [
       "Read 35582 lines. Lines per second: 12825.7"
      ]
     },
     "metadata": {},
     "output_type": "display_data"
    },
    {
     "data": {
      "text/html": [
       "<pre>Read 202620 lines. Lines per second: 22500.6</pre>"
      ],
      "text/plain": [
       "Read 202620 lines. Lines per second: 22500.6"
      ]
     },
     "metadata": {},
     "output_type": "display_data"
    },
    {
     "data": {
      "text/html": [
       "<pre>Read 358511 lines. Lines per second: 22556</pre>"
      ],
      "text/plain": [
       "Read 358511 lines. Lines per second: 22556"
      ]
     },
     "metadata": {},
     "output_type": "display_data"
    },
    {
     "data": {
      "text/html": [
       "<pre>90218 lines failed to parse correctly</pre>"
      ],
      "text/plain": [
       "90218 lines failed to parse correctly"
      ]
     },
     "metadata": {},
     "output_type": "display_data"
    },
    {
     "data": {
      "text/html": [
       "<pre>Finished parsing file /Users/anthonysoroka/Documents/Academic/HarvardCSE/AC209/Project/Milestone3/datasets/meta_Kindle_Store.csv</pre>"
      ],
      "text/plain": [
       "Finished parsing file /Users/anthonysoroka/Documents/Academic/HarvardCSE/AC209/Project/Milestone3/datasets/meta_Kindle_Store.csv"
      ]
     },
     "metadata": {},
     "output_type": "display_data"
    },
    {
     "data": {
      "text/html": [
       "<pre>Parsing completed. Parsed 427421 lines in 18.3727 secs.</pre>"
      ],
      "text/plain": [
       "Parsing completed. Parsed 427421 lines in 18.3727 secs."
      ]
     },
     "metadata": {},
     "output_type": "display_data"
    }
   ],
   "source": [
    "urls = gl.SFrame.read_csv('datasets/meta_Kindle_Store.csv')"
   ]
  },
  {
   "cell_type": "code",
   "execution_count": 12,
   "metadata": {
    "collapsed": false
   },
   "outputs": [
    {
     "data": {
      "text/html": [
       "<div style=\"max-height:1000px;max-width:1500px;overflow:auto;\"><table frame=\"box\" rules=\"cols\">\n",
       "    <tr>\n",
       "        <th style=\"padding-left: 1em; padding-right: 1em; text-align: center\">asin</th>\n",
       "        <th style=\"padding-left: 1em; padding-right: 1em; text-align: center\">description</th>\n",
       "        <th style=\"padding-left: 1em; padding-right: 1em; text-align: center\">price</th>\n",
       "        <th style=\"padding-left: 1em; padding-right: 1em; text-align: center\">imUrl</th>\n",
       "        <th style=\"padding-left: 1em; padding-right: 1em; text-align: center\">related</th>\n",
       "    </tr>\n",
       "    <tr>\n",
       "        <td style=\"padding-left: 1em; padding-right: 1em; text-align: center; vertical-align: top\">1603420304</td>\n",
       "        <td style=\"padding-left: 1em; padding-right: 1em; text-align: center; vertical-align: top\">In less time and for less<br>money than it takes to ...</td>\n",
       "        <td style=\"padding-left: 1em; padding-right: 1em; text-align: center; vertical-align: top\">7.69</td>\n",
       "        <td style=\"padding-left: 1em; padding-right: 1em; text-align: center; vertical-align: top\">http://ecx.images-amazon.<br>com/images/I/51IEqPrF ...</td>\n",
       "        <td style=\"padding-left: 1em; padding-right: 1em; text-align: center; vertical-align: top\">{'also_viewed':<br>['B001OLRKLQ', ...</td>\n",
       "    </tr>\n",
       "    <tr>\n",
       "        <td style=\"padding-left: 1em; padding-right: 1em; text-align: center; vertical-align: top\">B0002IQ15S</td>\n",
       "        <td style=\"padding-left: 1em; padding-right: 1em; text-align: center; vertical-align: top\">This universal DC adapter<br>powers/charges portable ...</td>\n",
       "        <td style=\"padding-left: 1em; padding-right: 1em; text-align: center; vertical-align: top\">19.99</td>\n",
       "        <td style=\"padding-left: 1em; padding-right: 1em; text-align: center; vertical-align: top\">http://ecx.images-amazon.<br>com/images/I/21QFJM28 ...</td>\n",
       "        <td style=\"padding-left: 1em; padding-right: 1em; text-align: center; vertical-align: top\">{'also_viewed':<br>['B00511PS3C', ...</td>\n",
       "    </tr>\n",
       "    <tr>\n",
       "        <td style=\"padding-left: 1em; padding-right: 1em; text-align: center; vertical-align: top\">B000F83SZQ</td>\n",
       "        <td style=\"padding-left: 1em; padding-right: 1em; text-align: center; vertical-align: top\"></td>\n",
       "        <td style=\"padding-left: 1em; padding-right: 1em; text-align: center; vertical-align: top\">0.0</td>\n",
       "        <td style=\"padding-left: 1em; padding-right: 1em; text-align: center; vertical-align: top\">http://ecx.images-amazon.<br>com/images/I/51yLqHe% ...</td>\n",
       "        <td style=\"padding-left: 1em; padding-right: 1em; text-align: center; vertical-align: top\">{'also_bought':<br>['B0080H1C0W', ...</td>\n",
       "    </tr>\n",
       "    <tr>\n",
       "        <td style=\"padding-left: 1em; padding-right: 1em; text-align: center; vertical-align: top\">B000F83TEQ</td>\n",
       "        <td style=\"padding-left: 1em; padding-right: 1em; text-align: center; vertical-align: top\"></td>\n",
       "        <td style=\"padding-left: 1em; padding-right: 1em; text-align: center; vertical-align: top\">None</td>\n",
       "        <td style=\"padding-left: 1em; padding-right: 1em; text-align: center; vertical-align: top\">http://ecx.images-amazon.<br>com/images/I/2136NBNV ...</td>\n",
       "        <td style=\"padding-left: 1em; padding-right: 1em; text-align: center; vertical-align: top\">{'also_bought':<br>['B00IS81LFO', ...</td>\n",
       "    </tr>\n",
       "    <tr>\n",
       "        <td style=\"padding-left: 1em; padding-right: 1em; text-align: center; vertical-align: top\">B000F83STC</td>\n",
       "        <td style=\"padding-left: 1em; padding-right: 1em; text-align: center; vertical-align: top\"></td>\n",
       "        <td style=\"padding-left: 1em; padding-right: 1em; text-align: center; vertical-align: top\">None</td>\n",
       "        <td style=\"padding-left: 1em; padding-right: 1em; text-align: center; vertical-align: top\">http://g-ecx.images-amazo<br>n.com/images/G/01/x-s ...</td>\n",
       "        <td style=\"padding-left: 1em; padding-right: 1em; text-align: center; vertical-align: top\">None</td>\n",
       "    </tr>\n",
       "    <tr>\n",
       "        <td style=\"padding-left: 1em; padding-right: 1em; text-align: center; vertical-align: top\">B000FA5RE4</td>\n",
       "        <td style=\"padding-left: 1em; padding-right: 1em; text-align: center; vertical-align: top\">Updated 2003 version with<br>corrections ...</td>\n",
       "        <td style=\"padding-left: 1em; padding-right: 1em; text-align: center; vertical-align: top\">1.99</td>\n",
       "        <td style=\"padding-left: 1em; padding-right: 1em; text-align: center; vertical-align: top\">http://ecx.images-amazon.<br>com/images/I/21XTM6V0 ...</td>\n",
       "        <td style=\"padding-left: 1em; padding-right: 1em; text-align: center; vertical-align: top\">{'also_viewed':<br>['B001GX3ZWA', ...</td>\n",
       "    </tr>\n",
       "    <tr>\n",
       "        <td style=\"padding-left: 1em; padding-right: 1em; text-align: center; vertical-align: top\">B000FA5NSO</td>\n",
       "        <td style=\"padding-left: 1em; padding-right: 1em; text-align: center; vertical-align: top\"></td>\n",
       "        <td style=\"padding-left: 1em; padding-right: 1em; text-align: center; vertical-align: top\">None</td>\n",
       "        <td style=\"padding-left: 1em; padding-right: 1em; text-align: center; vertical-align: top\">http://ecx.images-amazon.<br>com/images/I/51N45B6j ...</td>\n",
       "        <td style=\"padding-left: 1em; padding-right: 1em; text-align: center; vertical-align: top\">{'also_viewed':<br>['B000FBF81K', ...</td>\n",
       "    </tr>\n",
       "    <tr>\n",
       "        <td style=\"padding-left: 1em; padding-right: 1em; text-align: center; vertical-align: top\">B000FA5UXC</td>\n",
       "        <td style=\"padding-left: 1em; padding-right: 1em; text-align: center; vertical-align: top\">Madoc Tamlin is a man<br>with an unusual problem. ...</td>\n",
       "        <td style=\"padding-left: 1em; padding-right: 1em; text-align: center; vertical-align: top\">None</td>\n",
       "        <td style=\"padding-left: 1em; padding-right: 1em; text-align: center; vertical-align: top\">http://ecx.images-amazon.<br>com/images/I/51q4iur5 ...</td>\n",
       "        <td style=\"padding-left: 1em; padding-right: 1em; text-align: center; vertical-align: top\">{'also_bought':<br>['B004SPL1I8', ...</td>\n",
       "    </tr>\n",
       "    <tr>\n",
       "        <td style=\"padding-left: 1em; padding-right: 1em; text-align: center; vertical-align: top\">B000FA5T4W</td>\n",
       "        <td style=\"padding-left: 1em; padding-right: 1em; text-align: center; vertical-align: top\"></td>\n",
       "        <td style=\"padding-left: 1em; padding-right: 1em; text-align: center; vertical-align: top\">12.46</td>\n",
       "        <td style=\"padding-left: 1em; padding-right: 1em; text-align: center; vertical-align: top\">http://ecx.images-amazon.<br>com/images/I/51eWyBr8 ...</td>\n",
       "        <td style=\"padding-left: 1em; padding-right: 1em; text-align: center; vertical-align: top\">{'also_bought':<br>['B004RKXHGS', ...</td>\n",
       "    </tr>\n",
       "    <tr>\n",
       "        <td style=\"padding-left: 1em; padding-right: 1em; text-align: center; vertical-align: top\">B000FA5SHK</td>\n",
       "        <td style=\"padding-left: 1em; padding-right: 1em; text-align: center; vertical-align: top\"></td>\n",
       "        <td style=\"padding-left: 1em; padding-right: 1em; text-align: center; vertical-align: top\">None</td>\n",
       "        <td style=\"padding-left: 1em; padding-right: 1em; text-align: center; vertical-align: top\">http://ecx.images-amazon.<br>com/images/I/51c7mqOR ...</td>\n",
       "        <td style=\"padding-left: 1em; padding-right: 1em; text-align: center; vertical-align: top\">None</td>\n",
       "    </tr>\n",
       "</table>\n",
       "<table frame=\"box\" rules=\"cols\">\n",
       "    <tr>\n",
       "        <th style=\"padding-left: 1em; padding-right: 1em; text-align: center\">categories</th>\n",
       "        <th style=\"padding-left: 1em; padding-right: 1em; text-align: center\">title</th>\n",
       "        <th style=\"padding-left: 1em; padding-right: 1em; text-align: center\">salesRank</th>\n",
       "        <th style=\"padding-left: 1em; padding-right: 1em; text-align: center\">brand</th>\n",
       "    </tr>\n",
       "    <tr>\n",
       "        <td style=\"padding-left: 1em; padding-right: 1em; text-align: center; vertical-align: top\">[[Books, Cookbooks, Food<br>&amp; Wine, Quick &amp; Easy], ...</td>\n",
       "        <td style=\"padding-left: 1em; padding-right: 1em; text-align: center; vertical-align: top\"></td>\n",
       "        <td style=\"padding-left: 1em; padding-right: 1em; text-align: center; vertical-align: top\">None</td>\n",
       "        <td style=\"padding-left: 1em; padding-right: 1em; text-align: center; vertical-align: top\"></td>\n",
       "    </tr>\n",
       "    <tr>\n",
       "        <td style=\"padding-left: 1em; padding-right: 1em; text-align: center; vertical-align: top\">[[Kindle Store, Kindle<br>Accessories, Power ...</td>\n",
       "        <td style=\"padding-left: 1em; padding-right: 1em; text-align: center; vertical-align: top\">Mobility IGO AUTOPOWER<br>3000 SERIES ( PS0221- ...</td>\n",
       "        <td style=\"padding-left: 1em; padding-right: 1em; text-align: center; vertical-align: top\">{}</td>\n",
       "        <td style=\"padding-left: 1em; padding-right: 1em; text-align: center; vertical-align: top\"></td>\n",
       "    </tr>\n",
       "    <tr>\n",
       "        <td style=\"padding-left: 1em; padding-right: 1em; text-align: center; vertical-align: top\">[[Books, Literature &amp;<br>Fiction], [Books, ...</td>\n",
       "        <td style=\"padding-left: 1em; padding-right: 1em; text-align: center; vertical-align: top\"></td>\n",
       "        <td style=\"padding-left: 1em; padding-right: 1em; text-align: center; vertical-align: top\">None</td>\n",
       "        <td style=\"padding-left: 1em; padding-right: 1em; text-align: center; vertical-align: top\"></td>\n",
       "    </tr>\n",
       "    <tr>\n",
       "        <td style=\"padding-left: 1em; padding-right: 1em; text-align: center; vertical-align: top\">[[Books, Literature &amp;<br>Fiction], [Books, ...</td>\n",
       "        <td style=\"padding-left: 1em; padding-right: 1em; text-align: center; vertical-align: top\"></td>\n",
       "        <td style=\"padding-left: 1em; padding-right: 1em; text-align: center; vertical-align: top\">None</td>\n",
       "        <td style=\"padding-left: 1em; padding-right: 1em; text-align: center; vertical-align: top\"></td>\n",
       "    </tr>\n",
       "    <tr>\n",
       "        <td style=\"padding-left: 1em; padding-right: 1em; text-align: center; vertical-align: top\">[[Books, Literature &amp;<br>Fiction, Erotica], ...</td>\n",
       "        <td style=\"padding-left: 1em; padding-right: 1em; text-align: center; vertical-align: top\"></td>\n",
       "        <td style=\"padding-left: 1em; padding-right: 1em; text-align: center; vertical-align: top\">None</td>\n",
       "        <td style=\"padding-left: 1em; padding-right: 1em; text-align: center; vertical-align: top\"></td>\n",
       "    </tr>\n",
       "    <tr>\n",
       "        <td style=\"padding-left: 1em; padding-right: 1em; text-align: center; vertical-align: top\">[[Books, Reference,<br>Dictionaries &amp; ...</td>\n",
       "        <td style=\"padding-left: 1em; padding-right: 1em; text-align: center; vertical-align: top\"></td>\n",
       "        <td style=\"padding-left: 1em; padding-right: 1em; text-align: center; vertical-align: top\">None</td>\n",
       "        <td style=\"padding-left: 1em; padding-right: 1em; text-align: center; vertical-align: top\"></td>\n",
       "    </tr>\n",
       "    <tr>\n",
       "        <td style=\"padding-left: 1em; padding-right: 1em; text-align: center; vertical-align: top\">[[Books, Literature &amp;<br>Fiction], [Books, Sci ...</td>\n",
       "        <td style=\"padding-left: 1em; padding-right: 1em; text-align: center; vertical-align: top\"></td>\n",
       "        <td style=\"padding-left: 1em; padding-right: 1em; text-align: center; vertical-align: top\">None</td>\n",
       "        <td style=\"padding-left: 1em; padding-right: 1em; text-align: center; vertical-align: top\"></td>\n",
       "    </tr>\n",
       "    <tr>\n",
       "        <td style=\"padding-left: 1em; padding-right: 1em; text-align: center; vertical-align: top\">[[Books, Literature &amp;<br>Fiction], [Books, Sci ...</td>\n",
       "        <td style=\"padding-left: 1em; padding-right: 1em; text-align: center; vertical-align: top\"></td>\n",
       "        <td style=\"padding-left: 1em; padding-right: 1em; text-align: center; vertical-align: top\">None</td>\n",
       "        <td style=\"padding-left: 1em; padding-right: 1em; text-align: center; vertical-align: top\"></td>\n",
       "    </tr>\n",
       "    <tr>\n",
       "        <td style=\"padding-left: 1em; padding-right: 1em; text-align: center; vertical-align: top\">[[Books, Business &amp;<br>Money, Accounting], ...</td>\n",
       "        <td style=\"padding-left: 1em; padding-right: 1em; text-align: center; vertical-align: top\"></td>\n",
       "        <td style=\"padding-left: 1em; padding-right: 1em; text-align: center; vertical-align: top\">None</td>\n",
       "        <td style=\"padding-left: 1em; padding-right: 1em; text-align: center; vertical-align: top\"></td>\n",
       "    </tr>\n",
       "    <tr>\n",
       "        <td style=\"padding-left: 1em; padding-right: 1em; text-align: center; vertical-align: top\">[[Books, Science &amp; Math,<br>Behavioral Sciences], ...</td>\n",
       "        <td style=\"padding-left: 1em; padding-right: 1em; text-align: center; vertical-align: top\"></td>\n",
       "        <td style=\"padding-left: 1em; padding-right: 1em; text-align: center; vertical-align: top\">None</td>\n",
       "        <td style=\"padding-left: 1em; padding-right: 1em; text-align: center; vertical-align: top\"></td>\n",
       "    </tr>\n",
       "</table>\n",
       "[427421 rows x 9 columns]<br/>Note: Only the head of the SFrame is printed.<br/>You can use print_rows(num_rows=m, num_columns=n) to print more rows and columns.\n",
       "</div>"
      ],
      "text/plain": [
       "Columns:\n",
       "\tasin\tstr\n",
       "\tdescription\tstr\n",
       "\tprice\tfloat\n",
       "\timUrl\tstr\n",
       "\trelated\tdict\n",
       "\tcategories\tlist\n",
       "\ttitle\tstr\n",
       "\tsalesRank\tdict\n",
       "\tbrand\tstr\n",
       "\n",
       "Rows: 427421\n",
       "\n",
       "Data:\n",
       "+------------+-------------------------------+-------+\n",
       "|    asin    |          description          | price |\n",
       "+------------+-------------------------------+-------+\n",
       "| 1603420304 | In less time and for less ... |  7.69 |\n",
       "| B0002IQ15S | This universal DC adapter ... | 19.99 |\n",
       "| B000F83SZQ |                               |  0.0  |\n",
       "| B000F83TEQ |                               |  None |\n",
       "| B000F83STC |                               |  None |\n",
       "| B000FA5RE4 | Updated 2003 version with ... |  1.99 |\n",
       "| B000FA5NSO |                               |  None |\n",
       "| B000FA5UXC | Madoc Tamlin is a man with... |  None |\n",
       "| B000FA5T4W |                               | 12.46 |\n",
       "| B000FA5SHK |                               |  None |\n",
       "+------------+-------------------------------+-------+\n",
       "+-------------------------------+-------------------------------+\n",
       "|             imUrl             |            related            |\n",
       "+-------------------------------+-------------------------------+\n",
       "| http://ecx.images-amazon.c... | {'also_viewed': ['B001OLRK... |\n",
       "| http://ecx.images-amazon.c... | {'also_viewed': ['B00511PS... |\n",
       "| http://ecx.images-amazon.c... | {'also_bought': ['B0080H1C... |\n",
       "| http://ecx.images-amazon.c... | {'also_bought': ['B00IS81L... |\n",
       "| http://g-ecx.images-amazon... |              None             |\n",
       "| http://ecx.images-amazon.c... | {'also_viewed': ['B001GX3Z... |\n",
       "| http://ecx.images-amazon.c... | {'also_viewed': ['B000FBF8... |\n",
       "| http://ecx.images-amazon.c... | {'also_bought': ['B004SPL1... |\n",
       "| http://ecx.images-amazon.c... | {'also_bought': ['B004RKXH... |\n",
       "| http://ecx.images-amazon.c... |              None             |\n",
       "+-------------------------------+-------------------------------+\n",
       "+-------------------------------+-------------------------------+-----------+-------+\n",
       "|           categories          |             title             | salesRank | brand |\n",
       "+-------------------------------+-------------------------------+-----------+-------+\n",
       "| [[Books, Cookbooks, Food &... |                               |    None   |       |\n",
       "| [[Kindle Store, Kindle Acc... | Mobility IGO AUTOPOWER 300... |     {}    |       |\n",
       "| [[Books, Literature & Fict... |                               |    None   |       |\n",
       "| [[Books, Literature & Fict... |                               |    None   |       |\n",
       "| [[Books, Literature & Fict... |                               |    None   |       |\n",
       "| [[Books, Reference, Dictio... |                               |    None   |       |\n",
       "| [[Books, Literature & Fict... |                               |    None   |       |\n",
       "| [[Books, Literature & Fict... |                               |    None   |       |\n",
       "| [[Books, Business & Money,... |                               |    None   |       |\n",
       "| [[Books, Science & Math, B... |                               |    None   |       |\n",
       "+-------------------------------+-------------------------------+-----------+-------+\n",
       "[427421 rows x 9 columns]\n",
       "Note: Only the head of the SFrame is printed.\n",
       "You can use print_rows(num_rows=m, num_columns=n) to print more rows and columns."
      ]
     },
     "execution_count": 12,
     "metadata": {},
     "output_type": "execute_result"
    }
   ],
   "source": [
    "urls"
   ]
  },
  {
   "cell_type": "code",
   "execution_count": 20,
   "metadata": {
    "collapsed": true
   },
   "outputs": [],
   "source": [
    "items2 = items.join(urls, on='asin')"
   ]
  },
  {
   "cell_type": "code",
   "execution_count": 21,
   "metadata": {
    "collapsed": false
   },
   "outputs": [
    {
     "data": {
      "text/html": [
       "<div style=\"max-height:1000px;max-width:1500px;overflow:auto;\"><table frame=\"box\" rules=\"cols\">\n",
       "    <tr>\n",
       "        <th style=\"padding-left: 1em; padding-right: 1em; text-align: center\">item_id</th>\n",
       "        <th style=\"padding-left: 1em; padding-right: 1em; text-align: center\">asin</th>\n",
       "        <th style=\"padding-left: 1em; padding-right: 1em; text-align: center\">Avg of overall</th>\n",
       "        <th style=\"padding-left: 1em; padding-right: 1em; text-align: center\">description</th>\n",
       "        <th style=\"padding-left: 1em; padding-right: 1em; text-align: center\">price</th>\n",
       "        <th style=\"padding-left: 1em; padding-right: 1em; text-align: center\">imUrl</th>\n",
       "    </tr>\n",
       "    <tr>\n",
       "        <td style=\"padding-left: 1em; padding-right: 1em; text-align: center; vertical-align: top\">28192</td>\n",
       "        <td style=\"padding-left: 1em; padding-right: 1em; text-align: center; vertical-align: top\">B000F83SZQ</td>\n",
       "        <td style=\"padding-left: 1em; padding-right: 1em; text-align: center; vertical-align: top\">4.25</td>\n",
       "        <td style=\"padding-left: 1em; padding-right: 1em; text-align: center; vertical-align: top\"></td>\n",
       "        <td style=\"padding-left: 1em; padding-right: 1em; text-align: center; vertical-align: top\">0.0</td>\n",
       "        <td style=\"padding-left: 1em; padding-right: 1em; text-align: center; vertical-align: top\">http://ecx.images-amazon.<br>com/images/I/51yLqHe% ...</td>\n",
       "    </tr>\n",
       "    <tr>\n",
       "        <td style=\"padding-left: 1em; padding-right: 1em; text-align: center; vertical-align: top\">17688</td>\n",
       "        <td style=\"padding-left: 1em; padding-right: 1em; text-align: center; vertical-align: top\">B000FA64QO</td>\n",
       "        <td style=\"padding-left: 1em; padding-right: 1em; text-align: center; vertical-align: top\">3.8</td>\n",
       "        <td style=\"padding-left: 1em; padding-right: 1em; text-align: center; vertical-align: top\"></td>\n",
       "        <td style=\"padding-left: 1em; padding-right: 1em; text-align: center; vertical-align: top\">5.99</td>\n",
       "        <td style=\"padding-left: 1em; padding-right: 1em; text-align: center; vertical-align: top\">http://ecx.images-amazon.<br>com/images/I/51h5NLeM ...</td>\n",
       "    </tr>\n",
       "    <tr>\n",
       "        <td style=\"padding-left: 1em; padding-right: 1em; text-align: center; vertical-align: top\">31608</td>\n",
       "        <td style=\"padding-left: 1em; padding-right: 1em; text-align: center; vertical-align: top\">B000FA64PA</td>\n",
       "        <td style=\"padding-left: 1em; padding-right: 1em; text-align: center; vertical-align: top\">4.2</td>\n",
       "        <td style=\"padding-left: 1em; padding-right: 1em; text-align: center; vertical-align: top\"></td>\n",
       "        <td style=\"padding-left: 1em; padding-right: 1em; text-align: center; vertical-align: top\">4.58</td>\n",
       "        <td style=\"padding-left: 1em; padding-right: 1em; text-align: center; vertical-align: top\">http://ecx.images-amazon.<br>com/images/I/4138cT%2 ...</td>\n",
       "    </tr>\n",
       "    <tr>\n",
       "        <td style=\"padding-left: 1em; padding-right: 1em; text-align: center; vertical-align: top\">3563</td>\n",
       "        <td style=\"padding-left: 1em; padding-right: 1em; text-align: center; vertical-align: top\">B000FA64PK</td>\n",
       "        <td style=\"padding-left: 1em; padding-right: 1em; text-align: center; vertical-align: top\">4.375</td>\n",
       "        <td style=\"padding-left: 1em; padding-right: 1em; text-align: center; vertical-align: top\"></td>\n",
       "        <td style=\"padding-left: 1em; padding-right: 1em; text-align: center; vertical-align: top\">5.99</td>\n",
       "        <td style=\"padding-left: 1em; padding-right: 1em; text-align: center; vertical-align: top\">http://ecx.images-amazon.<br>com/images/I/31Ov6Go% ...</td>\n",
       "    </tr>\n",
       "    <tr>\n",
       "        <td style=\"padding-left: 1em; padding-right: 1em; text-align: center; vertical-align: top\">23243</td>\n",
       "        <td style=\"padding-left: 1em; padding-right: 1em; text-align: center; vertical-align: top\">B000FBFMVG</td>\n",
       "        <td style=\"padding-left: 1em; padding-right: 1em; text-align: center; vertical-align: top\">4.33333333333</td>\n",
       "        <td style=\"padding-left: 1em; padding-right: 1em; text-align: center; vertical-align: top\"></td>\n",
       "        <td style=\"padding-left: 1em; padding-right: 1em; text-align: center; vertical-align: top\">1.99</td>\n",
       "        <td style=\"padding-left: 1em; padding-right: 1em; text-align: center; vertical-align: top\">http://ecx.images-amazon.<br>com/images/I/31xnW4Cw ...</td>\n",
       "    </tr>\n",
       "    <tr>\n",
       "        <td style=\"padding-left: 1em; padding-right: 1em; text-align: center; vertical-align: top\">1044</td>\n",
       "        <td style=\"padding-left: 1em; padding-right: 1em; text-align: center; vertical-align: top\">B000FC1BN8</td>\n",
       "        <td style=\"padding-left: 1em; padding-right: 1em; text-align: center; vertical-align: top\">3.44444444444</td>\n",
       "        <td style=\"padding-left: 1em; padding-right: 1em; text-align: center; vertical-align: top\"></td>\n",
       "        <td style=\"padding-left: 1em; padding-right: 1em; text-align: center; vertical-align: top\">4.59</td>\n",
       "        <td style=\"padding-left: 1em; padding-right: 1em; text-align: center; vertical-align: top\">http://ecx.images-amazon.<br>com/images/I/51WMe3%2 ...</td>\n",
       "    </tr>\n",
       "    <tr>\n",
       "        <td style=\"padding-left: 1em; padding-right: 1em; text-align: center; vertical-align: top\">13404</td>\n",
       "        <td style=\"padding-left: 1em; padding-right: 1em; text-align: center; vertical-align: top\">B000FC1TG2</td>\n",
       "        <td style=\"padding-left: 1em; padding-right: 1em; text-align: center; vertical-align: top\">5.0</td>\n",
       "        <td style=\"padding-left: 1em; padding-right: 1em; text-align: center; vertical-align: top\">Tom Shanaghy was iron-<br>tough, but he was no ...</td>\n",
       "        <td style=\"padding-left: 1em; padding-right: 1em; text-align: center; vertical-align: top\">5.12</td>\n",
       "        <td style=\"padding-left: 1em; padding-right: 1em; text-align: center; vertical-align: top\">http://ecx.images-amazon.<br>com/images/I/41uIBiFz ...</td>\n",
       "    </tr>\n",
       "    <tr>\n",
       "        <td style=\"padding-left: 1em; padding-right: 1em; text-align: center; vertical-align: top\">39289</td>\n",
       "        <td style=\"padding-left: 1em; padding-right: 1em; text-align: center; vertical-align: top\">B000FC26RI</td>\n",
       "        <td style=\"padding-left: 1em; padding-right: 1em; text-align: center; vertical-align: top\">4.16666666667</td>\n",
       "        <td style=\"padding-left: 1em; padding-right: 1em; text-align: center; vertical-align: top\">The third installment in<br>Bell Tower's attracti ...</td>\n",
       "        <td style=\"padding-left: 1em; padding-right: 1em; text-align: center; vertical-align: top\">9.99</td>\n",
       "        <td style=\"padding-left: 1em; padding-right: 1em; text-align: center; vertical-align: top\">http://ecx.images-amazon.<br>com/images/I/31zMSp69 ...</td>\n",
       "    </tr>\n",
       "    <tr>\n",
       "        <td style=\"padding-left: 1em; padding-right: 1em; text-align: center; vertical-align: top\">42578</td>\n",
       "        <td style=\"padding-left: 1em; padding-right: 1em; text-align: center; vertical-align: top\">B000FC2MB8</td>\n",
       "        <td style=\"padding-left: 1em; padding-right: 1em; text-align: center; vertical-align: top\">4.625</td>\n",
       "        <td style=\"padding-left: 1em; padding-right: 1em; text-align: center; vertical-align: top\">Major James Brionne<br>brought Dave Allard to ...</td>\n",
       "        <td style=\"padding-left: 1em; padding-right: 1em; text-align: center; vertical-align: top\">5.12</td>\n",
       "        <td style=\"padding-left: 1em; padding-right: 1em; text-align: center; vertical-align: top\">http://ecx.images-amazon.<br>com/images/I/51JX4ARE ...</td>\n",
       "    </tr>\n",
       "    <tr>\n",
       "        <td style=\"padding-left: 1em; padding-right: 1em; text-align: center; vertical-align: top\">24389</td>\n",
       "        <td style=\"padding-left: 1em; padding-right: 1em; text-align: center; vertical-align: top\">B000FDJ0FS</td>\n",
       "        <td style=\"padding-left: 1em; padding-right: 1em; text-align: center; vertical-align: top\">2.46666666667</td>\n",
       "        <td style=\"padding-left: 1em; padding-right: 1em; text-align: center; vertical-align: top\">Few newspapers enjoy the<br>prestige and authorit ...</td>\n",
       "        <td style=\"padding-left: 1em; padding-right: 1em; text-align: center; vertical-align: top\">None</td>\n",
       "        <td style=\"padding-left: 1em; padding-right: 1em; text-align: center; vertical-align: top\"></td>\n",
       "    </tr>\n",
       "</table>\n",
       "<table frame=\"box\" rules=\"cols\">\n",
       "    <tr>\n",
       "        <th style=\"padding-left: 1em; padding-right: 1em; text-align: center\">related</th>\n",
       "        <th style=\"padding-left: 1em; padding-right: 1em; text-align: center\">categories</th>\n",
       "        <th style=\"padding-left: 1em; padding-right: 1em; text-align: center\">title</th>\n",
       "        <th style=\"padding-left: 1em; padding-right: 1em; text-align: center\">salesRank</th>\n",
       "        <th style=\"padding-left: 1em; padding-right: 1em; text-align: center\">brand</th>\n",
       "    </tr>\n",
       "    <tr>\n",
       "        <td style=\"padding-left: 1em; padding-right: 1em; text-align: center; vertical-align: top\">{'also_bought':<br>['B0080H1C0W', ...</td>\n",
       "        <td style=\"padding-left: 1em; padding-right: 1em; text-align: center; vertical-align: top\">[[Books, Literature &amp;<br>Fiction], [Books, ...</td>\n",
       "        <td style=\"padding-left: 1em; padding-right: 1em; text-align: center; vertical-align: top\"></td>\n",
       "        <td style=\"padding-left: 1em; padding-right: 1em; text-align: center; vertical-align: top\">None</td>\n",
       "        <td style=\"padding-left: 1em; padding-right: 1em; text-align: center; vertical-align: top\"></td>\n",
       "    </tr>\n",
       "    <tr>\n",
       "        <td style=\"padding-left: 1em; padding-right: 1em; text-align: center; vertical-align: top\">{'also_bought':<br>['B00513D3F0', ...</td>\n",
       "        <td style=\"padding-left: 1em; padding-right: 1em; text-align: center; vertical-align: top\">[[Books, Literature &amp;<br>Fiction, Genre Fiction, ...</td>\n",
       "        <td style=\"padding-left: 1em; padding-right: 1em; text-align: center; vertical-align: top\"></td>\n",
       "        <td style=\"padding-left: 1em; padding-right: 1em; text-align: center; vertical-align: top\">None</td>\n",
       "        <td style=\"padding-left: 1em; padding-right: 1em; text-align: center; vertical-align: top\"></td>\n",
       "    </tr>\n",
       "    <tr>\n",
       "        <td style=\"padding-left: 1em; padding-right: 1em; text-align: center; vertical-align: top\">{'also_bought':<br>['B00513D4HC', ...</td>\n",
       "        <td style=\"padding-left: 1em; padding-right: 1em; text-align: center; vertical-align: top\">[[Books, Comics &amp; Graphic<br>Novels], [Books, Science ...</td>\n",
       "        <td style=\"padding-left: 1em; padding-right: 1em; text-align: center; vertical-align: top\"></td>\n",
       "        <td style=\"padding-left: 1em; padding-right: 1em; text-align: center; vertical-align: top\">None</td>\n",
       "        <td style=\"padding-left: 1em; padding-right: 1em; text-align: center; vertical-align: top\"></td>\n",
       "    </tr>\n",
       "    <tr>\n",
       "        <td style=\"padding-left: 1em; padding-right: 1em; text-align: center; vertical-align: top\">{'also_bought':<br>['B000FA64QO', ...</td>\n",
       "        <td style=\"padding-left: 1em; padding-right: 1em; text-align: center; vertical-align: top\">[[Books, Comics &amp; Graphic<br>Novels, Graphic Novels, ...</td>\n",
       "        <td style=\"padding-left: 1em; padding-right: 1em; text-align: center; vertical-align: top\"></td>\n",
       "        <td style=\"padding-left: 1em; padding-right: 1em; text-align: center; vertical-align: top\">None</td>\n",
       "        <td style=\"padding-left: 1em; padding-right: 1em; text-align: center; vertical-align: top\"></td>\n",
       "    </tr>\n",
       "    <tr>\n",
       "        <td style=\"padding-left: 1em; padding-right: 1em; text-align: center; vertical-align: top\">{'also_bought':<br>['B000FC1MZU', ...</td>\n",
       "        <td style=\"padding-left: 1em; padding-right: 1em; text-align: center; vertical-align: top\">[[Books, Literature &amp;<br>Fiction, Genre Fiction, ...</td>\n",
       "        <td style=\"padding-left: 1em; padding-right: 1em; text-align: center; vertical-align: top\"></td>\n",
       "        <td style=\"padding-left: 1em; padding-right: 1em; text-align: center; vertical-align: top\">None</td>\n",
       "        <td style=\"padding-left: 1em; padding-right: 1em; text-align: center; vertical-align: top\"></td>\n",
       "    </tr>\n",
       "    <tr>\n",
       "        <td style=\"padding-left: 1em; padding-right: 1em; text-align: center; vertical-align: top\">{'also_bought':<br>['B000FBFMVG', ...</td>\n",
       "        <td style=\"padding-left: 1em; padding-right: 1em; text-align: center; vertical-align: top\">[[Books, Literature &amp;<br>Fiction, Genre Fiction, ...</td>\n",
       "        <td style=\"padding-left: 1em; padding-right: 1em; text-align: center; vertical-align: top\"></td>\n",
       "        <td style=\"padding-left: 1em; padding-right: 1em; text-align: center; vertical-align: top\">None</td>\n",
       "        <td style=\"padding-left: 1em; padding-right: 1em; text-align: center; vertical-align: top\"></td>\n",
       "    </tr>\n",
       "    <tr>\n",
       "        <td style=\"padding-left: 1em; padding-right: 1em; text-align: center; vertical-align: top\">{'also_bought':<br>['B000FC1N0Y', ...</td>\n",
       "        <td style=\"padding-left: 1em; padding-right: 1em; text-align: center; vertical-align: top\">[[Books, Literature &amp;<br>Fiction, Genre Fiction, ...</td>\n",
       "        <td style=\"padding-left: 1em; padding-right: 1em; text-align: center; vertical-align: top\"></td>\n",
       "        <td style=\"padding-left: 1em; padding-right: 1em; text-align: center; vertical-align: top\">None</td>\n",
       "        <td style=\"padding-left: 1em; padding-right: 1em; text-align: center; vertical-align: top\"></td>\n",
       "    </tr>\n",
       "    <tr>\n",
       "        <td style=\"padding-left: 1em; padding-right: 1em; text-align: center; vertical-align: top\">{'also_bought':<br>['B002Y26QS2', ...</td>\n",
       "        <td style=\"padding-left: 1em; padding-right: 1em; text-align: center; vertical-align: top\">[[Books, Literature &amp;<br>Fiction, Classics], ...</td>\n",
       "        <td style=\"padding-left: 1em; padding-right: 1em; text-align: center; vertical-align: top\"></td>\n",
       "        <td style=\"padding-left: 1em; padding-right: 1em; text-align: center; vertical-align: top\">None</td>\n",
       "        <td style=\"padding-left: 1em; padding-right: 1em; text-align: center; vertical-align: top\"></td>\n",
       "    </tr>\n",
       "    <tr>\n",
       "        <td style=\"padding-left: 1em; padding-right: 1em; text-align: center; vertical-align: top\">{'also_bought':<br>['B000FC1AHA', ...</td>\n",
       "        <td style=\"padding-left: 1em; padding-right: 1em; text-align: center; vertical-align: top\">[[Books, Literature &amp;<br>Fiction, Genre Fiction, ...</td>\n",
       "        <td style=\"padding-left: 1em; padding-right: 1em; text-align: center; vertical-align: top\"></td>\n",
       "        <td style=\"padding-left: 1em; padding-right: 1em; text-align: center; vertical-align: top\">None</td>\n",
       "        <td style=\"padding-left: 1em; padding-right: 1em; text-align: center; vertical-align: top\"></td>\n",
       "    </tr>\n",
       "    <tr>\n",
       "        <td style=\"padding-left: 1em; padding-right: 1em; text-align: center; vertical-align: top\">{'also_bought':<br>['B000GFK7L6', ...</td>\n",
       "        <td style=\"padding-left: 1em; padding-right: 1em; text-align: center; vertical-align: top\">[[Kindle Store, Kindle<br>Newspapers, North ...</td>\n",
       "        <td style=\"padding-left: 1em; padding-right: 1em; text-align: center; vertical-align: top\"></td>\n",
       "        <td style=\"padding-left: 1em; padding-right: 1em; text-align: center; vertical-align: top\">None</td>\n",
       "        <td style=\"padding-left: 1em; padding-right: 1em; text-align: center; vertical-align: top\"></td>\n",
       "    </tr>\n",
       "</table>\n",
       "[58664 rows x 11 columns]<br/>Note: Only the head of the SFrame is printed.<br/>You can use print_rows(num_rows=m, num_columns=n) to print more rows and columns.\n",
       "</div>"
      ],
      "text/plain": [
       "Columns:\n",
       "\titem_id\tint\n",
       "\tasin\tstr\n",
       "\tAvg of overall\tfloat\n",
       "\tdescription\tstr\n",
       "\tprice\tfloat\n",
       "\timUrl\tstr\n",
       "\trelated\tdict\n",
       "\tcategories\tlist\n",
       "\ttitle\tstr\n",
       "\tsalesRank\tdict\n",
       "\tbrand\tstr\n",
       "\n",
       "Rows: 58664\n",
       "\n",
       "Data:\n",
       "+---------+------------+----------------+-------------------------------+-------+\n",
       "| item_id |    asin    | Avg of overall |          description          | price |\n",
       "+---------+------------+----------------+-------------------------------+-------+\n",
       "|  28192  | B000F83SZQ |      4.25      |                               |  0.0  |\n",
       "|  17688  | B000FA64QO |      3.8       |                               |  5.99 |\n",
       "|  31608  | B000FA64PA |      4.2       |                               |  4.58 |\n",
       "|   3563  | B000FA64PK |     4.375      |                               |  5.99 |\n",
       "|  23243  | B000FBFMVG | 4.33333333333  |                               |  1.99 |\n",
       "|   1044  | B000FC1BN8 | 3.44444444444  |                               |  4.59 |\n",
       "|  13404  | B000FC1TG2 |      5.0       | Tom Shanaghy was iron-toug... |  5.12 |\n",
       "|  39289  | B000FC26RI | 4.16666666667  | The third installment in B... |  9.99 |\n",
       "|  42578  | B000FC2MB8 |     4.625      | Major James Brionne brough... |  5.12 |\n",
       "|  24389  | B000FDJ0FS | 2.46666666667  | Few newspapers enjoy the p... |  None |\n",
       "+---------+------------+----------------+-------------------------------+-------+\n",
       "+-------------------------------+-------------------------------+\n",
       "|             imUrl             |            related            |\n",
       "+-------------------------------+-------------------------------+\n",
       "| http://ecx.images-amazon.c... | {'also_bought': ['B0080H1C... |\n",
       "| http://ecx.images-amazon.c... | {'also_bought': ['B00513D3... |\n",
       "| http://ecx.images-amazon.c... | {'also_bought': ['B00513D4... |\n",
       "| http://ecx.images-amazon.c... | {'also_bought': ['B000FA64... |\n",
       "| http://ecx.images-amazon.c... | {'also_bought': ['B000FC1M... |\n",
       "| http://ecx.images-amazon.c... | {'also_bought': ['B000FBFM... |\n",
       "| http://ecx.images-amazon.c... | {'also_bought': ['B000FC1N... |\n",
       "| http://ecx.images-amazon.c... | {'also_bought': ['B002Y26Q... |\n",
       "| http://ecx.images-amazon.c... | {'also_bought': ['B000FC1A... |\n",
       "|                               | {'also_bought': ['B000GFK7... |\n",
       "+-------------------------------+-------------------------------+\n",
       "+-------------------------------+-------+-----------+-------+\n",
       "|           categories          | title | salesRank | brand |\n",
       "+-------------------------------+-------+-----------+-------+\n",
       "| [[Books, Literature & Fict... |       |    None   |       |\n",
       "| [[Books, Literature & Fict... |       |    None   |       |\n",
       "| [[Books, Comics & Graphic ... |       |    None   |       |\n",
       "| [[Books, Comics & Graphic ... |       |    None   |       |\n",
       "| [[Books, Literature & Fict... |       |    None   |       |\n",
       "| [[Books, Literature & Fict... |       |    None   |       |\n",
       "| [[Books, Literature & Fict... |       |    None   |       |\n",
       "| [[Books, Literature & Fict... |       |    None   |       |\n",
       "| [[Books, Literature & Fict... |       |    None   |       |\n",
       "| [[Kindle Store, Kindle New... |       |    None   |       |\n",
       "+-------------------------------+-------+-----------+-------+\n",
       "[58664 rows x 11 columns]\n",
       "Note: Only the head of the SFrame is printed.\n",
       "You can use print_rows(num_rows=m, num_columns=n) to print more rows and columns."
      ]
     },
     "execution_count": 21,
     "metadata": {},
     "output_type": "execute_result"
    }
   ],
   "source": [
    "items2"
   ]
  },
  {
   "cell_type": "code",
   "execution_count": 22,
   "metadata": {
    "collapsed": true
   },
   "outputs": [],
   "source": [
    "data2 = data.join(items2, on='asin')"
   ]
  },
  {
   "cell_type": "code",
   "execution_count": 23,
   "metadata": {
    "collapsed": false
   },
   "outputs": [
    {
     "data": {
      "text/html": [
       "<div style=\"max-height:1000px;max-width:1500px;overflow:auto;\"><table frame=\"box\" rules=\"cols\">\n",
       "    <tr>\n",
       "        <th style=\"padding-left: 1em; padding-right: 1em; text-align: center\">X1</th>\n",
       "        <th style=\"padding-left: 1em; padding-right: 1em; text-align: center\">asin</th>\n",
       "        <th style=\"padding-left: 1em; padding-right: 1em; text-align: center\">helpful</th>\n",
       "        <th style=\"padding-left: 1em; padding-right: 1em; text-align: center\">overall</th>\n",
       "        <th style=\"padding-left: 1em; padding-right: 1em; text-align: center\">reviewText</th>\n",
       "        <th style=\"padding-left: 1em; padding-right: 1em; text-align: center\">reviewTime</th>\n",
       "        <th style=\"padding-left: 1em; padding-right: 1em; text-align: center\">reviewerID</th>\n",
       "    </tr>\n",
       "    <tr>\n",
       "        <td style=\"padding-left: 1em; padding-right: 1em; text-align: center; vertical-align: top\">0</td>\n",
       "        <td style=\"padding-left: 1em; padding-right: 1em; text-align: center; vertical-align: top\">B000F83SZQ</td>\n",
       "        <td style=\"padding-left: 1em; padding-right: 1em; text-align: center; vertical-align: top\">[0.0, 0.0]</td>\n",
       "        <td style=\"padding-left: 1em; padding-right: 1em; text-align: center; vertical-align: top\">5</td>\n",
       "        <td style=\"padding-left: 1em; padding-right: 1em; text-align: center; vertical-align: top\">I enjoy vintage books and<br>movies so I enjoyed ...</td>\n",
       "        <td style=\"padding-left: 1em; padding-right: 1em; text-align: center; vertical-align: top\">05 5, 2014</td>\n",
       "        <td style=\"padding-left: 1em; padding-right: 1em; text-align: center; vertical-align: top\">A1F6404F1VG29J</td>\n",
       "    </tr>\n",
       "    <tr>\n",
       "        <td style=\"padding-left: 1em; padding-right: 1em; text-align: center; vertical-align: top\">1</td>\n",
       "        <td style=\"padding-left: 1em; padding-right: 1em; text-align: center; vertical-align: top\">B000F83SZQ</td>\n",
       "        <td style=\"padding-left: 1em; padding-right: 1em; text-align: center; vertical-align: top\">[2.0, 2.0]</td>\n",
       "        <td style=\"padding-left: 1em; padding-right: 1em; text-align: center; vertical-align: top\">4</td>\n",
       "        <td style=\"padding-left: 1em; padding-right: 1em; text-align: center; vertical-align: top\">This book is a reissue of<br>an old one; the author ...</td>\n",
       "        <td style=\"padding-left: 1em; padding-right: 1em; text-align: center; vertical-align: top\">01 6, 2014</td>\n",
       "        <td style=\"padding-left: 1em; padding-right: 1em; text-align: center; vertical-align: top\">AN0N05A9LIJEQ</td>\n",
       "    </tr>\n",
       "    <tr>\n",
       "        <td style=\"padding-left: 1em; padding-right: 1em; text-align: center; vertical-align: top\">2</td>\n",
       "        <td style=\"padding-left: 1em; padding-right: 1em; text-align: center; vertical-align: top\">B000F83SZQ</td>\n",
       "        <td style=\"padding-left: 1em; padding-right: 1em; text-align: center; vertical-align: top\">[2.0, 2.0]</td>\n",
       "        <td style=\"padding-left: 1em; padding-right: 1em; text-align: center; vertical-align: top\">4</td>\n",
       "        <td style=\"padding-left: 1em; padding-right: 1em; text-align: center; vertical-align: top\">This was a fairly<br>interesting read.  It ...</td>\n",
       "        <td style=\"padding-left: 1em; padding-right: 1em; text-align: center; vertical-align: top\">04 4, 2014</td>\n",
       "        <td style=\"padding-left: 1em; padding-right: 1em; text-align: center; vertical-align: top\">A795DMNCJILA6</td>\n",
       "    </tr>\n",
       "    <tr>\n",
       "        <td style=\"padding-left: 1em; padding-right: 1em; text-align: center; vertical-align: top\">3</td>\n",
       "        <td style=\"padding-left: 1em; padding-right: 1em; text-align: center; vertical-align: top\">B000F83SZQ</td>\n",
       "        <td style=\"padding-left: 1em; padding-right: 1em; text-align: center; vertical-align: top\">[1.0, 1.0]</td>\n",
       "        <td style=\"padding-left: 1em; padding-right: 1em; text-align: center; vertical-align: top\">5</td>\n",
       "        <td style=\"padding-left: 1em; padding-right: 1em; text-align: center; vertical-align: top\">I'd never read any of the<br>Amy Brewster mysteries ...</td>\n",
       "        <td style=\"padding-left: 1em; padding-right: 1em; text-align: center; vertical-align: top\">02 19, 2014</td>\n",
       "        <td style=\"padding-left: 1em; padding-right: 1em; text-align: center; vertical-align: top\">A1FV0SX13TWVXQ</td>\n",
       "    </tr>\n",
       "    <tr>\n",
       "        <td style=\"padding-left: 1em; padding-right: 1em; text-align: center; vertical-align: top\">4</td>\n",
       "        <td style=\"padding-left: 1em; padding-right: 1em; text-align: center; vertical-align: top\">B000F83SZQ</td>\n",
       "        <td style=\"padding-left: 1em; padding-right: 1em; text-align: center; vertical-align: top\">[0.0, 1.0]</td>\n",
       "        <td style=\"padding-left: 1em; padding-right: 1em; text-align: center; vertical-align: top\">4</td>\n",
       "        <td style=\"padding-left: 1em; padding-right: 1em; text-align: center; vertical-align: top\">If you like period pieces<br>- clothing, lingo, you ...</td>\n",
       "        <td style=\"padding-left: 1em; padding-right: 1em; text-align: center; vertical-align: top\">03 19, 2014</td>\n",
       "        <td style=\"padding-left: 1em; padding-right: 1em; text-align: center; vertical-align: top\">A3SPTOKDG7WBLN</td>\n",
       "    </tr>\n",
       "    <tr>\n",
       "        <td style=\"padding-left: 1em; padding-right: 1em; text-align: center; vertical-align: top\">5</td>\n",
       "        <td style=\"padding-left: 1em; padding-right: 1em; text-align: center; vertical-align: top\">B000F83SZQ</td>\n",
       "        <td style=\"padding-left: 1em; padding-right: 1em; text-align: center; vertical-align: top\">[0.0, 0.0]</td>\n",
       "        <td style=\"padding-left: 1em; padding-right: 1em; text-align: center; vertical-align: top\">4</td>\n",
       "        <td style=\"padding-left: 1em; padding-right: 1em; text-align: center; vertical-align: top\">A beautiful in-depth<br>character description ...</td>\n",
       "        <td style=\"padding-left: 1em; padding-right: 1em; text-align: center; vertical-align: top\">05 26, 2014</td>\n",
       "        <td style=\"padding-left: 1em; padding-right: 1em; text-align: center; vertical-align: top\">A1RK2OCZDSGC6R</td>\n",
       "    </tr>\n",
       "    <tr>\n",
       "        <td style=\"padding-left: 1em; padding-right: 1em; text-align: center; vertical-align: top\">6</td>\n",
       "        <td style=\"padding-left: 1em; padding-right: 1em; text-align: center; vertical-align: top\">B000F83SZQ</td>\n",
       "        <td style=\"padding-left: 1em; padding-right: 1em; text-align: center; vertical-align: top\">[0.0, 0.0]</td>\n",
       "        <td style=\"padding-left: 1em; padding-right: 1em; text-align: center; vertical-align: top\">4</td>\n",
       "        <td style=\"padding-left: 1em; padding-right: 1em; text-align: center; vertical-align: top\">I enjoyed this one tho<br>I'm not sure why it's ...</td>\n",
       "        <td style=\"padding-left: 1em; padding-right: 1em; text-align: center; vertical-align: top\">06 10, 2014</td>\n",
       "        <td style=\"padding-left: 1em; padding-right: 1em; text-align: center; vertical-align: top\">A2HSAKHC3IBRE6</td>\n",
       "    </tr>\n",
       "    <tr>\n",
       "        <td style=\"padding-left: 1em; padding-right: 1em; text-align: center; vertical-align: top\">7</td>\n",
       "        <td style=\"padding-left: 1em; padding-right: 1em; text-align: center; vertical-align: top\">B000F83SZQ</td>\n",
       "        <td style=\"padding-left: 1em; padding-right: 1em; text-align: center; vertical-align: top\">[1.0, 1.0]</td>\n",
       "        <td style=\"padding-left: 1em; padding-right: 1em; text-align: center; vertical-align: top\">4</td>\n",
       "        <td style=\"padding-left: 1em; padding-right: 1em; text-align: center; vertical-align: top\">Never heard of Amy<br>Brewster. But I don't ...</td>\n",
       "        <td style=\"padding-left: 1em; padding-right: 1em; text-align: center; vertical-align: top\">03 22, 2014</td>\n",
       "        <td style=\"padding-left: 1em; padding-right: 1em; text-align: center; vertical-align: top\">A3DE6XGZ2EPADS</td>\n",
       "    </tr>\n",
       "    <tr>\n",
       "        <td style=\"padding-left: 1em; padding-right: 1em; text-align: center; vertical-align: top\">8</td>\n",
       "        <td style=\"padding-left: 1em; padding-right: 1em; text-align: center; vertical-align: top\">B000FA64PA</td>\n",
       "        <td style=\"padding-left: 1em; padding-right: 1em; text-align: center; vertical-align: top\">[0.0, 0.0]</td>\n",
       "        <td style=\"padding-left: 1em; padding-right: 1em; text-align: center; vertical-align: top\">5</td>\n",
       "        <td style=\"padding-left: 1em; padding-right: 1em; text-align: center; vertical-align: top\">Darth Maul working under<br>cloak of darkness ...</td>\n",
       "        <td style=\"padding-left: 1em; padding-right: 1em; text-align: center; vertical-align: top\">10 11, 2013</td>\n",
       "        <td style=\"padding-left: 1em; padding-right: 1em; text-align: center; vertical-align: top\">A1UG4Q4D3OAH3A</td>\n",
       "    </tr>\n",
       "    <tr>\n",
       "        <td style=\"padding-left: 1em; padding-right: 1em; text-align: center; vertical-align: top\">9</td>\n",
       "        <td style=\"padding-left: 1em; padding-right: 1em; text-align: center; vertical-align: top\">B000FA64PA</td>\n",
       "        <td style=\"padding-left: 1em; padding-right: 1em; text-align: center; vertical-align: top\">[0.0, 0.0]</td>\n",
       "        <td style=\"padding-left: 1em; padding-right: 1em; text-align: center; vertical-align: top\">4</td>\n",
       "        <td style=\"padding-left: 1em; padding-right: 1em; text-align: center; vertical-align: top\">This is a short story<br>focused on Darth Maul's ...</td>\n",
       "        <td style=\"padding-left: 1em; padding-right: 1em; text-align: center; vertical-align: top\">02 13, 2011</td>\n",
       "        <td style=\"padding-left: 1em; padding-right: 1em; text-align: center; vertical-align: top\">AQZH7YTWQPOBE</td>\n",
       "    </tr>\n",
       "</table>\n",
       "<table frame=\"box\" rules=\"cols\">\n",
       "    <tr>\n",
       "        <th style=\"padding-left: 1em; padding-right: 1em; text-align: center\">reviewerName</th>\n",
       "        <th style=\"padding-left: 1em; padding-right: 1em; text-align: center\">summary</th>\n",
       "        <th style=\"padding-left: 1em; padding-right: 1em; text-align: center\">unixReviewTime</th>\n",
       "        <th style=\"padding-left: 1em; padding-right: 1em; text-align: center\">item_id</th>\n",
       "        <th style=\"padding-left: 1em; padding-right: 1em; text-align: center\">Avg of overall</th>\n",
       "        <th style=\"padding-left: 1em; padding-right: 1em; text-align: center\">description</th>\n",
       "    </tr>\n",
       "    <tr>\n",
       "        <td style=\"padding-left: 1em; padding-right: 1em; text-align: center; vertical-align: top\">Avidreader</td>\n",
       "        <td style=\"padding-left: 1em; padding-right: 1em; text-align: center; vertical-align: top\">Nice vintage story</td>\n",
       "        <td style=\"padding-left: 1em; padding-right: 1em; text-align: center; vertical-align: top\">1399248000</td>\n",
       "        <td style=\"padding-left: 1em; padding-right: 1em; text-align: center; vertical-align: top\">28192</td>\n",
       "        <td style=\"padding-left: 1em; padding-right: 1em; text-align: center; vertical-align: top\">4.25</td>\n",
       "        <td style=\"padding-left: 1em; padding-right: 1em; text-align: center; vertical-align: top\"></td>\n",
       "    </tr>\n",
       "    <tr>\n",
       "        <td style=\"padding-left: 1em; padding-right: 1em; text-align: center; vertical-align: top\">critters</td>\n",
       "        <td style=\"padding-left: 1em; padding-right: 1em; text-align: center; vertical-align: top\">Different...</td>\n",
       "        <td style=\"padding-left: 1em; padding-right: 1em; text-align: center; vertical-align: top\">1388966400</td>\n",
       "        <td style=\"padding-left: 1em; padding-right: 1em; text-align: center; vertical-align: top\">28192</td>\n",
       "        <td style=\"padding-left: 1em; padding-right: 1em; text-align: center; vertical-align: top\">4.25</td>\n",
       "        <td style=\"padding-left: 1em; padding-right: 1em; text-align: center; vertical-align: top\"></td>\n",
       "    </tr>\n",
       "    <tr>\n",
       "        <td style=\"padding-left: 1em; padding-right: 1em; text-align: center; vertical-align: top\">dot</td>\n",
       "        <td style=\"padding-left: 1em; padding-right: 1em; text-align: center; vertical-align: top\">Oldie</td>\n",
       "        <td style=\"padding-left: 1em; padding-right: 1em; text-align: center; vertical-align: top\">1396569600</td>\n",
       "        <td style=\"padding-left: 1em; padding-right: 1em; text-align: center; vertical-align: top\">28192</td>\n",
       "        <td style=\"padding-left: 1em; padding-right: 1em; text-align: center; vertical-align: top\">4.25</td>\n",
       "        <td style=\"padding-left: 1em; padding-right: 1em; text-align: center; vertical-align: top\"></td>\n",
       "    </tr>\n",
       "    <tr>\n",
       "        <td style=\"padding-left: 1em; padding-right: 1em; text-align: center; vertical-align: top\">Elaine H. Turley \"Montana<br>Songbird\" ...</td>\n",
       "        <td style=\"padding-left: 1em; padding-right: 1em; text-align: center; vertical-align: top\">I really liked it.</td>\n",
       "        <td style=\"padding-left: 1em; padding-right: 1em; text-align: center; vertical-align: top\">1392768000</td>\n",
       "        <td style=\"padding-left: 1em; padding-right: 1em; text-align: center; vertical-align: top\">28192</td>\n",
       "        <td style=\"padding-left: 1em; padding-right: 1em; text-align: center; vertical-align: top\">4.25</td>\n",
       "        <td style=\"padding-left: 1em; padding-right: 1em; text-align: center; vertical-align: top\"></td>\n",
       "    </tr>\n",
       "    <tr>\n",
       "        <td style=\"padding-left: 1em; padding-right: 1em; text-align: center; vertical-align: top\">Father Dowling Fan</td>\n",
       "        <td style=\"padding-left: 1em; padding-right: 1em; text-align: center; vertical-align: top\">Period Mystery</td>\n",
       "        <td style=\"padding-left: 1em; padding-right: 1em; text-align: center; vertical-align: top\">1395187200</td>\n",
       "        <td style=\"padding-left: 1em; padding-right: 1em; text-align: center; vertical-align: top\">28192</td>\n",
       "        <td style=\"padding-left: 1em; padding-right: 1em; text-align: center; vertical-align: top\">4.25</td>\n",
       "        <td style=\"padding-left: 1em; padding-right: 1em; text-align: center; vertical-align: top\"></td>\n",
       "    </tr>\n",
       "    <tr>\n",
       "        <td style=\"padding-left: 1em; padding-right: 1em; text-align: center; vertical-align: top\">ubavka seirovska</td>\n",
       "        <td style=\"padding-left: 1em; padding-right: 1em; text-align: center; vertical-align: top\">Review</td>\n",
       "        <td style=\"padding-left: 1em; padding-right: 1em; text-align: center; vertical-align: top\">1401062400</td>\n",
       "        <td style=\"padding-left: 1em; padding-right: 1em; text-align: center; vertical-align: top\">28192</td>\n",
       "        <td style=\"padding-left: 1em; padding-right: 1em; text-align: center; vertical-align: top\">4.25</td>\n",
       "        <td style=\"padding-left: 1em; padding-right: 1em; text-align: center; vertical-align: top\"></td>\n",
       "    </tr>\n",
       "    <tr>\n",
       "        <td style=\"padding-left: 1em; padding-right: 1em; text-align: center; vertical-align: top\">Wolfmist</td>\n",
       "        <td style=\"padding-left: 1em; padding-right: 1em; text-align: center; vertical-align: top\">Nice old fashioned story</td>\n",
       "        <td style=\"padding-left: 1em; padding-right: 1em; text-align: center; vertical-align: top\">1402358400</td>\n",
       "        <td style=\"padding-left: 1em; padding-right: 1em; text-align: center; vertical-align: top\">28192</td>\n",
       "        <td style=\"padding-left: 1em; padding-right: 1em; text-align: center; vertical-align: top\">4.25</td>\n",
       "        <td style=\"padding-left: 1em; padding-right: 1em; text-align: center; vertical-align: top\"></td>\n",
       "    </tr>\n",
       "    <tr>\n",
       "        <td style=\"padding-left: 1em; padding-right: 1em; text-align: center; vertical-align: top\">WPY</td>\n",
       "        <td style=\"padding-left: 1em; padding-right: 1em; text-align: center; vertical-align: top\">Enjoyable reading and<br>reminding the old times ...</td>\n",
       "        <td style=\"padding-left: 1em; padding-right: 1em; text-align: center; vertical-align: top\">1395446400</td>\n",
       "        <td style=\"padding-left: 1em; padding-right: 1em; text-align: center; vertical-align: top\">28192</td>\n",
       "        <td style=\"padding-left: 1em; padding-right: 1em; text-align: center; vertical-align: top\">4.25</td>\n",
       "        <td style=\"padding-left: 1em; padding-right: 1em; text-align: center; vertical-align: top\"></td>\n",
       "    </tr>\n",
       "    <tr>\n",
       "        <td style=\"padding-left: 1em; padding-right: 1em; text-align: center; vertical-align: top\">dsa</td>\n",
       "        <td style=\"padding-left: 1em; padding-right: 1em; text-align: center; vertical-align: top\">Darth Maul</td>\n",
       "        <td style=\"padding-left: 1em; padding-right: 1em; text-align: center; vertical-align: top\">1381449600</td>\n",
       "        <td style=\"padding-left: 1em; padding-right: 1em; text-align: center; vertical-align: top\">31608</td>\n",
       "        <td style=\"padding-left: 1em; padding-right: 1em; text-align: center; vertical-align: top\">4.2</td>\n",
       "        <td style=\"padding-left: 1em; padding-right: 1em; text-align: center; vertical-align: top\"></td>\n",
       "    </tr>\n",
       "    <tr>\n",
       "        <td style=\"padding-left: 1em; padding-right: 1em; text-align: center; vertical-align: top\">Enjolras</td>\n",
       "        <td style=\"padding-left: 1em; padding-right: 1em; text-align: center; vertical-align: top\">Not bad, not exceptional</td>\n",
       "        <td style=\"padding-left: 1em; padding-right: 1em; text-align: center; vertical-align: top\">1297555200</td>\n",
       "        <td style=\"padding-left: 1em; padding-right: 1em; text-align: center; vertical-align: top\">31608</td>\n",
       "        <td style=\"padding-left: 1em; padding-right: 1em; text-align: center; vertical-align: top\">4.2</td>\n",
       "        <td style=\"padding-left: 1em; padding-right: 1em; text-align: center; vertical-align: top\"></td>\n",
       "    </tr>\n",
       "</table>\n",
       "<table frame=\"box\" rules=\"cols\">\n",
       "    <tr>\n",
       "        <th style=\"padding-left: 1em; padding-right: 1em; text-align: center\">price</th>\n",
       "        <th style=\"padding-left: 1em; padding-right: 1em; text-align: center\">imUrl</th>\n",
       "        <th style=\"padding-left: 1em; padding-right: 1em; text-align: center\">related</th>\n",
       "        <th style=\"padding-left: 1em; padding-right: 1em; text-align: center\">categories</th>\n",
       "        <th style=\"padding-left: 1em; padding-right: 1em; text-align: center\">title</th>\n",
       "        <th style=\"padding-left: 1em; padding-right: 1em; text-align: center\">salesRank</th>\n",
       "        <th style=\"padding-left: 1em; padding-right: 1em; text-align: center\">brand</th>\n",
       "    </tr>\n",
       "    <tr>\n",
       "        <td style=\"padding-left: 1em; padding-right: 1em; text-align: center; vertical-align: top\">0.0</td>\n",
       "        <td style=\"padding-left: 1em; padding-right: 1em; text-align: center; vertical-align: top\">http://ecx.images-amazon.<br>com/images/I/51yLqHe% ...</td>\n",
       "        <td style=\"padding-left: 1em; padding-right: 1em; text-align: center; vertical-align: top\">{'also_bought':<br>['B0080H1C0W', ...</td>\n",
       "        <td style=\"padding-left: 1em; padding-right: 1em; text-align: center; vertical-align: top\">[[Books, Literature &amp;<br>Fiction], [Books, ...</td>\n",
       "        <td style=\"padding-left: 1em; padding-right: 1em; text-align: center; vertical-align: top\"></td>\n",
       "        <td style=\"padding-left: 1em; padding-right: 1em; text-align: center; vertical-align: top\">None</td>\n",
       "        <td style=\"padding-left: 1em; padding-right: 1em; text-align: center; vertical-align: top\"></td>\n",
       "    </tr>\n",
       "    <tr>\n",
       "        <td style=\"padding-left: 1em; padding-right: 1em; text-align: center; vertical-align: top\">0.0</td>\n",
       "        <td style=\"padding-left: 1em; padding-right: 1em; text-align: center; vertical-align: top\">http://ecx.images-amazon.<br>com/images/I/51yLqHe% ...</td>\n",
       "        <td style=\"padding-left: 1em; padding-right: 1em; text-align: center; vertical-align: top\">{'also_bought':<br>['B0080H1C0W', ...</td>\n",
       "        <td style=\"padding-left: 1em; padding-right: 1em; text-align: center; vertical-align: top\">[[Books, Literature &amp;<br>Fiction], [Books, ...</td>\n",
       "        <td style=\"padding-left: 1em; padding-right: 1em; text-align: center; vertical-align: top\"></td>\n",
       "        <td style=\"padding-left: 1em; padding-right: 1em; text-align: center; vertical-align: top\">None</td>\n",
       "        <td style=\"padding-left: 1em; padding-right: 1em; text-align: center; vertical-align: top\"></td>\n",
       "    </tr>\n",
       "    <tr>\n",
       "        <td style=\"padding-left: 1em; padding-right: 1em; text-align: center; vertical-align: top\">0.0</td>\n",
       "        <td style=\"padding-left: 1em; padding-right: 1em; text-align: center; vertical-align: top\">http://ecx.images-amazon.<br>com/images/I/51yLqHe% ...</td>\n",
       "        <td style=\"padding-left: 1em; padding-right: 1em; text-align: center; vertical-align: top\">{'also_bought':<br>['B0080H1C0W', ...</td>\n",
       "        <td style=\"padding-left: 1em; padding-right: 1em; text-align: center; vertical-align: top\">[[Books, Literature &amp;<br>Fiction], [Books, ...</td>\n",
       "        <td style=\"padding-left: 1em; padding-right: 1em; text-align: center; vertical-align: top\"></td>\n",
       "        <td style=\"padding-left: 1em; padding-right: 1em; text-align: center; vertical-align: top\">None</td>\n",
       "        <td style=\"padding-left: 1em; padding-right: 1em; text-align: center; vertical-align: top\"></td>\n",
       "    </tr>\n",
       "    <tr>\n",
       "        <td style=\"padding-left: 1em; padding-right: 1em; text-align: center; vertical-align: top\">0.0</td>\n",
       "        <td style=\"padding-left: 1em; padding-right: 1em; text-align: center; vertical-align: top\">http://ecx.images-amazon.<br>com/images/I/51yLqHe% ...</td>\n",
       "        <td style=\"padding-left: 1em; padding-right: 1em; text-align: center; vertical-align: top\">{'also_bought':<br>['B0080H1C0W', ...</td>\n",
       "        <td style=\"padding-left: 1em; padding-right: 1em; text-align: center; vertical-align: top\">[[Books, Literature &amp;<br>Fiction], [Books, ...</td>\n",
       "        <td style=\"padding-left: 1em; padding-right: 1em; text-align: center; vertical-align: top\"></td>\n",
       "        <td style=\"padding-left: 1em; padding-right: 1em; text-align: center; vertical-align: top\">None</td>\n",
       "        <td style=\"padding-left: 1em; padding-right: 1em; text-align: center; vertical-align: top\"></td>\n",
       "    </tr>\n",
       "    <tr>\n",
       "        <td style=\"padding-left: 1em; padding-right: 1em; text-align: center; vertical-align: top\">0.0</td>\n",
       "        <td style=\"padding-left: 1em; padding-right: 1em; text-align: center; vertical-align: top\">http://ecx.images-amazon.<br>com/images/I/51yLqHe% ...</td>\n",
       "        <td style=\"padding-left: 1em; padding-right: 1em; text-align: center; vertical-align: top\">{'also_bought':<br>['B0080H1C0W', ...</td>\n",
       "        <td style=\"padding-left: 1em; padding-right: 1em; text-align: center; vertical-align: top\">[[Books, Literature &amp;<br>Fiction], [Books, ...</td>\n",
       "        <td style=\"padding-left: 1em; padding-right: 1em; text-align: center; vertical-align: top\"></td>\n",
       "        <td style=\"padding-left: 1em; padding-right: 1em; text-align: center; vertical-align: top\">None</td>\n",
       "        <td style=\"padding-left: 1em; padding-right: 1em; text-align: center; vertical-align: top\"></td>\n",
       "    </tr>\n",
       "    <tr>\n",
       "        <td style=\"padding-left: 1em; padding-right: 1em; text-align: center; vertical-align: top\">0.0</td>\n",
       "        <td style=\"padding-left: 1em; padding-right: 1em; text-align: center; vertical-align: top\">http://ecx.images-amazon.<br>com/images/I/51yLqHe% ...</td>\n",
       "        <td style=\"padding-left: 1em; padding-right: 1em; text-align: center; vertical-align: top\">{'also_bought':<br>['B0080H1C0W', ...</td>\n",
       "        <td style=\"padding-left: 1em; padding-right: 1em; text-align: center; vertical-align: top\">[[Books, Literature &amp;<br>Fiction], [Books, ...</td>\n",
       "        <td style=\"padding-left: 1em; padding-right: 1em; text-align: center; vertical-align: top\"></td>\n",
       "        <td style=\"padding-left: 1em; padding-right: 1em; text-align: center; vertical-align: top\">None</td>\n",
       "        <td style=\"padding-left: 1em; padding-right: 1em; text-align: center; vertical-align: top\"></td>\n",
       "    </tr>\n",
       "    <tr>\n",
       "        <td style=\"padding-left: 1em; padding-right: 1em; text-align: center; vertical-align: top\">0.0</td>\n",
       "        <td style=\"padding-left: 1em; padding-right: 1em; text-align: center; vertical-align: top\">http://ecx.images-amazon.<br>com/images/I/51yLqHe% ...</td>\n",
       "        <td style=\"padding-left: 1em; padding-right: 1em; text-align: center; vertical-align: top\">{'also_bought':<br>['B0080H1C0W', ...</td>\n",
       "        <td style=\"padding-left: 1em; padding-right: 1em; text-align: center; vertical-align: top\">[[Books, Literature &amp;<br>Fiction], [Books, ...</td>\n",
       "        <td style=\"padding-left: 1em; padding-right: 1em; text-align: center; vertical-align: top\"></td>\n",
       "        <td style=\"padding-left: 1em; padding-right: 1em; text-align: center; vertical-align: top\">None</td>\n",
       "        <td style=\"padding-left: 1em; padding-right: 1em; text-align: center; vertical-align: top\"></td>\n",
       "    </tr>\n",
       "    <tr>\n",
       "        <td style=\"padding-left: 1em; padding-right: 1em; text-align: center; vertical-align: top\">0.0</td>\n",
       "        <td style=\"padding-left: 1em; padding-right: 1em; text-align: center; vertical-align: top\">http://ecx.images-amazon.<br>com/images/I/51yLqHe% ...</td>\n",
       "        <td style=\"padding-left: 1em; padding-right: 1em; text-align: center; vertical-align: top\">{'also_bought':<br>['B0080H1C0W', ...</td>\n",
       "        <td style=\"padding-left: 1em; padding-right: 1em; text-align: center; vertical-align: top\">[[Books, Literature &amp;<br>Fiction], [Books, ...</td>\n",
       "        <td style=\"padding-left: 1em; padding-right: 1em; text-align: center; vertical-align: top\"></td>\n",
       "        <td style=\"padding-left: 1em; padding-right: 1em; text-align: center; vertical-align: top\">None</td>\n",
       "        <td style=\"padding-left: 1em; padding-right: 1em; text-align: center; vertical-align: top\"></td>\n",
       "    </tr>\n",
       "    <tr>\n",
       "        <td style=\"padding-left: 1em; padding-right: 1em; text-align: center; vertical-align: top\">4.58</td>\n",
       "        <td style=\"padding-left: 1em; padding-right: 1em; text-align: center; vertical-align: top\">http://ecx.images-amazon.<br>com/images/I/4138cT%2 ...</td>\n",
       "        <td style=\"padding-left: 1em; padding-right: 1em; text-align: center; vertical-align: top\">{'also_bought':<br>['B00513D4HC', ...</td>\n",
       "        <td style=\"padding-left: 1em; padding-right: 1em; text-align: center; vertical-align: top\">[[Books, Comics &amp; Graphic<br>Novels], [Books, Science ...</td>\n",
       "        <td style=\"padding-left: 1em; padding-right: 1em; text-align: center; vertical-align: top\"></td>\n",
       "        <td style=\"padding-left: 1em; padding-right: 1em; text-align: center; vertical-align: top\">None</td>\n",
       "        <td style=\"padding-left: 1em; padding-right: 1em; text-align: center; vertical-align: top\"></td>\n",
       "    </tr>\n",
       "    <tr>\n",
       "        <td style=\"padding-left: 1em; padding-right: 1em; text-align: center; vertical-align: top\">4.58</td>\n",
       "        <td style=\"padding-left: 1em; padding-right: 1em; text-align: center; vertical-align: top\">http://ecx.images-amazon.<br>com/images/I/4138cT%2 ...</td>\n",
       "        <td style=\"padding-left: 1em; padding-right: 1em; text-align: center; vertical-align: top\">{'also_bought':<br>['B00513D4HC', ...</td>\n",
       "        <td style=\"padding-left: 1em; padding-right: 1em; text-align: center; vertical-align: top\">[[Books, Comics &amp; Graphic<br>Novels], [Books, Science ...</td>\n",
       "        <td style=\"padding-left: 1em; padding-right: 1em; text-align: center; vertical-align: top\"></td>\n",
       "        <td style=\"padding-left: 1em; padding-right: 1em; text-align: center; vertical-align: top\">None</td>\n",
       "        <td style=\"padding-left: 1em; padding-right: 1em; text-align: center; vertical-align: top\"></td>\n",
       "    </tr>\n",
       "</table>\n",
       "[919455 rows x 20 columns]<br/>Note: Only the head of the SFrame is printed.<br/>You can use print_rows(num_rows=m, num_columns=n) to print more rows and columns.\n",
       "</div>"
      ],
      "text/plain": [
       "Columns:\n",
       "\tX1\tint\n",
       "\tasin\tstr\n",
       "\thelpful\tarray\n",
       "\toverall\tint\n",
       "\treviewText\tstr\n",
       "\treviewTime\tstr\n",
       "\treviewerID\tstr\n",
       "\treviewerName\tstr\n",
       "\tsummary\tstr\n",
       "\tunixReviewTime\tint\n",
       "\titem_id\tint\n",
       "\tAvg of overall\tfloat\n",
       "\tdescription\tstr\n",
       "\tprice\tfloat\n",
       "\timUrl\tstr\n",
       "\trelated\tdict\n",
       "\tcategories\tlist\n",
       "\ttitle\tstr\n",
       "\tsalesRank\tdict\n",
       "\tbrand\tstr\n",
       "\n",
       "Rows: 919455\n",
       "\n",
       "Data:\n",
       "+----+------------+------------+---------+-------------------------------+\n",
       "| X1 |    asin    |  helpful   | overall |           reviewText          |\n",
       "+----+------------+------------+---------+-------------------------------+\n",
       "| 0  | B000F83SZQ | [0.0, 0.0] |    5    | I enjoy vintage books and ... |\n",
       "| 1  | B000F83SZQ | [2.0, 2.0] |    4    | This book is a reissue of ... |\n",
       "| 2  | B000F83SZQ | [2.0, 2.0] |    4    | This was a fairly interest... |\n",
       "| 3  | B000F83SZQ | [1.0, 1.0] |    5    | I'd never read any of the ... |\n",
       "| 4  | B000F83SZQ | [0.0, 1.0] |    4    | If you like period pieces ... |\n",
       "| 5  | B000F83SZQ | [0.0, 0.0] |    4    | A beautiful in-depth chara... |\n",
       "| 6  | B000F83SZQ | [0.0, 0.0] |    4    | I enjoyed this one tho I'm... |\n",
       "| 7  | B000F83SZQ | [1.0, 1.0] |    4    | Never heard of Amy Brewste... |\n",
       "| 8  | B000FA64PA | [0.0, 0.0] |    5    | Darth Maul working under c... |\n",
       "| 9  | B000FA64PA | [0.0, 0.0] |    4    | This is a short story focu... |\n",
       "+----+------------+------------+---------+-------------------------------+\n",
       "+-------------+----------------+-------------------------------+\n",
       "|  reviewTime |   reviewerID   |          reviewerName         |\n",
       "+-------------+----------------+-------------------------------+\n",
       "|  05 5, 2014 | A1F6404F1VG29J |           Avidreader          |\n",
       "|  01 6, 2014 | AN0N05A9LIJEQ  |            critters           |\n",
       "|  04 4, 2014 | A795DMNCJILA6  |              dot              |\n",
       "| 02 19, 2014 | A1FV0SX13TWVXQ | Elaine H. Turley \"Montana ... |\n",
       "| 03 19, 2014 | A3SPTOKDG7WBLN |       Father Dowling Fan      |\n",
       "| 05 26, 2014 | A1RK2OCZDSGC6R |        ubavka seirovska       |\n",
       "| 06 10, 2014 | A2HSAKHC3IBRE6 |            Wolfmist           |\n",
       "| 03 22, 2014 | A3DE6XGZ2EPADS |              WPY              |\n",
       "| 10 11, 2013 | A1UG4Q4D3OAH3A |              dsa              |\n",
       "| 02 13, 2011 | AQZH7YTWQPOBE  |            Enjolras           |\n",
       "+-------------+----------------+-------------------------------+\n",
       "+-------------------------------+----------------+---------+----------------+-------------+\n",
       "|            summary            | unixReviewTime | item_id | Avg of overall | description |\n",
       "+-------------------------------+----------------+---------+----------------+-------------+\n",
       "|       Nice vintage story      |   1399248000   |  28192  |      4.25      |             |\n",
       "|          Different...         |   1388966400   |  28192  |      4.25      |             |\n",
       "|             Oldie             |   1396569600   |  28192  |      4.25      |             |\n",
       "|       I really liked it.      |   1392768000   |  28192  |      4.25      |             |\n",
       "|         Period Mystery        |   1395187200   |  28192  |      4.25      |             |\n",
       "|             Review            |   1401062400   |  28192  |      4.25      |             |\n",
       "|    Nice old fashioned story   |   1402358400   |  28192  |      4.25      |             |\n",
       "| Enjoyable reading and remi... |   1395446400   |  28192  |      4.25      |             |\n",
       "|           Darth Maul          |   1381449600   |  31608  |      4.2       |             |\n",
       "|    Not bad, not exceptional   |   1297555200   |  31608  |      4.2       |             |\n",
       "+-------------------------------+----------------+---------+----------------+-------------+\n",
       "+-------+-------------------------------+-------------------------------+\n",
       "| price |             imUrl             |            related            |\n",
       "+-------+-------------------------------+-------------------------------+\n",
       "|  0.0  | http://ecx.images-amazon.c... | {'also_bought': ['B0080H1C... |\n",
       "|  0.0  | http://ecx.images-amazon.c... | {'also_bought': ['B0080H1C... |\n",
       "|  0.0  | http://ecx.images-amazon.c... | {'also_bought': ['B0080H1C... |\n",
       "|  0.0  | http://ecx.images-amazon.c... | {'also_bought': ['B0080H1C... |\n",
       "|  0.0  | http://ecx.images-amazon.c... | {'also_bought': ['B0080H1C... |\n",
       "|  0.0  | http://ecx.images-amazon.c... | {'also_bought': ['B0080H1C... |\n",
       "|  0.0  | http://ecx.images-amazon.c... | {'also_bought': ['B0080H1C... |\n",
       "|  0.0  | http://ecx.images-amazon.c... | {'also_bought': ['B0080H1C... |\n",
       "|  4.58 | http://ecx.images-amazon.c... | {'also_bought': ['B00513D4... |\n",
       "|  4.58 | http://ecx.images-amazon.c... | {'also_bought': ['B00513D4... |\n",
       "+-------+-------------------------------+-------------------------------+\n",
       "+-------------------------------+-------+-----------+-------+\n",
       "|           categories          | title | salesRank | brand |\n",
       "+-------------------------------+-------+-----------+-------+\n",
       "| [[Books, Literature & Fict... |       |    None   |       |\n",
       "| [[Books, Literature & Fict... |       |    None   |       |\n",
       "| [[Books, Literature & Fict... |       |    None   |       |\n",
       "| [[Books, Literature & Fict... |       |    None   |       |\n",
       "| [[Books, Literature & Fict... |       |    None   |       |\n",
       "| [[Books, Literature & Fict... |       |    None   |       |\n",
       "| [[Books, Literature & Fict... |       |    None   |       |\n",
       "| [[Books, Literature & Fict... |       |    None   |       |\n",
       "| [[Books, Comics & Graphic ... |       |    None   |       |\n",
       "| [[Books, Comics & Graphic ... |       |    None   |       |\n",
       "+-------------------------------+-------+-----------+-------+\n",
       "[919455 rows x 20 columns]\n",
       "Note: Only the head of the SFrame is printed.\n",
       "You can use print_rows(num_rows=m, num_columns=n) to print more rows and columns."
      ]
     },
     "execution_count": 23,
     "metadata": {},
     "output_type": "execute_result"
    }
   ],
   "source": [
    "data2"
   ]
  },
  {
   "cell_type": "code",
   "execution_count": 53,
   "metadata": {
    "collapsed": true
   },
   "outputs": [],
   "source": [
    "users = data2.groupby(['reviewerName','reviewerID'], gl.aggregate.MEAN('overall'))"
   ]
  },
  {
   "cell_type": "code",
   "execution_count": 54,
   "metadata": {
    "collapsed": false
   },
   "outputs": [
    {
     "data": {
      "text/html": [
       "<div style=\"max-height:1000px;max-width:1500px;overflow:auto;\"><table frame=\"box\" rules=\"cols\">\n",
       "    <tr>\n",
       "        <th style=\"padding-left: 1em; padding-right: 1em; text-align: center\">reviewerID</th>\n",
       "        <th style=\"padding-left: 1em; padding-right: 1em; text-align: center\">reviewerName</th>\n",
       "        <th style=\"padding-left: 1em; padding-right: 1em; text-align: center\">Avg of overall</th>\n",
       "    </tr>\n",
       "    <tr>\n",
       "        <td style=\"padding-left: 1em; padding-right: 1em; text-align: center; vertical-align: top\">ANGMPTBPTVTU1</td>\n",
       "        <td style=\"padding-left: 1em; padding-right: 1em; text-align: center; vertical-align: top\">Amazon Customer</td>\n",
       "        <td style=\"padding-left: 1em; padding-right: 1em; text-align: center; vertical-align: top\">4.0</td>\n",
       "    </tr>\n",
       "    <tr>\n",
       "        <td style=\"padding-left: 1em; padding-right: 1em; text-align: center; vertical-align: top\">A3LNJX5X6ZKYNW</td>\n",
       "        <td style=\"padding-left: 1em; padding-right: 1em; text-align: center; vertical-align: top\">Amazon Customer</td>\n",
       "        <td style=\"padding-left: 1em; padding-right: 1em; text-align: center; vertical-align: top\">4.875</td>\n",
       "    </tr>\n",
       "    <tr>\n",
       "        <td style=\"padding-left: 1em; padding-right: 1em; text-align: center; vertical-align: top\">A2QMIRJ8E6L4Y9</td>\n",
       "        <td style=\"padding-left: 1em; padding-right: 1em; text-align: center; vertical-align: top\">Bonnie B Moore</td>\n",
       "        <td style=\"padding-left: 1em; padding-right: 1em; text-align: center; vertical-align: top\">4.66666666667</td>\n",
       "    </tr>\n",
       "    <tr>\n",
       "        <td style=\"padding-left: 1em; padding-right: 1em; text-align: center; vertical-align: top\">A2MVGSLY3G7UFQ</td>\n",
       "        <td style=\"padding-left: 1em; padding-right: 1em; text-align: center; vertical-align: top\">Christine</td>\n",
       "        <td style=\"padding-left: 1em; padding-right: 1em; text-align: center; vertical-align: top\">5.0</td>\n",
       "    </tr>\n",
       "    <tr>\n",
       "        <td style=\"padding-left: 1em; padding-right: 1em; text-align: center; vertical-align: top\">ALC2AF0EUUEH2</td>\n",
       "        <td style=\"padding-left: 1em; padding-right: 1em; text-align: center; vertical-align: top\">Amazon Customer</td>\n",
       "        <td style=\"padding-left: 1em; padding-right: 1em; text-align: center; vertical-align: top\">5.0</td>\n",
       "    </tr>\n",
       "    <tr>\n",
       "        <td style=\"padding-left: 1em; padding-right: 1em; text-align: center; vertical-align: top\">A1TD0NXK1D5SO8</td>\n",
       "        <td style=\"padding-left: 1em; padding-right: 1em; text-align: center; vertical-align: top\">Teresa Wilcox<br>\"Seasiren770\" ...</td>\n",
       "        <td style=\"padding-left: 1em; padding-right: 1em; text-align: center; vertical-align: top\">3.4375</td>\n",
       "    </tr>\n",
       "    <tr>\n",
       "        <td style=\"padding-left: 1em; padding-right: 1em; text-align: center; vertical-align: top\">A1Q384IOUQ95G2</td>\n",
       "        <td style=\"padding-left: 1em; padding-right: 1em; text-align: center; vertical-align: top\">Brandy</td>\n",
       "        <td style=\"padding-left: 1em; padding-right: 1em; text-align: center; vertical-align: top\">5.0</td>\n",
       "    </tr>\n",
       "    <tr>\n",
       "        <td style=\"padding-left: 1em; padding-right: 1em; text-align: center; vertical-align: top\">A1BF0QGC2YXG1P</td>\n",
       "        <td style=\"padding-left: 1em; padding-right: 1em; text-align: center; vertical-align: top\">mindy</td>\n",
       "        <td style=\"padding-left: 1em; padding-right: 1em; text-align: center; vertical-align: top\">4.4</td>\n",
       "    </tr>\n",
       "    <tr>\n",
       "        <td style=\"padding-left: 1em; padding-right: 1em; text-align: center; vertical-align: top\">A1HJ5FE8BJYRBQ</td>\n",
       "        <td style=\"padding-left: 1em; padding-right: 1em; text-align: center; vertical-align: top\">P.Simmons</td>\n",
       "        <td style=\"padding-left: 1em; padding-right: 1em; text-align: center; vertical-align: top\">3.88888888889</td>\n",
       "    </tr>\n",
       "    <tr>\n",
       "        <td style=\"padding-left: 1em; padding-right: 1em; text-align: center; vertical-align: top\">A2PL2EYSVSQAEO</td>\n",
       "        <td style=\"padding-left: 1em; padding-right: 1em; text-align: center; vertical-align: top\">fiction addict</td>\n",
       "        <td style=\"padding-left: 1em; padding-right: 1em; text-align: center; vertical-align: top\">4.42857142857</td>\n",
       "    </tr>\n",
       "</table>\n",
       "[71968 rows x 3 columns]<br/>Note: Only the head of the SFrame is printed.<br/>You can use print_rows(num_rows=m, num_columns=n) to print more rows and columns.\n",
       "</div>"
      ],
      "text/plain": [
       "Columns:\n",
       "\treviewerID\tstr\n",
       "\treviewerName\tstr\n",
       "\tAvg of overall\tfloat\n",
       "\n",
       "Rows: 71968\n",
       "\n",
       "Data:\n",
       "+----------------+-----------------------------+----------------+\n",
       "|   reviewerID   |         reviewerName        | Avg of overall |\n",
       "+----------------+-----------------------------+----------------+\n",
       "| ANGMPTBPTVTU1  |       Amazon Customer       |      4.0       |\n",
       "| A3LNJX5X6ZKYNW |       Amazon Customer       |     4.875      |\n",
       "| A2QMIRJ8E6L4Y9 |        Bonnie B Moore       | 4.66666666667  |\n",
       "| A2MVGSLY3G7UFQ |          Christine          |      5.0       |\n",
       "| ALC2AF0EUUEH2  |       Amazon Customer       |      5.0       |\n",
       "| A1TD0NXK1D5SO8 | Teresa Wilcox \"Seasiren770\" |     3.4375     |\n",
       "| A1Q384IOUQ95G2 |            Brandy           |      5.0       |\n",
       "| A1BF0QGC2YXG1P |            mindy            |      4.4       |\n",
       "| A1HJ5FE8BJYRBQ |          P.Simmons          | 3.88888888889  |\n",
       "| A2PL2EYSVSQAEO |        fiction addict       | 4.42857142857  |\n",
       "+----------------+-----------------------------+----------------+\n",
       "[71968 rows x 3 columns]\n",
       "Note: Only the head of the SFrame is printed.\n",
       "You can use print_rows(num_rows=m, num_columns=n) to print more rows and columns."
      ]
     },
     "execution_count": 54,
     "metadata": {},
     "output_type": "execute_result"
    }
   ],
   "source": [
    "users"
   ]
  },
  {
   "cell_type": "code",
   "execution_count": 55,
   "metadata": {
    "collapsed": true
   },
   "outputs": [],
   "source": [
    "train, valid = gl.recommender.util.random_split_by_user(data2, 'reviewerID', 'item_id', max_num_users=None, item_test_proportion=0.4)"
   ]
  },
  {
   "cell_type": "code",
   "execution_count": 56,
   "metadata": {
    "collapsed": false
   },
   "outputs": [
    {
     "data": {
      "text/html": [
       "<div style=\"max-height:1000px;max-width:1500px;overflow:auto;\"><table frame=\"box\" rules=\"cols\">\n",
       "    <tr>\n",
       "        <th style=\"padding-left: 1em; padding-right: 1em; text-align: center\">X1</th>\n",
       "        <th style=\"padding-left: 1em; padding-right: 1em; text-align: center\">asin</th>\n",
       "        <th style=\"padding-left: 1em; padding-right: 1em; text-align: center\">helpful</th>\n",
       "        <th style=\"padding-left: 1em; padding-right: 1em; text-align: center\">overall</th>\n",
       "        <th style=\"padding-left: 1em; padding-right: 1em; text-align: center\">reviewText</th>\n",
       "        <th style=\"padding-left: 1em; padding-right: 1em; text-align: center\">reviewTime</th>\n",
       "        <th style=\"padding-left: 1em; padding-right: 1em; text-align: center\">reviewerID</th>\n",
       "    </tr>\n",
       "    <tr>\n",
       "        <td style=\"padding-left: 1em; padding-right: 1em; text-align: center; vertical-align: top\">2</td>\n",
       "        <td style=\"padding-left: 1em; padding-right: 1em; text-align: center; vertical-align: top\">B000F83SZQ</td>\n",
       "        <td style=\"padding-left: 1em; padding-right: 1em; text-align: center; vertical-align: top\">[2.0, 2.0]</td>\n",
       "        <td style=\"padding-left: 1em; padding-right: 1em; text-align: center; vertical-align: top\">4</td>\n",
       "        <td style=\"padding-left: 1em; padding-right: 1em; text-align: center; vertical-align: top\">This was a fairly<br>interesting read.  It ...</td>\n",
       "        <td style=\"padding-left: 1em; padding-right: 1em; text-align: center; vertical-align: top\">04 4, 2014</td>\n",
       "        <td style=\"padding-left: 1em; padding-right: 1em; text-align: center; vertical-align: top\">A795DMNCJILA6</td>\n",
       "    </tr>\n",
       "    <tr>\n",
       "        <td style=\"padding-left: 1em; padding-right: 1em; text-align: center; vertical-align: top\">4</td>\n",
       "        <td style=\"padding-left: 1em; padding-right: 1em; text-align: center; vertical-align: top\">B000F83SZQ</td>\n",
       "        <td style=\"padding-left: 1em; padding-right: 1em; text-align: center; vertical-align: top\">[0.0, 1.0]</td>\n",
       "        <td style=\"padding-left: 1em; padding-right: 1em; text-align: center; vertical-align: top\">4</td>\n",
       "        <td style=\"padding-left: 1em; padding-right: 1em; text-align: center; vertical-align: top\">If you like period pieces<br>- clothing, lingo, you ...</td>\n",
       "        <td style=\"padding-left: 1em; padding-right: 1em; text-align: center; vertical-align: top\">03 19, 2014</td>\n",
       "        <td style=\"padding-left: 1em; padding-right: 1em; text-align: center; vertical-align: top\">A3SPTOKDG7WBLN</td>\n",
       "    </tr>\n",
       "    <tr>\n",
       "        <td style=\"padding-left: 1em; padding-right: 1em; text-align: center; vertical-align: top\">6</td>\n",
       "        <td style=\"padding-left: 1em; padding-right: 1em; text-align: center; vertical-align: top\">B000F83SZQ</td>\n",
       "        <td style=\"padding-left: 1em; padding-right: 1em; text-align: center; vertical-align: top\">[0.0, 0.0]</td>\n",
       "        <td style=\"padding-left: 1em; padding-right: 1em; text-align: center; vertical-align: top\">4</td>\n",
       "        <td style=\"padding-left: 1em; padding-right: 1em; text-align: center; vertical-align: top\">I enjoyed this one tho<br>I'm not sure why it's ...</td>\n",
       "        <td style=\"padding-left: 1em; padding-right: 1em; text-align: center; vertical-align: top\">06 10, 2014</td>\n",
       "        <td style=\"padding-left: 1em; padding-right: 1em; text-align: center; vertical-align: top\">A2HSAKHC3IBRE6</td>\n",
       "    </tr>\n",
       "    <tr>\n",
       "        <td style=\"padding-left: 1em; padding-right: 1em; text-align: center; vertical-align: top\">9</td>\n",
       "        <td style=\"padding-left: 1em; padding-right: 1em; text-align: center; vertical-align: top\">B000FA64PA</td>\n",
       "        <td style=\"padding-left: 1em; padding-right: 1em; text-align: center; vertical-align: top\">[0.0, 0.0]</td>\n",
       "        <td style=\"padding-left: 1em; padding-right: 1em; text-align: center; vertical-align: top\">4</td>\n",
       "        <td style=\"padding-left: 1em; padding-right: 1em; text-align: center; vertical-align: top\">This is a short story<br>focused on Darth Maul's ...</td>\n",
       "        <td style=\"padding-left: 1em; padding-right: 1em; text-align: center; vertical-align: top\">02 13, 2011</td>\n",
       "        <td style=\"padding-left: 1em; padding-right: 1em; text-align: center; vertical-align: top\">AQZH7YTWQPOBE</td>\n",
       "    </tr>\n",
       "    <tr>\n",
       "        <td style=\"padding-left: 1em; padding-right: 1em; text-align: center; vertical-align: top\">11</td>\n",
       "        <td style=\"padding-left: 1em; padding-right: 1em; text-align: center; vertical-align: top\">B000FA64PA</td>\n",
       "        <td style=\"padding-left: 1em; padding-right: 1em; text-align: center; vertical-align: top\">[0.0, 0.0]</td>\n",
       "        <td style=\"padding-left: 1em; padding-right: 1em; text-align: center; vertical-align: top\">4</td>\n",
       "        <td style=\"padding-left: 1em; padding-right: 1em; text-align: center; vertical-align: top\">Title has nothing to do<br>with the story.  I did ...</td>\n",
       "        <td style=\"padding-left: 1em; padding-right: 1em; text-align: center; vertical-align: top\">09 17, 2011</td>\n",
       "        <td style=\"padding-left: 1em; padding-right: 1em; text-align: center; vertical-align: top\">A2ZFR72PT054YS</td>\n",
       "    </tr>\n",
       "    <tr>\n",
       "        <td style=\"padding-left: 1em; padding-right: 1em; text-align: center; vertical-align: top\">12</td>\n",
       "        <td style=\"padding-left: 1em; padding-right: 1em; text-align: center; vertical-align: top\">B000FA64PA</td>\n",
       "        <td style=\"padding-left: 1em; padding-right: 1em; text-align: center; vertical-align: top\">[0.0, 0.0]</td>\n",
       "        <td style=\"padding-left: 1em; padding-right: 1em; text-align: center; vertical-align: top\">3</td>\n",
       "        <td style=\"padding-left: 1em; padding-right: 1em; text-align: center; vertical-align: top\">Well written. Interesting<br>to see Sideous (through ...</td>\n",
       "        <td style=\"padding-left: 1em; padding-right: 1em; text-align: center; vertical-align: top\">12 31, 2013</td>\n",
       "        <td style=\"padding-left: 1em; padding-right: 1em; text-align: center; vertical-align: top\">A2QK1U70OJ74P</td>\n",
       "    </tr>\n",
       "    <tr>\n",
       "        <td style=\"padding-left: 1em; padding-right: 1em; text-align: center; vertical-align: top\">13</td>\n",
       "        <td style=\"padding-left: 1em; padding-right: 1em; text-align: center; vertical-align: top\">B000FA64PK</td>\n",
       "        <td style=\"padding-left: 1em; padding-right: 1em; text-align: center; vertical-align: top\">[0.0, 0.0]</td>\n",
       "        <td style=\"padding-left: 1em; padding-right: 1em; text-align: center; vertical-align: top\">3</td>\n",
       "        <td style=\"padding-left: 1em; padding-right: 1em; text-align: center; vertical-align: top\">Troy Denning's novella<br>Recovery was originally ...</td>\n",
       "        <td style=\"padding-left: 1em; padding-right: 1em; text-align: center; vertical-align: top\">03 15, 2012</td>\n",
       "        <td style=\"padding-left: 1em; padding-right: 1em; text-align: center; vertical-align: top\">A3SZMGJMV0G16C</td>\n",
       "    </tr>\n",
       "    <tr>\n",
       "        <td style=\"padding-left: 1em; padding-right: 1em; text-align: center; vertical-align: top\">15</td>\n",
       "        <td style=\"padding-left: 1em; padding-right: 1em; text-align: center; vertical-align: top\">B000FA64PK</td>\n",
       "        <td style=\"padding-left: 1em; padding-right: 1em; text-align: center; vertical-align: top\">[0.0, 0.0]</td>\n",
       "        <td style=\"padding-left: 1em; padding-right: 1em; text-align: center; vertical-align: top\">5</td>\n",
       "        <td style=\"padding-left: 1em; padding-right: 1em; text-align: center; vertical-align: top\">I really enjoyed the<br>book. Had the normal  ...</td>\n",
       "        <td style=\"padding-left: 1em; padding-right: 1em; text-align: center; vertical-align: top\">01 2, 2014</td>\n",
       "        <td style=\"padding-left: 1em; padding-right: 1em; text-align: center; vertical-align: top\">A2EN84QHDRZLP2</td>\n",
       "    </tr>\n",
       "    <tr>\n",
       "        <td style=\"padding-left: 1em; padding-right: 1em; text-align: center; vertical-align: top\">18</td>\n",
       "        <td style=\"padding-left: 1em; padding-right: 1em; text-align: center; vertical-align: top\">B000FA64PK</td>\n",
       "        <td style=\"padding-left: 1em; padding-right: 1em; text-align: center; vertical-align: top\">[0.0, 1.0]</td>\n",
       "        <td style=\"padding-left: 1em; padding-right: 1em; text-align: center; vertical-align: top\">5</td>\n",
       "        <td style=\"padding-left: 1em; padding-right: 1em; text-align: center; vertical-align: top\">This one promises to be<br>another good book. I  ...</td>\n",
       "        <td style=\"padding-left: 1em; padding-right: 1em; text-align: center; vertical-align: top\">01 27, 2014</td>\n",
       "        <td style=\"padding-left: 1em; padding-right: 1em; text-align: center; vertical-align: top\">A1ZT7WV0ZUA0OJ</td>\n",
       "    </tr>\n",
       "    <tr>\n",
       "        <td style=\"padding-left: 1em; padding-right: 1em; text-align: center; vertical-align: top\">20</td>\n",
       "        <td style=\"padding-left: 1em; padding-right: 1em; text-align: center; vertical-align: top\">B000FA64PK</td>\n",
       "        <td style=\"padding-left: 1em; padding-right: 1em; text-align: center; vertical-align: top\">[0.0, 0.0]</td>\n",
       "        <td style=\"padding-left: 1em; padding-right: 1em; text-align: center; vertical-align: top\">5</td>\n",
       "        <td style=\"padding-left: 1em; padding-right: 1em; text-align: center; vertical-align: top\">Excellent! Very well<br>written story, very ...</td>\n",
       "        <td style=\"padding-left: 1em; padding-right: 1em; text-align: center; vertical-align: top\">12 31, 2013</td>\n",
       "        <td style=\"padding-left: 1em; padding-right: 1em; text-align: center; vertical-align: top\">A2QK1U70OJ74P</td>\n",
       "    </tr>\n",
       "</table>\n",
       "<table frame=\"box\" rules=\"cols\">\n",
       "    <tr>\n",
       "        <th style=\"padding-left: 1em; padding-right: 1em; text-align: center\">reviewerName</th>\n",
       "        <th style=\"padding-left: 1em; padding-right: 1em; text-align: center\">summary</th>\n",
       "        <th style=\"padding-left: 1em; padding-right: 1em; text-align: center\">unixReviewTime</th>\n",
       "        <th style=\"padding-left: 1em; padding-right: 1em; text-align: center\">item_id</th>\n",
       "        <th style=\"padding-left: 1em; padding-right: 1em; text-align: center\">Avg of overall</th>\n",
       "        <th style=\"padding-left: 1em; padding-right: 1em; text-align: center\">description</th>\n",
       "        <th style=\"padding-left: 1em; padding-right: 1em; text-align: center\">price</th>\n",
       "    </tr>\n",
       "    <tr>\n",
       "        <td style=\"padding-left: 1em; padding-right: 1em; text-align: center; vertical-align: top\">dot</td>\n",
       "        <td style=\"padding-left: 1em; padding-right: 1em; text-align: center; vertical-align: top\">Oldie</td>\n",
       "        <td style=\"padding-left: 1em; padding-right: 1em; text-align: center; vertical-align: top\">1396569600</td>\n",
       "        <td style=\"padding-left: 1em; padding-right: 1em; text-align: center; vertical-align: top\">28192</td>\n",
       "        <td style=\"padding-left: 1em; padding-right: 1em; text-align: center; vertical-align: top\">4.25</td>\n",
       "        <td style=\"padding-left: 1em; padding-right: 1em; text-align: center; vertical-align: top\"></td>\n",
       "        <td style=\"padding-left: 1em; padding-right: 1em; text-align: center; vertical-align: top\">0.0</td>\n",
       "    </tr>\n",
       "    <tr>\n",
       "        <td style=\"padding-left: 1em; padding-right: 1em; text-align: center; vertical-align: top\">Father Dowling Fan</td>\n",
       "        <td style=\"padding-left: 1em; padding-right: 1em; text-align: center; vertical-align: top\">Period Mystery</td>\n",
       "        <td style=\"padding-left: 1em; padding-right: 1em; text-align: center; vertical-align: top\">1395187200</td>\n",
       "        <td style=\"padding-left: 1em; padding-right: 1em; text-align: center; vertical-align: top\">28192</td>\n",
       "        <td style=\"padding-left: 1em; padding-right: 1em; text-align: center; vertical-align: top\">4.25</td>\n",
       "        <td style=\"padding-left: 1em; padding-right: 1em; text-align: center; vertical-align: top\"></td>\n",
       "        <td style=\"padding-left: 1em; padding-right: 1em; text-align: center; vertical-align: top\">0.0</td>\n",
       "    </tr>\n",
       "    <tr>\n",
       "        <td style=\"padding-left: 1em; padding-right: 1em; text-align: center; vertical-align: top\">Wolfmist</td>\n",
       "        <td style=\"padding-left: 1em; padding-right: 1em; text-align: center; vertical-align: top\">Nice old fashioned story</td>\n",
       "        <td style=\"padding-left: 1em; padding-right: 1em; text-align: center; vertical-align: top\">1402358400</td>\n",
       "        <td style=\"padding-left: 1em; padding-right: 1em; text-align: center; vertical-align: top\">28192</td>\n",
       "        <td style=\"padding-left: 1em; padding-right: 1em; text-align: center; vertical-align: top\">4.25</td>\n",
       "        <td style=\"padding-left: 1em; padding-right: 1em; text-align: center; vertical-align: top\"></td>\n",
       "        <td style=\"padding-left: 1em; padding-right: 1em; text-align: center; vertical-align: top\">0.0</td>\n",
       "    </tr>\n",
       "    <tr>\n",
       "        <td style=\"padding-left: 1em; padding-right: 1em; text-align: center; vertical-align: top\">Enjolras</td>\n",
       "        <td style=\"padding-left: 1em; padding-right: 1em; text-align: center; vertical-align: top\">Not bad, not exceptional</td>\n",
       "        <td style=\"padding-left: 1em; padding-right: 1em; text-align: center; vertical-align: top\">1297555200</td>\n",
       "        <td style=\"padding-left: 1em; padding-right: 1em; text-align: center; vertical-align: top\">31608</td>\n",
       "        <td style=\"padding-left: 1em; padding-right: 1em; text-align: center; vertical-align: top\">4.2</td>\n",
       "        <td style=\"padding-left: 1em; padding-right: 1em; text-align: center; vertical-align: top\"></td>\n",
       "        <td style=\"padding-left: 1em; padding-right: 1em; text-align: center; vertical-align: top\">4.58</td>\n",
       "    </tr>\n",
       "    <tr>\n",
       "        <td style=\"padding-left: 1em; padding-right: 1em; text-align: center; vertical-align: top\">monkeyluis</td>\n",
       "        <td style=\"padding-left: 1em; padding-right: 1em; text-align: center; vertical-align: top\">Darth Maul...the brother<br>I never had. ...</td>\n",
       "        <td style=\"padding-left: 1em; padding-right: 1em; text-align: center; vertical-align: top\">1316217600</td>\n",
       "        <td style=\"padding-left: 1em; padding-right: 1em; text-align: center; vertical-align: top\">31608</td>\n",
       "        <td style=\"padding-left: 1em; padding-right: 1em; text-align: center; vertical-align: top\">4.2</td>\n",
       "        <td style=\"padding-left: 1em; padding-right: 1em; text-align: center; vertical-align: top\"></td>\n",
       "        <td style=\"padding-left: 1em; padding-right: 1em; text-align: center; vertical-align: top\">4.58</td>\n",
       "    </tr>\n",
       "    <tr>\n",
       "        <td style=\"padding-left: 1em; padding-right: 1em; text-align: center; vertical-align: top\">Sharon Deem</td>\n",
       "        <td style=\"padding-left: 1em; padding-right: 1em; text-align: center; vertical-align: top\">Not bad; it is well<br>written ...</td>\n",
       "        <td style=\"padding-left: 1em; padding-right: 1em; text-align: center; vertical-align: top\">1388448000</td>\n",
       "        <td style=\"padding-left: 1em; padding-right: 1em; text-align: center; vertical-align: top\">31608</td>\n",
       "        <td style=\"padding-left: 1em; padding-right: 1em; text-align: center; vertical-align: top\">4.2</td>\n",
       "        <td style=\"padding-left: 1em; padding-right: 1em; text-align: center; vertical-align: top\"></td>\n",
       "        <td style=\"padding-left: 1em; padding-right: 1em; text-align: center; vertical-align: top\">4.58</td>\n",
       "    </tr>\n",
       "    <tr>\n",
       "        <td style=\"padding-left: 1em; padding-right: 1em; text-align: center; vertical-align: top\">Andrew Pruette \"Rancors<br>Love to Read\" ...</td>\n",
       "        <td style=\"padding-left: 1em; padding-right: 1em; text-align: center; vertical-align: top\">Han and Leia reunited and<br>Barabel Jedi introduced ...</td>\n",
       "        <td style=\"padding-left: 1em; padding-right: 1em; text-align: center; vertical-align: top\">1331769600</td>\n",
       "        <td style=\"padding-left: 1em; padding-right: 1em; text-align: center; vertical-align: top\">3563</td>\n",
       "        <td style=\"padding-left: 1em; padding-right: 1em; text-align: center; vertical-align: top\">4.375</td>\n",
       "        <td style=\"padding-left: 1em; padding-right: 1em; text-align: center; vertical-align: top\"></td>\n",
       "        <td style=\"padding-left: 1em; padding-right: 1em; text-align: center; vertical-align: top\">5.99</td>\n",
       "    </tr>\n",
       "    <tr>\n",
       "        <td style=\"padding-left: 1em; padding-right: 1em; text-align: center; vertical-align: top\">Carl craft</td>\n",
       "        <td style=\"padding-left: 1em; padding-right: 1em; text-align: center; vertical-align: top\">Another read</td>\n",
       "        <td style=\"padding-left: 1em; padding-right: 1em; text-align: center; vertical-align: top\">1388620800</td>\n",
       "        <td style=\"padding-left: 1em; padding-right: 1em; text-align: center; vertical-align: top\">3563</td>\n",
       "        <td style=\"padding-left: 1em; padding-right: 1em; text-align: center; vertical-align: top\">4.375</td>\n",
       "        <td style=\"padding-left: 1em; padding-right: 1em; text-align: center; vertical-align: top\"></td>\n",
       "        <td style=\"padding-left: 1em; padding-right: 1em; text-align: center; vertical-align: top\">5.99</td>\n",
       "    </tr>\n",
       "    <tr>\n",
       "        <td style=\"padding-left: 1em; padding-right: 1em; text-align: center; vertical-align: top\">Mike</td>\n",
       "        <td style=\"padding-left: 1em; padding-right: 1em; text-align: center; vertical-align: top\">my collection</td>\n",
       "        <td style=\"padding-left: 1em; padding-right: 1em; text-align: center; vertical-align: top\">1390780800</td>\n",
       "        <td style=\"padding-left: 1em; padding-right: 1em; text-align: center; vertical-align: top\">3563</td>\n",
       "        <td style=\"padding-left: 1em; padding-right: 1em; text-align: center; vertical-align: top\">4.375</td>\n",
       "        <td style=\"padding-left: 1em; padding-right: 1em; text-align: center; vertical-align: top\"></td>\n",
       "        <td style=\"padding-left: 1em; padding-right: 1em; text-align: center; vertical-align: top\">5.99</td>\n",
       "    </tr>\n",
       "    <tr>\n",
       "        <td style=\"padding-left: 1em; padding-right: 1em; text-align: center; vertical-align: top\">Sharon Deem</td>\n",
       "        <td style=\"padding-left: 1em; padding-right: 1em; text-align: center; vertical-align: top\">Fits right into New Jedi<br>Order timeline ...</td>\n",
       "        <td style=\"padding-left: 1em; padding-right: 1em; text-align: center; vertical-align: top\">1388448000</td>\n",
       "        <td style=\"padding-left: 1em; padding-right: 1em; text-align: center; vertical-align: top\">3563</td>\n",
       "        <td style=\"padding-left: 1em; padding-right: 1em; text-align: center; vertical-align: top\">4.375</td>\n",
       "        <td style=\"padding-left: 1em; padding-right: 1em; text-align: center; vertical-align: top\"></td>\n",
       "        <td style=\"padding-left: 1em; padding-right: 1em; text-align: center; vertical-align: top\">5.99</td>\n",
       "    </tr>\n",
       "</table>\n",
       "<table frame=\"box\" rules=\"cols\">\n",
       "    <tr>\n",
       "        <th style=\"padding-left: 1em; padding-right: 1em; text-align: center\">imUrl</th>\n",
       "        <th style=\"padding-left: 1em; padding-right: 1em; text-align: center\">related</th>\n",
       "        <th style=\"padding-left: 1em; padding-right: 1em; text-align: center\">categories</th>\n",
       "        <th style=\"padding-left: 1em; padding-right: 1em; text-align: center\">title</th>\n",
       "        <th style=\"padding-left: 1em; padding-right: 1em; text-align: center\">salesRank</th>\n",
       "        <th style=\"padding-left: 1em; padding-right: 1em; text-align: center\">brand</th>\n",
       "    </tr>\n",
       "    <tr>\n",
       "        <td style=\"padding-left: 1em; padding-right: 1em; text-align: center; vertical-align: top\">http://ecx.images-amazon.<br>com/images/I/51yLqHe% ...</td>\n",
       "        <td style=\"padding-left: 1em; padding-right: 1em; text-align: center; vertical-align: top\">{'also_bought':<br>['B0080H1C0W', ...</td>\n",
       "        <td style=\"padding-left: 1em; padding-right: 1em; text-align: center; vertical-align: top\">[[Books, Literature &amp;<br>Fiction], [Books, ...</td>\n",
       "        <td style=\"padding-left: 1em; padding-right: 1em; text-align: center; vertical-align: top\"></td>\n",
       "        <td style=\"padding-left: 1em; padding-right: 1em; text-align: center; vertical-align: top\">None</td>\n",
       "        <td style=\"padding-left: 1em; padding-right: 1em; text-align: center; vertical-align: top\"></td>\n",
       "    </tr>\n",
       "    <tr>\n",
       "        <td style=\"padding-left: 1em; padding-right: 1em; text-align: center; vertical-align: top\">http://ecx.images-amazon.<br>com/images/I/51yLqHe% ...</td>\n",
       "        <td style=\"padding-left: 1em; padding-right: 1em; text-align: center; vertical-align: top\">{'also_bought':<br>['B0080H1C0W', ...</td>\n",
       "        <td style=\"padding-left: 1em; padding-right: 1em; text-align: center; vertical-align: top\">[[Books, Literature &amp;<br>Fiction], [Books, ...</td>\n",
       "        <td style=\"padding-left: 1em; padding-right: 1em; text-align: center; vertical-align: top\"></td>\n",
       "        <td style=\"padding-left: 1em; padding-right: 1em; text-align: center; vertical-align: top\">None</td>\n",
       "        <td style=\"padding-left: 1em; padding-right: 1em; text-align: center; vertical-align: top\"></td>\n",
       "    </tr>\n",
       "    <tr>\n",
       "        <td style=\"padding-left: 1em; padding-right: 1em; text-align: center; vertical-align: top\">http://ecx.images-amazon.<br>com/images/I/51yLqHe% ...</td>\n",
       "        <td style=\"padding-left: 1em; padding-right: 1em; text-align: center; vertical-align: top\">{'also_bought':<br>['B0080H1C0W', ...</td>\n",
       "        <td style=\"padding-left: 1em; padding-right: 1em; text-align: center; vertical-align: top\">[[Books, Literature &amp;<br>Fiction], [Books, ...</td>\n",
       "        <td style=\"padding-left: 1em; padding-right: 1em; text-align: center; vertical-align: top\"></td>\n",
       "        <td style=\"padding-left: 1em; padding-right: 1em; text-align: center; vertical-align: top\">None</td>\n",
       "        <td style=\"padding-left: 1em; padding-right: 1em; text-align: center; vertical-align: top\"></td>\n",
       "    </tr>\n",
       "    <tr>\n",
       "        <td style=\"padding-left: 1em; padding-right: 1em; text-align: center; vertical-align: top\">http://ecx.images-amazon.<br>com/images/I/4138cT%2 ...</td>\n",
       "        <td style=\"padding-left: 1em; padding-right: 1em; text-align: center; vertical-align: top\">{'also_bought':<br>['B00513D4HC', ...</td>\n",
       "        <td style=\"padding-left: 1em; padding-right: 1em; text-align: center; vertical-align: top\">[[Books, Comics &amp; Graphic<br>Novels], [Books, Science ...</td>\n",
       "        <td style=\"padding-left: 1em; padding-right: 1em; text-align: center; vertical-align: top\"></td>\n",
       "        <td style=\"padding-left: 1em; padding-right: 1em; text-align: center; vertical-align: top\">None</td>\n",
       "        <td style=\"padding-left: 1em; padding-right: 1em; text-align: center; vertical-align: top\"></td>\n",
       "    </tr>\n",
       "    <tr>\n",
       "        <td style=\"padding-left: 1em; padding-right: 1em; text-align: center; vertical-align: top\">http://ecx.images-amazon.<br>com/images/I/4138cT%2 ...</td>\n",
       "        <td style=\"padding-left: 1em; padding-right: 1em; text-align: center; vertical-align: top\">{'also_bought':<br>['B00513D4HC', ...</td>\n",
       "        <td style=\"padding-left: 1em; padding-right: 1em; text-align: center; vertical-align: top\">[[Books, Comics &amp; Graphic<br>Novels], [Books, Science ...</td>\n",
       "        <td style=\"padding-left: 1em; padding-right: 1em; text-align: center; vertical-align: top\"></td>\n",
       "        <td style=\"padding-left: 1em; padding-right: 1em; text-align: center; vertical-align: top\">None</td>\n",
       "        <td style=\"padding-left: 1em; padding-right: 1em; text-align: center; vertical-align: top\"></td>\n",
       "    </tr>\n",
       "    <tr>\n",
       "        <td style=\"padding-left: 1em; padding-right: 1em; text-align: center; vertical-align: top\">http://ecx.images-amazon.<br>com/images/I/4138cT%2 ...</td>\n",
       "        <td style=\"padding-left: 1em; padding-right: 1em; text-align: center; vertical-align: top\">{'also_bought':<br>['B00513D4HC', ...</td>\n",
       "        <td style=\"padding-left: 1em; padding-right: 1em; text-align: center; vertical-align: top\">[[Books, Comics &amp; Graphic<br>Novels], [Books, Science ...</td>\n",
       "        <td style=\"padding-left: 1em; padding-right: 1em; text-align: center; vertical-align: top\"></td>\n",
       "        <td style=\"padding-left: 1em; padding-right: 1em; text-align: center; vertical-align: top\">None</td>\n",
       "        <td style=\"padding-left: 1em; padding-right: 1em; text-align: center; vertical-align: top\"></td>\n",
       "    </tr>\n",
       "    <tr>\n",
       "        <td style=\"padding-left: 1em; padding-right: 1em; text-align: center; vertical-align: top\">http://ecx.images-amazon.<br>com/images/I/31Ov6Go% ...</td>\n",
       "        <td style=\"padding-left: 1em; padding-right: 1em; text-align: center; vertical-align: top\">{'also_bought':<br>['B000FA64QO', ...</td>\n",
       "        <td style=\"padding-left: 1em; padding-right: 1em; text-align: center; vertical-align: top\">[[Books, Comics &amp; Graphic<br>Novels, Graphic Novels, ...</td>\n",
       "        <td style=\"padding-left: 1em; padding-right: 1em; text-align: center; vertical-align: top\"></td>\n",
       "        <td style=\"padding-left: 1em; padding-right: 1em; text-align: center; vertical-align: top\">None</td>\n",
       "        <td style=\"padding-left: 1em; padding-right: 1em; text-align: center; vertical-align: top\"></td>\n",
       "    </tr>\n",
       "    <tr>\n",
       "        <td style=\"padding-left: 1em; padding-right: 1em; text-align: center; vertical-align: top\">http://ecx.images-amazon.<br>com/images/I/31Ov6Go% ...</td>\n",
       "        <td style=\"padding-left: 1em; padding-right: 1em; text-align: center; vertical-align: top\">{'also_bought':<br>['B000FA64QO', ...</td>\n",
       "        <td style=\"padding-left: 1em; padding-right: 1em; text-align: center; vertical-align: top\">[[Books, Comics &amp; Graphic<br>Novels, Graphic Novels, ...</td>\n",
       "        <td style=\"padding-left: 1em; padding-right: 1em; text-align: center; vertical-align: top\"></td>\n",
       "        <td style=\"padding-left: 1em; padding-right: 1em; text-align: center; vertical-align: top\">None</td>\n",
       "        <td style=\"padding-left: 1em; padding-right: 1em; text-align: center; vertical-align: top\"></td>\n",
       "    </tr>\n",
       "    <tr>\n",
       "        <td style=\"padding-left: 1em; padding-right: 1em; text-align: center; vertical-align: top\">http://ecx.images-amazon.<br>com/images/I/31Ov6Go% ...</td>\n",
       "        <td style=\"padding-left: 1em; padding-right: 1em; text-align: center; vertical-align: top\">{'also_bought':<br>['B000FA64QO', ...</td>\n",
       "        <td style=\"padding-left: 1em; padding-right: 1em; text-align: center; vertical-align: top\">[[Books, Comics &amp; Graphic<br>Novels, Graphic Novels, ...</td>\n",
       "        <td style=\"padding-left: 1em; padding-right: 1em; text-align: center; vertical-align: top\"></td>\n",
       "        <td style=\"padding-left: 1em; padding-right: 1em; text-align: center; vertical-align: top\">None</td>\n",
       "        <td style=\"padding-left: 1em; padding-right: 1em; text-align: center; vertical-align: top\"></td>\n",
       "    </tr>\n",
       "    <tr>\n",
       "        <td style=\"padding-left: 1em; padding-right: 1em; text-align: center; vertical-align: top\">http://ecx.images-amazon.<br>com/images/I/31Ov6Go% ...</td>\n",
       "        <td style=\"padding-left: 1em; padding-right: 1em; text-align: center; vertical-align: top\">{'also_bought':<br>['B000FA64QO', ...</td>\n",
       "        <td style=\"padding-left: 1em; padding-right: 1em; text-align: center; vertical-align: top\">[[Books, Comics &amp; Graphic<br>Novels, Graphic Novels, ...</td>\n",
       "        <td style=\"padding-left: 1em; padding-right: 1em; text-align: center; vertical-align: top\"></td>\n",
       "        <td style=\"padding-left: 1em; padding-right: 1em; text-align: center; vertical-align: top\">None</td>\n",
       "        <td style=\"padding-left: 1em; padding-right: 1em; text-align: center; vertical-align: top\"></td>\n",
       "    </tr>\n",
       "</table>\n",
       "[551640 rows x 20 columns]<br/>Note: Only the head of the SFrame is printed.<br/>You can use print_rows(num_rows=m, num_columns=n) to print more rows and columns.\n",
       "</div>"
      ],
      "text/plain": [
       "Columns:\n",
       "\tX1\tint\n",
       "\tasin\tstr\n",
       "\thelpful\tarray\n",
       "\toverall\tint\n",
       "\treviewText\tstr\n",
       "\treviewTime\tstr\n",
       "\treviewerID\tstr\n",
       "\treviewerName\tstr\n",
       "\tsummary\tstr\n",
       "\tunixReviewTime\tint\n",
       "\titem_id\tint\n",
       "\tAvg of overall\tfloat\n",
       "\tdescription\tstr\n",
       "\tprice\tfloat\n",
       "\timUrl\tstr\n",
       "\trelated\tdict\n",
       "\tcategories\tlist\n",
       "\ttitle\tstr\n",
       "\tsalesRank\tdict\n",
       "\tbrand\tstr\n",
       "\n",
       "Rows: 551640\n",
       "\n",
       "Data:\n",
       "+----+------------+------------+---------+-------------------------------+\n",
       "| X1 |    asin    |  helpful   | overall |           reviewText          |\n",
       "+----+------------+------------+---------+-------------------------------+\n",
       "| 2  | B000F83SZQ | [2.0, 2.0] |    4    | This was a fairly interest... |\n",
       "| 4  | B000F83SZQ | [0.0, 1.0] |    4    | If you like period pieces ... |\n",
       "| 6  | B000F83SZQ | [0.0, 0.0] |    4    | I enjoyed this one tho I'm... |\n",
       "| 9  | B000FA64PA | [0.0, 0.0] |    4    | This is a short story focu... |\n",
       "| 11 | B000FA64PA | [0.0, 0.0] |    4    | Title has nothing to do wi... |\n",
       "| 12 | B000FA64PA | [0.0, 0.0] |    3    | Well written. Interesting ... |\n",
       "| 13 | B000FA64PK | [0.0, 0.0] |    3    | Troy Denning's novella Rec... |\n",
       "| 15 | B000FA64PK | [0.0, 0.0] |    5    | I really enjoyed the book.... |\n",
       "| 18 | B000FA64PK | [0.0, 1.0] |    5    | This one promises to be an... |\n",
       "| 20 | B000FA64PK | [0.0, 0.0] |    5    | Excellent! Very well writt... |\n",
       "+----+------------+------------+---------+-------------------------------+\n",
       "+-------------+----------------+-------------------------------+\n",
       "|  reviewTime |   reviewerID   |          reviewerName         |\n",
       "+-------------+----------------+-------------------------------+\n",
       "|  04 4, 2014 | A795DMNCJILA6  |              dot              |\n",
       "| 03 19, 2014 | A3SPTOKDG7WBLN |       Father Dowling Fan      |\n",
       "| 06 10, 2014 | A2HSAKHC3IBRE6 |            Wolfmist           |\n",
       "| 02 13, 2011 | AQZH7YTWQPOBE  |            Enjolras           |\n",
       "| 09 17, 2011 | A2ZFR72PT054YS |           monkeyluis          |\n",
       "| 12 31, 2013 | A2QK1U70OJ74P  |          Sharon Deem          |\n",
       "| 03 15, 2012 | A3SZMGJMV0G16C | Andrew Pruette \"Rancors Lo... |\n",
       "|  01 2, 2014 | A2EN84QHDRZLP2 |           Carl craft          |\n",
       "| 01 27, 2014 | A1ZT7WV0ZUA0OJ |              Mike             |\n",
       "| 12 31, 2013 | A2QK1U70OJ74P  |          Sharon Deem          |\n",
       "+-------------+----------------+-------------------------------+\n",
       "+-------------------------------+----------------+---------+----------------+-------------+\n",
       "|            summary            | unixReviewTime | item_id | Avg of overall | description |\n",
       "+-------------------------------+----------------+---------+----------------+-------------+\n",
       "|             Oldie             |   1396569600   |  28192  |      4.25      |             |\n",
       "|         Period Mystery        |   1395187200   |  28192  |      4.25      |             |\n",
       "|    Nice old fashioned story   |   1402358400   |  28192  |      4.25      |             |\n",
       "|    Not bad, not exceptional   |   1297555200   |  31608  |      4.2       |             |\n",
       "| Darth Maul...the brother I... |   1316217600   |  31608  |      4.2       |             |\n",
       "|  Not bad; it is well written  |   1388448000   |  31608  |      4.2       |             |\n",
       "| Han and Leia reunited and ... |   1331769600   |   3563  |     4.375      |             |\n",
       "|          Another read         |   1388620800   |   3563  |     4.375      |             |\n",
       "|         my collection         |   1390780800   |   3563  |     4.375      |             |\n",
       "| Fits right into New Jedi O... |   1388448000   |   3563  |     4.375      |             |\n",
       "+-------------------------------+----------------+---------+----------------+-------------+\n",
       "+-------+-------------------------------+-------------------------------+\n",
       "| price |             imUrl             |            related            |\n",
       "+-------+-------------------------------+-------------------------------+\n",
       "|  0.0  | http://ecx.images-amazon.c... | {'also_bought': ['B0080H1C... |\n",
       "|  0.0  | http://ecx.images-amazon.c... | {'also_bought': ['B0080H1C... |\n",
       "|  0.0  | http://ecx.images-amazon.c... | {'also_bought': ['B0080H1C... |\n",
       "|  4.58 | http://ecx.images-amazon.c... | {'also_bought': ['B00513D4... |\n",
       "|  4.58 | http://ecx.images-amazon.c... | {'also_bought': ['B00513D4... |\n",
       "|  4.58 | http://ecx.images-amazon.c... | {'also_bought': ['B00513D4... |\n",
       "|  5.99 | http://ecx.images-amazon.c... | {'also_bought': ['B000FA64... |\n",
       "|  5.99 | http://ecx.images-amazon.c... | {'also_bought': ['B000FA64... |\n",
       "|  5.99 | http://ecx.images-amazon.c... | {'also_bought': ['B000FA64... |\n",
       "|  5.99 | http://ecx.images-amazon.c... | {'also_bought': ['B000FA64... |\n",
       "+-------+-------------------------------+-------------------------------+\n",
       "+-------------------------------+-------+-----------+-------+\n",
       "|           categories          | title | salesRank | brand |\n",
       "+-------------------------------+-------+-----------+-------+\n",
       "| [[Books, Literature & Fict... |       |    None   |       |\n",
       "| [[Books, Literature & Fict... |       |    None   |       |\n",
       "| [[Books, Literature & Fict... |       |    None   |       |\n",
       "| [[Books, Comics & Graphic ... |       |    None   |       |\n",
       "| [[Books, Comics & Graphic ... |       |    None   |       |\n",
       "| [[Books, Comics & Graphic ... |       |    None   |       |\n",
       "| [[Books, Comics & Graphic ... |       |    None   |       |\n",
       "| [[Books, Comics & Graphic ... |       |    None   |       |\n",
       "| [[Books, Comics & Graphic ... |       |    None   |       |\n",
       "| [[Books, Comics & Graphic ... |       |    None   |       |\n",
       "+-------------------------------+-------+-----------+-------+\n",
       "[551640 rows x 20 columns]\n",
       "Note: Only the head of the SFrame is printed.\n",
       "You can use print_rows(num_rows=m, num_columns=n) to print more rows and columns."
      ]
     },
     "execution_count": 56,
     "metadata": {},
     "output_type": "execute_result"
    }
   ],
   "source": [
    "train"
   ]
  },
  {
   "cell_type": "code",
   "execution_count": 57,
   "metadata": {
    "collapsed": false
   },
   "outputs": [
    {
     "data": {
      "text/html": [
       "<div style=\"max-height:1000px;max-width:1500px;overflow:auto;\"><table frame=\"box\" rules=\"cols\">\n",
       "    <tr>\n",
       "        <th style=\"padding-left: 1em; padding-right: 1em; text-align: center\">X1</th>\n",
       "        <th style=\"padding-left: 1em; padding-right: 1em; text-align: center\">asin</th>\n",
       "        <th style=\"padding-left: 1em; padding-right: 1em; text-align: center\">helpful</th>\n",
       "        <th style=\"padding-left: 1em; padding-right: 1em; text-align: center\">overall</th>\n",
       "        <th style=\"padding-left: 1em; padding-right: 1em; text-align: center\">reviewText</th>\n",
       "        <th style=\"padding-left: 1em; padding-right: 1em; text-align: center\">reviewTime</th>\n",
       "        <th style=\"padding-left: 1em; padding-right: 1em; text-align: center\">reviewerID</th>\n",
       "    </tr>\n",
       "    <tr>\n",
       "        <td style=\"padding-left: 1em; padding-right: 1em; text-align: center; vertical-align: top\">0</td>\n",
       "        <td style=\"padding-left: 1em; padding-right: 1em; text-align: center; vertical-align: top\">B000F83SZQ</td>\n",
       "        <td style=\"padding-left: 1em; padding-right: 1em; text-align: center; vertical-align: top\">[0.0, 0.0]</td>\n",
       "        <td style=\"padding-left: 1em; padding-right: 1em; text-align: center; vertical-align: top\">5</td>\n",
       "        <td style=\"padding-left: 1em; padding-right: 1em; text-align: center; vertical-align: top\">I enjoy vintage books and<br>movies so I enjoyed ...</td>\n",
       "        <td style=\"padding-left: 1em; padding-right: 1em; text-align: center; vertical-align: top\">05 5, 2014</td>\n",
       "        <td style=\"padding-left: 1em; padding-right: 1em; text-align: center; vertical-align: top\">A1F6404F1VG29J</td>\n",
       "    </tr>\n",
       "    <tr>\n",
       "        <td style=\"padding-left: 1em; padding-right: 1em; text-align: center; vertical-align: top\">1</td>\n",
       "        <td style=\"padding-left: 1em; padding-right: 1em; text-align: center; vertical-align: top\">B000F83SZQ</td>\n",
       "        <td style=\"padding-left: 1em; padding-right: 1em; text-align: center; vertical-align: top\">[2.0, 2.0]</td>\n",
       "        <td style=\"padding-left: 1em; padding-right: 1em; text-align: center; vertical-align: top\">4</td>\n",
       "        <td style=\"padding-left: 1em; padding-right: 1em; text-align: center; vertical-align: top\">This book is a reissue of<br>an old one; the author ...</td>\n",
       "        <td style=\"padding-left: 1em; padding-right: 1em; text-align: center; vertical-align: top\">01 6, 2014</td>\n",
       "        <td style=\"padding-left: 1em; padding-right: 1em; text-align: center; vertical-align: top\">AN0N05A9LIJEQ</td>\n",
       "    </tr>\n",
       "    <tr>\n",
       "        <td style=\"padding-left: 1em; padding-right: 1em; text-align: center; vertical-align: top\">3</td>\n",
       "        <td style=\"padding-left: 1em; padding-right: 1em; text-align: center; vertical-align: top\">B000F83SZQ</td>\n",
       "        <td style=\"padding-left: 1em; padding-right: 1em; text-align: center; vertical-align: top\">[1.0, 1.0]</td>\n",
       "        <td style=\"padding-left: 1em; padding-right: 1em; text-align: center; vertical-align: top\">5</td>\n",
       "        <td style=\"padding-left: 1em; padding-right: 1em; text-align: center; vertical-align: top\">I'd never read any of the<br>Amy Brewster mysteries ...</td>\n",
       "        <td style=\"padding-left: 1em; padding-right: 1em; text-align: center; vertical-align: top\">02 19, 2014</td>\n",
       "        <td style=\"padding-left: 1em; padding-right: 1em; text-align: center; vertical-align: top\">A1FV0SX13TWVXQ</td>\n",
       "    </tr>\n",
       "    <tr>\n",
       "        <td style=\"padding-left: 1em; padding-right: 1em; text-align: center; vertical-align: top\">5</td>\n",
       "        <td style=\"padding-left: 1em; padding-right: 1em; text-align: center; vertical-align: top\">B000F83SZQ</td>\n",
       "        <td style=\"padding-left: 1em; padding-right: 1em; text-align: center; vertical-align: top\">[0.0, 0.0]</td>\n",
       "        <td style=\"padding-left: 1em; padding-right: 1em; text-align: center; vertical-align: top\">4</td>\n",
       "        <td style=\"padding-left: 1em; padding-right: 1em; text-align: center; vertical-align: top\">A beautiful in-depth<br>character description ...</td>\n",
       "        <td style=\"padding-left: 1em; padding-right: 1em; text-align: center; vertical-align: top\">05 26, 2014</td>\n",
       "        <td style=\"padding-left: 1em; padding-right: 1em; text-align: center; vertical-align: top\">A1RK2OCZDSGC6R</td>\n",
       "    </tr>\n",
       "    <tr>\n",
       "        <td style=\"padding-left: 1em; padding-right: 1em; text-align: center; vertical-align: top\">7</td>\n",
       "        <td style=\"padding-left: 1em; padding-right: 1em; text-align: center; vertical-align: top\">B000F83SZQ</td>\n",
       "        <td style=\"padding-left: 1em; padding-right: 1em; text-align: center; vertical-align: top\">[1.0, 1.0]</td>\n",
       "        <td style=\"padding-left: 1em; padding-right: 1em; text-align: center; vertical-align: top\">4</td>\n",
       "        <td style=\"padding-left: 1em; padding-right: 1em; text-align: center; vertical-align: top\">Never heard of Amy<br>Brewster. But I don't ...</td>\n",
       "        <td style=\"padding-left: 1em; padding-right: 1em; text-align: center; vertical-align: top\">03 22, 2014</td>\n",
       "        <td style=\"padding-left: 1em; padding-right: 1em; text-align: center; vertical-align: top\">A3DE6XGZ2EPADS</td>\n",
       "    </tr>\n",
       "    <tr>\n",
       "        <td style=\"padding-left: 1em; padding-right: 1em; text-align: center; vertical-align: top\">8</td>\n",
       "        <td style=\"padding-left: 1em; padding-right: 1em; text-align: center; vertical-align: top\">B000FA64PA</td>\n",
       "        <td style=\"padding-left: 1em; padding-right: 1em; text-align: center; vertical-align: top\">[0.0, 0.0]</td>\n",
       "        <td style=\"padding-left: 1em; padding-right: 1em; text-align: center; vertical-align: top\">5</td>\n",
       "        <td style=\"padding-left: 1em; padding-right: 1em; text-align: center; vertical-align: top\">Darth Maul working under<br>cloak of darkness ...</td>\n",
       "        <td style=\"padding-left: 1em; padding-right: 1em; text-align: center; vertical-align: top\">10 11, 2013</td>\n",
       "        <td style=\"padding-left: 1em; padding-right: 1em; text-align: center; vertical-align: top\">A1UG4Q4D3OAH3A</td>\n",
       "    </tr>\n",
       "    <tr>\n",
       "        <td style=\"padding-left: 1em; padding-right: 1em; text-align: center; vertical-align: top\">10</td>\n",
       "        <td style=\"padding-left: 1em; padding-right: 1em; text-align: center; vertical-align: top\">B000FA64PA</td>\n",
       "        <td style=\"padding-left: 1em; padding-right: 1em; text-align: center; vertical-align: top\">[0.0, 0.0]</td>\n",
       "        <td style=\"padding-left: 1em; padding-right: 1em; text-align: center; vertical-align: top\">5</td>\n",
       "        <td style=\"padding-left: 1em; padding-right: 1em; text-align: center; vertical-align: top\">I think I have this one<br>in both book and audio. ...</td>\n",
       "        <td style=\"padding-left: 1em; padding-right: 1em; text-align: center; vertical-align: top\">01 27, 2014</td>\n",
       "        <td style=\"padding-left: 1em; padding-right: 1em; text-align: center; vertical-align: top\">A1ZT7WV0ZUA0OJ</td>\n",
       "    </tr>\n",
       "    <tr>\n",
       "        <td style=\"padding-left: 1em; padding-right: 1em; text-align: center; vertical-align: top\">14</td>\n",
       "        <td style=\"padding-left: 1em; padding-right: 1em; text-align: center; vertical-align: top\">B000FA64PK</td>\n",
       "        <td style=\"padding-left: 1em; padding-right: 1em; text-align: center; vertical-align: top\">[0.0, 0.0]</td>\n",
       "        <td style=\"padding-left: 1em; padding-right: 1em; text-align: center; vertical-align: top\">5</td>\n",
       "        <td style=\"padding-left: 1em; padding-right: 1em; text-align: center; vertical-align: top\">I am not for sure on how<br>much of a difference the ...</td>\n",
       "        <td style=\"padding-left: 1em; padding-right: 1em; text-align: center; vertical-align: top\">05 12, 2013</td>\n",
       "        <td style=\"padding-left: 1em; padding-right: 1em; text-align: center; vertical-align: top\">A3H8PE1UFK04JZ</td>\n",
       "    </tr>\n",
       "    <tr>\n",
       "        <td style=\"padding-left: 1em; padding-right: 1em; text-align: center; vertical-align: top\">16</td>\n",
       "        <td style=\"padding-left: 1em; padding-right: 1em; text-align: center; vertical-align: top\">B000FA64PK</td>\n",
       "        <td style=\"padding-left: 1em; padding-right: 1em; text-align: center; vertical-align: top\">[0.0, 0.0]</td>\n",
       "        <td style=\"padding-left: 1em; padding-right: 1em; text-align: center; vertical-align: top\">5</td>\n",
       "        <td style=\"padding-left: 1em; padding-right: 1em; text-align: center; vertical-align: top\">Great read enjoyed every<br>minute of it .  I think ...</td>\n",
       "        <td style=\"padding-left: 1em; padding-right: 1em; text-align: center; vertical-align: top\">10 29, 2013</td>\n",
       "        <td style=\"padding-left: 1em; padding-right: 1em; text-align: center; vertical-align: top\">A1UG4Q4D3OAH3A</td>\n",
       "    </tr>\n",
       "    <tr>\n",
       "        <td style=\"padding-left: 1em; padding-right: 1em; text-align: center; vertical-align: top\">17</td>\n",
       "        <td style=\"padding-left: 1em; padding-right: 1em; text-align: center; vertical-align: top\">B000FA64PK</td>\n",
       "        <td style=\"padding-left: 1em; padding-right: 1em; text-align: center; vertical-align: top\">[4.0, 4.0]</td>\n",
       "        <td style=\"padding-left: 1em; padding-right: 1em; text-align: center; vertical-align: top\">3</td>\n",
       "        <td style=\"padding-left: 1em; padding-right: 1em; text-align: center; vertical-align: top\">Another well written<br>eBook by Troy Denning, ...</td>\n",
       "        <td style=\"padding-left: 1em; padding-right: 1em; text-align: center; vertical-align: top\">04 16, 2009</td>\n",
       "        <td style=\"padding-left: 1em; padding-right: 1em; text-align: center; vertical-align: top\">A38Z3Q6DTDIH9J</td>\n",
       "    </tr>\n",
       "</table>\n",
       "<table frame=\"box\" rules=\"cols\">\n",
       "    <tr>\n",
       "        <th style=\"padding-left: 1em; padding-right: 1em; text-align: center\">reviewerName</th>\n",
       "        <th style=\"padding-left: 1em; padding-right: 1em; text-align: center\">summary</th>\n",
       "        <th style=\"padding-left: 1em; padding-right: 1em; text-align: center\">unixReviewTime</th>\n",
       "        <th style=\"padding-left: 1em; padding-right: 1em; text-align: center\">item_id</th>\n",
       "        <th style=\"padding-left: 1em; padding-right: 1em; text-align: center\">Avg of overall</th>\n",
       "        <th style=\"padding-left: 1em; padding-right: 1em; text-align: center\">description</th>\n",
       "    </tr>\n",
       "    <tr>\n",
       "        <td style=\"padding-left: 1em; padding-right: 1em; text-align: center; vertical-align: top\">Avidreader</td>\n",
       "        <td style=\"padding-left: 1em; padding-right: 1em; text-align: center; vertical-align: top\">Nice vintage story</td>\n",
       "        <td style=\"padding-left: 1em; padding-right: 1em; text-align: center; vertical-align: top\">1399248000</td>\n",
       "        <td style=\"padding-left: 1em; padding-right: 1em; text-align: center; vertical-align: top\">28192</td>\n",
       "        <td style=\"padding-left: 1em; padding-right: 1em; text-align: center; vertical-align: top\">4.25</td>\n",
       "        <td style=\"padding-left: 1em; padding-right: 1em; text-align: center; vertical-align: top\"></td>\n",
       "    </tr>\n",
       "    <tr>\n",
       "        <td style=\"padding-left: 1em; padding-right: 1em; text-align: center; vertical-align: top\">critters</td>\n",
       "        <td style=\"padding-left: 1em; padding-right: 1em; text-align: center; vertical-align: top\">Different...</td>\n",
       "        <td style=\"padding-left: 1em; padding-right: 1em; text-align: center; vertical-align: top\">1388966400</td>\n",
       "        <td style=\"padding-left: 1em; padding-right: 1em; text-align: center; vertical-align: top\">28192</td>\n",
       "        <td style=\"padding-left: 1em; padding-right: 1em; text-align: center; vertical-align: top\">4.25</td>\n",
       "        <td style=\"padding-left: 1em; padding-right: 1em; text-align: center; vertical-align: top\"></td>\n",
       "    </tr>\n",
       "    <tr>\n",
       "        <td style=\"padding-left: 1em; padding-right: 1em; text-align: center; vertical-align: top\">Elaine H. Turley \"Montana<br>Songbird\" ...</td>\n",
       "        <td style=\"padding-left: 1em; padding-right: 1em; text-align: center; vertical-align: top\">I really liked it.</td>\n",
       "        <td style=\"padding-left: 1em; padding-right: 1em; text-align: center; vertical-align: top\">1392768000</td>\n",
       "        <td style=\"padding-left: 1em; padding-right: 1em; text-align: center; vertical-align: top\">28192</td>\n",
       "        <td style=\"padding-left: 1em; padding-right: 1em; text-align: center; vertical-align: top\">4.25</td>\n",
       "        <td style=\"padding-left: 1em; padding-right: 1em; text-align: center; vertical-align: top\"></td>\n",
       "    </tr>\n",
       "    <tr>\n",
       "        <td style=\"padding-left: 1em; padding-right: 1em; text-align: center; vertical-align: top\">ubavka seirovska</td>\n",
       "        <td style=\"padding-left: 1em; padding-right: 1em; text-align: center; vertical-align: top\">Review</td>\n",
       "        <td style=\"padding-left: 1em; padding-right: 1em; text-align: center; vertical-align: top\">1401062400</td>\n",
       "        <td style=\"padding-left: 1em; padding-right: 1em; text-align: center; vertical-align: top\">28192</td>\n",
       "        <td style=\"padding-left: 1em; padding-right: 1em; text-align: center; vertical-align: top\">4.25</td>\n",
       "        <td style=\"padding-left: 1em; padding-right: 1em; text-align: center; vertical-align: top\"></td>\n",
       "    </tr>\n",
       "    <tr>\n",
       "        <td style=\"padding-left: 1em; padding-right: 1em; text-align: center; vertical-align: top\">WPY</td>\n",
       "        <td style=\"padding-left: 1em; padding-right: 1em; text-align: center; vertical-align: top\">Enjoyable reading and<br>reminding the old times ...</td>\n",
       "        <td style=\"padding-left: 1em; padding-right: 1em; text-align: center; vertical-align: top\">1395446400</td>\n",
       "        <td style=\"padding-left: 1em; padding-right: 1em; text-align: center; vertical-align: top\">28192</td>\n",
       "        <td style=\"padding-left: 1em; padding-right: 1em; text-align: center; vertical-align: top\">4.25</td>\n",
       "        <td style=\"padding-left: 1em; padding-right: 1em; text-align: center; vertical-align: top\"></td>\n",
       "    </tr>\n",
       "    <tr>\n",
       "        <td style=\"padding-left: 1em; padding-right: 1em; text-align: center; vertical-align: top\">dsa</td>\n",
       "        <td style=\"padding-left: 1em; padding-right: 1em; text-align: center; vertical-align: top\">Darth Maul</td>\n",
       "        <td style=\"padding-left: 1em; padding-right: 1em; text-align: center; vertical-align: top\">1381449600</td>\n",
       "        <td style=\"padding-left: 1em; padding-right: 1em; text-align: center; vertical-align: top\">31608</td>\n",
       "        <td style=\"padding-left: 1em; padding-right: 1em; text-align: center; vertical-align: top\">4.2</td>\n",
       "        <td style=\"padding-left: 1em; padding-right: 1em; text-align: center; vertical-align: top\"></td>\n",
       "    </tr>\n",
       "    <tr>\n",
       "        <td style=\"padding-left: 1em; padding-right: 1em; text-align: center; vertical-align: top\">Mike</td>\n",
       "        <td style=\"padding-left: 1em; padding-right: 1em; text-align: center; vertical-align: top\">Audio and book</td>\n",
       "        <td style=\"padding-left: 1em; padding-right: 1em; text-align: center; vertical-align: top\">1390780800</td>\n",
       "        <td style=\"padding-left: 1em; padding-right: 1em; text-align: center; vertical-align: top\">31608</td>\n",
       "        <td style=\"padding-left: 1em; padding-right: 1em; text-align: center; vertical-align: top\">4.2</td>\n",
       "        <td style=\"padding-left: 1em; padding-right: 1em; text-align: center; vertical-align: top\"></td>\n",
       "    </tr>\n",
       "    <tr>\n",
       "        <td style=\"padding-left: 1em; padding-right: 1em; text-align: center; vertical-align: top\">Caleb Watts</td>\n",
       "        <td style=\"padding-left: 1em; padding-right: 1em; text-align: center; vertical-align: top\">Possibly Important</td>\n",
       "        <td style=\"padding-left: 1em; padding-right: 1em; text-align: center; vertical-align: top\">1368316800</td>\n",
       "        <td style=\"padding-left: 1em; padding-right: 1em; text-align: center; vertical-align: top\">3563</td>\n",
       "        <td style=\"padding-left: 1em; padding-right: 1em; text-align: center; vertical-align: top\">4.375</td>\n",
       "        <td style=\"padding-left: 1em; padding-right: 1em; text-align: center; vertical-align: top\"></td>\n",
       "    </tr>\n",
       "    <tr>\n",
       "        <td style=\"padding-left: 1em; padding-right: 1em; text-align: center; vertical-align: top\">dsa</td>\n",
       "        <td style=\"padding-left: 1em; padding-right: 1em; text-align: center; vertical-align: top\">Recovery</td>\n",
       "        <td style=\"padding-left: 1em; padding-right: 1em; text-align: center; vertical-align: top\">1383004800</td>\n",
       "        <td style=\"padding-left: 1em; padding-right: 1em; text-align: center; vertical-align: top\">3563</td>\n",
       "        <td style=\"padding-left: 1em; padding-right: 1em; text-align: center; vertical-align: top\">4.375</td>\n",
       "        <td style=\"padding-left: 1em; padding-right: 1em; text-align: center; vertical-align: top\"></td>\n",
       "    </tr>\n",
       "    <tr>\n",
       "        <td style=\"padding-left: 1em; padding-right: 1em; text-align: center; vertical-align: top\">Jimmy J. Shaw \"oldbent1\"</td>\n",
       "        <td style=\"padding-left: 1em; padding-right: 1em; text-align: center; vertical-align: top\">Star Wars: The New Jedi<br>Order: Recovery ...</td>\n",
       "        <td style=\"padding-left: 1em; padding-right: 1em; text-align: center; vertical-align: top\">1239840000</td>\n",
       "        <td style=\"padding-left: 1em; padding-right: 1em; text-align: center; vertical-align: top\">3563</td>\n",
       "        <td style=\"padding-left: 1em; padding-right: 1em; text-align: center; vertical-align: top\">4.375</td>\n",
       "        <td style=\"padding-left: 1em; padding-right: 1em; text-align: center; vertical-align: top\"></td>\n",
       "    </tr>\n",
       "</table>\n",
       "<table frame=\"box\" rules=\"cols\">\n",
       "    <tr>\n",
       "        <th style=\"padding-left: 1em; padding-right: 1em; text-align: center\">price</th>\n",
       "        <th style=\"padding-left: 1em; padding-right: 1em; text-align: center\">imUrl</th>\n",
       "        <th style=\"padding-left: 1em; padding-right: 1em; text-align: center\">related</th>\n",
       "        <th style=\"padding-left: 1em; padding-right: 1em; text-align: center\">categories</th>\n",
       "        <th style=\"padding-left: 1em; padding-right: 1em; text-align: center\">title</th>\n",
       "        <th style=\"padding-left: 1em; padding-right: 1em; text-align: center\">salesRank</th>\n",
       "        <th style=\"padding-left: 1em; padding-right: 1em; text-align: center\">brand</th>\n",
       "    </tr>\n",
       "    <tr>\n",
       "        <td style=\"padding-left: 1em; padding-right: 1em; text-align: center; vertical-align: top\">0.0</td>\n",
       "        <td style=\"padding-left: 1em; padding-right: 1em; text-align: center; vertical-align: top\">http://ecx.images-amazon.<br>com/images/I/51yLqHe% ...</td>\n",
       "        <td style=\"padding-left: 1em; padding-right: 1em; text-align: center; vertical-align: top\">{'also_bought':<br>['B0080H1C0W', ...</td>\n",
       "        <td style=\"padding-left: 1em; padding-right: 1em; text-align: center; vertical-align: top\">[[Books, Literature &amp;<br>Fiction], [Books, ...</td>\n",
       "        <td style=\"padding-left: 1em; padding-right: 1em; text-align: center; vertical-align: top\"></td>\n",
       "        <td style=\"padding-left: 1em; padding-right: 1em; text-align: center; vertical-align: top\">None</td>\n",
       "        <td style=\"padding-left: 1em; padding-right: 1em; text-align: center; vertical-align: top\"></td>\n",
       "    </tr>\n",
       "    <tr>\n",
       "        <td style=\"padding-left: 1em; padding-right: 1em; text-align: center; vertical-align: top\">0.0</td>\n",
       "        <td style=\"padding-left: 1em; padding-right: 1em; text-align: center; vertical-align: top\">http://ecx.images-amazon.<br>com/images/I/51yLqHe% ...</td>\n",
       "        <td style=\"padding-left: 1em; padding-right: 1em; text-align: center; vertical-align: top\">{'also_bought':<br>['B0080H1C0W', ...</td>\n",
       "        <td style=\"padding-left: 1em; padding-right: 1em; text-align: center; vertical-align: top\">[[Books, Literature &amp;<br>Fiction], [Books, ...</td>\n",
       "        <td style=\"padding-left: 1em; padding-right: 1em; text-align: center; vertical-align: top\"></td>\n",
       "        <td style=\"padding-left: 1em; padding-right: 1em; text-align: center; vertical-align: top\">None</td>\n",
       "        <td style=\"padding-left: 1em; padding-right: 1em; text-align: center; vertical-align: top\"></td>\n",
       "    </tr>\n",
       "    <tr>\n",
       "        <td style=\"padding-left: 1em; padding-right: 1em; text-align: center; vertical-align: top\">0.0</td>\n",
       "        <td style=\"padding-left: 1em; padding-right: 1em; text-align: center; vertical-align: top\">http://ecx.images-amazon.<br>com/images/I/51yLqHe% ...</td>\n",
       "        <td style=\"padding-left: 1em; padding-right: 1em; text-align: center; vertical-align: top\">{'also_bought':<br>['B0080H1C0W', ...</td>\n",
       "        <td style=\"padding-left: 1em; padding-right: 1em; text-align: center; vertical-align: top\">[[Books, Literature &amp;<br>Fiction], [Books, ...</td>\n",
       "        <td style=\"padding-left: 1em; padding-right: 1em; text-align: center; vertical-align: top\"></td>\n",
       "        <td style=\"padding-left: 1em; padding-right: 1em; text-align: center; vertical-align: top\">None</td>\n",
       "        <td style=\"padding-left: 1em; padding-right: 1em; text-align: center; vertical-align: top\"></td>\n",
       "    </tr>\n",
       "    <tr>\n",
       "        <td style=\"padding-left: 1em; padding-right: 1em; text-align: center; vertical-align: top\">0.0</td>\n",
       "        <td style=\"padding-left: 1em; padding-right: 1em; text-align: center; vertical-align: top\">http://ecx.images-amazon.<br>com/images/I/51yLqHe% ...</td>\n",
       "        <td style=\"padding-left: 1em; padding-right: 1em; text-align: center; vertical-align: top\">{'also_bought':<br>['B0080H1C0W', ...</td>\n",
       "        <td style=\"padding-left: 1em; padding-right: 1em; text-align: center; vertical-align: top\">[[Books, Literature &amp;<br>Fiction], [Books, ...</td>\n",
       "        <td style=\"padding-left: 1em; padding-right: 1em; text-align: center; vertical-align: top\"></td>\n",
       "        <td style=\"padding-left: 1em; padding-right: 1em; text-align: center; vertical-align: top\">None</td>\n",
       "        <td style=\"padding-left: 1em; padding-right: 1em; text-align: center; vertical-align: top\"></td>\n",
       "    </tr>\n",
       "    <tr>\n",
       "        <td style=\"padding-left: 1em; padding-right: 1em; text-align: center; vertical-align: top\">0.0</td>\n",
       "        <td style=\"padding-left: 1em; padding-right: 1em; text-align: center; vertical-align: top\">http://ecx.images-amazon.<br>com/images/I/51yLqHe% ...</td>\n",
       "        <td style=\"padding-left: 1em; padding-right: 1em; text-align: center; vertical-align: top\">{'also_bought':<br>['B0080H1C0W', ...</td>\n",
       "        <td style=\"padding-left: 1em; padding-right: 1em; text-align: center; vertical-align: top\">[[Books, Literature &amp;<br>Fiction], [Books, ...</td>\n",
       "        <td style=\"padding-left: 1em; padding-right: 1em; text-align: center; vertical-align: top\"></td>\n",
       "        <td style=\"padding-left: 1em; padding-right: 1em; text-align: center; vertical-align: top\">None</td>\n",
       "        <td style=\"padding-left: 1em; padding-right: 1em; text-align: center; vertical-align: top\"></td>\n",
       "    </tr>\n",
       "    <tr>\n",
       "        <td style=\"padding-left: 1em; padding-right: 1em; text-align: center; vertical-align: top\">4.58</td>\n",
       "        <td style=\"padding-left: 1em; padding-right: 1em; text-align: center; vertical-align: top\">http://ecx.images-amazon.<br>com/images/I/4138cT%2 ...</td>\n",
       "        <td style=\"padding-left: 1em; padding-right: 1em; text-align: center; vertical-align: top\">{'also_bought':<br>['B00513D4HC', ...</td>\n",
       "        <td style=\"padding-left: 1em; padding-right: 1em; text-align: center; vertical-align: top\">[[Books, Comics &amp; Graphic<br>Novels], [Books, Science ...</td>\n",
       "        <td style=\"padding-left: 1em; padding-right: 1em; text-align: center; vertical-align: top\"></td>\n",
       "        <td style=\"padding-left: 1em; padding-right: 1em; text-align: center; vertical-align: top\">None</td>\n",
       "        <td style=\"padding-left: 1em; padding-right: 1em; text-align: center; vertical-align: top\"></td>\n",
       "    </tr>\n",
       "    <tr>\n",
       "        <td style=\"padding-left: 1em; padding-right: 1em; text-align: center; vertical-align: top\">4.58</td>\n",
       "        <td style=\"padding-left: 1em; padding-right: 1em; text-align: center; vertical-align: top\">http://ecx.images-amazon.<br>com/images/I/4138cT%2 ...</td>\n",
       "        <td style=\"padding-left: 1em; padding-right: 1em; text-align: center; vertical-align: top\">{'also_bought':<br>['B00513D4HC', ...</td>\n",
       "        <td style=\"padding-left: 1em; padding-right: 1em; text-align: center; vertical-align: top\">[[Books, Comics &amp; Graphic<br>Novels], [Books, Science ...</td>\n",
       "        <td style=\"padding-left: 1em; padding-right: 1em; text-align: center; vertical-align: top\"></td>\n",
       "        <td style=\"padding-left: 1em; padding-right: 1em; text-align: center; vertical-align: top\">None</td>\n",
       "        <td style=\"padding-left: 1em; padding-right: 1em; text-align: center; vertical-align: top\"></td>\n",
       "    </tr>\n",
       "    <tr>\n",
       "        <td style=\"padding-left: 1em; padding-right: 1em; text-align: center; vertical-align: top\">5.99</td>\n",
       "        <td style=\"padding-left: 1em; padding-right: 1em; text-align: center; vertical-align: top\">http://ecx.images-amazon.<br>com/images/I/31Ov6Go% ...</td>\n",
       "        <td style=\"padding-left: 1em; padding-right: 1em; text-align: center; vertical-align: top\">{'also_bought':<br>['B000FA64QO', ...</td>\n",
       "        <td style=\"padding-left: 1em; padding-right: 1em; text-align: center; vertical-align: top\">[[Books, Comics &amp; Graphic<br>Novels, Graphic Novels, ...</td>\n",
       "        <td style=\"padding-left: 1em; padding-right: 1em; text-align: center; vertical-align: top\"></td>\n",
       "        <td style=\"padding-left: 1em; padding-right: 1em; text-align: center; vertical-align: top\">None</td>\n",
       "        <td style=\"padding-left: 1em; padding-right: 1em; text-align: center; vertical-align: top\"></td>\n",
       "    </tr>\n",
       "    <tr>\n",
       "        <td style=\"padding-left: 1em; padding-right: 1em; text-align: center; vertical-align: top\">5.99</td>\n",
       "        <td style=\"padding-left: 1em; padding-right: 1em; text-align: center; vertical-align: top\">http://ecx.images-amazon.<br>com/images/I/31Ov6Go% ...</td>\n",
       "        <td style=\"padding-left: 1em; padding-right: 1em; text-align: center; vertical-align: top\">{'also_bought':<br>['B000FA64QO', ...</td>\n",
       "        <td style=\"padding-left: 1em; padding-right: 1em; text-align: center; vertical-align: top\">[[Books, Comics &amp; Graphic<br>Novels, Graphic Novels, ...</td>\n",
       "        <td style=\"padding-left: 1em; padding-right: 1em; text-align: center; vertical-align: top\"></td>\n",
       "        <td style=\"padding-left: 1em; padding-right: 1em; text-align: center; vertical-align: top\">None</td>\n",
       "        <td style=\"padding-left: 1em; padding-right: 1em; text-align: center; vertical-align: top\"></td>\n",
       "    </tr>\n",
       "    <tr>\n",
       "        <td style=\"padding-left: 1em; padding-right: 1em; text-align: center; vertical-align: top\">5.99</td>\n",
       "        <td style=\"padding-left: 1em; padding-right: 1em; text-align: center; vertical-align: top\">http://ecx.images-amazon.<br>com/images/I/31Ov6Go% ...</td>\n",
       "        <td style=\"padding-left: 1em; padding-right: 1em; text-align: center; vertical-align: top\">{'also_bought':<br>['B000FA64QO', ...</td>\n",
       "        <td style=\"padding-left: 1em; padding-right: 1em; text-align: center; vertical-align: top\">[[Books, Comics &amp; Graphic<br>Novels, Graphic Novels, ...</td>\n",
       "        <td style=\"padding-left: 1em; padding-right: 1em; text-align: center; vertical-align: top\"></td>\n",
       "        <td style=\"padding-left: 1em; padding-right: 1em; text-align: center; vertical-align: top\">None</td>\n",
       "        <td style=\"padding-left: 1em; padding-right: 1em; text-align: center; vertical-align: top\"></td>\n",
       "    </tr>\n",
       "</table>\n",
       "[367815 rows x 20 columns]<br/>Note: Only the head of the SFrame is printed.<br/>You can use print_rows(num_rows=m, num_columns=n) to print more rows and columns.\n",
       "</div>"
      ],
      "text/plain": [
       "Columns:\n",
       "\tX1\tint\n",
       "\tasin\tstr\n",
       "\thelpful\tarray\n",
       "\toverall\tint\n",
       "\treviewText\tstr\n",
       "\treviewTime\tstr\n",
       "\treviewerID\tstr\n",
       "\treviewerName\tstr\n",
       "\tsummary\tstr\n",
       "\tunixReviewTime\tint\n",
       "\titem_id\tint\n",
       "\tAvg of overall\tfloat\n",
       "\tdescription\tstr\n",
       "\tprice\tfloat\n",
       "\timUrl\tstr\n",
       "\trelated\tdict\n",
       "\tcategories\tlist\n",
       "\ttitle\tstr\n",
       "\tsalesRank\tdict\n",
       "\tbrand\tstr\n",
       "\n",
       "Rows: 367815\n",
       "\n",
       "Data:\n",
       "+----+------------+------------+---------+-------------------------------+\n",
       "| X1 |    asin    |  helpful   | overall |           reviewText          |\n",
       "+----+------------+------------+---------+-------------------------------+\n",
       "| 0  | B000F83SZQ | [0.0, 0.0] |    5    | I enjoy vintage books and ... |\n",
       "| 1  | B000F83SZQ | [2.0, 2.0] |    4    | This book is a reissue of ... |\n",
       "| 3  | B000F83SZQ | [1.0, 1.0] |    5    | I'd never read any of the ... |\n",
       "| 5  | B000F83SZQ | [0.0, 0.0] |    4    | A beautiful in-depth chara... |\n",
       "| 7  | B000F83SZQ | [1.0, 1.0] |    4    | Never heard of Amy Brewste... |\n",
       "| 8  | B000FA64PA | [0.0, 0.0] |    5    | Darth Maul working under c... |\n",
       "| 10 | B000FA64PA | [0.0, 0.0] |    5    | I think I have this one in... |\n",
       "| 14 | B000FA64PK | [0.0, 0.0] |    5    | I am not for sure on how m... |\n",
       "| 16 | B000FA64PK | [0.0, 0.0] |    5    | Great read enjoyed every m... |\n",
       "| 17 | B000FA64PK | [4.0, 4.0] |    3    | Another well written eBook... |\n",
       "+----+------------+------------+---------+-------------------------------+\n",
       "+-------------+----------------+-------------------------------+\n",
       "|  reviewTime |   reviewerID   |          reviewerName         |\n",
       "+-------------+----------------+-------------------------------+\n",
       "|  05 5, 2014 | A1F6404F1VG29J |           Avidreader          |\n",
       "|  01 6, 2014 | AN0N05A9LIJEQ  |            critters           |\n",
       "| 02 19, 2014 | A1FV0SX13TWVXQ | Elaine H. Turley \"Montana ... |\n",
       "| 05 26, 2014 | A1RK2OCZDSGC6R |        ubavka seirovska       |\n",
       "| 03 22, 2014 | A3DE6XGZ2EPADS |              WPY              |\n",
       "| 10 11, 2013 | A1UG4Q4D3OAH3A |              dsa              |\n",
       "| 01 27, 2014 | A1ZT7WV0ZUA0OJ |              Mike             |\n",
       "| 05 12, 2013 | A3H8PE1UFK04JZ |          Caleb Watts          |\n",
       "| 10 29, 2013 | A1UG4Q4D3OAH3A |              dsa              |\n",
       "| 04 16, 2009 | A38Z3Q6DTDIH9J |    Jimmy J. Shaw \"oldbent1\"   |\n",
       "+-------------+----------------+-------------------------------+\n",
       "+-------------------------------+----------------+---------+----------------+-------------+\n",
       "|            summary            | unixReviewTime | item_id | Avg of overall | description |\n",
       "+-------------------------------+----------------+---------+----------------+-------------+\n",
       "|       Nice vintage story      |   1399248000   |  28192  |      4.25      |             |\n",
       "|          Different...         |   1388966400   |  28192  |      4.25      |             |\n",
       "|       I really liked it.      |   1392768000   |  28192  |      4.25      |             |\n",
       "|             Review            |   1401062400   |  28192  |      4.25      |             |\n",
       "| Enjoyable reading and remi... |   1395446400   |  28192  |      4.25      |             |\n",
       "|           Darth Maul          |   1381449600   |  31608  |      4.2       |             |\n",
       "|         Audio and book        |   1390780800   |  31608  |      4.2       |             |\n",
       "|       Possibly Important      |   1368316800   |   3563  |     4.375      |             |\n",
       "|            Recovery           |   1383004800   |   3563  |     4.375      |             |\n",
       "| Star Wars: The New Jedi Or... |   1239840000   |   3563  |     4.375      |             |\n",
       "+-------------------------------+----------------+---------+----------------+-------------+\n",
       "+-------+-------------------------------+-------------------------------+\n",
       "| price |             imUrl             |            related            |\n",
       "+-------+-------------------------------+-------------------------------+\n",
       "|  0.0  | http://ecx.images-amazon.c... | {'also_bought': ['B0080H1C... |\n",
       "|  0.0  | http://ecx.images-amazon.c... | {'also_bought': ['B0080H1C... |\n",
       "|  0.0  | http://ecx.images-amazon.c... | {'also_bought': ['B0080H1C... |\n",
       "|  0.0  | http://ecx.images-amazon.c... | {'also_bought': ['B0080H1C... |\n",
       "|  0.0  | http://ecx.images-amazon.c... | {'also_bought': ['B0080H1C... |\n",
       "|  4.58 | http://ecx.images-amazon.c... | {'also_bought': ['B00513D4... |\n",
       "|  4.58 | http://ecx.images-amazon.c... | {'also_bought': ['B00513D4... |\n",
       "|  5.99 | http://ecx.images-amazon.c... | {'also_bought': ['B000FA64... |\n",
       "|  5.99 | http://ecx.images-amazon.c... | {'also_bought': ['B000FA64... |\n",
       "|  5.99 | http://ecx.images-amazon.c... | {'also_bought': ['B000FA64... |\n",
       "+-------+-------------------------------+-------------------------------+\n",
       "+-------------------------------+-------+-----------+-------+\n",
       "|           categories          | title | salesRank | brand |\n",
       "+-------------------------------+-------+-----------+-------+\n",
       "| [[Books, Literature & Fict... |       |    None   |       |\n",
       "| [[Books, Literature & Fict... |       |    None   |       |\n",
       "| [[Books, Literature & Fict... |       |    None   |       |\n",
       "| [[Books, Literature & Fict... |       |    None   |       |\n",
       "| [[Books, Literature & Fict... |       |    None   |       |\n",
       "| [[Books, Comics & Graphic ... |       |    None   |       |\n",
       "| [[Books, Comics & Graphic ... |       |    None   |       |\n",
       "| [[Books, Comics & Graphic ... |       |    None   |       |\n",
       "| [[Books, Comics & Graphic ... |       |    None   |       |\n",
       "| [[Books, Comics & Graphic ... |       |    None   |       |\n",
       "+-------------------------------+-------+-----------+-------+\n",
       "[367815 rows x 20 columns]\n",
       "Note: Only the head of the SFrame is printed.\n",
       "You can use print_rows(num_rows=m, num_columns=n) to print more rows and columns."
      ]
     },
     "execution_count": 57,
     "metadata": {},
     "output_type": "execute_result"
    }
   ],
   "source": [
    "valid"
   ]
  },
  {
   "cell_type": "code",
   "execution_count": 58,
   "metadata": {
    "collapsed": false
   },
   "outputs": [
    {
     "data": {
      "text/html": [
       "<pre>Recsys training: model = item_similarity</pre>"
      ],
      "text/plain": [
       "Recsys training: model = item_similarity"
      ]
     },
     "metadata": {},
     "output_type": "display_data"
    },
    {
     "data": {
      "text/html": [
       "<pre>Warning: Ignoring columns X1, asin, helpful, overall, reviewText, reviewTime, reviewerName, summary, unixReviewTime, Avg of overall, description, price, imUrl, related, categories, title, salesRank, brand;</pre>"
      ],
      "text/plain": [
       "Warning: Ignoring columns X1, asin, helpful, overall, reviewText, reviewTime, reviewerName, summary, unixReviewTime, Avg of overall, description, price, imUrl, related, categories, title, salesRank, brand;"
      ]
     },
     "metadata": {},
     "output_type": "display_data"
    },
    {
     "data": {
      "text/html": [
       "<pre>    To use one of these as a target column, set target = <column_name></pre>"
      ],
      "text/plain": [
       "    To use one of these as a target column, set target = <column_name>"
      ]
     },
     "metadata": {},
     "output_type": "display_data"
    },
    {
     "data": {
      "text/html": [
       "<pre>    and use a method that allows the use of a target.</pre>"
      ],
      "text/plain": [
       "    and use a method that allows the use of a target."
      ]
     },
     "metadata": {},
     "output_type": "display_data"
    },
    {
     "data": {
      "text/html": [
       "<pre>Preparing data set.</pre>"
      ],
      "text/plain": [
       "Preparing data set."
      ]
     },
     "metadata": {},
     "output_type": "display_data"
    },
    {
     "data": {
      "text/html": [
       "<pre>    Data has 551640 observations with 67829 users and 58655 items.</pre>"
      ],
      "text/plain": [
       "    Data has 551640 observations with 67829 users and 58655 items."
      ]
     },
     "metadata": {},
     "output_type": "display_data"
    },
    {
     "data": {
      "text/html": [
       "<pre>    Data prepared in: 0.687032s</pre>"
      ],
      "text/plain": [
       "    Data prepared in: 0.687032s"
      ]
     },
     "metadata": {},
     "output_type": "display_data"
    },
    {
     "data": {
      "text/html": [
       "<pre>Training model from provided data.</pre>"
      ],
      "text/plain": [
       "Training model from provided data."
      ]
     },
     "metadata": {},
     "output_type": "display_data"
    },
    {
     "data": {
      "text/html": [
       "<pre>Gathering per-item and per-user statistics.</pre>"
      ],
      "text/plain": [
       "Gathering per-item and per-user statistics."
      ]
     },
     "metadata": {},
     "output_type": "display_data"
    },
    {
     "data": {
      "text/html": [
       "<pre>+--------------------------------+------------+</pre>"
      ],
      "text/plain": [
       "+--------------------------------+------------+"
      ]
     },
     "metadata": {},
     "output_type": "display_data"
    },
    {
     "data": {
      "text/html": [
       "<pre>| Elapsed Time (Item Statistics) | % Complete |</pre>"
      ],
      "text/plain": [
       "| Elapsed Time (Item Statistics) | % Complete |"
      ]
     },
     "metadata": {},
     "output_type": "display_data"
    },
    {
     "data": {
      "text/html": [
       "<pre>+--------------------------------+------------+</pre>"
      ],
      "text/plain": [
       "+--------------------------------+------------+"
      ]
     },
     "metadata": {},
     "output_type": "display_data"
    },
    {
     "data": {
      "text/html": [
       "<pre>| 3.742ms                        | 5.75       |</pre>"
      ],
      "text/plain": [
       "| 3.742ms                        | 5.75       |"
      ]
     },
     "metadata": {},
     "output_type": "display_data"
    },
    {
     "data": {
      "text/html": [
       "<pre>| 65.113ms                       | 100        |</pre>"
      ],
      "text/plain": [
       "| 65.113ms                       | 100        |"
      ]
     },
     "metadata": {},
     "output_type": "display_data"
    },
    {
     "data": {
      "text/html": [
       "<pre>+--------------------------------+------------+</pre>"
      ],
      "text/plain": [
       "+--------------------------------+------------+"
      ]
     },
     "metadata": {},
     "output_type": "display_data"
    },
    {
     "data": {
      "text/html": [
       "<pre>Setting up lookup tables.</pre>"
      ],
      "text/plain": [
       "Setting up lookup tables."
      ]
     },
     "metadata": {},
     "output_type": "display_data"
    },
    {
     "data": {
      "text/html": [
       "<pre>Processing data in 2 passes using dense lookup tables.</pre>"
      ],
      "text/plain": [
       "Processing data in 2 passes using dense lookup tables."
      ]
     },
     "metadata": {},
     "output_type": "display_data"
    },
    {
     "data": {
      "text/html": [
       "<pre>+-------------------------------------+------------------+-----------------+</pre>"
      ],
      "text/plain": [
       "+-------------------------------------+------------------+-----------------+"
      ]
     },
     "metadata": {},
     "output_type": "display_data"
    },
    {
     "data": {
      "text/html": [
       "<pre>| Elapsed Time (Constructing Lookups) | Total % Complete | Items Processed |</pre>"
      ],
      "text/plain": [
       "| Elapsed Time (Constructing Lookups) | Total % Complete | Items Processed |"
      ]
     },
     "metadata": {},
     "output_type": "display_data"
    },
    {
     "data": {
      "text/html": [
       "<pre>+-------------------------------------+------------------+-----------------+</pre>"
      ],
      "text/plain": [
       "+-------------------------------------+------------------+-----------------+"
      ]
     },
     "metadata": {},
     "output_type": "display_data"
    },
    {
     "data": {
      "text/html": [
       "<pre>| 5.75s                               | 0                | 0               |</pre>"
      ],
      "text/plain": [
       "| 5.75s                               | 0                | 0               |"
      ]
     },
     "metadata": {},
     "output_type": "display_data"
    },
    {
     "data": {
      "text/html": [
       "<pre>| 6.76s                               | 8.5              | 5075            |</pre>"
      ],
      "text/plain": [
       "| 6.76s                               | 8.5              | 5075            |"
      ]
     },
     "metadata": {},
     "output_type": "display_data"
    },
    {
     "data": {
      "text/html": [
       "<pre>| 7.76s                               | 17.25            | 10130           |</pre>"
      ],
      "text/plain": [
       "| 7.76s                               | 17.25            | 10130           |"
      ]
     },
     "metadata": {},
     "output_type": "display_data"
    },
    {
     "data": {
      "text/html": [
       "<pre>| 8.77s                               | 27.5             | 16247           |</pre>"
      ],
      "text/plain": [
       "| 8.77s                               | 27.5             | 16247           |"
      ]
     },
     "metadata": {},
     "output_type": "display_data"
    },
    {
     "data": {
      "text/html": [
       "<pre>| 9.77s                               | 42.5             | 24939           |</pre>"
      ],
      "text/plain": [
       "| 9.77s                               | 42.5             | 24939           |"
      ]
     },
     "metadata": {},
     "output_type": "display_data"
    },
    {
     "data": {
      "text/html": [
       "<pre>| 46.51s                              | 49.75            | 29326           |</pre>"
      ],
      "text/plain": [
       "| 46.51s                              | 49.75            | 29326           |"
      ]
     },
     "metadata": {},
     "output_type": "display_data"
    },
    {
     "data": {
      "text/html": [
       "<pre>| 1m 0s                               | 100              | 58655           |</pre>"
      ],
      "text/plain": [
       "| 1m 0s                               | 100              | 58655           |"
      ]
     },
     "metadata": {},
     "output_type": "display_data"
    },
    {
     "data": {
      "text/html": [
       "<pre>+-------------------------------------+------------------+-----------------+</pre>"
      ],
      "text/plain": [
       "+-------------------------------------+------------------+-----------------+"
      ]
     },
     "metadata": {},
     "output_type": "display_data"
    },
    {
     "data": {
      "text/html": [
       "<pre>Finalizing lookup tables.</pre>"
      ],
      "text/plain": [
       "Finalizing lookup tables."
      ]
     },
     "metadata": {},
     "output_type": "display_data"
    },
    {
     "data": {
      "text/html": [
       "<pre>Generating candidate set for working with new users.</pre>"
      ],
      "text/plain": [
       "Generating candidate set for working with new users."
      ]
     },
     "metadata": {},
     "output_type": "display_data"
    },
    {
     "data": {
      "text/html": [
       "<pre>Finished training in 60.5732s</pre>"
      ],
      "text/plain": [
       "Finished training in 60.5732s"
      ]
     },
     "metadata": {},
     "output_type": "display_data"
    }
   ],
   "source": [
    "model = gl.recommender.create(train, 'reviewerID', 'item_id')"
   ]
  },
  {
   "cell_type": "code",
   "execution_count": 59,
   "metadata": {
    "collapsed": true
   },
   "outputs": [],
   "source": [
    "# Save the model for later use\n",
    "model.save(\"my_model\")"
   ]
  },
  {
   "cell_type": "code",
   "execution_count": 60,
   "metadata": {
    "collapsed": true
   },
   "outputs": [],
   "source": [
    "model = gl.load_model(\"my_model\")"
   ]
  },
  {
   "cell_type": "code",
   "execution_count": 63,
   "metadata": {
    "collapsed": false
   },
   "outputs": [
    {
     "data": {
      "text/html": [
       "<pre>recommendations finished on 1000/65599 queries. users per second: 2726.04</pre>"
      ],
      "text/plain": [
       "recommendations finished on 1000/65599 queries. users per second: 2726.04"
      ]
     },
     "metadata": {},
     "output_type": "display_data"
    },
    {
     "data": {
      "text/html": [
       "<pre>recommendations finished on 2000/65599 queries. users per second: 2691.93</pre>"
      ],
      "text/plain": [
       "recommendations finished on 2000/65599 queries. users per second: 2691.93"
      ]
     },
     "metadata": {},
     "output_type": "display_data"
    },
    {
     "data": {
      "text/html": [
       "<pre>recommendations finished on 3000/65599 queries. users per second: 2695.32</pre>"
      ],
      "text/plain": [
       "recommendations finished on 3000/65599 queries. users per second: 2695.32"
      ]
     },
     "metadata": {},
     "output_type": "display_data"
    },
    {
     "data": {
      "text/html": [
       "<pre>recommendations finished on 4000/65599 queries. users per second: 2678.18</pre>"
      ],
      "text/plain": [
       "recommendations finished on 4000/65599 queries. users per second: 2678.18"
      ]
     },
     "metadata": {},
     "output_type": "display_data"
    },
    {
     "data": {
      "text/html": [
       "<pre>recommendations finished on 5000/65599 queries. users per second: 2680.4</pre>"
      ],
      "text/plain": [
       "recommendations finished on 5000/65599 queries. users per second: 2680.4"
      ]
     },
     "metadata": {},
     "output_type": "display_data"
    },
    {
     "data": {
      "text/html": [
       "<pre>recommendations finished on 6000/65599 queries. users per second: 2689</pre>"
      ],
      "text/plain": [
       "recommendations finished on 6000/65599 queries. users per second: 2689"
      ]
     },
     "metadata": {},
     "output_type": "display_data"
    },
    {
     "data": {
      "text/html": [
       "<pre>recommendations finished on 7000/65599 queries. users per second: 2692.42</pre>"
      ],
      "text/plain": [
       "recommendations finished on 7000/65599 queries. users per second: 2692.42"
      ]
     },
     "metadata": {},
     "output_type": "display_data"
    },
    {
     "data": {
      "text/html": [
       "<pre>recommendations finished on 8000/65599 queries. users per second: 2696.5</pre>"
      ],
      "text/plain": [
       "recommendations finished on 8000/65599 queries. users per second: 2696.5"
      ]
     },
     "metadata": {},
     "output_type": "display_data"
    },
    {
     "data": {
      "text/html": [
       "<pre>recommendations finished on 9000/65599 queries. users per second: 2692.11</pre>"
      ],
      "text/plain": [
       "recommendations finished on 9000/65599 queries. users per second: 2692.11"
      ]
     },
     "metadata": {},
     "output_type": "display_data"
    },
    {
     "data": {
      "text/html": [
       "<pre>recommendations finished on 10000/65599 queries. users per second: 2693.87</pre>"
      ],
      "text/plain": [
       "recommendations finished on 10000/65599 queries. users per second: 2693.87"
      ]
     },
     "metadata": {},
     "output_type": "display_data"
    },
    {
     "data": {
      "text/html": [
       "<pre>recommendations finished on 11000/65599 queries. users per second: 2681.82</pre>"
      ],
      "text/plain": [
       "recommendations finished on 11000/65599 queries. users per second: 2681.82"
      ]
     },
     "metadata": {},
     "output_type": "display_data"
    },
    {
     "data": {
      "text/html": [
       "<pre>recommendations finished on 12000/65599 queries. users per second: 2680.39</pre>"
      ],
      "text/plain": [
       "recommendations finished on 12000/65599 queries. users per second: 2680.39"
      ]
     },
     "metadata": {},
     "output_type": "display_data"
    },
    {
     "data": {
      "text/html": [
       "<pre>recommendations finished on 13000/65599 queries. users per second: 2678.49</pre>"
      ],
      "text/plain": [
       "recommendations finished on 13000/65599 queries. users per second: 2678.49"
      ]
     },
     "metadata": {},
     "output_type": "display_data"
    },
    {
     "data": {
      "text/html": [
       "<pre>recommendations finished on 14000/65599 queries. users per second: 2683.49</pre>"
      ],
      "text/plain": [
       "recommendations finished on 14000/65599 queries. users per second: 2683.49"
      ]
     },
     "metadata": {},
     "output_type": "display_data"
    },
    {
     "data": {
      "text/html": [
       "<pre>recommendations finished on 15000/65599 queries. users per second: 2687.74</pre>"
      ],
      "text/plain": [
       "recommendations finished on 15000/65599 queries. users per second: 2687.74"
      ]
     },
     "metadata": {},
     "output_type": "display_data"
    },
    {
     "data": {
      "text/html": [
       "<pre>recommendations finished on 16000/65599 queries. users per second: 2688.11</pre>"
      ],
      "text/plain": [
       "recommendations finished on 16000/65599 queries. users per second: 2688.11"
      ]
     },
     "metadata": {},
     "output_type": "display_data"
    },
    {
     "data": {
      "text/html": [
       "<pre>recommendations finished on 17000/65599 queries. users per second: 2690.96</pre>"
      ],
      "text/plain": [
       "recommendations finished on 17000/65599 queries. users per second: 2690.96"
      ]
     },
     "metadata": {},
     "output_type": "display_data"
    },
    {
     "data": {
      "text/html": [
       "<pre>recommendations finished on 18000/65599 queries. users per second: 2690.7</pre>"
      ],
      "text/plain": [
       "recommendations finished on 18000/65599 queries. users per second: 2690.7"
      ]
     },
     "metadata": {},
     "output_type": "display_data"
    },
    {
     "data": {
      "text/html": [
       "<pre>recommendations finished on 19000/65599 queries. users per second: 2693.51</pre>"
      ],
      "text/plain": [
       "recommendations finished on 19000/65599 queries. users per second: 2693.51"
      ]
     },
     "metadata": {},
     "output_type": "display_data"
    },
    {
     "data": {
      "text/html": [
       "<pre>recommendations finished on 20000/65599 queries. users per second: 2698.27</pre>"
      ],
      "text/plain": [
       "recommendations finished on 20000/65599 queries. users per second: 2698.27"
      ]
     },
     "metadata": {},
     "output_type": "display_data"
    },
    {
     "data": {
      "text/html": [
       "<pre>recommendations finished on 21000/65599 queries. users per second: 2691.23</pre>"
      ],
      "text/plain": [
       "recommendations finished on 21000/65599 queries. users per second: 2691.23"
      ]
     },
     "metadata": {},
     "output_type": "display_data"
    },
    {
     "data": {
      "text/html": [
       "<pre>recommendations finished on 22000/65599 queries. users per second: 2691.4</pre>"
      ],
      "text/plain": [
       "recommendations finished on 22000/65599 queries. users per second: 2691.4"
      ]
     },
     "metadata": {},
     "output_type": "display_data"
    },
    {
     "data": {
      "text/html": [
       "<pre>recommendations finished on 23000/65599 queries. users per second: 2691.21</pre>"
      ],
      "text/plain": [
       "recommendations finished on 23000/65599 queries. users per second: 2691.21"
      ]
     },
     "metadata": {},
     "output_type": "display_data"
    },
    {
     "data": {
      "text/html": [
       "<pre>recommendations finished on 24000/65599 queries. users per second: 2694.2</pre>"
      ],
      "text/plain": [
       "recommendations finished on 24000/65599 queries. users per second: 2694.2"
      ]
     },
     "metadata": {},
     "output_type": "display_data"
    },
    {
     "data": {
      "text/html": [
       "<pre>recommendations finished on 25000/65599 queries. users per second: 2695.27</pre>"
      ],
      "text/plain": [
       "recommendations finished on 25000/65599 queries. users per second: 2695.27"
      ]
     },
     "metadata": {},
     "output_type": "display_data"
    },
    {
     "data": {
      "text/html": [
       "<pre>recommendations finished on 26000/65599 queries. users per second: 2697.65</pre>"
      ],
      "text/plain": [
       "recommendations finished on 26000/65599 queries. users per second: 2697.65"
      ]
     },
     "metadata": {},
     "output_type": "display_data"
    },
    {
     "data": {
      "text/html": [
       "<pre>recommendations finished on 27000/65599 queries. users per second: 2693.48</pre>"
      ],
      "text/plain": [
       "recommendations finished on 27000/65599 queries. users per second: 2693.48"
      ]
     },
     "metadata": {},
     "output_type": "display_data"
    },
    {
     "data": {
      "text/html": [
       "<pre>recommendations finished on 28000/65599 queries. users per second: 2690.56</pre>"
      ],
      "text/plain": [
       "recommendations finished on 28000/65599 queries. users per second: 2690.56"
      ]
     },
     "metadata": {},
     "output_type": "display_data"
    },
    {
     "data": {
      "text/html": [
       "<pre>recommendations finished on 29000/65599 queries. users per second: 2688.74</pre>"
      ],
      "text/plain": [
       "recommendations finished on 29000/65599 queries. users per second: 2688.74"
      ]
     },
     "metadata": {},
     "output_type": "display_data"
    },
    {
     "data": {
      "text/html": [
       "<pre>recommendations finished on 30000/65599 queries. users per second: 2685.02</pre>"
      ],
      "text/plain": [
       "recommendations finished on 30000/65599 queries. users per second: 2685.02"
      ]
     },
     "metadata": {},
     "output_type": "display_data"
    },
    {
     "data": {
      "text/html": [
       "<pre>recommendations finished on 31000/65599 queries. users per second: 2684.08</pre>"
      ],
      "text/plain": [
       "recommendations finished on 31000/65599 queries. users per second: 2684.08"
      ]
     },
     "metadata": {},
     "output_type": "display_data"
    },
    {
     "data": {
      "text/html": [
       "<pre>recommendations finished on 32000/65599 queries. users per second: 2682.33</pre>"
      ],
      "text/plain": [
       "recommendations finished on 32000/65599 queries. users per second: 2682.33"
      ]
     },
     "metadata": {},
     "output_type": "display_data"
    },
    {
     "data": {
      "text/html": [
       "<pre>recommendations finished on 33000/65599 queries. users per second: 2680.31</pre>"
      ],
      "text/plain": [
       "recommendations finished on 33000/65599 queries. users per second: 2680.31"
      ]
     },
     "metadata": {},
     "output_type": "display_data"
    },
    {
     "data": {
      "text/html": [
       "<pre>recommendations finished on 34000/65599 queries. users per second: 2678.59</pre>"
      ],
      "text/plain": [
       "recommendations finished on 34000/65599 queries. users per second: 2678.59"
      ]
     },
     "metadata": {},
     "output_type": "display_data"
    },
    {
     "data": {
      "text/html": [
       "<pre>recommendations finished on 35000/65599 queries. users per second: 2678.25</pre>"
      ],
      "text/plain": [
       "recommendations finished on 35000/65599 queries. users per second: 2678.25"
      ]
     },
     "metadata": {},
     "output_type": "display_data"
    },
    {
     "data": {
      "text/html": [
       "<pre>recommendations finished on 36000/65599 queries. users per second: 2676.85</pre>"
      ],
      "text/plain": [
       "recommendations finished on 36000/65599 queries. users per second: 2676.85"
      ]
     },
     "metadata": {},
     "output_type": "display_data"
    },
    {
     "data": {
      "text/html": [
       "<pre>recommendations finished on 37000/65599 queries. users per second: 2676.06</pre>"
      ],
      "text/plain": [
       "recommendations finished on 37000/65599 queries. users per second: 2676.06"
      ]
     },
     "metadata": {},
     "output_type": "display_data"
    },
    {
     "data": {
      "text/html": [
       "<pre>recommendations finished on 38000/65599 queries. users per second: 2674.91</pre>"
      ],
      "text/plain": [
       "recommendations finished on 38000/65599 queries. users per second: 2674.91"
      ]
     },
     "metadata": {},
     "output_type": "display_data"
    },
    {
     "data": {
      "text/html": [
       "<pre>recommendations finished on 39000/65599 queries. users per second: 2673.43</pre>"
      ],
      "text/plain": [
       "recommendations finished on 39000/65599 queries. users per second: 2673.43"
      ]
     },
     "metadata": {},
     "output_type": "display_data"
    },
    {
     "data": {
      "text/html": [
       "<pre>recommendations finished on 40000/65599 queries. users per second: 2673.62</pre>"
      ],
      "text/plain": [
       "recommendations finished on 40000/65599 queries. users per second: 2673.62"
      ]
     },
     "metadata": {},
     "output_type": "display_data"
    },
    {
     "data": {
      "text/html": [
       "<pre>recommendations finished on 41000/65599 queries. users per second: 2672.5</pre>"
      ],
      "text/plain": [
       "recommendations finished on 41000/65599 queries. users per second: 2672.5"
      ]
     },
     "metadata": {},
     "output_type": "display_data"
    },
    {
     "data": {
      "text/html": [
       "<pre>recommendations finished on 42000/65599 queries. users per second: 2668.34</pre>"
      ],
      "text/plain": [
       "recommendations finished on 42000/65599 queries. users per second: 2668.34"
      ]
     },
     "metadata": {},
     "output_type": "display_data"
    },
    {
     "data": {
      "text/html": [
       "<pre>recommendations finished on 43000/65599 queries. users per second: 2668.52</pre>"
      ],
      "text/plain": [
       "recommendations finished on 43000/65599 queries. users per second: 2668.52"
      ]
     },
     "metadata": {},
     "output_type": "display_data"
    },
    {
     "data": {
      "text/html": [
       "<pre>recommendations finished on 44000/65599 queries. users per second: 2670.43</pre>"
      ],
      "text/plain": [
       "recommendations finished on 44000/65599 queries. users per second: 2670.43"
      ]
     },
     "metadata": {},
     "output_type": "display_data"
    },
    {
     "data": {
      "text/html": [
       "<pre>recommendations finished on 45000/65599 queries. users per second: 2672.64</pre>"
      ],
      "text/plain": [
       "recommendations finished on 45000/65599 queries. users per second: 2672.64"
      ]
     },
     "metadata": {},
     "output_type": "display_data"
    },
    {
     "data": {
      "text/html": [
       "<pre>recommendations finished on 46000/65599 queries. users per second: 2675.48</pre>"
      ],
      "text/plain": [
       "recommendations finished on 46000/65599 queries. users per second: 2675.48"
      ]
     },
     "metadata": {},
     "output_type": "display_data"
    },
    {
     "data": {
      "text/html": [
       "<pre>recommendations finished on 47000/65599 queries. users per second: 2677.82</pre>"
      ],
      "text/plain": [
       "recommendations finished on 47000/65599 queries. users per second: 2677.82"
      ]
     },
     "metadata": {},
     "output_type": "display_data"
    },
    {
     "data": {
      "text/html": [
       "<pre>recommendations finished on 48000/65599 queries. users per second: 2678.5</pre>"
      ],
      "text/plain": [
       "recommendations finished on 48000/65599 queries. users per second: 2678.5"
      ]
     },
     "metadata": {},
     "output_type": "display_data"
    },
    {
     "data": {
      "text/html": [
       "<pre>recommendations finished on 49000/65599 queries. users per second: 2679.94</pre>"
      ],
      "text/plain": [
       "recommendations finished on 49000/65599 queries. users per second: 2679.94"
      ]
     },
     "metadata": {},
     "output_type": "display_data"
    },
    {
     "data": {
      "text/html": [
       "<pre>recommendations finished on 50000/65599 queries. users per second: 2682.23</pre>"
      ],
      "text/plain": [
       "recommendations finished on 50000/65599 queries. users per second: 2682.23"
      ]
     },
     "metadata": {},
     "output_type": "display_data"
    },
    {
     "data": {
      "text/html": [
       "<pre>recommendations finished on 51000/65599 queries. users per second: 2684.88</pre>"
      ],
      "text/plain": [
       "recommendations finished on 51000/65599 queries. users per second: 2684.88"
      ]
     },
     "metadata": {},
     "output_type": "display_data"
    },
    {
     "data": {
      "text/html": [
       "<pre>recommendations finished on 52000/65599 queries. users per second: 2685.94</pre>"
      ],
      "text/plain": [
       "recommendations finished on 52000/65599 queries. users per second: 2685.94"
      ]
     },
     "metadata": {},
     "output_type": "display_data"
    },
    {
     "data": {
      "text/html": [
       "<pre>recommendations finished on 53000/65599 queries. users per second: 2685.21</pre>"
      ],
      "text/plain": [
       "recommendations finished on 53000/65599 queries. users per second: 2685.21"
      ]
     },
     "metadata": {},
     "output_type": "display_data"
    },
    {
     "data": {
      "text/html": [
       "<pre>recommendations finished on 54000/65599 queries. users per second: 2685.04</pre>"
      ],
      "text/plain": [
       "recommendations finished on 54000/65599 queries. users per second: 2685.04"
      ]
     },
     "metadata": {},
     "output_type": "display_data"
    },
    {
     "data": {
      "text/html": [
       "<pre>recommendations finished on 55000/65599 queries. users per second: 2683.99</pre>"
      ],
      "text/plain": [
       "recommendations finished on 55000/65599 queries. users per second: 2683.99"
      ]
     },
     "metadata": {},
     "output_type": "display_data"
    },
    {
     "data": {
      "text/html": [
       "<pre>recommendations finished on 56000/65599 queries. users per second: 2686.88</pre>"
      ],
      "text/plain": [
       "recommendations finished on 56000/65599 queries. users per second: 2686.88"
      ]
     },
     "metadata": {},
     "output_type": "display_data"
    },
    {
     "data": {
      "text/html": [
       "<pre>recommendations finished on 57000/65599 queries. users per second: 2689.39</pre>"
      ],
      "text/plain": [
       "recommendations finished on 57000/65599 queries. users per second: 2689.39"
      ]
     },
     "metadata": {},
     "output_type": "display_data"
    },
    {
     "data": {
      "text/html": [
       "<pre>recommendations finished on 58000/65599 queries. users per second: 2690.62</pre>"
      ],
      "text/plain": [
       "recommendations finished on 58000/65599 queries. users per second: 2690.62"
      ]
     },
     "metadata": {},
     "output_type": "display_data"
    },
    {
     "data": {
      "text/html": [
       "<pre>recommendations finished on 59000/65599 queries. users per second: 2689.79</pre>"
      ],
      "text/plain": [
       "recommendations finished on 59000/65599 queries. users per second: 2689.79"
      ]
     },
     "metadata": {},
     "output_type": "display_data"
    },
    {
     "data": {
      "text/html": [
       "<pre>recommendations finished on 60000/65599 queries. users per second: 2689.21</pre>"
      ],
      "text/plain": [
       "recommendations finished on 60000/65599 queries. users per second: 2689.21"
      ]
     },
     "metadata": {},
     "output_type": "display_data"
    },
    {
     "data": {
      "text/html": [
       "<pre>recommendations finished on 61000/65599 queries. users per second: 2689.04</pre>"
      ],
      "text/plain": [
       "recommendations finished on 61000/65599 queries. users per second: 2689.04"
      ]
     },
     "metadata": {},
     "output_type": "display_data"
    },
    {
     "data": {
      "text/html": [
       "<pre>recommendations finished on 62000/65599 queries. users per second: 2690.12</pre>"
      ],
      "text/plain": [
       "recommendations finished on 62000/65599 queries. users per second: 2690.12"
      ]
     },
     "metadata": {},
     "output_type": "display_data"
    },
    {
     "data": {
      "text/html": [
       "<pre>recommendations finished on 63000/65599 queries. users per second: 2691.24</pre>"
      ],
      "text/plain": [
       "recommendations finished on 63000/65599 queries. users per second: 2691.24"
      ]
     },
     "metadata": {},
     "output_type": "display_data"
    },
    {
     "data": {
      "text/html": [
       "<pre>recommendations finished on 64000/65599 queries. users per second: 2689.23</pre>"
      ],
      "text/plain": [
       "recommendations finished on 64000/65599 queries. users per second: 2689.23"
      ]
     },
     "metadata": {},
     "output_type": "display_data"
    },
    {
     "data": {
      "text/html": [
       "<pre>recommendations finished on 65000/65599 queries. users per second: 2683.63</pre>"
      ],
      "text/plain": [
       "recommendations finished on 65000/65599 queries. users per second: 2683.63"
      ]
     },
     "metadata": {},
     "output_type": "display_data"
    },
    {
     "data": {
      "text/html": [
       "<pre>recommendations finished on 1000/65599 queries. users per second: 2584.63</pre>"
      ],
      "text/plain": [
       "recommendations finished on 1000/65599 queries. users per second: 2584.63"
      ]
     },
     "metadata": {},
     "output_type": "display_data"
    },
    {
     "data": {
      "text/html": [
       "<pre>recommendations finished on 2000/65599 queries. users per second: 2504.83</pre>"
      ],
      "text/plain": [
       "recommendations finished on 2000/65599 queries. users per second: 2504.83"
      ]
     },
     "metadata": {},
     "output_type": "display_data"
    },
    {
     "data": {
      "text/html": [
       "<pre>recommendations finished on 3000/65599 queries. users per second: 2464.86</pre>"
      ],
      "text/plain": [
       "recommendations finished on 3000/65599 queries. users per second: 2464.86"
      ]
     },
     "metadata": {},
     "output_type": "display_data"
    },
    {
     "data": {
      "text/html": [
       "<pre>recommendations finished on 4000/65599 queries. users per second: 2403.42</pre>"
      ],
      "text/plain": [
       "recommendations finished on 4000/65599 queries. users per second: 2403.42"
      ]
     },
     "metadata": {},
     "output_type": "display_data"
    },
    {
     "data": {
      "text/html": [
       "<pre>recommendations finished on 5000/65599 queries. users per second: 2440.16</pre>"
      ],
      "text/plain": [
       "recommendations finished on 5000/65599 queries. users per second: 2440.16"
      ]
     },
     "metadata": {},
     "output_type": "display_data"
    },
    {
     "data": {
      "text/html": [
       "<pre>recommendations finished on 6000/65599 queries. users per second: 2420.64</pre>"
      ],
      "text/plain": [
       "recommendations finished on 6000/65599 queries. users per second: 2420.64"
      ]
     },
     "metadata": {},
     "output_type": "display_data"
    },
    {
     "data": {
      "text/html": [
       "<pre>recommendations finished on 7000/65599 queries. users per second: 2445.93</pre>"
      ],
      "text/plain": [
       "recommendations finished on 7000/65599 queries. users per second: 2445.93"
      ]
     },
     "metadata": {},
     "output_type": "display_data"
    },
    {
     "data": {
      "text/html": [
       "<pre>recommendations finished on 8000/65599 queries. users per second: 2460.36</pre>"
      ],
      "text/plain": [
       "recommendations finished on 8000/65599 queries. users per second: 2460.36"
      ]
     },
     "metadata": {},
     "output_type": "display_data"
    },
    {
     "data": {
      "text/html": [
       "<pre>recommendations finished on 9000/65599 queries. users per second: 2477.93</pre>"
      ],
      "text/plain": [
       "recommendations finished on 9000/65599 queries. users per second: 2477.93"
      ]
     },
     "metadata": {},
     "output_type": "display_data"
    },
    {
     "data": {
      "text/html": [
       "<pre>recommendations finished on 10000/65599 queries. users per second: 2492.11</pre>"
      ],
      "text/plain": [
       "recommendations finished on 10000/65599 queries. users per second: 2492.11"
      ]
     },
     "metadata": {},
     "output_type": "display_data"
    },
    {
     "data": {
      "text/html": [
       "<pre>recommendations finished on 11000/65599 queries. users per second: 2486.72</pre>"
      ],
      "text/plain": [
       "recommendations finished on 11000/65599 queries. users per second: 2486.72"
      ]
     },
     "metadata": {},
     "output_type": "display_data"
    },
    {
     "data": {
      "text/html": [
       "<pre>recommendations finished on 12000/65599 queries. users per second: 2497.73</pre>"
      ],
      "text/plain": [
       "recommendations finished on 12000/65599 queries. users per second: 2497.73"
      ]
     },
     "metadata": {},
     "output_type": "display_data"
    },
    {
     "data": {
      "text/html": [
       "<pre>recommendations finished on 13000/65599 queries. users per second: 2497.84</pre>"
      ],
      "text/plain": [
       "recommendations finished on 13000/65599 queries. users per second: 2497.84"
      ]
     },
     "metadata": {},
     "output_type": "display_data"
    },
    {
     "data": {
      "text/html": [
       "<pre>recommendations finished on 14000/65599 queries. users per second: 2509.37</pre>"
      ],
      "text/plain": [
       "recommendations finished on 14000/65599 queries. users per second: 2509.37"
      ]
     },
     "metadata": {},
     "output_type": "display_data"
    },
    {
     "data": {
      "text/html": [
       "<pre>recommendations finished on 15000/65599 queries. users per second: 2513.76</pre>"
      ],
      "text/plain": [
       "recommendations finished on 15000/65599 queries. users per second: 2513.76"
      ]
     },
     "metadata": {},
     "output_type": "display_data"
    },
    {
     "data": {
      "text/html": [
       "<pre>recommendations finished on 16000/65599 queries. users per second: 2514.88</pre>"
      ],
      "text/plain": [
       "recommendations finished on 16000/65599 queries. users per second: 2514.88"
      ]
     },
     "metadata": {},
     "output_type": "display_data"
    },
    {
     "data": {
      "text/html": [
       "<pre>recommendations finished on 17000/65599 queries. users per second: 2519.01</pre>"
      ],
      "text/plain": [
       "recommendations finished on 17000/65599 queries. users per second: 2519.01"
      ]
     },
     "metadata": {},
     "output_type": "display_data"
    },
    {
     "data": {
      "text/html": [
       "<pre>recommendations finished on 18000/65599 queries. users per second: 2523.64</pre>"
      ],
      "text/plain": [
       "recommendations finished on 18000/65599 queries. users per second: 2523.64"
      ]
     },
     "metadata": {},
     "output_type": "display_data"
    },
    {
     "data": {
      "text/html": [
       "<pre>recommendations finished on 19000/65599 queries. users per second: 2527.77</pre>"
      ],
      "text/plain": [
       "recommendations finished on 19000/65599 queries. users per second: 2527.77"
      ]
     },
     "metadata": {},
     "output_type": "display_data"
    },
    {
     "data": {
      "text/html": [
       "<pre>recommendations finished on 20000/65599 queries. users per second: 2531.52</pre>"
      ],
      "text/plain": [
       "recommendations finished on 20000/65599 queries. users per second: 2531.52"
      ]
     },
     "metadata": {},
     "output_type": "display_data"
    },
    {
     "data": {
      "text/html": [
       "<pre>recommendations finished on 21000/65599 queries. users per second: 2522.59</pre>"
      ],
      "text/plain": [
       "recommendations finished on 21000/65599 queries. users per second: 2522.59"
      ]
     },
     "metadata": {},
     "output_type": "display_data"
    },
    {
     "data": {
      "text/html": [
       "<pre>recommendations finished on 22000/65599 queries. users per second: 2525.69</pre>"
      ],
      "text/plain": [
       "recommendations finished on 22000/65599 queries. users per second: 2525.69"
      ]
     },
     "metadata": {},
     "output_type": "display_data"
    },
    {
     "data": {
      "text/html": [
       "<pre>recommendations finished on 23000/65599 queries. users per second: 2525.15</pre>"
      ],
      "text/plain": [
       "recommendations finished on 23000/65599 queries. users per second: 2525.15"
      ]
     },
     "metadata": {},
     "output_type": "display_data"
    },
    {
     "data": {
      "text/html": [
       "<pre>recommendations finished on 24000/65599 queries. users per second: 2479.14</pre>"
      ],
      "text/plain": [
       "recommendations finished on 24000/65599 queries. users per second: 2479.14"
      ]
     },
     "metadata": {},
     "output_type": "display_data"
    },
    {
     "data": {
      "text/html": [
       "<pre>recommendations finished on 25000/65599 queries. users per second: 2444</pre>"
      ],
      "text/plain": [
       "recommendations finished on 25000/65599 queries. users per second: 2444"
      ]
     },
     "metadata": {},
     "output_type": "display_data"
    },
    {
     "data": {
      "text/html": [
       "<pre>recommendations finished on 26000/65599 queries. users per second: 2416.66</pre>"
      ],
      "text/plain": [
       "recommendations finished on 26000/65599 queries. users per second: 2416.66"
      ]
     },
     "metadata": {},
     "output_type": "display_data"
    },
    {
     "data": {
      "text/html": [
       "<pre>recommendations finished on 27000/65599 queries. users per second: 2376.38</pre>"
      ],
      "text/plain": [
       "recommendations finished on 27000/65599 queries. users per second: 2376.38"
      ]
     },
     "metadata": {},
     "output_type": "display_data"
    },
    {
     "data": {
      "text/html": [
       "<pre>recommendations finished on 28000/65599 queries. users per second: 2322.89</pre>"
      ],
      "text/plain": [
       "recommendations finished on 28000/65599 queries. users per second: 2322.89"
      ]
     },
     "metadata": {},
     "output_type": "display_data"
    },
    {
     "data": {
      "text/html": [
       "<pre>recommendations finished on 29000/65599 queries. users per second: 2294.38</pre>"
      ],
      "text/plain": [
       "recommendations finished on 29000/65599 queries. users per second: 2294.38"
      ]
     },
     "metadata": {},
     "output_type": "display_data"
    },
    {
     "data": {
      "text/html": [
       "<pre>recommendations finished on 30000/65599 queries. users per second: 2283.27</pre>"
      ],
      "text/plain": [
       "recommendations finished on 30000/65599 queries. users per second: 2283.27"
      ]
     },
     "metadata": {},
     "output_type": "display_data"
    },
    {
     "data": {
      "text/html": [
       "<pre>recommendations finished on 31000/65599 queries. users per second: 2293.99</pre>"
      ],
      "text/plain": [
       "recommendations finished on 31000/65599 queries. users per second: 2293.99"
      ]
     },
     "metadata": {},
     "output_type": "display_data"
    },
    {
     "data": {
      "text/html": [
       "<pre>recommendations finished on 32000/65599 queries. users per second: 2298.61</pre>"
      ],
      "text/plain": [
       "recommendations finished on 32000/65599 queries. users per second: 2298.61"
      ]
     },
     "metadata": {},
     "output_type": "display_data"
    },
    {
     "data": {
      "text/html": [
       "<pre>recommendations finished on 33000/65599 queries. users per second: 2304.05</pre>"
      ],
      "text/plain": [
       "recommendations finished on 33000/65599 queries. users per second: 2304.05"
      ]
     },
     "metadata": {},
     "output_type": "display_data"
    },
    {
     "data": {
      "text/html": [
       "<pre>recommendations finished on 34000/65599 queries. users per second: 2300.33</pre>"
      ],
      "text/plain": [
       "recommendations finished on 34000/65599 queries. users per second: 2300.33"
      ]
     },
     "metadata": {},
     "output_type": "display_data"
    },
    {
     "data": {
      "text/html": [
       "<pre>recommendations finished on 35000/65599 queries. users per second: 2289.55</pre>"
      ],
      "text/plain": [
       "recommendations finished on 35000/65599 queries. users per second: 2289.55"
      ]
     },
     "metadata": {},
     "output_type": "display_data"
    },
    {
     "data": {
      "text/html": [
       "<pre>recommendations finished on 36000/65599 queries. users per second: 2292.73</pre>"
      ],
      "text/plain": [
       "recommendations finished on 36000/65599 queries. users per second: 2292.73"
      ]
     },
     "metadata": {},
     "output_type": "display_data"
    },
    {
     "data": {
      "text/html": [
       "<pre>recommendations finished on 37000/65599 queries. users per second: 2256.95</pre>"
      ],
      "text/plain": [
       "recommendations finished on 37000/65599 queries. users per second: 2256.95"
      ]
     },
     "metadata": {},
     "output_type": "display_data"
    },
    {
     "data": {
      "text/html": [
       "<pre>recommendations finished on 38000/65599 queries. users per second: 2249.95</pre>"
      ],
      "text/plain": [
       "recommendations finished on 38000/65599 queries. users per second: 2249.95"
      ]
     },
     "metadata": {},
     "output_type": "display_data"
    },
    {
     "data": {
      "text/html": [
       "<pre>recommendations finished on 39000/65599 queries. users per second: 2254.22</pre>"
      ],
      "text/plain": [
       "recommendations finished on 39000/65599 queries. users per second: 2254.22"
      ]
     },
     "metadata": {},
     "output_type": "display_data"
    },
    {
     "data": {
      "text/html": [
       "<pre>recommendations finished on 40000/65599 queries. users per second: 2259.45</pre>"
      ],
      "text/plain": [
       "recommendations finished on 40000/65599 queries. users per second: 2259.45"
      ]
     },
     "metadata": {},
     "output_type": "display_data"
    },
    {
     "data": {
      "text/html": [
       "<pre>recommendations finished on 41000/65599 queries. users per second: 2254.33</pre>"
      ],
      "text/plain": [
       "recommendations finished on 41000/65599 queries. users per second: 2254.33"
      ]
     },
     "metadata": {},
     "output_type": "display_data"
    },
    {
     "data": {
      "text/html": [
       "<pre>recommendations finished on 42000/65599 queries. users per second: 2251.06</pre>"
      ],
      "text/plain": [
       "recommendations finished on 42000/65599 queries. users per second: 2251.06"
      ]
     },
     "metadata": {},
     "output_type": "display_data"
    },
    {
     "data": {
      "text/html": [
       "<pre>recommendations finished on 43000/65599 queries. users per second: 2252.83</pre>"
      ],
      "text/plain": [
       "recommendations finished on 43000/65599 queries. users per second: 2252.83"
      ]
     },
     "metadata": {},
     "output_type": "display_data"
    },
    {
     "data": {
      "text/html": [
       "<pre>recommendations finished on 44000/65599 queries. users per second: 2235.16</pre>"
      ],
      "text/plain": [
       "recommendations finished on 44000/65599 queries. users per second: 2235.16"
      ]
     },
     "metadata": {},
     "output_type": "display_data"
    },
    {
     "data": {
      "text/html": [
       "<pre>recommendations finished on 45000/65599 queries. users per second: 2236.63</pre>"
      ],
      "text/plain": [
       "recommendations finished on 45000/65599 queries. users per second: 2236.63"
      ]
     },
     "metadata": {},
     "output_type": "display_data"
    },
    {
     "data": {
      "text/html": [
       "<pre>recommendations finished on 46000/65599 queries. users per second: 2228</pre>"
      ],
      "text/plain": [
       "recommendations finished on 46000/65599 queries. users per second: 2228"
      ]
     },
     "metadata": {},
     "output_type": "display_data"
    },
    {
     "data": {
      "text/html": [
       "<pre>recommendations finished on 47000/65599 queries. users per second: 2234.97</pre>"
      ],
      "text/plain": [
       "recommendations finished on 47000/65599 queries. users per second: 2234.97"
      ]
     },
     "metadata": {},
     "output_type": "display_data"
    },
    {
     "data": {
      "text/html": [
       "<pre>recommendations finished on 48000/65599 queries. users per second: 2242.45</pre>"
      ],
      "text/plain": [
       "recommendations finished on 48000/65599 queries. users per second: 2242.45"
      ]
     },
     "metadata": {},
     "output_type": "display_data"
    },
    {
     "data": {
      "text/html": [
       "<pre>recommendations finished on 49000/65599 queries. users per second: 2248.56</pre>"
      ],
      "text/plain": [
       "recommendations finished on 49000/65599 queries. users per second: 2248.56"
      ]
     },
     "metadata": {},
     "output_type": "display_data"
    },
    {
     "data": {
      "text/html": [
       "<pre>recommendations finished on 50000/65599 queries. users per second: 2254.67</pre>"
      ],
      "text/plain": [
       "recommendations finished on 50000/65599 queries. users per second: 2254.67"
      ]
     },
     "metadata": {},
     "output_type": "display_data"
    },
    {
     "data": {
      "text/html": [
       "<pre>recommendations finished on 51000/65599 queries. users per second: 2260.67</pre>"
      ],
      "text/plain": [
       "recommendations finished on 51000/65599 queries. users per second: 2260.67"
      ]
     },
     "metadata": {},
     "output_type": "display_data"
    },
    {
     "data": {
      "text/html": [
       "<pre>recommendations finished on 52000/65599 queries. users per second: 2266.48</pre>"
      ],
      "text/plain": [
       "recommendations finished on 52000/65599 queries. users per second: 2266.48"
      ]
     },
     "metadata": {},
     "output_type": "display_data"
    },
    {
     "data": {
      "text/html": [
       "<pre>recommendations finished on 53000/65599 queries. users per second: 2268.16</pre>"
      ],
      "text/plain": [
       "recommendations finished on 53000/65599 queries. users per second: 2268.16"
      ]
     },
     "metadata": {},
     "output_type": "display_data"
    },
    {
     "data": {
      "text/html": [
       "<pre>recommendations finished on 54000/65599 queries. users per second: 2268</pre>"
      ],
      "text/plain": [
       "recommendations finished on 54000/65599 queries. users per second: 2268"
      ]
     },
     "metadata": {},
     "output_type": "display_data"
    },
    {
     "data": {
      "text/html": [
       "<pre>recommendations finished on 55000/65599 queries. users per second: 2266.46</pre>"
      ],
      "text/plain": [
       "recommendations finished on 55000/65599 queries. users per second: 2266.46"
      ]
     },
     "metadata": {},
     "output_type": "display_data"
    },
    {
     "data": {
      "text/html": [
       "<pre>recommendations finished on 56000/65599 queries. users per second: 2271.46</pre>"
      ],
      "text/plain": [
       "recommendations finished on 56000/65599 queries. users per second: 2271.46"
      ]
     },
     "metadata": {},
     "output_type": "display_data"
    },
    {
     "data": {
      "text/html": [
       "<pre>recommendations finished on 57000/65599 queries. users per second: 2276.26</pre>"
      ],
      "text/plain": [
       "recommendations finished on 57000/65599 queries. users per second: 2276.26"
      ]
     },
     "metadata": {},
     "output_type": "display_data"
    },
    {
     "data": {
      "text/html": [
       "<pre>recommendations finished on 58000/65599 queries. users per second: 2280.62</pre>"
      ],
      "text/plain": [
       "recommendations finished on 58000/65599 queries. users per second: 2280.62"
      ]
     },
     "metadata": {},
     "output_type": "display_data"
    },
    {
     "data": {
      "text/html": [
       "<pre>recommendations finished on 59000/65599 queries. users per second: 2285.44</pre>"
      ],
      "text/plain": [
       "recommendations finished on 59000/65599 queries. users per second: 2285.44"
      ]
     },
     "metadata": {},
     "output_type": "display_data"
    },
    {
     "data": {
      "text/html": [
       "<pre>recommendations finished on 60000/65599 queries. users per second: 2289.87</pre>"
      ],
      "text/plain": [
       "recommendations finished on 60000/65599 queries. users per second: 2289.87"
      ]
     },
     "metadata": {},
     "output_type": "display_data"
    },
    {
     "data": {
      "text/html": [
       "<pre>recommendations finished on 61000/65599 queries. users per second: 2293.55</pre>"
      ],
      "text/plain": [
       "recommendations finished on 61000/65599 queries. users per second: 2293.55"
      ]
     },
     "metadata": {},
     "output_type": "display_data"
    },
    {
     "data": {
      "text/html": [
       "<pre>recommendations finished on 62000/65599 queries. users per second: 2297.52</pre>"
      ],
      "text/plain": [
       "recommendations finished on 62000/65599 queries. users per second: 2297.52"
      ]
     },
     "metadata": {},
     "output_type": "display_data"
    },
    {
     "data": {
      "text/html": [
       "<pre>recommendations finished on 63000/65599 queries. users per second: 2299.42</pre>"
      ],
      "text/plain": [
       "recommendations finished on 63000/65599 queries. users per second: 2299.42"
      ]
     },
     "metadata": {},
     "output_type": "display_data"
    },
    {
     "data": {
      "text/html": [
       "<pre>recommendations finished on 64000/65599 queries. users per second: 2302.56</pre>"
      ],
      "text/plain": [
       "recommendations finished on 64000/65599 queries. users per second: 2302.56"
      ]
     },
     "metadata": {},
     "output_type": "display_data"
    },
    {
     "data": {
      "text/html": [
       "<pre>recommendations finished on 65000/65599 queries. users per second: 2306.27</pre>"
      ],
      "text/plain": [
       "recommendations finished on 65000/65599 queries. users per second: 2306.27"
      ]
     },
     "metadata": {},
     "output_type": "display_data"
    }
   ],
   "source": [
    "view = model.views.overview(\n",
    "        validation_set=valid,\n",
    "        user_data=users,\n",
    "        user_name_column='reviewerName',\n",
    "        item_data=items2,\n",
    "        item_name_column='asin',\n",
    "        item_url_column='imUrl')"
   ]
  },
  {
   "cell_type": "code",
   "execution_count": 64,
   "metadata": {
    "collapsed": true
   },
   "outputs": [],
   "source": [
    "### To view the interface\n",
    "\n",
    "view.show()"
   ]
  },
  {
   "cell_type": "code",
   "execution_count": null,
   "metadata": {
    "collapsed": true
   },
   "outputs": [],
   "source": []
  }
 ],
 "metadata": {
  "kernelspec": {
   "display_name": "Python [gl-env]",
   "language": "python",
   "name": "Python [gl-env]"
  },
  "language_info": {
   "codemirror_mode": {
    "name": "ipython",
    "version": 2
   },
   "file_extension": ".py",
   "mimetype": "text/x-python",
   "name": "python",
   "nbconvert_exporter": "python",
   "pygments_lexer": "ipython2",
   "version": "2.7.11"
  }
 },
 "nbformat": 4,
 "nbformat_minor": 0
}
