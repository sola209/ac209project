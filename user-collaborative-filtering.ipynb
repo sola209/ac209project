{
 "cells": [
  {
   "cell_type": "code",
   "execution_count": 1,
   "metadata": {
    "collapsed": true
   },
   "outputs": [],
   "source": [
    "import numpy as np\n",
    "import pandas as pd\n",
    "import scipy as sp\n",
    "from scipy import spatial"
   ]
  },
  {
   "cell_type": "code",
   "execution_count": 2,
   "metadata": {
    "collapsed": false
   },
   "outputs": [
    {
     "name": "stderr",
     "output_type": "stream",
     "text": [
      "C:\\Users\\Sarah\\Anaconda2\\lib\\site-packages\\IPython\\core\\interactiveshell.py:2723: DtypeWarning: Columns (4,6) have mixed types. Specify dtype option on import or set low_memory=False.\n",
      "  interactivity=interactivity, compiler=compiler, result=result)\n"
     ]
    }
   ],
   "source": [
    "reviews = pd.read_csv(\"reviews.txt\", header=None)"
   ]
  },
  {
   "cell_type": "code",
   "execution_count": 3,
   "metadata": {
    "collapsed": false,
    "scrolled": true
   },
   "outputs": [
    {
     "data": {
      "text/html": [
       "<div>\n",
       "<table border=\"1\" class=\"dataframe\">\n",
       "  <thead>\n",
       "    <tr style=\"text-align: right;\">\n",
       "      <th></th>\n",
       "      <th>0</th>\n",
       "      <th>1</th>\n",
       "      <th>2</th>\n",
       "      <th>3</th>\n",
       "      <th>4</th>\n",
       "      <th>5</th>\n",
       "      <th>6</th>\n",
       "      <th>7</th>\n",
       "      <th>8</th>\n",
       "    </tr>\n",
       "  </thead>\n",
       "  <tbody>\n",
       "    <tr>\n",
       "      <th>0</th>\n",
       "      <td>reviewerID</td>\n",
       "      <td>asin</td>\n",
       "      <td>reviewerName</td>\n",
       "      <td>helpful</td>\n",
       "      <td>unixReviewTime</td>\n",
       "      <td>reviewText</td>\n",
       "      <td>overall</td>\n",
       "      <td>reviewTime</td>\n",
       "      <td>summary</td>\n",
       "    </tr>\n",
       "    <tr>\n",
       "      <th>1</th>\n",
       "      <td>A1F6404F1VG29J</td>\n",
       "      <td>B000F83SZQ</td>\n",
       "      <td>Avidreader</td>\n",
       "      <td>[0, 0]</td>\n",
       "      <td>1399248000</td>\n",
       "      <td>I enjoy vintage books and movies so I enjoyed ...</td>\n",
       "      <td>5.0</td>\n",
       "      <td>05 5, 2014</td>\n",
       "      <td>Nice vintage story</td>\n",
       "    </tr>\n",
       "    <tr>\n",
       "      <th>2</th>\n",
       "      <td>AN0N05A9LIJEQ</td>\n",
       "      <td>B000F83SZQ</td>\n",
       "      <td>critters</td>\n",
       "      <td>[2, 2]</td>\n",
       "      <td>1388966400</td>\n",
       "      <td>This book is a reissue of an old one; the auth...</td>\n",
       "      <td>4.0</td>\n",
       "      <td>01 6, 2014</td>\n",
       "      <td>Different...</td>\n",
       "    </tr>\n",
       "    <tr>\n",
       "      <th>3</th>\n",
       "      <td>A795DMNCJILA6</td>\n",
       "      <td>B000F83SZQ</td>\n",
       "      <td>dot</td>\n",
       "      <td>[2, 2]</td>\n",
       "      <td>1396569600</td>\n",
       "      <td>This was a fairly interesting read.  It had ol...</td>\n",
       "      <td>4.0</td>\n",
       "      <td>04 4, 2014</td>\n",
       "      <td>Oldie</td>\n",
       "    </tr>\n",
       "    <tr>\n",
       "      <th>4</th>\n",
       "      <td>A1FV0SX13TWVXQ</td>\n",
       "      <td>B000F83SZQ</td>\n",
       "      <td>Elaine H. Turley \"Montana Songbird\"</td>\n",
       "      <td>[1, 1]</td>\n",
       "      <td>1392768000</td>\n",
       "      <td>I'd never read any of the Amy Brewster mysteri...</td>\n",
       "      <td>5.0</td>\n",
       "      <td>02 19, 2014</td>\n",
       "      <td>I really liked it.</td>\n",
       "    </tr>\n",
       "  </tbody>\n",
       "</table>\n",
       "</div>"
      ],
      "text/plain": [
       "                0           1                                    2        3  \\\n",
       "0      reviewerID        asin                         reviewerName  helpful   \n",
       "1  A1F6404F1VG29J  B000F83SZQ                           Avidreader   [0, 0]   \n",
       "2   AN0N05A9LIJEQ  B000F83SZQ                             critters   [2, 2]   \n",
       "3   A795DMNCJILA6  B000F83SZQ                                  dot   [2, 2]   \n",
       "4  A1FV0SX13TWVXQ  B000F83SZQ  Elaine H. Turley \"Montana Songbird\"   [1, 1]   \n",
       "\n",
       "                4                                                  5        6  \\\n",
       "0  unixReviewTime                                         reviewText  overall   \n",
       "1      1399248000  I enjoy vintage books and movies so I enjoyed ...      5.0   \n",
       "2      1388966400  This book is a reissue of an old one; the auth...      4.0   \n",
       "3      1396569600  This was a fairly interesting read.  It had ol...      4.0   \n",
       "4      1392768000  I'd never read any of the Amy Brewster mysteri...      5.0   \n",
       "\n",
       "             7                   8  \n",
       "0   reviewTime             summary  \n",
       "1   05 5, 2014  Nice vintage story  \n",
       "2   01 6, 2014        Different...  \n",
       "3   04 4, 2014               Oldie  \n",
       "4  02 19, 2014  I really liked it.  "
      ]
     },
     "execution_count": 3,
     "metadata": {},
     "output_type": "execute_result"
    }
   ],
   "source": [
    "reviews.head()"
   ]
  },
  {
   "cell_type": "code",
   "execution_count": 3,
   "metadata": {
    "collapsed": false
   },
   "outputs": [],
   "source": [
    "# Create two dictionaries:\n",
    "# (1) Map product -> list of reviews for that product\n",
    "# (2) Map reviewer -> list of products that user has reviewed\n",
    "\n",
    "products_to_reviewers = dict()\n",
    "reviewers_to_products = dict()\n",
    "\n",
    "for review in reviews.itertuples():\n",
    "    reviewerID = review[1]\n",
    "    product = review[2]\n",
    "    helpful = review[4]\n",
    "    rating = review[7]\n",
    "    \n",
    "    if reviewerID in reviewers_to_products:\n",
    "        products_list = reviewers_to_products[reviewerID]\n",
    "        products_list.append((product, helpful, rating))\n",
    "        reviewers_to_products[reviewerID] = products_list\n",
    "    else:\n",
    "        reviewers_to_products[reviewerID] = [(product, helpful, rating)]\n",
    "        \n",
    "    if product in products_to_reviewers:\n",
    "        reviews_list = products_to_reviewers[product]\n",
    "        reviews_list.append(reviewerID)\n",
    "        products_to_reviewers[product] = reviews_list\n",
    "    else:\n",
    "        products_to_reviewers[product] = [reviewerID]\n"
   ]
  },
  {
   "cell_type": "code",
   "execution_count": 5,
   "metadata": {
    "collapsed": false
   },
   "outputs": [
    {
     "name": "stdout",
     "output_type": "stream",
     "text": [
      "['B005AYSN8M', 'B00J6S89AA', 'B00GA664GC', 'B00DVPOZXE', 'B00B0QIS98']\n"
     ]
    }
   ],
   "source": [
    "print products_to_reviewers.keys()[0:5]"
   ]
  },
  {
   "cell_type": "code",
   "execution_count": 8,
   "metadata": {
    "collapsed": false
   },
   "outputs": [
    {
     "name": "stdout",
     "output_type": "stream",
     "text": [
      "A3MH40TK0FRBYG\n"
     ]
    }
   ],
   "source": [
    "print reviewers_to_products.keys()[0]"
   ]
  },
  {
   "cell_type": "code",
   "execution_count": 4,
   "metadata": {
    "collapsed": false
   },
   "outputs": [],
   "source": [
    "# Create similarity matrix\n",
    "# Each row is a user\n",
    "# Each column is a product\n",
    "# Each entry in the matrix is the score the user gave that product, or 0 if the user didn't review that product\n",
    "\n",
    "reviewers = reviewers_to_products.keys()[:1000]\n",
    "products = products_to_reviewers.keys()\n",
    "\n",
    "n_reviewers = len(reviewers)\n",
    "n_products = len(products)\n",
    "\n",
    "sim_matrix = np.zeros((n_reviewers, n_products))\n",
    "\n",
    "for i,reviewer in enumerate(reviewers):\n",
    "    for j,product in enumerate(products):\n",
    "        if reviewer not in products_to_reviewers[product]:\n",
    "            sim_matrix[i, j] = 0\n",
    "        else:\n",
    "            reviewer_products = reviewers_to_products[reviewer]\n",
    "            split = zip(*reviewer_products)\n",
    "            product_index = (split[0]).index(product)\n",
    "            rating = split[2][product_index]\n",
    "            sim_matrix[i, j] = rating"
   ]
  },
  {
   "cell_type": "code",
   "execution_count": 10,
   "metadata": {
    "collapsed": false
   },
   "outputs": [
    {
     "name": "stdout",
     "output_type": "stream",
     "text": [
      "703\n",
      "0.11396057646\n"
     ]
    }
   ],
   "source": [
    "# Example - similarity score between two users\n",
    "d1 = sim_matrix[0,:]\n",
    "similarities = np.zeros(sim_matrix.shape[0] - 1)\n",
    "\n",
    "for i,d2 in enumerate(sim_matrix[1:]):    \n",
    "    similarities[i] = 1 - spatial.distance.cosine(d1,d2)\n",
    "\n",
    "m = np.argmax(similarities)\n",
    "print m\n",
    "print similarities[m]"
   ]
  },
  {
   "cell_type": "code",
   "execution_count": 5,
   "metadata": {
    "collapsed": true
   },
   "outputs": [],
   "source": [
    "# Returns the IDs and associated similarity scores of the top 10 most similar users (in descending sorted order)\n",
    "def similar_users(userID, sim_matrix, reviewers):\n",
    "    \n",
    "    # Index of the userID in the similarity matrix\n",
    "    user_index = reviewers.index(userID)\n",
    "    \n",
    "    # The vector representing the passed-in user's product reviews\n",
    "    user_reviews = sim_matrix[user_index,:]\n",
    "    similarities = np.zeros(sim_matrix.shape[0])\n",
    "    for i,user2_reviews in enumerate(sim_matrix):\n",
    "        similarities[i] = 1 - spatial.distance.cosine(user_reviews,user2_reviews)\n",
    "    \n",
    "    # Indices of the top 10 similarities\n",
    "    ind = np.argpartition(similarities, -10)[-10:]\n",
    "    ind = ind[np.argsort(similarities[ind])[::-1][:len(similarities)]]\n",
    "    scores = np.array([similarities[i] for i in ind])\n",
    "    return ind,scores"
   ]
  },
  {
   "cell_type": "code",
   "execution_count": 12,
   "metadata": {
    "collapsed": false
   },
   "outputs": [
    {
     "data": {
      "text/plain": [
       "(array([  0, 704, 907, 926, 754, 825, 942, 370, 638, 505], dtype=int64),\n",
       " array([ 1.        ,  0.11396058,  0.10322795,  0.09690942,  0.08867022,\n",
       "         0.08112739,  0.06619034,  0.05730871,  0.05380701,  0.04847506]))"
      ]
     },
     "execution_count": 12,
     "metadata": {},
     "output_type": "execute_result"
    }
   ],
   "source": [
    "similar_users('A3MH40TK0FRBYG', sim_matrix, reviewers)"
   ]
  },
  {
   "cell_type": "code",
   "execution_count": 54,
   "metadata": {
    "collapsed": false
   },
   "outputs": [],
   "source": [
    "# Return product recommendations for a user\n",
    "def product_recs(userID, sim_matrix, reviewers, reviewer_to_products_dict):\n",
    "    ind_sim_users,sim_score = similar_users(userID, sim_matrix, reviewers)\n",
    "    \n",
    "    # products the passed-in user has already reviewed\n",
    "    already_reviewed = np.array(zip(*reviewer_to_products_dict[userID])[0]).flatten()\n",
    "    \n",
    "    # for each of the top 5 most similar users, get the products that the passed-in user hasn't reviewed\n",
    "    new_products = []  \n",
    "    for ind in ind_sim_users[1:6]: # the 0th index is the passed-in user, so skip over it\n",
    "        reviewer_id = reviewers[ind]\n",
    "        other_products = np.array(zip(*reviewer_to_products_dict[reviewer_id])[0]).flatten()\n",
    "        unique = set(other_products) - set(already_reviewed)\n",
    "        \n",
    "        both_reviewed = []\n",
    "        for item in already_reviewed:\n",
    "            if item in other_products:\n",
    "                both_reviewed.append(item)\n",
    "  \n",
    "        # RMSE proxy score\n",
    "        SSE = []\n",
    "        for item in both_reviewed:\n",
    "            item_ind = other_products.tolist().index(item)\n",
    "            other_rating = zip(*reviewer_to_products_dict[reviewer_id])[2][item_ind]\n",
    "            recommendee_rating = zip(*reviewer_to_products_dict[userID])[2][item_ind]\n",
    "            \n",
    "            SSE.append((other_rating-recommendee_rating)**2)\n",
    "        \n",
    "        print \"Items with confidence score of\",np.sqrt(np.sum(SSE)/float(len(both_reviewed)))/float(len(both_reviewed))\n",
    "        \n",
    "        # Only recommend products that were positively rated by the other user\n",
    "        for item in unique:\n",
    "            item_ind = other_products.tolist().index(item)\n",
    "            rating = zip(*reviewer_to_products_dict[reviewer_id])[2][item_ind]\n",
    "            \n",
    "            if rating >= 4:\n",
    "                new_products.append(item)\n",
    "                print \"\\t\" + item\n",
    "        \n",
    "    return new_products"
   ]
  },
  {
   "cell_type": "code",
   "execution_count": 55,
   "metadata": {
    "collapsed": false
   },
   "outputs": [
    {
     "name": "stdout",
     "output_type": "stream",
     "text": [
      "Items with confidence score of 0.0\n",
      "\tB00EWTJJWA\n",
      "\tB00J1Q5A3G\n",
      "\tB00HNFL9FU\n",
      "\tB00FIT71IW\n",
      "\tB00HY3W7F2\n",
      "\tB00IFE9B6C\n",
      "Items with confidence score of 0.707106781187\n",
      "\tB00KA0AGJK\n",
      "\tB00BEQP450\n",
      "\tB00AJUV7AI\n",
      "\tB00BI4PNHC\n",
      "\tB009W9QTVY\n",
      "\tB00GT0NLZQ\n",
      "\tB0064I72LC\n",
      "\tB00KLBHX44\n",
      "\tB00B2TF8PU\n",
      "\tB00AKH5X4G\n",
      "\tB00JDYC5OI\n",
      "\tB008Y6B4S4\n",
      "\tB00KFUJX58\n",
      "\tB00KYETHVA\n",
      "\tB00ES473BS\n",
      "\tB00I7X5ML4\n",
      "\tB00CBP5WA0\n",
      "\tB0092MTG70\n",
      "\tB00CIJYPX4\n",
      "\tB00B97XOJM\n",
      "\tB00K9ZLW3K\n",
      "\tB00JMEPIP2\n",
      "\tB00GVEYW1W\n",
      "Items with confidence score of 0.0\n",
      "\tB00GQ0OF8G\n",
      "\tB00DK40J36\n",
      "\tB00FG5OCUI\n",
      "\tB00KFVKIL0\n",
      "\tB00HHCA47I\n",
      "\tB00FUMPU1C\n",
      "\tB007NK64H8\n",
      "\tB00DTFKFY4\n",
      "\tB00J8UC600\n",
      "Items with confidence score of 1.0\n",
      "\tB006Z1GKXO\n",
      "\tB009XGD2DY\n",
      "\tB00CC68FLG\n",
      "\tB00I48KN16\n",
      "\tB00E7IWEFU\n",
      "\tB009XGIHES\n",
      "\tB005VFXLIW\n",
      "\tB00HH1JVCI\n",
      "Items with confidence score of 1.0\n",
      "\tB00B8376JG\n",
      "\tB006QQRH3A\n",
      "\tB00IECLA3C\n",
      "\tB00B6JFNZ6\n",
      "\tB005347N30\n",
      "\tB00CGFGS3A\n",
      "\tB007QPOT2C\n",
      "\tB00COW2FYQ\n",
      "\tB00IHCC5F6\n",
      "\tB00ENVYVHA\n",
      "Number of recommendations: 56\n",
      "['B00EWTJJWA', 'B00J1Q5A3G', 'B00HNFL9FU', 'B00FIT71IW', 'B00HY3W7F2', 'B00IFE9B6C', 'B00KA0AGJK', 'B00BEQP450', 'B00AJUV7AI', 'B00BI4PNHC', 'B009W9QTVY', 'B00GT0NLZQ', 'B0064I72LC', 'B00KLBHX44', 'B00B2TF8PU', 'B00AKH5X4G', 'B00JDYC5OI', 'B008Y6B4S4', 'B00KFUJX58', 'B00KYETHVA', 'B00ES473BS', 'B00I7X5ML4', 'B00CBP5WA0', 'B0092MTG70', 'B00CIJYPX4', 'B00B97XOJM', 'B00K9ZLW3K', 'B00JMEPIP2', 'B00GVEYW1W', 'B00GQ0OF8G', 'B00DK40J36', 'B00FG5OCUI', 'B00KFVKIL0', 'B00HHCA47I', 'B00FUMPU1C', 'B007NK64H8', 'B00DTFKFY4', 'B00J8UC600', 'B006Z1GKXO', 'B009XGD2DY', 'B00CC68FLG', 'B00I48KN16', 'B00E7IWEFU', 'B009XGIHES', 'B005VFXLIW', 'B00HH1JVCI', 'B00B8376JG', 'B006QQRH3A', 'B00IECLA3C', 'B00B6JFNZ6', 'B005347N30', 'B00CGFGS3A', 'B007QPOT2C', 'B00COW2FYQ', 'B00IHCC5F6', 'B00ENVYVHA']\n"
     ]
    }
   ],
   "source": [
    "recs = product_recs('A3MH40TK0FRBYG', sim_matrix, reviewers, reviewers_to_products)\n",
    "print \"Number of recommendations:\",len(recs)\n",
    "print recs"
   ]
  },
  {
   "cell_type": "code",
   "execution_count": null,
   "metadata": {
    "collapsed": true
   },
   "outputs": [],
   "source": []
  }
 ],
 "metadata": {
  "anaconda-cloud": {},
  "kernelspec": {
   "display_name": "Python [Root]",
   "language": "python",
   "name": "Python [Root]"
  },
  "language_info": {
   "codemirror_mode": {
    "name": "ipython",
    "version": 2
   },
   "file_extension": ".py",
   "mimetype": "text/x-python",
   "name": "python",
   "nbconvert_exporter": "python",
   "pygments_lexer": "ipython2",
   "version": "2.7.12"
  }
 },
 "nbformat": 4,
 "nbformat_minor": 0
}
